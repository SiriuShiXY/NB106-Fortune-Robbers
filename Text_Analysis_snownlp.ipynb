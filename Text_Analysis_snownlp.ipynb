{
 "cells": [
  {
   "cell_type": "code",
   "execution_count": 4,
   "metadata": {},
   "outputs": [],
   "source": [
    "import pandas as pd\n",
    "from snownlp import SnowNLP"
   ]
  },
  {
   "cell_type": "code",
   "execution_count": 5,
   "metadata": {},
   "outputs": [],
   "source": [
    "# 加载Excel文件\n",
    "file_path = '/Users/liyuanheng/Desktop/DURF/Trial_Code/002230.xlsx'\n",
    "excel_data = pd.read_excel(file_path)\n",
    "\n",
    "# 将数据转换为列表格式\n",
    "data_list = excel_data.values.tolist()\n"
   ]
  },
  {
   "cell_type": "code",
   "execution_count": 6,
   "metadata": {},
   "outputs": [],
   "source": [
    "\"\"\"大约需要2min\"\"\"\n",
    "sentiment_lst = []\n",
    "for item in data_list:\n",
    "    comment = item[0]  \n",
    "    s = SnowNLP(comment)\n",
    "    sentiment = s.sentiments  \n",
    "    sentiment_lst.append(sentiment)"
   ]
  },
  {
   "cell_type": "code",
   "execution_count": 7,
   "metadata": {},
   "outputs": [],
   "source": [
    "for i in range(len(data_list)):\n",
    "      data = data_list[i]\n",
    "      data.append(sentiment_lst[i])"
   ]
  },
  {
   "cell_type": "code",
   "execution_count": 8,
   "metadata": {},
   "outputs": [
    {
     "name": "stdout",
     "output_type": "stream",
     "text": [
      "Updated file saved as 002230_with_sentiment.xlsx\n"
     ]
    }
   ],
   "source": [
    "# 将更新后的列表转换回DataFrame\n",
    "new_columns = excel_data.columns.tolist() + ['Sentiment']\n",
    "updated_df = pd.DataFrame(data_list, columns=new_columns)\n",
    "\n",
    "# 保存更新后的DataFrame到新的Excel文件\n",
    "output_file_path = '002230_with_sentiment.xlsx'\n",
    "updated_df.to_excel(output_file_path, index=False)\n",
    "\n",
    "print(f\"Updated file saved as {output_file_path}\")"
   ]
  }
 ],
 "metadata": {
  "kernelspec": {
   "display_name": "base",
   "language": "python",
   "name": "python3"
  },
  "language_info": {
   "codemirror_mode": {
    "name": "ipython",
    "version": 3
   },
   "file_extension": ".py",
   "mimetype": "text/x-python",
   "name": "python",
   "nbconvert_exporter": "python",
   "pygments_lexer": "ipython3",
   "version": "3.11.5"
  }
 },
 "nbformat": 4,
 "nbformat_minor": 2
}
