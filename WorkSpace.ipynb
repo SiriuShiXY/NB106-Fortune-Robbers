{
 "cells": [
  {
   "cell_type": "code",
   "execution_count": 7,
   "metadata": {},
   "outputs": [
    {
     "name": "stderr",
     "output_type": "stream",
     "text": [
      "c:\\Users\\yfxx_\\.conda\\envs\\MachineLearning\\lib\\site-packages\\pandas\\core\\dtypes\\cast.py:1134: RuntimeWarning: invalid value encountered in cast\n",
      "  if (arr.astype(int) == arr).all():\n",
      "c:\\Users\\yfxx_\\.conda\\envs\\MachineLearning\\lib\\site-packages\\pandas\\core\\dtypes\\cast.py:1153: RuntimeWarning: invalid value encountered in cast\n",
      "  if (arr.astype(int) == arr).all():\n"
     ]
    }
   ],
   "source": [
    "##Data Collection\n",
    "import eikon as ek\n",
    "import pandas as pd\n",
    "import os\n",
    "\n",
    "eikon_key = ''\n",
    "ek.set_app_key(eikon_key)\n",
    "\n",
    "target_securities = [\".CSI300\", \".HSI\"]\n",
    "start_date = \"2019-01-01\"\n",
    "end_date = \"2020-01-01\"\n",
    "\n",
    "#Possible values are tick, minute, hour, daily, weekly, monthly, quarterly, yearly.\n",
    "frequency = 'daily'\n",
    "\n",
    "#Create a folder for datasets\n",
    "if not os.path.exists('Raw_Datasets'):\n",
    "    os.makedirs('Raw_Datasets')\n",
    "\n",
    "#Retrieve data for each security and create a folder for each security\n",
    "for security in target_securities:\n",
    "    if not os.path.exists('Raw_Datasets/' + security):\n",
    "        os.makedirs('Datasets/' + security)\n",
    "    \n",
    "    data = ek.get_timeseries(security, start_date=start_date, end_date=end_date)\n",
    "\n",
    "    file_name = security + start_date[:4] + '-' + end_date[:4] + \".csv\"\n",
    "    data.to_csv('Datasets/' + security + '/' + file_name)"
   ]
  },
  {
   "cell_type": "code",
   "execution_count": 10,
   "metadata": {},
   "outputs": [],
   "source": [
    "#Technical Analysis\n",
    "import talib as ta\n",
    "\n",
    "#Create a folder for technical analysis\n",
    "if not os.path.exists('Technical_Analysis'):\n",
    "    os.makedirs('Technical_Analysis')\n",
    "\n",
    "#Retrieve data for each security and create a folder for each security\n",
    "for security in target_securities:\n",
    "    if not os.path.exists('Technical_Analysis/' + security):\n",
    "        os.makedirs('Technical_Analysis/' + security)\n",
    "    \n",
    "    data = pd.read_csv('Datasets/' + security + '/' + security + start_date[:4] + '-' + end_date[:4] + \".csv\")\n",
    "    \n",
    "    data['SMA'] = ta.SMA(data['CLOSE'], timeperiod=14)\n",
    "    data['RSI'] = ta.RSI(data['CLOSE'], timeperiod=14)\n",
    "    data['MACD'], data['MACD_SIGNAL'], data['MACD_HIST'] = ta.MACD(data['CLOSE'], fastperiod=12, slowperiod=26, signalperiod=9)\n",
    "    data['ADX'] = ta.ADX(data['HIGH'], data['LOW'], data['CLOSE'], timeperiod=14)\n",
    "    data['CCI'] = ta.CCI(data['HIGH'], data['LOW'], data['CLOSE'], timeperiod=14)\n",
    "    data['ADOSC'] = ta.ADOSC(data['HIGH'], data['LOW'], data['CLOSE'], data['VOLUME'], fastperiod=3, slowperiod=10)\n",
    "    \n",
    "    file_name = security + start_date[:4] + '-' + end_date[:4] + \".csv\"\n",
    "    data.to_csv('Technical_Analysis/' + security + '/' + file_name)"
   ]
  },
  {
   "cell_type": "code",
   "execution_count": null,
   "metadata": {},
   "outputs": [],
   "source": []
  }
 ],
 "metadata": {
  "kernelspec": {
   "display_name": "MachineLearning",
   "language": "python",
   "name": "python3"
  },
  "language_info": {
   "codemirror_mode": {
    "name": "ipython",
    "version": 3
   },
   "file_extension": ".py",
   "mimetype": "text/x-python",
   "name": "python",
   "nbconvert_exporter": "python",
   "pygments_lexer": "ipython3",
   "version": "3.10.13"
  }
 },
 "nbformat": 4,
 "nbformat_minor": 2
}
