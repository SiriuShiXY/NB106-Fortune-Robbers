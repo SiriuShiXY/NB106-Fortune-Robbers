{
 "cells": [
  {
   "cell_type": "code",
   "execution_count": 12,
   "metadata": {},
   "outputs": [],
   "source": [
    "import pandas as pd\n",
    "from sklearn.model_selection import train_test_split\n",
    "\n",
    "# 加载测试数据\n",
    "with open(\"1. Tianchi_test_250_random.csv\", \"r\", encoding=\"utf-8\") as test_file:\n",
    "    test_data = pd.read_csv(test_file)\n",
    "\n",
    "test_comment = list(test_data[\"comment\"])\n",
    "test_label = list(test_data[\"label\"])\n",
    "\n",
    "# 加载所有数据\n",
    "dataset_1 = pd.read_excel(\"/Users/liyuanheng/Desktop/金融评论情绪分类/Data/1. Tianchi.xlsx\")\n",
    "comment_lst_1 = dataset_1[\"title\"].tolist()\n",
    "label_1 = dataset_1[\"emotion\"].tolist()\n",
    "\n",
    "# 创建DataFrame\n",
    "all_data = pd.DataFrame({\n",
    "    'comment': comment_lst_1,\n",
    "    'label': label_1\n",
    "})\n",
    "\n",
    "# 去掉test_data中的数据\n",
    "filtered_data = all_data[~all_data['comment'].isin(test_comment)]\n",
    "\n",
    "# 按2:8的比例划分valid和train的数据集\n",
    "train_data, valid_data = train_test_split(filtered_data, test_size=0.2, random_state=42)\n",
    "\n",
    "# 保存为CSV格式\n",
    "train_data.to_csv('1. Tianchi_train.csv', index=False, encoding='utf-8')\n",
    "valid_data.to_csv('1. Tianchi_valid.csv', index=False, encoding='utf-8')"
   ]
  }
 ],
 "metadata": {
  "kernelspec": {
   "display_name": "base",
   "language": "python",
   "name": "python3"
  },
  "language_info": {
   "codemirror_mode": {
    "name": "ipython",
    "version": 3
   },
   "file_extension": ".py",
   "mimetype": "text/x-python",
   "name": "python",
   "nbconvert_exporter": "python",
   "pygments_lexer": "ipython3",
   "version": "3.11.5"
  }
 },
 "nbformat": 4,
 "nbformat_minor": 2
}
