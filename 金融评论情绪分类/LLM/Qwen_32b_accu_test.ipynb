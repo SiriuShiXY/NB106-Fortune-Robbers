{
 "cells": [
  {
   "cell_type": "markdown",
   "metadata": {},
   "source": [
    "# Libraries"
   ]
  },
  {
   "cell_type": "code",
   "execution_count": 1,
   "metadata": {},
   "outputs": [],
   "source": [
    "import pandas as pd \n",
    "from tqdm import tqdm\n",
    "import time\n",
    "import ollama\n",
    "import random\n",
    "from sklearn.metrics import accuracy_score, precision_recall_fscore_support, f1_score\n"
   ]
  },
  {
   "cell_type": "markdown",
   "metadata": {},
   "source": [
    "# Triple Classification"
   ]
  },
  {
   "cell_type": "markdown",
   "metadata": {},
   "source": [
    "## 1. Tianchi Dataset"
   ]
  },
  {
   "cell_type": "markdown",
   "metadata": {},
   "source": [
    "### Load Data"
   ]
  },
  {
   "cell_type": "code",
   "execution_count": 2,
   "metadata": {},
   "outputs": [
    {
     "data": {
      "text/html": [
       "<div>\n",
       "<style scoped>\n",
       "    .dataframe tbody tr th:only-of-type {\n",
       "        vertical-align: middle;\n",
       "    }\n",
       "\n",
       "    .dataframe tbody tr th {\n",
       "        vertical-align: top;\n",
       "    }\n",
       "\n",
       "    .dataframe thead th {\n",
       "        text-align: right;\n",
       "    }\n",
       "</style>\n",
       "<table border=\"1\" class=\"dataframe\">\n",
       "  <thead>\n",
       "    <tr style=\"text-align: right;\">\n",
       "      <th></th>\n",
       "      <th>Unnamed: 0</th>\n",
       "      <th>article_id</th>\n",
       "      <th>title</th>\n",
       "      <th>author</th>\n",
       "      <th>link</th>\n",
       "      <th>emotion</th>\n",
       "    </tr>\n",
       "  </thead>\n",
       "  <tbody>\n",
       "    <tr>\n",
       "      <th>0</th>\n",
       "      <td>0</td>\n",
       "      <td>1175</td>\n",
       "      <td>低开低走3000点[捂脸][捂脸]</td>\n",
       "      <td>永远背离</td>\n",
       "      <td>http://guba.eastmoney.com/news,zssh000001,1285...</td>\n",
       "      <td>-1</td>\n",
       "    </tr>\n",
       "    <tr>\n",
       "      <th>1</th>\n",
       "      <td>1</td>\n",
       "      <td>1264</td>\n",
       "      <td>#A股这波调整何时结束？#差不多5000牛</td>\n",
       "      <td>股友75f8U98077</td>\n",
       "      <td>http://guba.eastmoney.com/news,zssh000001,1285...</td>\n",
       "      <td>-1</td>\n",
       "    </tr>\n",
       "    <tr>\n",
       "      <th>2</th>\n",
       "      <td>2</td>\n",
       "      <td>1349</td>\n",
       "      <td>周一逃不掉的命运了</td>\n",
       "      <td>韭菜的韭和韭菜的菜</td>\n",
       "      <td>http://guba.eastmoney.com/news,zssh000001,1285...</td>\n",
       "      <td>-1</td>\n",
       "    </tr>\n",
       "    <tr>\n",
       "      <th>3</th>\n",
       "      <td>3</td>\n",
       "      <td>1439</td>\n",
       "      <td>明天一定涨，世界末日也会涨。</td>\n",
       "      <td>一进股市深似海1</td>\n",
       "      <td>http://guba.eastmoney.com/news,zssh000001,1285...</td>\n",
       "      <td>0</td>\n",
       "    </tr>\n",
       "    <tr>\n",
       "      <th>4</th>\n",
       "      <td>4</td>\n",
       "      <td>1601</td>\n",
       "      <td>这么多唱空的我就放心了</td>\n",
       "      <td>作手小桂圆</td>\n",
       "      <td>http://guba.eastmoney.com/news,zssh000001,1285...</td>\n",
       "      <td>0</td>\n",
       "    </tr>\n",
       "    <tr>\n",
       "      <th>...</th>\n",
       "      <td>...</td>\n",
       "      <td>...</td>\n",
       "      <td>...</td>\n",
       "      <td>...</td>\n",
       "      <td>...</td>\n",
       "      <td>...</td>\n",
       "    </tr>\n",
       "    <tr>\n",
       "      <th>17610</th>\n",
       "      <td>17610</td>\n",
       "      <td>1139675</td>\n",
       "      <td>来些粉丝吧，不然再发帖就没意思了。[旺柴]</td>\n",
       "      <td>股友QPIEh9</td>\n",
       "      <td>http://guba.eastmoney.com/news,zssh000001,1084...</td>\n",
       "      <td>0</td>\n",
       "    </tr>\n",
       "    <tr>\n",
       "      <th>17611</th>\n",
       "      <td>17611</td>\n",
       "      <td>1139807</td>\n",
       "      <td>大跌大买</td>\n",
       "      <td>霸道138</td>\n",
       "      <td>http://guba.eastmoney.com/news,zssh000001,1084...</td>\n",
       "      <td>1</td>\n",
       "    </tr>\n",
       "    <tr>\n",
       "      <th>17612</th>\n",
       "      <td>17612</td>\n",
       "      <td>1139845</td>\n",
       "      <td>转发</td>\n",
       "      <td>赚了不跑是傻子</td>\n",
       "      <td>http://guba.eastmoney.com/news,zssh000001,1084...</td>\n",
       "      <td>0</td>\n",
       "    </tr>\n",
       "    <tr>\n",
       "      <th>17613</th>\n",
       "      <td>17613</td>\n",
       "      <td>1139920</td>\n",
       "      <td>今天要是还是无法突破3731，有种不祥的预感</td>\n",
       "      <td>真心的实话</td>\n",
       "      <td>http://guba.eastmoney.com/news,zssh000001,1084...</td>\n",
       "      <td>-1</td>\n",
       "    </tr>\n",
       "    <tr>\n",
       "      <th>17614</th>\n",
       "      <td>17614</td>\n",
       "      <td>1139987</td>\n",
       "      <td>机构持有的股暴涨，拉了指数，砸盘时所以股跟跌。</td>\n",
       "      <td>血汗钱啥时回</td>\n",
       "      <td>http://guba.eastmoney.com/news,zssh000001,1084...</td>\n",
       "      <td>-1</td>\n",
       "    </tr>\n",
       "  </tbody>\n",
       "</table>\n",
       "<p>17615 rows × 6 columns</p>\n",
       "</div>"
      ],
      "text/plain": [
       "       Unnamed: 0  article_id                    title        author  \\\n",
       "0               0        1175        低开低走3000点[捂脸][捂脸]          永远背离   \n",
       "1               1        1264    #A股这波调整何时结束？#差不多5000牛  股友75f8U98077   \n",
       "2               2        1349                周一逃不掉的命运了     韭菜的韭和韭菜的菜   \n",
       "3               3        1439           明天一定涨，世界末日也会涨。      一进股市深似海1   \n",
       "4               4        1601              这么多唱空的我就放心了         作手小桂圆   \n",
       "...           ...         ...                      ...           ...   \n",
       "17610       17610     1139675    来些粉丝吧，不然再发帖就没意思了。[旺柴]      股友QPIEh9   \n",
       "17611       17611     1139807                     大跌大买         霸道138   \n",
       "17612       17612     1139845                       转发       赚了不跑是傻子   \n",
       "17613       17613     1139920   今天要是还是无法突破3731，有种不祥的预感         真心的实话   \n",
       "17614       17614     1139987  机构持有的股暴涨，拉了指数，砸盘时所以股跟跌。        血汗钱啥时回   \n",
       "\n",
       "                                                    link  emotion  \n",
       "0      http://guba.eastmoney.com/news,zssh000001,1285...       -1  \n",
       "1      http://guba.eastmoney.com/news,zssh000001,1285...       -1  \n",
       "2      http://guba.eastmoney.com/news,zssh000001,1285...       -1  \n",
       "3      http://guba.eastmoney.com/news,zssh000001,1285...        0  \n",
       "4      http://guba.eastmoney.com/news,zssh000001,1285...        0  \n",
       "...                                                  ...      ...  \n",
       "17610  http://guba.eastmoney.com/news,zssh000001,1084...        0  \n",
       "17611  http://guba.eastmoney.com/news,zssh000001,1084...        1  \n",
       "17612  http://guba.eastmoney.com/news,zssh000001,1084...        0  \n",
       "17613  http://guba.eastmoney.com/news,zssh000001,1084...       -1  \n",
       "17614  http://guba.eastmoney.com/news,zssh000001,1084...       -1  \n",
       "\n",
       "[17615 rows x 6 columns]"
      ]
     },
     "execution_count": 2,
     "metadata": {},
     "output_type": "execute_result"
    }
   ],
   "source": [
    "dataset_1 = pd.read_excel(\"/Users/liyuanheng/Desktop/金融评论情绪分类/Data/1. Tianchi.xlsx\")\n",
    "\n",
    "comment_lst_1 = dataset_1[\"title\"].tolist()\n",
    "label_lst_1 = dataset_1[\"emotion\"].tolist()\n",
    "\n",
    "dataset_1"
   ]
  },
  {
   "cell_type": "markdown",
   "metadata": {},
   "source": [
    "### Randomly Select 250 Datas"
   ]
  },
  {
   "cell_type": "code",
   "execution_count": 3,
   "metadata": {},
   "outputs": [],
   "source": [
    "# Randomly Select 250 datas to test performance\n",
    "import random\n",
    "random.seed(42)\n",
    "\n",
    "random_indices = random.sample(range(len(comment_lst_1)), 250)\n",
    "\n",
    "random_comment_lst_1 = [comment_lst_1[i] for i in random_indices]\n",
    "radom_label_lst_1 = [label_lst_1[i] for i in random_indices]"
   ]
  },
  {
   "cell_type": "markdown",
   "metadata": {},
   "source": [
    "### Generate Answer (Zero-shot)"
   ]
  },
  {
   "cell_type": "code",
   "execution_count": 4,
   "metadata": {},
   "outputs": [
    {
     "name": "stderr",
     "output_type": "stream",
     "text": [
      "Processing comments:   0%|          | 0/250 [00:00<?, ?it/s]"
     ]
    },
    {
     "name": "stdout",
     "output_type": "stream",
     "text": [
      "赌明天跳空高开\n"
     ]
    },
    {
     "name": "stderr",
     "output_type": "stream",
     "text": [
      "Processing comments:   0%|          | 1/250 [00:11<47:43, 11.50s/it]"
     ]
    },
    {
     "name": "stdout",
     "output_type": "stream",
     "text": [
      "0\n",
      "先生们，女士们，还有十分钟蹦极，准备好了，\n"
     ]
    },
    {
     "name": "stderr",
     "output_type": "stream",
     "text": [
      "Processing comments:   1%|          | 2/250 [00:11<20:17,  4.91s/it]"
     ]
    },
    {
     "name": "stdout",
     "output_type": "stream",
     "text": [
      "0\n",
      "$上证指数(SH000001)$北向不停买入，主力不停卖出什么意思啊？\n"
     ]
    },
    {
     "name": "stderr",
     "output_type": "stream",
     "text": [
      "Processing comments:   1%|          | 3/250 [00:12<11:32,  2.80s/it]"
     ]
    },
    {
     "name": "stdout",
     "output_type": "stream",
     "text": [
      "0\n",
      "两点半，北向资金流出\n"
     ]
    },
    {
     "name": "stderr",
     "output_type": "stream",
     "text": [
      "Processing comments:   2%|▏         | 4/250 [00:12<07:46,  1.89s/it]"
     ]
    },
    {
     "name": "stdout",
     "output_type": "stream",
     "text": [
      "-1\n",
      "牛市，大盘连涨4.2个点了，今天也还是强势翻红趋势，真的牛啊\n"
     ]
    },
    {
     "name": "stderr",
     "output_type": "stream",
     "text": [
      "Processing comments:   2%|▏         | 5/250 [00:12<05:22,  1.32s/it]"
     ]
    },
    {
     "name": "stdout",
     "output_type": "stream",
     "text": [
      "1\n",
      "发生了什么？主力持续流出100多亿！\n"
     ]
    },
    {
     "name": "stderr",
     "output_type": "stream",
     "text": [
      "Processing comments:   2%|▏         | 6/250 [00:13<04:02,  1.01it/s]"
     ]
    },
    {
     "name": "stdout",
     "output_type": "stream",
     "text": [
      "-1\n",
      "涨了指数亏了钱，这个星期亏了十多个点了[滴汗][滴汗][滴汗][滴汗][滴汗][\n"
     ]
    },
    {
     "name": "stderr",
     "output_type": "stream",
     "text": [
      "Processing comments:   3%|▎         | 7/250 [00:13<03:22,  1.20it/s]"
     ]
    },
    {
     "name": "stdout",
     "output_type": "stream",
     "text": [
      "-1\n",
      "今晚还有什么利好消息请继续发！！！\n"
     ]
    },
    {
     "name": "stderr",
     "output_type": "stream",
     "text": [
      "Processing comments:   3%|▎         | 8/250 [00:14<02:51,  1.41it/s]"
     ]
    },
    {
     "name": "stdout",
     "output_type": "stream",
     "text": [
      "1\n",
      "$上证指数(SH000001)$持仓的两只票竟然还是红的，神奇不\n"
     ]
    },
    {
     "name": "stderr",
     "output_type": "stream",
     "text": [
      "Processing comments:   4%|▎         | 9/250 [00:14<02:19,  1.73it/s]"
     ]
    },
    {
     "name": "stdout",
     "output_type": "stream",
     "text": [
      "1\n",
      "小顶规避\n"
     ]
    },
    {
     "name": "stderr",
     "output_type": "stream",
     "text": [
      "Processing comments:   4%|▍         | 10/250 [00:14<02:00,  1.99it/s]"
     ]
    },
    {
     "name": "stdout",
     "output_type": "stream",
     "text": [
      "0\n",
      "好好的盘，2点后谁干的偷袭，坏透了，就这水平，大a的脊梁？\n"
     ]
    },
    {
     "name": "stderr",
     "output_type": "stream",
     "text": [
      "Processing comments:   4%|▍         | 11/250 [00:15<01:59,  1.99it/s]"
     ]
    },
    {
     "name": "stdout",
     "output_type": "stream",
     "text": [
      "-1\n",
      "狂拉指数\n"
     ]
    },
    {
     "name": "stderr",
     "output_type": "stream",
     "text": [
      "Processing comments:   5%|▍         | 12/250 [00:15<01:45,  2.26it/s]"
     ]
    },
    {
     "name": "stdout",
     "output_type": "stream",
     "text": [
      "1\n",
      "主力又跑了450亿\n"
     ]
    },
    {
     "name": "stderr",
     "output_type": "stream",
     "text": [
      "Processing comments:   5%|▌         | 13/250 [00:16<01:46,  2.23it/s]"
     ]
    },
    {
     "name": "stdout",
     "output_type": "stream",
     "text": [
      "-1\n",
      "#沪指早盘跌2.86%,缘何大跌？#地区局势不稳定，资本慌的一笔\n"
     ]
    },
    {
     "name": "stderr",
     "output_type": "stream",
     "text": [
      "Processing comments:   6%|▌         | 14/250 [00:16<01:39,  2.37it/s]"
     ]
    },
    {
     "name": "stdout",
     "output_type": "stream",
     "text": [
      "-1\n",
      "明天5200\n"
     ]
    },
    {
     "name": "stderr",
     "output_type": "stream",
     "text": [
      "Processing comments:   6%|▌         | 15/250 [00:16<01:35,  2.45it/s]"
     ]
    },
    {
     "name": "stdout",
     "output_type": "stream",
     "text": [
      "0\n",
      "做T:有些自认为的高手，总是马后跑讲做T，做对了一次，了不得，但从月、季、年来看\n"
     ]
    },
    {
     "name": "stderr",
     "output_type": "stream",
     "text": [
      "Processing comments:   6%|▋         | 16/250 [00:17<01:37,  2.40it/s]"
     ]
    },
    {
     "name": "stdout",
     "output_type": "stream",
     "text": [
      "0\n",
      "买st海航即将摘帽了你看看今天走势\n"
     ]
    },
    {
     "name": "stderr",
     "output_type": "stream",
     "text": [
      "Processing comments:   7%|▋         | 17/250 [00:17<01:28,  2.64it/s]"
     ]
    },
    {
     "name": "stdout",
     "output_type": "stream",
     "text": [
      "0\n",
      "沪深股通又狂卖\n"
     ]
    },
    {
     "name": "stderr",
     "output_type": "stream",
     "text": [
      "Processing comments:   7%|▋         | 18/250 [00:17<01:32,  2.52it/s]"
     ]
    },
    {
     "name": "stdout",
     "output_type": "stream",
     "text": [
      "-1\n",
      "本月底跌破3100点。\n"
     ]
    },
    {
     "name": "stderr",
     "output_type": "stream",
     "text": [
      "Processing comments:   8%|▊         | 19/250 [00:18<01:39,  2.32it/s]"
     ]
    },
    {
     "name": "stdout",
     "output_type": "stream",
     "text": [
      "-1\n",
      "$上证指数(SH000001)$开始走熊了，怎么稳字当头？\n"
     ]
    },
    {
     "name": "stderr",
     "output_type": "stream",
     "text": [
      "Processing comments:   8%|▊         | 20/250 [00:18<01:34,  2.44it/s]"
     ]
    },
    {
     "name": "stdout",
     "output_type": "stream",
     "text": [
      "-1\n",
      "$上证指数(SH000001)$23日大A一改昨日的颓势，探底回升，强势收阳，和\n"
     ]
    },
    {
     "name": "stderr",
     "output_type": "stream",
     "text": [
      "Processing comments:   8%|▊         | 21/250 [00:19<01:25,  2.67it/s]"
     ]
    },
    {
     "name": "stdout",
     "output_type": "stream",
     "text": [
      "1\n",
      "三油一挺，大盘见顶[囧]\n"
     ]
    },
    {
     "name": "stderr",
     "output_type": "stream",
     "text": [
      "Processing comments:   9%|▉         | 22/250 [00:19<01:24,  2.71it/s]"
     ]
    },
    {
     "name": "stdout",
     "output_type": "stream",
     "text": [
      "-1\n",
      "哎可怜了买基金的人。\n"
     ]
    },
    {
     "name": "stderr",
     "output_type": "stream",
     "text": [
      "Processing comments:   9%|▉         | 23/250 [00:19<01:30,  2.50it/s]"
     ]
    },
    {
     "name": "stdout",
     "output_type": "stream",
     "text": [
      "-1\n",
      "不是稳增长吗\n"
     ]
    },
    {
     "name": "stderr",
     "output_type": "stream",
     "text": [
      "Processing comments:  10%|▉         | 24/250 [00:20<01:25,  2.64it/s]"
     ]
    },
    {
     "name": "stdout",
     "output_type": "stream",
     "text": [
      "0\n",
      "不出意料的跌了\n"
     ]
    },
    {
     "name": "stderr",
     "output_type": "stream",
     "text": [
      "Processing comments:  10%|█         | 25/250 [00:20<01:29,  2.51it/s]"
     ]
    },
    {
     "name": "stdout",
     "output_type": "stream",
     "text": [
      "-1\n",
      "小跳空，回补缺口小心……\n"
     ]
    },
    {
     "name": "stderr",
     "output_type": "stream",
     "text": [
      "Processing comments:  10%|█         | 26/250 [00:21<01:32,  2.42it/s]"
     ]
    },
    {
     "name": "stdout",
     "output_type": "stream",
     "text": [
      "0\n",
      "补跌又补上了，叫你不要涨不听[滴汗][滴汗][滴汗]\n"
     ]
    },
    {
     "name": "stderr",
     "output_type": "stream",
     "text": [
      "Processing comments:  11%|█         | 27/250 [00:21<01:28,  2.53it/s]"
     ]
    },
    {
     "name": "stdout",
     "output_type": "stream",
     "text": [
      "-1\n",
      "本周见3120\n"
     ]
    },
    {
     "name": "stderr",
     "output_type": "stream",
     "text": [
      "Processing comments:  11%|█         | 28/250 [00:21<01:26,  2.56it/s]"
     ]
    },
    {
     "name": "stdout",
     "output_type": "stream",
     "text": [
      "0\n",
      "难得出现指数跌个股涨的局面\n"
     ]
    },
    {
     "name": "stderr",
     "output_type": "stream",
     "text": [
      "Processing comments:  12%|█▏        | 29/250 [00:22<01:26,  2.54it/s]"
     ]
    },
    {
     "name": "stdout",
     "output_type": "stream",
     "text": [
      "0\n",
      "不破不立，还有有一根大阴线，2999点等待，今天清仓\n"
     ]
    },
    {
     "name": "stderr",
     "output_type": "stream",
     "text": [
      "Processing comments:  12%|█▏        | 30/250 [00:22<01:24,  2.62it/s]"
     ]
    },
    {
     "name": "stdout",
     "output_type": "stream",
     "text": [
      "-1\n",
      "想起，太想红了，红艳艳\n"
     ]
    },
    {
     "name": "stderr",
     "output_type": "stream",
     "text": [
      "Processing comments:  12%|█▏        | 31/250 [00:22<01:17,  2.83it/s]"
     ]
    },
    {
     "name": "stdout",
     "output_type": "stream",
     "text": [
      "0\n",
      "$上证指数(SH000001)$降准不及预期，再有技术压力，道指期货又下跌了，大\n"
     ]
    },
    {
     "name": "stderr",
     "output_type": "stream",
     "text": [
      "Processing comments:  13%|█▎        | 32/250 [00:23<01:26,  2.52it/s]"
     ]
    },
    {
     "name": "stdout",
     "output_type": "stream",
     "text": [
      "-1\n",
      "赶紧补缺口\n"
     ]
    },
    {
     "name": "stderr",
     "output_type": "stream",
     "text": [
      "Processing comments:  13%|█▎        | 33/250 [00:23<01:21,  2.66it/s]"
     ]
    },
    {
     "name": "stdout",
     "output_type": "stream",
     "text": [
      "0\n",
      "想起了2018年的熔断\n"
     ]
    },
    {
     "name": "stderr",
     "output_type": "stream",
     "text": [
      "Processing comments:  14%|█▎        | 34/250 [00:24<01:28,  2.43it/s]"
     ]
    },
    {
     "name": "stdout",
     "output_type": "stream",
     "text": [
      "-1\n",
      "这么多饿狗，扔一块骨头就想让市场起来，有点难度\n"
     ]
    },
    {
     "name": "stderr",
     "output_type": "stream",
     "text": [
      "Processing comments:  14%|█▍        | 35/250 [00:24<01:25,  2.51it/s]"
     ]
    },
    {
     "name": "stdout",
     "output_type": "stream",
     "text": [
      "-1\n",
      "这次回调至少也要跌到3150点\n"
     ]
    },
    {
     "name": "stderr",
     "output_type": "stream",
     "text": [
      "Processing comments:  14%|█▍        | 36/250 [00:25<01:23,  2.57it/s]"
     ]
    },
    {
     "name": "stdout",
     "output_type": "stream",
     "text": [
      "-1\n",
      "比赛跑得快！\n"
     ]
    },
    {
     "name": "stderr",
     "output_type": "stream",
     "text": [
      "Processing comments:  15%|█▍        | 37/250 [00:25<01:20,  2.65it/s]"
     ]
    },
    {
     "name": "stdout",
     "output_type": "stream",
     "text": [
      "0\n",
      "$上证指数(SH000001)$券商一拉大盘就崩[怒][怒][怒]\n"
     ]
    },
    {
     "name": "stderr",
     "output_type": "stream",
     "text": [
      "Processing comments:  15%|█▌        | 38/250 [00:25<01:19,  2.68it/s]"
     ]
    },
    {
     "name": "stdout",
     "output_type": "stream",
     "text": [
      "-1\n",
      "继续回调，知足常乐。\n"
     ]
    },
    {
     "name": "stderr",
     "output_type": "stream",
     "text": [
      "Processing comments:  16%|█▌        | 39/250 [00:26<01:27,  2.40it/s]"
     ]
    },
    {
     "name": "stdout",
     "output_type": "stream",
     "text": [
      "-1\n",
      "#李蓓：2-3年后A股将迎飞龙在天#2-3年你还活着不？\n"
     ]
    },
    {
     "name": "stderr",
     "output_type": "stream",
     "text": [
      "Processing comments:  16%|█▌        | 40/250 [00:26<01:20,  2.62it/s]"
     ]
    },
    {
     "name": "stdout",
     "output_type": "stream",
     "text": [
      "0\n",
      "丢人\n"
     ]
    },
    {
     "name": "stderr",
     "output_type": "stream",
     "text": [
      "Processing comments:  16%|█▋        | 41/250 [00:26<01:19,  2.64it/s]"
     ]
    },
    {
     "name": "stdout",
     "output_type": "stream",
     "text": [
      "-1\n",
      "又逼近3100了[为什么]\n"
     ]
    },
    {
     "name": "stderr",
     "output_type": "stream",
     "text": [
      "Processing comments:  17%|█▋        | 42/250 [00:27<01:23,  2.49it/s]"
     ]
    },
    {
     "name": "stdout",
     "output_type": "stream",
     "text": [
      "1\n",
      "大A是到了叛逆期了？\n"
     ]
    },
    {
     "name": "stderr",
     "output_type": "stream",
     "text": [
      "Processing comments:  17%|█▋        | 43/250 [00:27<01:26,  2.40it/s]"
     ]
    },
    {
     "name": "stdout",
     "output_type": "stream",
     "text": [
      "0\n",
      "$上证指数(SH000001)$剩下的时间应回3千上方吧\n"
     ]
    },
    {
     "name": "stderr",
     "output_type": "stream",
     "text": [
      "Processing comments:  18%|█▊        | 44/250 [00:28<01:18,  2.64it/s]"
     ]
    },
    {
     "name": "stdout",
     "output_type": "stream",
     "text": [
      "1\n",
      "收盘3199.92.和之前的缺口3199.91.仅仅相差0.01.是炉火纯青还是\n"
     ]
    },
    {
     "name": "stderr",
     "output_type": "stream",
     "text": [
      "Processing comments:  18%|█▊        | 45/250 [00:28<01:20,  2.53it/s]"
     ]
    },
    {
     "name": "stdout",
     "output_type": "stream",
     "text": [
      "0\n",
      "专家要出来说两句不\n"
     ]
    },
    {
     "name": "stderr",
     "output_type": "stream",
     "text": [
      "Processing comments:  18%|█▊        | 46/250 [00:28<01:19,  2.57it/s]"
     ]
    },
    {
     "name": "stdout",
     "output_type": "stream",
     "text": [
      "0\n",
      "阴包阳，大跌的征兆\n"
     ]
    },
    {
     "name": "stderr",
     "output_type": "stream",
     "text": [
      "Processing comments:  19%|█▉        | 47/250 [00:29<01:24,  2.39it/s]"
     ]
    },
    {
     "name": "stdout",
     "output_type": "stream",
     "text": [
      "-1\n",
      "没有量的上涨都编人的把戏\n"
     ]
    },
    {
     "name": "stderr",
     "output_type": "stream",
     "text": [
      "Processing comments:  19%|█▉        | 48/250 [00:29<01:30,  2.24it/s]"
     ]
    },
    {
     "name": "stdout",
     "output_type": "stream",
     "text": [
      "-1\n",
      "$上证指数(SH000001)$大A又回来了\n"
     ]
    },
    {
     "name": "stderr",
     "output_type": "stream",
     "text": [
      "Processing comments:  20%|█▉        | 49/250 [00:30<01:20,  2.51it/s]"
     ]
    },
    {
     "name": "stdout",
     "output_type": "stream",
     "text": [
      "1\n",
      "这波下杀到3050有支撑\n"
     ]
    },
    {
     "name": "stderr",
     "output_type": "stream",
     "text": [
      "Processing comments:  20%|██        | 50/250 [00:30<01:13,  2.73it/s]"
     ]
    },
    {
     "name": "stdout",
     "output_type": "stream",
     "text": [
      "0\n",
      "找到原因了吗？\n"
     ]
    },
    {
     "name": "stderr",
     "output_type": "stream",
     "text": [
      "Processing comments:  20%|██        | 51/250 [00:30<01:10,  2.82it/s]"
     ]
    },
    {
     "name": "stdout",
     "output_type": "stream",
     "text": [
      "0\n",
      "基金和股票今天清退了80%，还没有调整到位，静观其变。\n"
     ]
    },
    {
     "name": "stderr",
     "output_type": "stream",
     "text": [
      "Processing comments:  21%|██        | 52/250 [00:31<01:06,  2.98it/s]"
     ]
    },
    {
     "name": "stdout",
     "output_type": "stream",
     "text": [
      "0\n",
      "明天正好给外资抄底\n"
     ]
    },
    {
     "name": "stderr",
     "output_type": "stream",
     "text": [
      "Processing comments:  21%|██        | 53/250 [00:31<01:08,  2.88it/s]"
     ]
    },
    {
     "name": "stdout",
     "output_type": "stream",
     "text": [
      "0\n",
      "今天能否一举突破3358\n"
     ]
    },
    {
     "name": "stderr",
     "output_type": "stream",
     "text": [
      "Processing comments:  22%|██▏       | 54/250 [00:31<01:12,  2.70it/s]"
     ]
    },
    {
     "name": "stdout",
     "output_type": "stream",
     "text": [
      "0\n",
      "每天都号称流入几十亿几百亿资金，可是每天都在大跌\n"
     ]
    },
    {
     "name": "stderr",
     "output_type": "stream",
     "text": [
      "Processing comments:  22%|██▏       | 55/250 [00:32<01:11,  2.71it/s]"
     ]
    },
    {
     "name": "stdout",
     "output_type": "stream",
     "text": [
      "-1\n",
      "$上证指数(SH000001)$买买买买买。\n"
     ]
    },
    {
     "name": "stderr",
     "output_type": "stream",
     "text": [
      "Processing comments:  22%|██▏       | 56/250 [00:32<01:07,  2.88it/s]"
     ]
    },
    {
     "name": "stdout",
     "output_type": "stream",
     "text": [
      "1\n",
      "后面利空还很多呢，等啥时候上五日线再说[吃瓜][吃瓜][吃瓜]\n"
     ]
    },
    {
     "name": "stderr",
     "output_type": "stream",
     "text": [
      "Processing comments:  23%|██▎       | 57/250 [00:32<01:08,  2.81it/s]"
     ]
    },
    {
     "name": "stdout",
     "output_type": "stream",
     "text": [
      "-1\n",
      "七月份美联储加息，是谁在报道？\n"
     ]
    },
    {
     "name": "stderr",
     "output_type": "stream",
     "text": [
      "Processing comments:  23%|██▎       | 58/250 [00:33<01:13,  2.61it/s]"
     ]
    },
    {
     "name": "stdout",
     "output_type": "stream",
     "text": [
      "0\n",
      "有气无力\n"
     ]
    },
    {
     "name": "stderr",
     "output_type": "stream",
     "text": [
      "Processing comments:  24%|██▎       | 59/250 [00:33<01:10,  2.70it/s]"
     ]
    },
    {
     "name": "stdout",
     "output_type": "stream",
     "text": [
      "0\n",
      "天天跌，真要命\n"
     ]
    },
    {
     "name": "stderr",
     "output_type": "stream",
     "text": [
      "Processing comments:  24%|██▍       | 60/250 [00:34<01:18,  2.43it/s]"
     ]
    },
    {
     "name": "stdout",
     "output_type": "stream",
     "text": [
      "-1\n",
      "群龙无首，小散韮菜根没有\n"
     ]
    },
    {
     "name": "stderr",
     "output_type": "stream",
     "text": [
      "Processing comments:  24%|██▍       | 61/250 [00:34<01:11,  2.63it/s]"
     ]
    },
    {
     "name": "stdout",
     "output_type": "stream",
     "text": [
      "0\n",
      "明天3000很关键。哪怕刺破一下。后面就彻底完了。\n"
     ]
    },
    {
     "name": "stderr",
     "output_type": "stream",
     "text": [
      "Processing comments:  25%|██▍       | 62/250 [00:34<01:10,  2.68it/s]"
     ]
    },
    {
     "name": "stdout",
     "output_type": "stream",
     "text": [
      "-1\n",
      "明天又是黑色星期四了\n"
     ]
    },
    {
     "name": "stderr",
     "output_type": "stream",
     "text": [
      "Processing comments:  25%|██▌       | 63/250 [00:35<01:15,  2.48it/s]"
     ]
    },
    {
     "name": "stdout",
     "output_type": "stream",
     "text": [
      "-1\n",
      "妙两刀，白玩两个月\n"
     ]
    },
    {
     "name": "stderr",
     "output_type": "stream",
     "text": [
      "Processing comments:  26%|██▌       | 64/250 [00:35<01:21,  2.29it/s]"
     ]
    },
    {
     "name": "stdout",
     "output_type": "stream",
     "text": [
      "-1\n",
      "主力是谁？北向是谁？谁是真苟？\n"
     ]
    },
    {
     "name": "stderr",
     "output_type": "stream",
     "text": [
      "Processing comments:  26%|██▌       | 65/250 [00:36<01:12,  2.54it/s]"
     ]
    },
    {
     "name": "stdout",
     "output_type": "stream",
     "text": [
      "0\n",
      "其实到了这个位置，散户都觉得很低了，并且在抄底，那就还要大跌。逻辑很简单，不可能\n"
     ]
    },
    {
     "name": "stderr",
     "output_type": "stream",
     "text": [
      "Processing comments:  26%|██▋       | 66/250 [00:36<01:10,  2.61it/s]"
     ]
    },
    {
     "name": "stdout",
     "output_type": "stream",
     "text": [
      "-1\n",
      "第二个下行跳空缺口，真的赢了\n"
     ]
    },
    {
     "name": "stderr",
     "output_type": "stream",
     "text": [
      "Processing comments:  27%|██▋       | 67/250 [00:37<01:21,  2.23it/s]"
     ]
    },
    {
     "name": "stdout",
     "output_type": "stream",
     "text": [
      "-1\n",
      "多年经验，他们想干好的事情一定能干好，不好因为他们不想好\n"
     ]
    },
    {
     "name": "stderr",
     "output_type": "stream",
     "text": [
      "Processing comments:  27%|██▋       | 68/250 [00:37<01:13,  2.48it/s]"
     ]
    },
    {
     "name": "stdout",
     "output_type": "stream",
     "text": [
      "1\n",
      "$上证指数(SH000001)$昨天亏了一只猪，今天挣了一只鸡。\n"
     ]
    },
    {
     "name": "stderr",
     "output_type": "stream",
     "text": [
      "Processing comments:  28%|██▊       | 69/250 [00:37<01:10,  2.57it/s]"
     ]
    },
    {
     "name": "stdout",
     "output_type": "stream",
     "text": [
      "-1\n",
      "见底拉升了\n"
     ]
    },
    {
     "name": "stderr",
     "output_type": "stream",
     "text": [
      "Processing comments:  28%|██▊       | 70/250 [00:38<01:08,  2.65it/s]"
     ]
    },
    {
     "name": "stdout",
     "output_type": "stream",
     "text": [
      "1\n",
      "真的像极了09年初，美股还在暴跌，A股早就见底反涨了\n"
     ]
    },
    {
     "name": "stderr",
     "output_type": "stream",
     "text": [
      "Processing comments:  28%|██▊       | 71/250 [00:38<01:02,  2.85it/s]"
     ]
    },
    {
     "name": "stdout",
     "output_type": "stream",
     "text": [
      "0\n",
      "这波反弹全栽了，四只股全逆势跌，看来抄底越抄越低！\n"
     ]
    },
    {
     "name": "stderr",
     "output_type": "stream",
     "text": [
      "Processing comments:  29%|██▉       | 72/250 [00:38<01:02,  2.84it/s]"
     ]
    },
    {
     "name": "stdout",
     "output_type": "stream",
     "text": [
      "-1\n",
      "现在敢与进场的都是高手！！\n"
     ]
    },
    {
     "name": "stderr",
     "output_type": "stream",
     "text": [
      "Processing comments:  29%|██▉       | 73/250 [00:39<01:06,  2.68it/s]"
     ]
    },
    {
     "name": "stdout",
     "output_type": "stream",
     "text": [
      "0\n",
      "没有合力，3300点是不可能站稳的\n"
     ]
    },
    {
     "name": "stderr",
     "output_type": "stream",
     "text": [
      "Processing comments:  30%|██▉       | 74/250 [00:39<01:04,  2.73it/s]"
     ]
    },
    {
     "name": "stdout",
     "output_type": "stream",
     "text": [
      "-1\n",
      "牛市来了\n"
     ]
    },
    {
     "name": "stderr",
     "output_type": "stream",
     "text": [
      "Processing comments:  30%|███       | 75/250 [00:39<00:59,  2.94it/s]"
     ]
    },
    {
     "name": "stdout",
     "output_type": "stream",
     "text": [
      "1\n",
      "明天亥水旺冲休破\n"
     ]
    },
    {
     "name": "stderr",
     "output_type": "stream",
     "text": [
      "Processing comments:  30%|███       | 76/250 [00:40<01:02,  2.80it/s]"
     ]
    },
    {
     "name": "stdout",
     "output_type": "stream",
     "text": [
      "0\n",
      "$上证指数(SH000001)$找死，别拦着\n"
     ]
    },
    {
     "name": "stderr",
     "output_type": "stream",
     "text": [
      "Processing comments:  31%|███       | 77/250 [00:40<01:01,  2.81it/s]"
     ]
    },
    {
     "name": "stdout",
     "output_type": "stream",
     "text": [
      "-1\n",
      "整个上证一早上的成交量还没有特斯拉的成交量多\n"
     ]
    },
    {
     "name": "stderr",
     "output_type": "stream",
     "text": [
      "Processing comments:  31%|███       | 78/250 [00:40<01:01,  2.82it/s]"
     ]
    },
    {
     "name": "stdout",
     "output_type": "stream",
     "text": [
      "-1\n",
      "美国的大跌会引发A股的操纵，周末两天会修复大跌带来的恐慌情绪。下周从回3300点\n"
     ]
    },
    {
     "name": "stderr",
     "output_type": "stream",
     "text": [
      "Processing comments:  32%|███▏      | 79/250 [00:41<01:04,  2.65it/s]"
     ]
    },
    {
     "name": "stdout",
     "output_type": "stream",
     "text": [
      "1\n",
      "$上证指数(SH000001)$40倍杠杆做多，我是不是疯了[滴汗][滴汗]\n"
     ]
    },
    {
     "name": "stderr",
     "output_type": "stream",
     "text": [
      "Processing comments:  32%|███▏      | 80/250 [00:41<01:09,  2.43it/s]"
     ]
    },
    {
     "name": "stdout",
     "output_type": "stream",
     "text": [
      "-1\n",
      "记住不割肉，随它怎么跌！躺平就好，早晚回来，实在不行就等你一年、两年……比存银行\n"
     ]
    },
    {
     "name": "stderr",
     "output_type": "stream",
     "text": [
      "Processing comments:  32%|███▏      | 81/250 [00:42<01:10,  2.40it/s]"
     ]
    },
    {
     "name": "stdout",
     "output_type": "stream",
     "text": [
      "0\n",
      "明天不是白酒就是券商的天下，指数飞起，个股惨淡\n"
     ]
    },
    {
     "name": "stderr",
     "output_type": "stream",
     "text": [
      "Processing comments:  33%|███▎      | 82/250 [00:42<01:03,  2.65it/s]"
     ]
    },
    {
     "name": "stdout",
     "output_type": "stream",
     "text": [
      "1\n",
      "现在涨幅大的就是以后补跌的，现在跌的多的就是以后的多头。（短线不是小散能玩的，运\n"
     ]
    },
    {
     "name": "stderr",
     "output_type": "stream",
     "text": [
      "Processing comments:  33%|███▎      | 83/250 [00:43<01:05,  2.54it/s]"
     ]
    },
    {
     "name": "stdout",
     "output_type": "stream",
     "text": [
      "0\n",
      "严重建议1000亿以上的一个指数，1000亿以下一个指数，这样中小板快就能看出和\n"
     ]
    },
    {
     "name": "stderr",
     "output_type": "stream",
     "text": [
      "Processing comments:  34%|███▎      | 84/250 [00:43<01:07,  2.47it/s]"
     ]
    },
    {
     "name": "stdout",
     "output_type": "stream",
     "text": [
      "0\n",
      "明天拉起来\n"
     ]
    },
    {
     "name": "stderr",
     "output_type": "stream",
     "text": [
      "Processing comments:  34%|███▍      | 85/250 [00:43<01:01,  2.68it/s]"
     ]
    },
    {
     "name": "stdout",
     "output_type": "stream",
     "text": [
      "1\n",
      "$上证指数(SH000001)$星期三就没有不亏的\n"
     ]
    },
    {
     "name": "stderr",
     "output_type": "stream",
     "text": [
      "Processing comments:  34%|███▍      | 86/250 [00:44<01:00,  2.72it/s]"
     ]
    },
    {
     "name": "stdout",
     "output_type": "stream",
     "text": [
      "-1\n",
      "挣钱犹如针挑土，亏钱犹如水推沙\n"
     ]
    },
    {
     "name": "stderr",
     "output_type": "stream",
     "text": [
      "Processing comments:  35%|███▍      | 87/250 [00:44<00:55,  2.91it/s]"
     ]
    },
    {
     "name": "stdout",
     "output_type": "stream",
     "text": [
      "0\n",
      "大盘想往上走，还得看宁王和迪王\n"
     ]
    },
    {
     "name": "stderr",
     "output_type": "stream",
     "text": [
      "Processing comments:  35%|███▌      | 88/250 [00:44<00:52,  3.07it/s]"
     ]
    },
    {
     "name": "stdout",
     "output_type": "stream",
     "text": [
      "0\n",
      "今天A股小跌了神秘之手不见了\n"
     ]
    },
    {
     "name": "stderr",
     "output_type": "stream",
     "text": [
      "Processing comments:  36%|███▌      | 89/250 [00:45<00:53,  3.00it/s]"
     ]
    },
    {
     "name": "stdout",
     "output_type": "stream",
     "text": [
      "-1\n",
      "$上证指数(SH000001)$大A，威武\n"
     ]
    },
    {
     "name": "stderr",
     "output_type": "stream",
     "text": [
      "Processing comments:  36%|███▌      | 90/250 [00:45<00:51,  3.13it/s]"
     ]
    },
    {
     "name": "stdout",
     "output_type": "stream",
     "text": [
      "1\n",
      "$上证指数(SH000001)$用平板复盘看图形比较好看\n"
     ]
    },
    {
     "name": "stderr",
     "output_type": "stream",
     "text": [
      "Processing comments:  36%|███▋      | 91/250 [00:45<00:55,  2.86it/s]"
     ]
    },
    {
     "name": "stdout",
     "output_type": "stream",
     "text": [
      "0\n",
      "三千点成.天花吊顶\n"
     ]
    },
    {
     "name": "stderr",
     "output_type": "stream",
     "text": [
      "Processing comments:  37%|███▋      | 92/250 [00:46<00:57,  2.75it/s]"
     ]
    },
    {
     "name": "stdout",
     "output_type": "stream",
     "text": [
      "1\n",
      "感觉要复制昨晚美股走势，下午翻红[俏皮]\n"
     ]
    },
    {
     "name": "stderr",
     "output_type": "stream",
     "text": [
      "Processing comments:  37%|███▋      | 93/250 [00:46<00:53,  2.94it/s]"
     ]
    },
    {
     "name": "stdout",
     "output_type": "stream",
     "text": [
      "1\n",
      "2800点\n"
     ]
    },
    {
     "name": "stderr",
     "output_type": "stream",
     "text": [
      "Processing comments:  38%|███▊      | 94/250 [00:46<00:53,  2.90it/s]"
     ]
    },
    {
     "name": "stdout",
     "output_type": "stream",
     "text": [
      "0\n",
      "又创新高了，颠倒着看\n"
     ]
    },
    {
     "name": "stderr",
     "output_type": "stream",
     "text": [
      "Processing comments:  38%|███▊      | 95/250 [00:47<00:58,  2.63it/s]"
     ]
    },
    {
     "name": "stdout",
     "output_type": "stream",
     "text": [
      "1\n",
      "十一月10%应有11000\n"
     ]
    },
    {
     "name": "stderr",
     "output_type": "stream",
     "text": [
      "Processing comments:  38%|███▊      | 96/250 [00:47<00:54,  2.85it/s]"
     ]
    },
    {
     "name": "stdout",
     "output_type": "stream",
     "text": [
      "0\n",
      "买了个抗菌饭碗、一双筷子、一个水杯…．．[笑哭]\n"
     ]
    },
    {
     "name": "stderr",
     "output_type": "stream",
     "text": [
      "Processing comments:  39%|███▉      | 97/250 [00:47<00:50,  3.00it/s]"
     ]
    },
    {
     "name": "stdout",
     "output_type": "stream",
     "text": [
      "0\n",
      "A股开门红，个股冲高落散户又上当，账户不见红\n"
     ]
    },
    {
     "name": "stderr",
     "output_type": "stream",
     "text": [
      "Processing comments:  39%|███▉      | 98/250 [00:48<00:51,  2.95it/s]"
     ]
    },
    {
     "name": "stdout",
     "output_type": "stream",
     "text": [
      "-1\n",
      "证券明明是利好反而大跌，况且证券也没涨，跌了两年多了\n"
     ]
    },
    {
     "name": "stderr",
     "output_type": "stream",
     "text": [
      "Processing comments:  40%|███▉      | 99/250 [00:48<00:51,  2.91it/s]"
     ]
    },
    {
     "name": "stdout",
     "output_type": "stream",
     "text": [
      "-1\n",
      "戏水\n"
     ]
    },
    {
     "name": "stderr",
     "output_type": "stream",
     "text": [
      "Processing comments:  40%|████      | 100/250 [00:48<00:48,  3.09it/s]"
     ]
    },
    {
     "name": "stdout",
     "output_type": "stream",
     "text": [
      "0\n",
      "#失守3000点，A股何去何从？#割肉了\n"
     ]
    },
    {
     "name": "stderr",
     "output_type": "stream",
     "text": [
      "Processing comments:  40%|████      | 101/250 [00:49<00:49,  3.00it/s]"
     ]
    },
    {
     "name": "stdout",
     "output_type": "stream",
     "text": [
      "-1\n",
      "我没割反加仓了\n"
     ]
    },
    {
     "name": "stderr",
     "output_type": "stream",
     "text": [
      "Processing comments:  41%|████      | 102/250 [00:49<00:52,  2.83it/s]"
     ]
    },
    {
     "name": "stdout",
     "output_type": "stream",
     "text": [
      "1\n",
      "这就尴尬了，17%的收益率，\n"
     ]
    },
    {
     "name": "stderr",
     "output_type": "stream",
     "text": [
      "Processing comments:  41%|████      | 103/250 [00:49<00:48,  3.01it/s]"
     ]
    },
    {
     "name": "stdout",
     "output_type": "stream",
     "text": [
      "0\n",
      "还是得看中字头企业呀\n"
     ]
    },
    {
     "name": "stderr",
     "output_type": "stream",
     "text": [
      "Processing comments:  42%|████▏     | 104/250 [00:50<00:52,  2.79it/s]"
     ]
    },
    {
     "name": "stdout",
     "output_type": "stream",
     "text": [
      "0\n",
      "$上证指数(SH000001)$大止不住了\n"
     ]
    },
    {
     "name": "stderr",
     "output_type": "stream",
     "text": [
      "Processing comments:  42%|████▏     | 105/250 [00:50<00:48,  2.97it/s]"
     ]
    },
    {
     "name": "stdout",
     "output_type": "stream",
     "text": [
      "1\n",
      "砖家常说一段上涨的尾声便是保险的拉升\n"
     ]
    },
    {
     "name": "stderr",
     "output_type": "stream",
     "text": [
      "Processing comments:  42%|████▏     | 106/250 [00:50<00:46,  3.10it/s]"
     ]
    },
    {
     "name": "stdout",
     "output_type": "stream",
     "text": [
      "0\n",
      "节前效应调整不可避免，限电头条下，当前最热最强当属新能源（光伏，风能，核能），加\n"
     ]
    },
    {
     "name": "stderr",
     "output_type": "stream",
     "text": [
      "Processing comments:  43%|████▎     | 107/250 [00:51<00:50,  2.82it/s]"
     ]
    },
    {
     "name": "stdout",
     "output_type": "stream",
     "text": [
      "0\n",
      "每天主要靠茅台宁德时代来维系指数。\n"
     ]
    },
    {
     "name": "stderr",
     "output_type": "stream",
     "text": [
      "Processing comments:  43%|████▎     | 108/250 [00:51<00:47,  2.99it/s]"
     ]
    },
    {
     "name": "stdout",
     "output_type": "stream",
     "text": [
      "0\n",
      "光伏和稀土怎么回事？\n"
     ]
    },
    {
     "name": "stderr",
     "output_type": "stream",
     "text": [
      "Processing comments:  44%|████▎     | 109/250 [00:51<00:48,  2.93it/s]"
     ]
    },
    {
     "name": "stdout",
     "output_type": "stream",
     "text": [
      "0\n",
      "今天早盘追进去的人多吧。庄家乘机交换筹码。午盘大回落，再套一大片\n"
     ]
    },
    {
     "name": "stderr",
     "output_type": "stream",
     "text": [
      "Processing comments:  44%|████▍     | 110/250 [00:52<00:48,  2.89it/s]"
     ]
    },
    {
     "name": "stdout",
     "output_type": "stream",
     "text": [
      "-1\n",
      "量化机器功劳大\n"
     ]
    },
    {
     "name": "stderr",
     "output_type": "stream",
     "text": [
      "Processing comments:  44%|████▍     | 111/250 [00:52<00:47,  2.91it/s]"
     ]
    },
    {
     "name": "stdout",
     "output_type": "stream",
     "text": [
      "0\n",
      "$上证指数(SH000001)$真的恶心北向这条狗\n"
     ]
    },
    {
     "name": "stderr",
     "output_type": "stream",
     "text": [
      "Processing comments:  45%|████▍     | 112/250 [00:52<00:47,  2.89it/s]"
     ]
    },
    {
     "name": "stdout",
     "output_type": "stream",
     "text": [
      "-1\n",
      "$上证指数(SH000001)$护盘的都没有了。北向怎么停了。百分之九十九的票在\n"
     ]
    },
    {
     "name": "stderr",
     "output_type": "stream",
     "text": [
      "Processing comments:  45%|████▌     | 113/250 [00:53<00:47,  2.87it/s]"
     ]
    },
    {
     "name": "stdout",
     "output_type": "stream",
     "text": [
      "-1\n",
      "支持3个月走500点，符合所有人利益，11月是黄金岁月，一定要敢于自信.\n"
     ]
    },
    {
     "name": "stderr",
     "output_type": "stream",
     "text": [
      "Processing comments:  46%|████▌     | 114/250 [00:53<00:45,  3.02it/s]"
     ]
    },
    {
     "name": "stdout",
     "output_type": "stream",
     "text": [
      "1\n",
      "冲冲冲\n"
     ]
    },
    {
     "name": "stderr",
     "output_type": "stream",
     "text": [
      "Processing comments:  46%|████▌     | 115/250 [00:53<00:43,  3.10it/s]"
     ]
    },
    {
     "name": "stdout",
     "output_type": "stream",
     "text": [
      "1\n",
      "$上证指数(SH000001)$今天是千年一遇的九2日！2022年2月22日正月\n"
     ]
    },
    {
     "name": "stderr",
     "output_type": "stream",
     "text": [
      "Processing comments:  46%|████▋     | 116/250 [00:54<00:47,  2.82it/s]"
     ]
    },
    {
     "name": "stdout",
     "output_type": "stream",
     "text": [
      "0\n",
      "今天破2900\n"
     ]
    },
    {
     "name": "stderr",
     "output_type": "stream",
     "text": [
      "Processing comments:  47%|████▋     | 117/250 [00:54<00:51,  2.58it/s]"
     ]
    },
    {
     "name": "stdout",
     "output_type": "stream",
     "text": [
      "-1\n",
      "$上证指数(SH000001)$收盘必破3400\n"
     ]
    },
    {
     "name": "stderr",
     "output_type": "stream",
     "text": [
      "Processing comments:  47%|████▋     | 118/250 [00:55<00:49,  2.65it/s]"
     ]
    },
    {
     "name": "stdout",
     "output_type": "stream",
     "text": [
      "-1\n",
      "大盘和它同样走\n"
     ]
    },
    {
     "name": "stderr",
     "output_type": "stream",
     "text": [
      "Processing comments:  48%|████▊     | 119/250 [00:55<00:49,  2.66it/s]"
     ]
    },
    {
     "name": "stdout",
     "output_type": "stream",
     "text": [
      "0\n",
      "昨晚我算了一挂，大跌开始要2900止损。\n"
     ]
    },
    {
     "name": "stderr",
     "output_type": "stream",
     "text": [
      "Processing comments:  48%|████▊     | 120/250 [00:55<00:47,  2.72it/s]"
     ]
    },
    {
     "name": "stdout",
     "output_type": "stream",
     "text": [
      "-1\n",
      "北交所一个板是30%，创业板科创板一个板是20%；说不动有一天，市场没有涨停板了\n"
     ]
    },
    {
     "name": "stderr",
     "output_type": "stream",
     "text": [
      "Processing comments:  48%|████▊     | 121/250 [00:56<00:49,  2.59it/s]"
     ]
    },
    {
     "name": "stdout",
     "output_type": "stream",
     "text": [
      "0\n",
      "北向尾盘持续抄底，确实鸡贼，周一铁定高开了，估计一波涨停潮\n"
     ]
    },
    {
     "name": "stderr",
     "output_type": "stream",
     "text": [
      "Processing comments:  49%|████▉     | 122/250 [00:56<00:45,  2.80it/s]"
     ]
    },
    {
     "name": "stdout",
     "output_type": "stream",
     "text": [
      "1\n",
      "站稳年线[惊讶]\n"
     ]
    },
    {
     "name": "stderr",
     "output_type": "stream",
     "text": [
      "Processing comments:  49%|████▉     | 123/250 [00:56<00:46,  2.76it/s]"
     ]
    },
    {
     "name": "stdout",
     "output_type": "stream",
     "text": [
      "1\n",
      "很久必跌，看来缺口肯定是要补回的\n"
     ]
    },
    {
     "name": "stderr",
     "output_type": "stream",
     "text": [
      "Processing comments:  50%|████▉     | 124/250 [00:57<00:45,  2.79it/s]"
     ]
    },
    {
     "name": "stdout",
     "output_type": "stream",
     "text": [
      "-1\n",
      "$上证指数(SH000001)$成交9600亿元左右\n"
     ]
    },
    {
     "name": "stderr",
     "output_type": "stream",
     "text": [
      "Processing comments:  50%|█████     | 125/250 [00:57<00:42,  2.96it/s]"
     ]
    },
    {
     "name": "stdout",
     "output_type": "stream",
     "text": [
      "0\n",
      "假，指数不跌个股惨跌\n"
     ]
    },
    {
     "name": "stderr",
     "output_type": "stream",
     "text": [
      "Processing comments:  50%|█████     | 126/250 [00:58<00:48,  2.56it/s]"
     ]
    },
    {
     "name": "stdout",
     "output_type": "stream",
     "text": [
      "-1\n",
      "$上证指数(SH000001)$辽港股份\n"
     ]
    },
    {
     "name": "stderr",
     "output_type": "stream",
     "text": [
      "Processing comments:  51%|█████     | 127/250 [00:58<00:44,  2.78it/s]"
     ]
    },
    {
     "name": "stdout",
     "output_type": "stream",
     "text": [
      "0\n",
      "赶紧破了\n"
     ]
    },
    {
     "name": "stderr",
     "output_type": "stream",
     "text": [
      "Processing comments:  51%|█████     | 128/250 [00:58<00:45,  2.71it/s]"
     ]
    },
    {
     "name": "stdout",
     "output_type": "stream",
     "text": [
      "-1\n",
      "上午中阳线是诱多！\n"
     ]
    },
    {
     "name": "stderr",
     "output_type": "stream",
     "text": [
      "Processing comments:  52%|█████▏    | 129/250 [00:59<00:48,  2.47it/s]"
     ]
    },
    {
     "name": "stdout",
     "output_type": "stream",
     "text": [
      "-1\n",
      "周一低开低走，同意的点赞，不同意的评论区见！\n"
     ]
    },
    {
     "name": "stderr",
     "output_type": "stream",
     "text": [
      "Processing comments:  52%|█████▏    | 130/250 [00:59<00:46,  2.57it/s]"
     ]
    },
    {
     "name": "stdout",
     "output_type": "stream",
     "text": [
      "-1\n",
      "$上证指数(SH000001)$券商不动，不可能上涨\n"
     ]
    },
    {
     "name": "stderr",
     "output_type": "stream",
     "text": [
      "Processing comments:  52%|█████▏    | 131/250 [01:00<00:44,  2.65it/s]"
     ]
    },
    {
     "name": "stdout",
     "output_type": "stream",
     "text": [
      "-1\n",
      "利好跌停[微笑]\n"
     ]
    },
    {
     "name": "stderr",
     "output_type": "stream",
     "text": [
      "Processing comments:  53%|█████▎    | 132/250 [01:00<00:46,  2.53it/s]"
     ]
    },
    {
     "name": "stdout",
     "output_type": "stream",
     "text": [
      "-1\n",
      "做st吧\n"
     ]
    },
    {
     "name": "stderr",
     "output_type": "stream",
     "text": [
      "Processing comments:  53%|█████▎    | 133/250 [01:00<00:45,  2.58it/s]"
     ]
    },
    {
     "name": "stdout",
     "output_type": "stream",
     "text": [
      "-1\n",
      "下午可能反抽3100，跳水\n"
     ]
    },
    {
     "name": "stderr",
     "output_type": "stream",
     "text": [
      "Processing comments:  54%|█████▎    | 134/250 [01:01<00:43,  2.66it/s]"
     ]
    },
    {
     "name": "stdout",
     "output_type": "stream",
     "text": [
      "-1\n",
      "砸继续加油奥利给。\n"
     ]
    },
    {
     "name": "stderr",
     "output_type": "stream",
     "text": [
      "Processing comments:  54%|█████▍    | 135/250 [01:01<00:44,  2.61it/s]"
     ]
    },
    {
     "name": "stdout",
     "output_type": "stream",
     "text": [
      "0\n",
      "$上证指数(SH000001)$今天大盘已下跌为主。\n"
     ]
    },
    {
     "name": "stderr",
     "output_type": "stream",
     "text": [
      "Processing comments:  54%|█████▍    | 136/250 [01:01<00:42,  2.67it/s]"
     ]
    },
    {
     "name": "stdout",
     "output_type": "stream",
     "text": [
      "-1\n",
      "行情难以确立。已无方向感。\n"
     ]
    },
    {
     "name": "stderr",
     "output_type": "stream",
     "text": [
      "Processing comments:  55%|█████▍    | 137/250 [01:02<00:39,  2.88it/s]"
     ]
    },
    {
     "name": "stdout",
     "output_type": "stream",
     "text": [
      "0\n",
      "沪指连涨6天后收2小阴，北向继续进场，节前扫货不停手，场内机构依然稳定且惜售，而\n"
     ]
    },
    {
     "name": "stderr",
     "output_type": "stream",
     "text": [
      "Processing comments:  55%|█████▌    | 138/250 [01:02<00:41,  2.69it/s]"
     ]
    },
    {
     "name": "stdout",
     "output_type": "stream",
     "text": [
      "0\n",
      "国常会出台支持平台经济规范健康发展的具体措施，发挥好平台经济创造就业、促进消费作\n"
     ]
    },
    {
     "name": "stderr",
     "output_type": "stream",
     "text": [
      "Processing comments:  56%|█████▌    | 139/250 [01:02<00:38,  2.87it/s]"
     ]
    },
    {
     "name": "stdout",
     "output_type": "stream",
     "text": [
      "1\n",
      "叼毛内资就知道跑\n"
     ]
    },
    {
     "name": "stderr",
     "output_type": "stream",
     "text": [
      "Processing comments:  56%|█████▌    | 140/250 [01:03<00:41,  2.67it/s]"
     ]
    },
    {
     "name": "stdout",
     "output_type": "stream",
     "text": [
      "-1\n",
      "拉权重强撑着指数其余个股大家心里都有数\n"
     ]
    },
    {
     "name": "stderr",
     "output_type": "stream",
     "text": [
      "Processing comments:  56%|█████▋    | 141/250 [01:03<00:37,  2.87it/s]"
     ]
    },
    {
     "name": "stdout",
     "output_type": "stream",
     "text": [
      "0\n",
      "三个跌停起步\n"
     ]
    },
    {
     "name": "stderr",
     "output_type": "stream",
     "text": [
      "Processing comments:  57%|█████▋    | 142/250 [01:04<00:39,  2.77it/s]"
     ]
    },
    {
     "name": "stdout",
     "output_type": "stream",
     "text": [
      "-1\n",
      "指数两年才涨十个点，大资金去掉融资成本才两三个点利润率。一千万赚二三十万。弄个几\n"
     ]
    },
    {
     "name": "stderr",
     "output_type": "stream",
     "text": [
      "Processing comments:  57%|█████▋    | 143/250 [01:04<00:40,  2.62it/s]"
     ]
    },
    {
     "name": "stdout",
     "output_type": "stream",
     "text": [
      "0\n",
      "明年的今天，上证必到4500，耶稣也拦不住，立贴为证[加油][加油][加油]\n"
     ]
    },
    {
     "name": "stderr",
     "output_type": "stream",
     "text": [
      "Processing comments:  58%|█████▊    | 144/250 [01:04<00:41,  2.53it/s]"
     ]
    },
    {
     "name": "stdout",
     "output_type": "stream",
     "text": [
      "1\n",
      "最强大风口锂矿，锂矿，锂矿\n"
     ]
    },
    {
     "name": "stderr",
     "output_type": "stream",
     "text": [
      "Processing comments:  58%|█████▊    | 145/250 [01:05<00:38,  2.76it/s]"
     ]
    },
    {
     "name": "stdout",
     "output_type": "stream",
     "text": [
      "1\n",
      "转多思维\n"
     ]
    },
    {
     "name": "stderr",
     "output_type": "stream",
     "text": [
      "Processing comments:  58%|█████▊    | 146/250 [01:05<00:35,  2.90it/s]"
     ]
    },
    {
     "name": "stdout",
     "output_type": "stream",
     "text": [
      "1\n",
      "内资不是蠢就是坏\n"
     ]
    },
    {
     "name": "stderr",
     "output_type": "stream",
     "text": [
      "Processing comments:  59%|█████▉    | 147/250 [01:05<00:38,  2.68it/s]"
     ]
    },
    {
     "name": "stdout",
     "output_type": "stream",
     "text": [
      "-1\n",
      "下周不亏钱了。\n"
     ]
    },
    {
     "name": "stderr",
     "output_type": "stream",
     "text": [
      "Processing comments:  59%|█████▉    | 148/250 [01:06<00:37,  2.69it/s]"
     ]
    },
    {
     "name": "stdout",
     "output_type": "stream",
     "text": [
      "0\n",
      "$上证指数(SH000001)$下半年可不可以开启狂干模式，因为我们的目标是星辰\n"
     ]
    },
    {
     "name": "stderr",
     "output_type": "stream",
     "text": [
      "Processing comments:  60%|█████▉    | 149/250 [01:06<00:35,  2.88it/s]"
     ]
    },
    {
     "name": "stdout",
     "output_type": "stream",
     "text": [
      "1\n",
      "一句七字沪波段……\n"
     ]
    },
    {
     "name": "stderr",
     "output_type": "stream",
     "text": [
      "Processing comments:  60%|██████    | 150/250 [01:07<00:36,  2.70it/s]"
     ]
    },
    {
     "name": "stdout",
     "output_type": "stream",
     "text": [
      "0\n",
      "也不准备撤退了，就想看看你能跌到哪儿\n"
     ]
    },
    {
     "name": "stderr",
     "output_type": "stream",
     "text": [
      "Processing comments:  60%|██████    | 151/250 [01:07<00:35,  2.75it/s]"
     ]
    },
    {
     "name": "stdout",
     "output_type": "stream",
     "text": [
      "-1\n",
      "人民有信仰，国家有力量\n"
     ]
    },
    {
     "name": "stderr",
     "output_type": "stream",
     "text": [
      "Processing comments:  61%|██████    | 152/250 [01:07<00:36,  2.67it/s]"
     ]
    },
    {
     "name": "stdout",
     "output_type": "stream",
     "text": [
      "0\n",
      "指数又回到3200本金又新低。\n"
     ]
    },
    {
     "name": "stderr",
     "output_type": "stream",
     "text": [
      "Processing comments:  61%|██████    | 153/250 [01:08<00:35,  2.73it/s]"
     ]
    },
    {
     "name": "stdout",
     "output_type": "stream",
     "text": [
      "-1\n",
      "$上证指数(SH000001)$都在大涨，暴涨为什么拉都拉大上去，什么问事\n"
     ]
    },
    {
     "name": "stderr",
     "output_type": "stream",
     "text": [
      "Processing comments:  62%|██████▏   | 154/250 [01:08<00:36,  2.60it/s]"
     ]
    },
    {
     "name": "stdout",
     "output_type": "stream",
     "text": [
      "1\n",
      "$上证指数(SH000001)$只要有任何一家机构唱多一只股票时，建议散户朋友们\n"
     ]
    },
    {
     "name": "stderr",
     "output_type": "stream",
     "text": [
      "Processing comments:  62%|██████▏   | 155/250 [01:08<00:33,  2.81it/s]"
     ]
    },
    {
     "name": "stdout",
     "output_type": "stream",
     "text": [
      "0\n",
      "$上证指数(SH000001)$我看你跌到那里去，反正我躺倒装死算了，资金再缩水\n"
     ]
    },
    {
     "name": "stderr",
     "output_type": "stream",
     "text": [
      "Processing comments:  62%|██████▏   | 156/250 [01:09<00:33,  2.81it/s]"
     ]
    },
    {
     "name": "stdout",
     "output_type": "stream",
     "text": [
      "-1\n",
      "连续两天缩量阳线+钢铁股拉指数,大家要小心了\n"
     ]
    },
    {
     "name": "stderr",
     "output_type": "stream",
     "text": [
      "Processing comments:  63%|██████▎   | 157/250 [01:09<00:32,  2.82it/s]"
     ]
    },
    {
     "name": "stdout",
     "output_type": "stream",
     "text": [
      "-1\n",
      "7.81卖了，闹心！\n"
     ]
    },
    {
     "name": "stderr",
     "output_type": "stream",
     "text": [
      "Processing comments:  63%|██████▎   | 158/250 [01:09<00:32,  2.83it/s]"
     ]
    },
    {
     "name": "stdout",
     "output_type": "stream",
     "text": [
      "-1\n",
      "继续拉茅台啊[大笑][大笑][大笑]\n"
     ]
    },
    {
     "name": "stderr",
     "output_type": "stream",
     "text": [
      "Processing comments:  64%|██████▎   | 159/250 [01:10<00:30,  3.00it/s]"
     ]
    },
    {
     "name": "stdout",
     "output_type": "stream",
     "text": [
      "1\n",
      "大盘一直在跌几个月了，我的002719.和600784一直不跌不涨\n"
     ]
    },
    {
     "name": "stderr",
     "output_type": "stream",
     "text": [
      "Processing comments:  64%|██████▍   | 160/250 [01:10<00:28,  3.13it/s]"
     ]
    },
    {
     "name": "stdout",
     "output_type": "stream",
     "text": [
      "0\n",
      "做个好人长线持有，低价优质股的小散真难！而且难上加难！亏钱分分钟的事，赚点钱比上\n"
     ]
    },
    {
     "name": "stderr",
     "output_type": "stream",
     "text": [
      "Processing comments:  64%|██████▍   | 161/250 [01:10<00:31,  2.84it/s]"
     ]
    },
    {
     "name": "stdout",
     "output_type": "stream",
     "text": [
      "0\n",
      "我大A也进入技术性牛市了！\n"
     ]
    },
    {
     "name": "stderr",
     "output_type": "stream",
     "text": [
      "Processing comments:  65%|██████▍   | 162/250 [01:11<00:29,  3.01it/s]"
     ]
    },
    {
     "name": "stdout",
     "output_type": "stream",
     "text": [
      "1\n",
      "为什么我的还是绿的\n"
     ]
    },
    {
     "name": "stderr",
     "output_type": "stream",
     "text": [
      "Processing comments:  65%|██████▌   | 163/250 [01:11<00:29,  2.97it/s]"
     ]
    },
    {
     "name": "stdout",
     "output_type": "stream",
     "text": [
      "0\n",
      "今天砸盘子，明天北后操底\n"
     ]
    },
    {
     "name": "stderr",
     "output_type": "stream",
     "text": [
      "Processing comments:  66%|██████▌   | 164/250 [01:11<00:29,  2.94it/s]"
     ]
    },
    {
     "name": "stdout",
     "output_type": "stream",
     "text": [
      "-1\n",
      "跌这么点已经很给力了\n"
     ]
    },
    {
     "name": "stderr",
     "output_type": "stream",
     "text": [
      "Processing comments:  66%|██████▌   | 165/250 [01:12<00:31,  2.66it/s]"
     ]
    },
    {
     "name": "stdout",
     "output_type": "stream",
     "text": [
      "-1\n",
      "买股票就是大鱼吃小鱼，大主力吃小主力，小主力吃邮资吃散户\n"
     ]
    },
    {
     "name": "stderr",
     "output_type": "stream",
     "text": [
      "Processing comments:  66%|██████▋   | 166/250 [01:12<00:31,  2.71it/s]"
     ]
    },
    {
     "name": "stdout",
     "output_type": "stream",
     "text": [
      "-1\n",
      "骗你新高的模样\n"
     ]
    },
    {
     "name": "stderr",
     "output_type": "stream",
     "text": [
      "Processing comments:  67%|██████▋   | 167/250 [01:13<00:31,  2.61it/s]"
     ]
    },
    {
     "name": "stdout",
     "output_type": "stream",
     "text": [
      "-1\n",
      "下跌不言底，至少还得下个台阶，金针探底[韭菜][韭菜]\n"
     ]
    },
    {
     "name": "stderr",
     "output_type": "stream",
     "text": [
      "Processing comments:  67%|██████▋   | 168/250 [01:13<00:30,  2.67it/s]"
     ]
    },
    {
     "name": "stdout",
     "output_type": "stream",
     "text": [
      "-1\n",
      "今年玩跑的快，别往年还早！\n"
     ]
    },
    {
     "name": "stderr",
     "output_type": "stream",
     "text": [
      "Processing comments:  68%|██████▊   | 169/250 [01:13<00:28,  2.88it/s]"
     ]
    },
    {
     "name": "stdout",
     "output_type": "stream",
     "text": [
      "0\n",
      "指数上去了，但赚钱效应不大，难搞，5千多只票，一天不到一万亿，指数一跌全部哗啦啦\n"
     ]
    },
    {
     "name": "stderr",
     "output_type": "stream",
     "text": [
      "Processing comments:  68%|██████▊   | 170/250 [01:14<00:31,  2.55it/s]"
     ]
    },
    {
     "name": "stdout",
     "output_type": "stream",
     "text": [
      "-1\n",
      "如果能跌破3千，就是绝佳的最后的上车机会！！\n"
     ]
    },
    {
     "name": "stderr",
     "output_type": "stream",
     "text": [
      "Processing comments:  68%|██████▊   | 171/250 [01:14<00:29,  2.63it/s]"
     ]
    },
    {
     "name": "stdout",
     "output_type": "stream",
     "text": [
      "-1\n",
      "远离股市\n"
     ]
    },
    {
     "name": "stderr",
     "output_type": "stream",
     "text": [
      "Processing comments:  69%|██████▉   | 172/250 [01:14<00:27,  2.86it/s]"
     ]
    },
    {
     "name": "stdout",
     "output_type": "stream",
     "text": [
      "0\n",
      "我买[偷笑]\n"
     ]
    },
    {
     "name": "stderr",
     "output_type": "stream",
     "text": [
      "Processing comments:  69%|██████▉   | 173/250 [01:15<00:27,  2.84it/s]"
     ]
    },
    {
     "name": "stdout",
     "output_type": "stream",
     "text": [
      "1\n",
      "$上证指数(SH000001)$国资委：兵器造核酸检测车下线，每日可完成2880\n"
     ]
    },
    {
     "name": "stderr",
     "output_type": "stream",
     "text": [
      "Processing comments:  70%|██████▉   | 174/250 [01:15<00:28,  2.67it/s]"
     ]
    },
    {
     "name": "stdout",
     "output_type": "stream",
     "text": [
      "0\n",
      "别演了，低开低走\n"
     ]
    },
    {
     "name": "stderr",
     "output_type": "stream",
     "text": [
      "Processing comments:  70%|███████   | 175/250 [01:16<00:31,  2.41it/s]"
     ]
    },
    {
     "name": "stdout",
     "output_type": "stream",
     "text": [
      "-1\n",
      "天天多选一，从9月中开始，基本没有好过\n"
     ]
    },
    {
     "name": "stderr",
     "output_type": "stream",
     "text": [
      "Processing comments:  70%|███████   | 176/250 [01:16<00:29,  2.53it/s]"
     ]
    },
    {
     "name": "stdout",
     "output_type": "stream",
     "text": [
      "-1\n",
      "又是亏本的一天。。。。。无语掉了。。。。彻底。。。。\n"
     ]
    },
    {
     "name": "stderr",
     "output_type": "stream",
     "text": [
      "Processing comments:  71%|███████   | 177/250 [01:16<00:27,  2.61it/s]"
     ]
    },
    {
     "name": "stdout",
     "output_type": "stream",
     "text": [
      "-1\n",
      "2点半开始跳水\n"
     ]
    },
    {
     "name": "stderr",
     "output_type": "stream",
     "text": [
      "Processing comments:  71%|███████   | 178/250 [01:17<00:28,  2.55it/s]"
     ]
    },
    {
     "name": "stdout",
     "output_type": "stream",
     "text": [
      "-1\n",
      "这大盘涨的心慌，各股不怎么涨，只要轻轻一下调各股就欧型，大A开始玩不正常的了，进\n"
     ]
    },
    {
     "name": "stderr",
     "output_type": "stream",
     "text": [
      "Processing comments:  72%|███████▏  | 179/250 [01:17<00:30,  2.37it/s]"
     ]
    },
    {
     "name": "stdout",
     "output_type": "stream",
     "text": [
      "-1\n",
      "明天3228开盘\n"
     ]
    },
    {
     "name": "stderr",
     "output_type": "stream",
     "text": [
      "Processing comments:  72%|███████▏  | 180/250 [01:18<00:28,  2.45it/s]"
     ]
    },
    {
     "name": "stdout",
     "output_type": "stream",
     "text": [
      "0\n",
      "今晚人家又要大涨了，你懂的！\n"
     ]
    },
    {
     "name": "stderr",
     "output_type": "stream",
     "text": [
      "Processing comments:  72%|███████▏  | 181/250 [01:18<00:25,  2.70it/s]"
     ]
    },
    {
     "name": "stdout",
     "output_type": "stream",
     "text": [
      "1\n",
      "云汉芯城上市IPO受理\n"
     ]
    },
    {
     "name": "stderr",
     "output_type": "stream",
     "text": [
      "Processing comments:  73%|███████▎  | 182/250 [01:18<00:26,  2.58it/s]"
     ]
    },
    {
     "name": "stdout",
     "output_type": "stream",
     "text": [
      "0\n",
      "北向两点半以后扫货?\n"
     ]
    },
    {
     "name": "stderr",
     "output_type": "stream",
     "text": [
      "Processing comments:  73%|███████▎  | 183/250 [01:19<00:26,  2.55it/s]"
     ]
    },
    {
     "name": "stdout",
     "output_type": "stream",
     "text": [
      "0\n",
      "主力筹码＜0.6，还不走？\n"
     ]
    },
    {
     "name": "stderr",
     "output_type": "stream",
     "text": [
      "Processing comments:  74%|███████▎  | 184/250 [01:19<00:25,  2.63it/s]"
     ]
    },
    {
     "name": "stdout",
     "output_type": "stream",
     "text": [
      "-1\n",
      "$上证指数(SH000001)$今年复制08年，18年走势啰，现在才是恐慌的开始\n"
     ]
    },
    {
     "name": "stderr",
     "output_type": "stream",
     "text": [
      "Processing comments:  74%|███████▍  | 185/250 [01:20<00:26,  2.42it/s]"
     ]
    },
    {
     "name": "stdout",
     "output_type": "stream",
     "text": [
      "-1\n",
      "周线跌破长期均线已成定居\n"
     ]
    },
    {
     "name": "stderr",
     "output_type": "stream",
     "text": [
      "Processing comments:  74%|███████▍  | 186/250 [01:20<00:28,  2.26it/s]"
     ]
    },
    {
     "name": "stdout",
     "output_type": "stream",
     "text": [
      "-1\n",
      "求跌\n"
     ]
    },
    {
     "name": "stderr",
     "output_type": "stream",
     "text": [
      "Processing comments:  75%|███████▍  | 187/250 [01:20<00:25,  2.43it/s]"
     ]
    },
    {
     "name": "stdout",
     "output_type": "stream",
     "text": [
      "-1\n",
      "干啥\n"
     ]
    },
    {
     "name": "stderr",
     "output_type": "stream",
     "text": [
      "Processing comments:  75%|███████▌  | 188/250 [01:21<00:23,  2.68it/s]"
     ]
    },
    {
     "name": "stdout",
     "output_type": "stream",
     "text": [
      "0\n",
      "还没开始就已经结束了\n"
     ]
    },
    {
     "name": "stderr",
     "output_type": "stream",
     "text": [
      "Processing comments:  76%|███████▌  | 189/250 [01:21<00:21,  2.78it/s]"
     ]
    },
    {
     "name": "stdout",
     "output_type": "stream",
     "text": [
      "0\n",
      "今天还不抬轿吗[坏笑]\n"
     ]
    },
    {
     "name": "stderr",
     "output_type": "stream",
     "text": [
      "Processing comments:  76%|███████▌  | 190/250 [01:22<00:23,  2.52it/s]"
     ]
    },
    {
     "name": "stdout",
     "output_type": "stream",
     "text": [
      "-1\n",
      "各位股神预测一下点数[微笑]\n"
     ]
    },
    {
     "name": "stderr",
     "output_type": "stream",
     "text": [
      "Processing comments:  76%|███████▋  | 191/250 [01:22<00:24,  2.44it/s]"
     ]
    },
    {
     "name": "stdout",
     "output_type": "stream",
     "text": [
      "0\n",
      "千股跌停跌停\n"
     ]
    },
    {
     "name": "stderr",
     "output_type": "stream",
     "text": [
      "Processing comments:  77%|███████▋  | 192/250 [01:22<00:24,  2.39it/s]"
     ]
    },
    {
     "name": "stdout",
     "output_type": "stream",
     "text": [
      "-1\n",
      "大A最大一个特点就是：无事不登三宝殿，非到走投无路不出利好，从来不会有锦上添花的\n"
     ]
    },
    {
     "name": "stderr",
     "output_type": "stream",
     "text": [
      "Processing comments:  77%|███████▋  | 193/250 [01:23<00:25,  2.27it/s]"
     ]
    },
    {
     "name": "stdout",
     "output_type": "stream",
     "text": [
      "-1\n",
      "工业母机现在变成了工业小鸡，弱弱的。\n"
     ]
    },
    {
     "name": "stderr",
     "output_type": "stream",
     "text": [
      "Processing comments:  78%|███████▊  | 194/250 [01:23<00:23,  2.41it/s]"
     ]
    },
    {
     "name": "stdout",
     "output_type": "stream",
     "text": [
      "-1\n",
      "一鲸落，万物生，怕个鸟\n"
     ]
    },
    {
     "name": "stderr",
     "output_type": "stream",
     "text": [
      "Processing comments:  78%|███████▊  | 195/250 [01:24<00:20,  2.67it/s]"
     ]
    },
    {
     "name": "stdout",
     "output_type": "stream",
     "text": [
      "0\n",
      "北向买买买，内资卖卖卖！\n"
     ]
    },
    {
     "name": "stderr",
     "output_type": "stream",
     "text": [
      "Processing comments:  78%|███████▊  | 196/250 [01:24<00:18,  2.88it/s]"
     ]
    },
    {
     "name": "stdout",
     "output_type": "stream",
     "text": [
      "0\n",
      "今天拉金融、房地产、各茅，下周大跌。鸡狗太坏了。\n"
     ]
    },
    {
     "name": "stderr",
     "output_type": "stream",
     "text": [
      "Processing comments:  79%|███████▉  | 197/250 [01:24<00:18,  2.86it/s]"
     ]
    },
    {
     "name": "stdout",
     "output_type": "stream",
     "text": [
      "-1\n",
      "这个点位很主要\n"
     ]
    },
    {
     "name": "stderr",
     "output_type": "stream",
     "text": [
      "Processing comments:  79%|███████▉  | 198/250 [01:25<00:18,  2.86it/s]"
     ]
    },
    {
     "name": "stdout",
     "output_type": "stream",
     "text": [
      "0\n",
      "上下两缺口，看你补哪个？\n"
     ]
    },
    {
     "name": "stderr",
     "output_type": "stream",
     "text": [
      "Processing comments:  80%|███████▉  | 199/250 [01:25<00:19,  2.67it/s]"
     ]
    },
    {
     "name": "stdout",
     "output_type": "stream",
     "text": [
      "0\n",
      "今天拉个指数，明天继续砸\n"
     ]
    },
    {
     "name": "stderr",
     "output_type": "stream",
     "text": [
      "Processing comments:  80%|████████  | 200/250 [01:25<00:20,  2.44it/s]"
     ]
    },
    {
     "name": "stdout",
     "output_type": "stream",
     "text": [
      "-1\n",
      "风光储凉了风光储凉了风光储凉了风光储凉了\n"
     ]
    },
    {
     "name": "stderr",
     "output_type": "stream",
     "text": [
      "Processing comments:  80%|████████  | 201/250 [01:26<00:19,  2.55it/s]"
     ]
    },
    {
     "name": "stdout",
     "output_type": "stream",
     "text": [
      "-1\n",
      "股市，真狠\n"
     ]
    },
    {
     "name": "stderr",
     "output_type": "stream",
     "text": [
      "Processing comments:  81%|████████  | 202/250 [01:26<00:18,  2.55it/s]"
     ]
    },
    {
     "name": "stdout",
     "output_type": "stream",
     "text": [
      "-1\n",
      "以太昨日跟随大饼走势，一路震荡上行，目前已冲破3400压力位，在回调后继续延续上\n"
     ]
    },
    {
     "name": "stderr",
     "output_type": "stream",
     "text": [
      "Processing comments:  81%|████████  | 203/250 [01:27<00:18,  2.48it/s]"
     ]
    },
    {
     "name": "stdout",
     "output_type": "stream",
     "text": [
      "1\n",
      "马上止跌了\n"
     ]
    },
    {
     "name": "stderr",
     "output_type": "stream",
     "text": [
      "Processing comments:  82%|████████▏ | 204/250 [01:27<00:17,  2.63it/s]"
     ]
    },
    {
     "name": "stdout",
     "output_type": "stream",
     "text": [
      "0\n",
      "你不拉，在这一横那30分钟就走完了！目前五分钟已经走完了！自求多福吧[大笑]！\n"
     ]
    },
    {
     "name": "stderr",
     "output_type": "stream",
     "text": [
      "Processing comments:  82%|████████▏ | 205/250 [01:27<00:17,  2.53it/s]"
     ]
    },
    {
     "name": "stdout",
     "output_type": "stream",
     "text": [
      "0\n",
      "$上证指数(SH000001)$今天是个抄底的好日子\n"
     ]
    },
    {
     "name": "stderr",
     "output_type": "stream",
     "text": [
      "Processing comments:  82%|████████▏ | 206/250 [01:28<00:15,  2.76it/s]"
     ]
    },
    {
     "name": "stdout",
     "output_type": "stream",
     "text": [
      "1\n",
      "今天的单针探底和8月4日单针探底尺变一模一样！\n"
     ]
    },
    {
     "name": "stderr",
     "output_type": "stream",
     "text": [
      "Processing comments:  83%|████████▎ | 207/250 [01:28<00:14,  2.94it/s]"
     ]
    },
    {
     "name": "stdout",
     "output_type": "stream",
     "text": [
      "0\n",
      "我呸，国内主力终于睡醒了，终于跟上北上的步伐净流入了！[上涨][上涨][上涨]\n"
     ]
    },
    {
     "name": "stderr",
     "output_type": "stream",
     "text": [
      "Processing comments:  83%|████████▎ | 208/250 [01:28<00:13,  3.08it/s]"
     ]
    },
    {
     "name": "stdout",
     "output_type": "stream",
     "text": [
      "1\n",
      "A股有菜有酒[大笑][大笑][大笑]\n"
     ]
    },
    {
     "name": "stderr",
     "output_type": "stream",
     "text": [
      "Processing comments:  84%|████████▎ | 209/250 [01:29<00:12,  3.19it/s]"
     ]
    },
    {
     "name": "stdout",
     "output_type": "stream",
     "text": [
      "1\n",
      "轰隆隆~，天雷滚滚，你们听见了没？\n"
     ]
    },
    {
     "name": "stderr",
     "output_type": "stream",
     "text": [
      "Processing comments:  84%|████████▍ | 210/250 [01:29<00:12,  3.28it/s]"
     ]
    },
    {
     "name": "stdout",
     "output_type": "stream",
     "text": [
      "0\n",
      "无量反弹就是老乡别走，主力耍流氓，谨慎再谨慎\n"
     ]
    },
    {
     "name": "stderr",
     "output_type": "stream",
     "text": [
      "Processing comments:  84%|████████▍ | 211/250 [01:29<00:12,  3.13it/s]"
     ]
    },
    {
     "name": "stdout",
     "output_type": "stream",
     "text": [
      "-1\n",
      "$上证指数(SH000001)$黄白线又劈腿，GRD\n"
     ]
    },
    {
     "name": "stderr",
     "output_type": "stream",
     "text": [
      "Processing comments:  85%|████████▍ | 212/250 [01:30<00:12,  3.03it/s]"
     ]
    },
    {
     "name": "stdout",
     "output_type": "stream",
     "text": [
      "-1\n",
      "本团队今天一开盘就做空期指\n"
     ]
    },
    {
     "name": "stderr",
     "output_type": "stream",
     "text": [
      "Processing comments:  85%|████████▌ | 213/250 [01:30<00:12,  2.97it/s]"
     ]
    },
    {
     "name": "stdout",
     "output_type": "stream",
     "text": [
      "-1\n",
      "又出现一个缺口了，节后怎么走啊？\n"
     ]
    },
    {
     "name": "stderr",
     "output_type": "stream",
     "text": [
      "Processing comments:  86%|████████▌ | 214/250 [01:30<00:11,  3.12it/s]"
     ]
    },
    {
     "name": "stdout",
     "output_type": "stream",
     "text": [
      "0\n",
      "数字中国龙头...中国电信\n"
     ]
    },
    {
     "name": "stderr",
     "output_type": "stream",
     "text": [
      "Processing comments:  86%|████████▌ | 215/250 [01:31<00:11,  3.02it/s]"
     ]
    },
    {
     "name": "stdout",
     "output_type": "stream",
     "text": [
      "0\n",
      "大盘涨没有赚钱，大盘跌亏更多\n"
     ]
    },
    {
     "name": "stderr",
     "output_type": "stream",
     "text": [
      "Processing comments:  86%|████████▋ | 216/250 [01:31<00:13,  2.55it/s]"
     ]
    },
    {
     "name": "stdout",
     "output_type": "stream",
     "text": [
      "-1\n",
      "$上证指数(SH000001)$\n"
     ]
    },
    {
     "name": "stderr",
     "output_type": "stream",
     "text": [
      "Processing comments:  87%|████████▋ | 217/250 [01:31<00:11,  2.78it/s]"
     ]
    },
    {
     "name": "stdout",
     "output_type": "stream",
     "text": [
      "0\n",
      "周线级别大调整已经显现出来，看周K\n"
     ]
    },
    {
     "name": "stderr",
     "output_type": "stream",
     "text": [
      "Processing comments:  87%|████████▋ | 218/250 [01:32<00:11,  2.80it/s]"
     ]
    },
    {
     "name": "stdout",
     "output_type": "stream",
     "text": [
      "-1\n",
      "$上证指数(SH000001)$315玩命的下跌！今天算打一巴掌给个糖豆吃了\n"
     ]
    },
    {
     "name": "stderr",
     "output_type": "stream",
     "text": [
      "Processing comments:  88%|████████▊ | 219/250 [01:32<00:12,  2.51it/s]"
     ]
    },
    {
     "name": "stdout",
     "output_type": "stream",
     "text": [
      "-1\n",
      "呵呵呵\n"
     ]
    },
    {
     "name": "stderr",
     "output_type": "stream",
     "text": [
      "Processing comments:  88%|████████▊ | 220/250 [01:32<00:11,  2.71it/s]"
     ]
    },
    {
     "name": "stdout",
     "output_type": "stream",
     "text": [
      "0\n",
      "这谁是真牛，把大盘的缺口刚好补了就上去，这比操纵个股还准\n"
     ]
    },
    {
     "name": "stderr",
     "output_type": "stream",
     "text": [
      "Processing comments:  88%|████████▊ | 221/250 [01:33<00:10,  2.89it/s]"
     ]
    },
    {
     "name": "stdout",
     "output_type": "stream",
     "text": [
      "1\n",
      "下跌十字星，拉券商拉权重还是救不回指数，那么月底之前盘整之后必有大跌\n"
     ]
    },
    {
     "name": "stderr",
     "output_type": "stream",
     "text": [
      "Processing comments:  89%|████████▉ | 222/250 [01:33<00:09,  2.87it/s]"
     ]
    },
    {
     "name": "stdout",
     "output_type": "stream",
     "text": [
      "-1\n",
      "我们走的是最弱的\n"
     ]
    },
    {
     "name": "stderr",
     "output_type": "stream",
     "text": [
      "Processing comments:  89%|████████▉ | 223/250 [01:34<00:10,  2.66it/s]"
     ]
    },
    {
     "name": "stdout",
     "output_type": "stream",
     "text": [
      "-1\n",
      "该下跌了\n"
     ]
    },
    {
     "name": "stderr",
     "output_type": "stream",
     "text": [
      "Processing comments:  90%|████████▉ | 224/250 [01:34<00:09,  2.67it/s]"
     ]
    },
    {
     "name": "stdout",
     "output_type": "stream",
     "text": [
      "-1\n",
      "融券，一直赚[呲牙][呲牙][呲牙][呲牙]\n"
     ]
    },
    {
     "name": "stderr",
     "output_type": "stream",
     "text": [
      "Processing comments:  90%|█████████ | 225/250 [01:34<00:08,  2.87it/s]"
     ]
    },
    {
     "name": "stdout",
     "output_type": "stream",
     "text": [
      "1\n",
      "$上证指数(SH000001)$现在就是搞你钱\n"
     ]
    },
    {
     "name": "stderr",
     "output_type": "stream",
     "text": [
      "Processing comments:  90%|█████████ | 226/250 [01:35<00:08,  2.86it/s]"
     ]
    },
    {
     "name": "stdout",
     "output_type": "stream",
     "text": [
      "-1\n",
      "下雨了\n"
     ]
    },
    {
     "name": "stderr",
     "output_type": "stream",
     "text": [
      "Processing comments:  91%|█████████ | 227/250 [01:35<00:07,  2.96it/s]"
     ]
    },
    {
     "name": "stdout",
     "output_type": "stream",
     "text": [
      "0\n",
      "$上证指数(SH000001)$今天受到昨夜美西方股市下跌的影响，有很多的恐怖抛\n"
     ]
    },
    {
     "name": "stderr",
     "output_type": "stream",
     "text": [
      "Processing comments:  91%|█████████ | 228/250 [01:35<00:08,  2.60it/s]"
     ]
    },
    {
     "name": "stdout",
     "output_type": "stream",
     "text": [
      "-1\n",
      "A股最近强势，就是每次上午跌，下午拉升\n"
     ]
    },
    {
     "name": "stderr",
     "output_type": "stream",
     "text": [
      "Processing comments:  92%|█████████▏| 229/250 [01:36<00:07,  2.82it/s]"
     ]
    },
    {
     "name": "stdout",
     "output_type": "stream",
     "text": [
      "1\n",
      "沪深300安全\n"
     ]
    },
    {
     "name": "stderr",
     "output_type": "stream",
     "text": [
      "Processing comments:  92%|█████████▏| 230/250 [01:36<00:07,  2.84it/s]"
     ]
    },
    {
     "name": "stdout",
     "output_type": "stream",
     "text": [
      "0\n",
      "$上证指数(SH000001)$大盘涨稳住韭菜的生长\n"
     ]
    },
    {
     "name": "stderr",
     "output_type": "stream",
     "text": [
      "Processing comments:  92%|█████████▏| 231/250 [01:36<00:06,  3.00it/s]"
     ]
    },
    {
     "name": "stdout",
     "output_type": "stream",
     "text": [
      "1\n",
      "人生无常，大肠包小肠！\n"
     ]
    },
    {
     "name": "stderr",
     "output_type": "stream",
     "text": [
      "Processing comments:  93%|█████████▎| 232/250 [01:37<00:05,  3.14it/s]"
     ]
    },
    {
     "name": "stdout",
     "output_type": "stream",
     "text": [
      "0\n",
      "挣钱的公司比亏损的走得还惨呵呵！我看这股票都是扯蛋，决定涨跌的因素不是盈利与否，\n"
     ]
    },
    {
     "name": "stderr",
     "output_type": "stream",
     "text": [
      "Processing comments:  93%|█████████▎| 233/250 [01:37<00:05,  3.04it/s]"
     ]
    },
    {
     "name": "stdout",
     "output_type": "stream",
     "text": [
      "-1\n",
      "今天肯定涨停，等2.30主力进场，直线拉升到3200点，看空的就哭吧\n"
     ]
    },
    {
     "name": "stderr",
     "output_type": "stream",
     "text": [
      "Processing comments:  94%|█████████▎| 234/250 [01:37<00:05,  2.79it/s]"
     ]
    },
    {
     "name": "stdout",
     "output_type": "stream",
     "text": [
      "1\n",
      "一个月两天搞定\n"
     ]
    },
    {
     "name": "stderr",
     "output_type": "stream",
     "text": [
      "Processing comments:  94%|█████████▍| 235/250 [01:38<00:05,  2.93it/s]"
     ]
    },
    {
     "name": "stdout",
     "output_type": "stream",
     "text": [
      "0\n",
      "大A威武霸气！\n"
     ]
    },
    {
     "name": "stderr",
     "output_type": "stream",
     "text": [
      "Processing comments:  94%|█████████▍| 236/250 [01:38<00:04,  2.83it/s]"
     ]
    },
    {
     "name": "stdout",
     "output_type": "stream",
     "text": [
      "1\n",
      "不涨大金融，这种红就是昙花一现而已\n"
     ]
    },
    {
     "name": "stderr",
     "output_type": "stream",
     "text": [
      "Processing comments:  95%|█████████▍| 237/250 [01:38<00:04,  2.83it/s]"
     ]
    },
    {
     "name": "stdout",
     "output_type": "stream",
     "text": [
      "-1\n",
      "内资这么卖，准备给家捎去吗\n"
     ]
    },
    {
     "name": "stderr",
     "output_type": "stream",
     "text": [
      "Processing comments:  95%|█████████▌| 238/250 [01:39<00:03,  3.01it/s]"
     ]
    },
    {
     "name": "stdout",
     "output_type": "stream",
     "text": [
      "0\n",
      "超级大牛股宏达新材，大家赶紧全仓杀入抄底\n"
     ]
    },
    {
     "name": "stderr",
     "output_type": "stream",
     "text": [
      "Processing comments:  96%|█████████▌| 239/250 [01:39<00:03,  3.12it/s]"
     ]
    },
    {
     "name": "stdout",
     "output_type": "stream",
     "text": [
      "1\n",
      "$上证指数(SH000001)$今天一定不会过3150[笑哭]\n"
     ]
    },
    {
     "name": "stderr",
     "output_type": "stream",
     "text": [
      "Processing comments:  96%|█████████▌| 240/250 [01:39<00:03,  3.03it/s]"
     ]
    },
    {
     "name": "stdout",
     "output_type": "stream",
     "text": [
      "-1\n",
      "全天震荡下行，节前开始回调了，节后会更惨2900见\n"
     ]
    },
    {
     "name": "stderr",
     "output_type": "stream",
     "text": [
      "Processing comments:  96%|█████████▋| 241/250 [01:40<00:03,  2.96it/s]"
     ]
    },
    {
     "name": "stdout",
     "output_type": "stream",
     "text": [
      "-1\n",
      "大盘走得这么好，你的赚钱指数是多少？10.8%\n"
     ]
    },
    {
     "name": "stderr",
     "output_type": "stream",
     "text": [
      "Processing comments:  97%|█████████▋| 242/250 [01:40<00:02,  3.11it/s]"
     ]
    },
    {
     "name": "stdout",
     "output_type": "stream",
     "text": [
      "1\n",
      "冬天得补补，吹吹气，吃吃药\n"
     ]
    },
    {
     "name": "stderr",
     "output_type": "stream",
     "text": [
      "Processing comments:  97%|█████████▋| 243/250 [01:40<00:02,  3.21it/s]"
     ]
    },
    {
     "name": "stdout",
     "output_type": "stream",
     "text": [
      "0\n",
      "今天浮盈了，第一件事就是买书看，学习、进步、进化。\n"
     ]
    },
    {
     "name": "stderr",
     "output_type": "stream",
     "text": [
      "Processing comments:  98%|█████████▊| 244/250 [01:41<00:01,  3.29it/s]"
     ]
    },
    {
     "name": "stdout",
     "output_type": "stream",
     "text": [
      "1\n",
      "人民有信仰，民族有希望，国家有力量\n"
     ]
    },
    {
     "name": "stderr",
     "output_type": "stream",
     "text": [
      "Processing comments:  98%|█████████▊| 245/250 [01:41<00:01,  3.36it/s]"
     ]
    },
    {
     "name": "stdout",
     "output_type": "stream",
     "text": [
      "0\n",
      "照此下去没人会看好A股市场行情\n"
     ]
    },
    {
     "name": "stderr",
     "output_type": "stream",
     "text": [
      "Processing comments:  98%|█████████▊| 246/250 [01:41<00:01,  3.20it/s]"
     ]
    },
    {
     "name": "stdout",
     "output_type": "stream",
     "text": [
      "-1\n",
      "明天大回调\n"
     ]
    },
    {
     "name": "stderr",
     "output_type": "stream",
     "text": [
      "Processing comments:  99%|█████████▉| 247/250 [01:42<00:00,  3.04it/s]"
     ]
    },
    {
     "name": "stdout",
     "output_type": "stream",
     "text": [
      "-1\n",
      "大家来述说有哪些坑人的概念\n"
     ]
    },
    {
     "name": "stderr",
     "output_type": "stream",
     "text": [
      "Processing comments:  99%|█████████▉| 248/250 [01:42<00:00,  2.78it/s]"
     ]
    },
    {
     "name": "stdout",
     "output_type": "stream",
     "text": [
      "0\n",
      "房地产依然是支柱，股市没戏\n"
     ]
    },
    {
     "name": "stderr",
     "output_type": "stream",
     "text": [
      "Processing comments: 100%|█████████▉| 249/250 [01:42<00:00,  2.55it/s]"
     ]
    },
    {
     "name": "stdout",
     "output_type": "stream",
     "text": [
      "-1\n",
      "玩股不喊多，买了又唱空，跌斯你活该\n"
     ]
    },
    {
     "name": "stderr",
     "output_type": "stream",
     "text": [
      "Processing comments: 100%|██████████| 250/250 [01:43<00:00,  2.42it/s]"
     ]
    },
    {
     "name": "stdout",
     "output_type": "stream",
     "text": [
      "-1\n"
     ]
    },
    {
     "name": "stderr",
     "output_type": "stream",
     "text": [
      "\n"
     ]
    },
    {
     "data": {
      "text/plain": [
       "['0',\n",
       " '0',\n",
       " '0',\n",
       " '-1',\n",
       " '1',\n",
       " '-1',\n",
       " '-1',\n",
       " '1',\n",
       " '1',\n",
       " '0',\n",
       " '-1',\n",
       " '1',\n",
       " '-1',\n",
       " '-1',\n",
       " '0',\n",
       " '0',\n",
       " '0',\n",
       " '-1',\n",
       " '-1',\n",
       " '-1',\n",
       " '1',\n",
       " '-1',\n",
       " '-1',\n",
       " '0',\n",
       " '-1',\n",
       " '0',\n",
       " '-1',\n",
       " '0',\n",
       " '0',\n",
       " '-1',\n",
       " '0',\n",
       " '-1',\n",
       " '0',\n",
       " '-1',\n",
       " '-1',\n",
       " '-1',\n",
       " '0',\n",
       " '-1',\n",
       " '-1',\n",
       " '0',\n",
       " '-1',\n",
       " '1',\n",
       " '0',\n",
       " '1',\n",
       " '0',\n",
       " '0',\n",
       " '-1',\n",
       " '-1',\n",
       " '1',\n",
       " '0',\n",
       " '0',\n",
       " '0',\n",
       " '0',\n",
       " '0',\n",
       " '-1',\n",
       " '1',\n",
       " '-1',\n",
       " '0',\n",
       " '0',\n",
       " '-1',\n",
       " '0',\n",
       " '-1',\n",
       " '-1',\n",
       " '-1',\n",
       " '0',\n",
       " '-1',\n",
       " '-1',\n",
       " '1',\n",
       " '-1',\n",
       " '1',\n",
       " '0',\n",
       " '-1',\n",
       " '0',\n",
       " '-1',\n",
       " '1',\n",
       " '0',\n",
       " '-1',\n",
       " '-1',\n",
       " '1',\n",
       " '-1',\n",
       " '0',\n",
       " '1',\n",
       " '0',\n",
       " '0',\n",
       " '1',\n",
       " '-1',\n",
       " '0',\n",
       " '0',\n",
       " '-1',\n",
       " '1',\n",
       " '0',\n",
       " '1',\n",
       " '1',\n",
       " '0',\n",
       " '1',\n",
       " '0',\n",
       " '0',\n",
       " '-1',\n",
       " '-1',\n",
       " '0',\n",
       " '-1',\n",
       " '1',\n",
       " '0',\n",
       " '0',\n",
       " '1',\n",
       " '0',\n",
       " '0',\n",
       " '0',\n",
       " '0',\n",
       " '-1',\n",
       " '0',\n",
       " '-1',\n",
       " '-1',\n",
       " '1',\n",
       " '1',\n",
       " '0',\n",
       " '-1',\n",
       " '-1',\n",
       " '0',\n",
       " '-1',\n",
       " '0',\n",
       " '1',\n",
       " '1',\n",
       " '-1',\n",
       " '0',\n",
       " '-1',\n",
       " '0',\n",
       " '-1',\n",
       " '-1',\n",
       " '-1',\n",
       " '-1',\n",
       " '-1',\n",
       " '-1',\n",
       " '-1',\n",
       " '0',\n",
       " '-1',\n",
       " '0',\n",
       " '0',\n",
       " '1',\n",
       " '-1',\n",
       " '0',\n",
       " '-1',\n",
       " '0',\n",
       " '1',\n",
       " '1',\n",
       " '1',\n",
       " '-1',\n",
       " '0',\n",
       " '1',\n",
       " '0',\n",
       " '-1',\n",
       " '0',\n",
       " '-1',\n",
       " '1',\n",
       " '0',\n",
       " '-1',\n",
       " '-1',\n",
       " '-1',\n",
       " '1',\n",
       " '0',\n",
       " '0',\n",
       " '1',\n",
       " '0',\n",
       " '-1',\n",
       " '-1',\n",
       " '-1',\n",
       " '-1',\n",
       " '-1',\n",
       " '0',\n",
       " '-1',\n",
       " '-1',\n",
       " '0',\n",
       " '1',\n",
       " '0',\n",
       " '-1',\n",
       " '-1',\n",
       " '-1',\n",
       " '-1',\n",
       " '-1',\n",
       " '0',\n",
       " '1',\n",
       " '0',\n",
       " '0',\n",
       " '-1',\n",
       " '-1',\n",
       " '-1',\n",
       " '-1',\n",
       " '0',\n",
       " '0',\n",
       " '-1',\n",
       " '0',\n",
       " '-1',\n",
       " '-1',\n",
       " '-1',\n",
       " '0',\n",
       " '0',\n",
       " '-1',\n",
       " '0',\n",
       " '0',\n",
       " '-1',\n",
       " '-1',\n",
       " '-1',\n",
       " '1',\n",
       " '0',\n",
       " '0',\n",
       " '1',\n",
       " '0',\n",
       " '1',\n",
       " '1',\n",
       " '0',\n",
       " '-1',\n",
       " '-1',\n",
       " '-1',\n",
       " '0',\n",
       " '0',\n",
       " '-1',\n",
       " '0',\n",
       " '-1',\n",
       " '-1',\n",
       " '0',\n",
       " '1',\n",
       " '-1',\n",
       " '-1',\n",
       " '-1',\n",
       " '1',\n",
       " '-1',\n",
       " '0',\n",
       " '-1',\n",
       " '1',\n",
       " '0',\n",
       " '1',\n",
       " '0',\n",
       " '-1',\n",
       " '1',\n",
       " '0',\n",
       " '1',\n",
       " '-1',\n",
       " '0',\n",
       " '1',\n",
       " '-1',\n",
       " '-1',\n",
       " '1',\n",
       " '0',\n",
       " '1',\n",
       " '0',\n",
       " '-1',\n",
       " '-1',\n",
       " '0',\n",
       " '-1',\n",
       " '-1']"
      ]
     },
     "execution_count": 4,
     "metadata": {},
     "output_type": "execute_result"
    }
   ],
   "source": [
    "response_lst = []\n",
    "for comment in tqdm(random_comment_lst_1  , desc=\"Processing comments\"):\n",
    "    \n",
    "    zero_shot = (\n",
    "        \"你是一名股市评论情绪分析专家，若接下来的评论有看涨或积极倾向则输出1, 若有看跌或负面倾向则输出-1, 若中立或者观望则输出0. \"\n",
    "        \"只要用数字回答(1, -1, or 0). 不要有其他文字:\\n\\n\"\n",
    "    )\n",
    "\n",
    "    input_text = zero_shot + \"\\\"\" + comment + \"\\\"\" \n",
    "\n",
    "    print(comment)\n",
    "\n",
    "    response = ollama.chat(model='qwen:14b', messages=[\n",
    "        {\n",
    "            'role': 'user',\n",
    "            'content': input_text,\n",
    "        },\n",
    "        ])\n",
    "\n",
    "    print(response['message']['content'])\n",
    "\n",
    "    response_lst.append(response['message']['content'])\n",
    "\n",
    "response_lst"
   ]
  },
  {
   "cell_type": "markdown",
   "metadata": {},
   "source": [
    "### Evaluation Zero-shot"
   ]
  },
  {
   "cell_type": "code",
   "execution_count": 5,
   "metadata": {},
   "outputs": [
    {
     "name": "stdout",
     "output_type": "stream",
     "text": [
      "Accuracy: 0.668\n",
      "Label 1 - Precision: 0.7083333333333334, Recall: 0.6415094339622641, F1 Score: 0.6732673267326733\n",
      "Label 0 - Precision: 0.40860215053763443, Recall: 0.7037037037037037, F1 Score: 0.5170068027210885\n",
      "Label -1 - Precision: 0.8715596330275229, Recall: 0.6643356643356644, F1 Score: 0.7539682539682538\n",
      "Macro F1 Score: 0.6480807944740051\n"
     ]
    }
   ],
   "source": [
    "clean_response = []\n",
    "for res in response_lst:\n",
    "    if \"-1\" in res:\n",
    "        clean_response.append(-1)\n",
    "    elif \"0\" in res:\n",
    "        clean_response.append(0)\n",
    "    elif \"1\" in res:\n",
    "        clean_response.append(1)\n",
    "\n",
    "accu = accuracy_score(radom_label_lst_1, clean_response)\n",
    "print(f\"Accuracy: {accu}\")\n",
    "\n",
    "precision, recall, f1, _ = precision_recall_fscore_support(radom_label_lst_1, clean_response, labels=[1, 0, -1], average=None)\n",
    "for label, p, r, f in zip([1, 0, -1], precision, recall, f1):\n",
    "    print(f'Label {label} - Precision: {p}, Recall: {r}, F1 Score: {f}')\n",
    "macro_f1 = f1_score(radom_label_lst_1, clean_response, average='macro')\n",
    "print(f'Macro F1 Score: {macro_f1}')"
   ]
  },
  {
   "cell_type": "markdown",
   "metadata": {},
   "source": [
    "### Generate Answer (Few-shot)"
   ]
  },
  {
   "cell_type": "code",
   "execution_count": 6,
   "metadata": {},
   "outputs": [],
   "source": [
    "def generate_few_shot_examples(data, labels, num_examples=3):\n",
    "    examples = list(zip(data, labels))\n",
    "    selected_examples = random.sample(examples, num_examples)\n",
    "    \n",
    "    few_shot_prompt = (\n",
    "        \"你是一名股市评论情绪分析专家，若接下来的评论有看涨或积极倾向则输出1, 若有看跌或负面倾向则输出-1, 若中立或者观望则输出0. \"\n",
    "        \"只要用数字回答(1, -1, or 0). 不要有其他文字, 我会给你几个例子作为参考:\\n\\n\"\n",
    "    )\n",
    "    \n",
    "    for i, (comment, label) in enumerate(selected_examples):\n",
    "        few_shot_prompt += f\"Example {i+1}:\\nSentence: {comment}\\nPrediction: {label}\\n\\n\"\n",
    "    \n",
    "    return few_shot_prompt\n"
   ]
  },
  {
   "cell_type": "code",
   "execution_count": 7,
   "metadata": {},
   "outputs": [],
   "source": [
    "time.sleep(300)"
   ]
  },
  {
   "cell_type": "code",
   "execution_count": 8,
   "metadata": {},
   "outputs": [
    {
     "name": "stderr",
     "output_type": "stream",
     "text": [
      "Processing comments:   0%|          | 0/250 [00:00<?, ?it/s]"
     ]
    },
    {
     "name": "stdout",
     "output_type": "stream",
     "text": [
      "赌明天跳空高开\n"
     ]
    },
    {
     "name": "stderr",
     "output_type": "stream",
     "text": [
      "Processing comments:   0%|          | 1/250 [00:06<25:23,  6.12s/it]"
     ]
    },
    {
     "name": "stdout",
     "output_type": "stream",
     "text": [
      "1\n",
      "先生们，女士们，还有十分钟蹦极，准备好了，\n"
     ]
    },
    {
     "name": "stderr",
     "output_type": "stream",
     "text": [
      "Processing comments:   1%|          | 2/250 [00:06<12:18,  2.98s/it]"
     ]
    },
    {
     "name": "stdout",
     "output_type": "stream",
     "text": [
      "0\n",
      "$上证指数(SH000001)$北向不停买入，主力不停卖出什么意思啊？\n"
     ]
    },
    {
     "name": "stderr",
     "output_type": "stream",
     "text": [
      "Processing comments:   1%|          | 3/250 [00:07<08:20,  2.03s/it]"
     ]
    },
    {
     "name": "stdout",
     "output_type": "stream",
     "text": [
      "-1\n",
      "两点半，北向资金流出\n"
     ]
    },
    {
     "name": "stderr",
     "output_type": "stream",
     "text": [
      "Processing comments:   2%|▏         | 4/250 [00:08<06:26,  1.57s/it]"
     ]
    },
    {
     "name": "stdout",
     "output_type": "stream",
     "text": [
      "-1\n",
      "牛市，大盘连涨4.2个点了，今天也还是强势翻红趋势，真的牛啊\n"
     ]
    },
    {
     "name": "stderr",
     "output_type": "stream",
     "text": [
      "Processing comments:   2%|▏         | 5/250 [00:09<05:23,  1.32s/it]"
     ]
    },
    {
     "name": "stdout",
     "output_type": "stream",
     "text": [
      "1\n",
      "发生了什么？主力持续流出100多亿！\n"
     ]
    },
    {
     "name": "stderr",
     "output_type": "stream",
     "text": [
      "Processing comments:   2%|▏         | 6/250 [00:10<04:53,  1.20s/it]"
     ]
    },
    {
     "name": "stdout",
     "output_type": "stream",
     "text": [
      "-1\n",
      "涨了指数亏了钱，这个星期亏了十多个点了[滴汗][滴汗][滴汗][滴汗][滴汗][\n"
     ]
    },
    {
     "name": "stderr",
     "output_type": "stream",
     "text": [
      "Processing comments:   3%|▎         | 7/250 [00:11<04:37,  1.14s/it]"
     ]
    },
    {
     "name": "stdout",
     "output_type": "stream",
     "text": [
      "-1\n",
      "今晚还有什么利好消息请继续发！！！\n"
     ]
    },
    {
     "name": "stderr",
     "output_type": "stream",
     "text": [
      "Processing comments:   3%|▎         | 8/250 [00:12<03:56,  1.03it/s]"
     ]
    },
    {
     "name": "stdout",
     "output_type": "stream",
     "text": [
      "1\n",
      "$上证指数(SH000001)$持仓的两只票竟然还是红的，神奇不\n"
     ]
    },
    {
     "name": "stderr",
     "output_type": "stream",
     "text": [
      "Processing comments:   4%|▎         | 9/250 [00:12<03:39,  1.10it/s]"
     ]
    },
    {
     "name": "stdout",
     "output_type": "stream",
     "text": [
      "1\n",
      "小顶规避\n"
     ]
    },
    {
     "name": "stderr",
     "output_type": "stream",
     "text": [
      "Processing comments:   4%|▍         | 10/250 [00:13<03:21,  1.19it/s]"
     ]
    },
    {
     "name": "stdout",
     "output_type": "stream",
     "text": [
      "-1\n",
      "好好的盘，2点后谁干的偷袭，坏透了，就这水平，大a的脊梁？\n"
     ]
    },
    {
     "name": "stderr",
     "output_type": "stream",
     "text": [
      "Processing comments:   4%|▍         | 11/250 [00:14<03:20,  1.19it/s]"
     ]
    },
    {
     "name": "stdout",
     "output_type": "stream",
     "text": [
      "-1\n",
      "狂拉指数\n"
     ]
    },
    {
     "name": "stderr",
     "output_type": "stream",
     "text": [
      "Processing comments:   5%|▍         | 12/250 [00:15<03:14,  1.22it/s]"
     ]
    },
    {
     "name": "stdout",
     "output_type": "stream",
     "text": [
      "1\n",
      "主力又跑了450亿\n"
     ]
    },
    {
     "name": "stderr",
     "output_type": "stream",
     "text": [
      "Processing comments:   5%|▌         | 13/250 [00:15<03:03,  1.29it/s]"
     ]
    },
    {
     "name": "stdout",
     "output_type": "stream",
     "text": [
      "-1\n",
      "#沪指早盘跌2.86%,缘何大跌？#地区局势不稳定，资本慌的一笔\n"
     ]
    },
    {
     "name": "stderr",
     "output_type": "stream",
     "text": [
      "Processing comments:   6%|▌         | 14/250 [00:16<03:07,  1.26it/s]"
     ]
    },
    {
     "name": "stdout",
     "output_type": "stream",
     "text": [
      "-1\n",
      "明天5200\n"
     ]
    },
    {
     "name": "stderr",
     "output_type": "stream",
     "text": [
      "Processing comments:   6%|▌         | 15/250 [00:17<03:05,  1.27it/s]"
     ]
    },
    {
     "name": "stdout",
     "output_type": "stream",
     "text": [
      "1\n",
      "做T:有些自认为的高手，总是马后跑讲做T，做对了一次，了不得，但从月、季、年来看\n"
     ]
    },
    {
     "name": "stderr",
     "output_type": "stream",
     "text": [
      "Processing comments:   6%|▋         | 16/250 [00:18<03:03,  1.28it/s]"
     ]
    },
    {
     "name": "stdout",
     "output_type": "stream",
     "text": [
      "0\n",
      "买st海航即将摘帽了你看看今天走势\n"
     ]
    },
    {
     "name": "stderr",
     "output_type": "stream",
     "text": [
      "Processing comments:   7%|▋         | 17/250 [00:19<03:01,  1.28it/s]"
     ]
    },
    {
     "name": "stdout",
     "output_type": "stream",
     "text": [
      "1\n",
      "沪深股通又狂卖\n"
     ]
    },
    {
     "name": "stderr",
     "output_type": "stream",
     "text": [
      "Processing comments:   7%|▋         | 18/250 [00:19<02:54,  1.33it/s]"
     ]
    },
    {
     "name": "stdout",
     "output_type": "stream",
     "text": [
      "-1\n",
      "本月底跌破3100点。\n"
     ]
    },
    {
     "name": "stderr",
     "output_type": "stream",
     "text": [
      "Processing comments:   8%|▊         | 19/250 [00:20<02:48,  1.37it/s]"
     ]
    },
    {
     "name": "stdout",
     "output_type": "stream",
     "text": [
      "-1\n",
      "$上证指数(SH000001)$开始走熊了，怎么稳字当头？\n"
     ]
    },
    {
     "name": "stderr",
     "output_type": "stream",
     "text": [
      "Processing comments:   8%|▊         | 20/250 [00:21<03:06,  1.23it/s]"
     ]
    },
    {
     "name": "stdout",
     "output_type": "stream",
     "text": [
      "-1\n",
      "$上证指数(SH000001)$23日大A一改昨日的颓势，探底回升，强势收阳，和\n"
     ]
    },
    {
     "name": "stderr",
     "output_type": "stream",
     "text": [
      "Processing comments:   8%|▊         | 21/250 [00:22<03:03,  1.25it/s]"
     ]
    },
    {
     "name": "stdout",
     "output_type": "stream",
     "text": [
      "1\n",
      "三油一挺，大盘见顶[囧]\n"
     ]
    },
    {
     "name": "stderr",
     "output_type": "stream",
     "text": [
      "Processing comments:   9%|▉         | 22/250 [00:23<03:17,  1.15it/s]"
     ]
    },
    {
     "name": "stdout",
     "output_type": "stream",
     "text": [
      "-1\n",
      "哎可怜了买基金的人。\n"
     ]
    },
    {
     "name": "stderr",
     "output_type": "stream",
     "text": [
      "Processing comments:   9%|▉         | 23/250 [00:24<03:15,  1.16it/s]"
     ]
    },
    {
     "name": "stdout",
     "output_type": "stream",
     "text": [
      "-1\n",
      "不是稳增长吗\n"
     ]
    },
    {
     "name": "stderr",
     "output_type": "stream",
     "text": [
      "Processing comments:  10%|▉         | 24/250 [00:24<02:58,  1.27it/s]"
     ]
    },
    {
     "name": "stdout",
     "output_type": "stream",
     "text": [
      "1\n",
      "不出意料的跌了\n"
     ]
    },
    {
     "name": "stderr",
     "output_type": "stream",
     "text": [
      "Processing comments:  10%|█         | 25/250 [00:25<02:51,  1.31it/s]"
     ]
    },
    {
     "name": "stdout",
     "output_type": "stream",
     "text": [
      "-1\n",
      "小跳空，回补缺口小心……\n"
     ]
    },
    {
     "name": "stderr",
     "output_type": "stream",
     "text": [
      "Processing comments:  10%|█         | 26/250 [00:26<02:46,  1.34it/s]"
     ]
    },
    {
     "name": "stdout",
     "output_type": "stream",
     "text": [
      "-1\n",
      "补跌又补上了，叫你不要涨不听[滴汗][滴汗][滴汗]\n"
     ]
    },
    {
     "name": "stderr",
     "output_type": "stream",
     "text": [
      "Processing comments:  11%|█         | 27/250 [00:27<03:03,  1.21it/s]"
     ]
    },
    {
     "name": "stdout",
     "output_type": "stream",
     "text": [
      "-1\n",
      "本周见3120\n"
     ]
    },
    {
     "name": "stderr",
     "output_type": "stream",
     "text": [
      "Processing comments:  11%|█         | 28/250 [00:27<02:49,  1.31it/s]"
     ]
    },
    {
     "name": "stdout",
     "output_type": "stream",
     "text": [
      "1\n",
      "难得出现指数跌个股涨的局面\n"
     ]
    },
    {
     "name": "stderr",
     "output_type": "stream",
     "text": [
      "Processing comments:  12%|█▏        | 29/250 [00:28<02:48,  1.31it/s]"
     ]
    },
    {
     "name": "stdout",
     "output_type": "stream",
     "text": [
      "1\n",
      "不破不立，还有有一根大阴线，2999点等待，今天清仓\n"
     ]
    },
    {
     "name": "stderr",
     "output_type": "stream",
     "text": [
      "Processing comments:  12%|█▏        | 30/250 [00:29<02:52,  1.27it/s]"
     ]
    },
    {
     "name": "stdout",
     "output_type": "stream",
     "text": [
      "-1\n",
      "想起，太想红了，红艳艳\n"
     ]
    },
    {
     "name": "stderr",
     "output_type": "stream",
     "text": [
      "Processing comments:  12%|█▏        | 31/250 [00:30<02:50,  1.28it/s]"
     ]
    },
    {
     "name": "stdout",
     "output_type": "stream",
     "text": [
      "1\n",
      "$上证指数(SH000001)$降准不及预期，再有技术压力，道指期货又下跌了，大\n"
     ]
    },
    {
     "name": "stderr",
     "output_type": "stream",
     "text": [
      "Processing comments:  13%|█▎        | 32/250 [00:31<03:04,  1.18it/s]"
     ]
    },
    {
     "name": "stdout",
     "output_type": "stream",
     "text": [
      "-1\n",
      "赶紧补缺口\n"
     ]
    },
    {
     "name": "stderr",
     "output_type": "stream",
     "text": [
      "Processing comments:  13%|█▎        | 33/250 [00:31<02:58,  1.22it/s]"
     ]
    },
    {
     "name": "stdout",
     "output_type": "stream",
     "text": [
      "0\n",
      "想起了2018年的熔断\n"
     ]
    },
    {
     "name": "stderr",
     "output_type": "stream",
     "text": [
      "Processing comments:  14%|█▎        | 34/250 [00:32<02:48,  1.28it/s]"
     ]
    },
    {
     "name": "stdout",
     "output_type": "stream",
     "text": [
      "-1\n",
      "这么多饿狗，扔一块骨头就想让市场起来，有点难度\n"
     ]
    },
    {
     "name": "stderr",
     "output_type": "stream",
     "text": [
      "Processing comments:  14%|█▍        | 35/250 [00:33<03:02,  1.18it/s]"
     ]
    },
    {
     "name": "stdout",
     "output_type": "stream",
     "text": [
      "-1\n",
      "这次回调至少也要跌到3150点\n"
     ]
    },
    {
     "name": "stderr",
     "output_type": "stream",
     "text": [
      "Processing comments:  14%|█▍        | 36/250 [00:34<03:00,  1.18it/s]"
     ]
    },
    {
     "name": "stdout",
     "output_type": "stream",
     "text": [
      "-1\n",
      "比赛跑得快！\n"
     ]
    },
    {
     "name": "stderr",
     "output_type": "stream",
     "text": [
      "Processing comments:  15%|█▍        | 37/250 [00:35<02:46,  1.28it/s]"
     ]
    },
    {
     "name": "stdout",
     "output_type": "stream",
     "text": [
      "1\n",
      "$上证指数(SH000001)$券商一拉大盘就崩[怒][怒][怒]\n"
     ]
    },
    {
     "name": "stderr",
     "output_type": "stream",
     "text": [
      "Processing comments:  15%|█▌        | 38/250 [00:35<02:39,  1.33it/s]"
     ]
    },
    {
     "name": "stdout",
     "output_type": "stream",
     "text": [
      "-1\n",
      "继续回调，知足常乐。\n"
     ]
    },
    {
     "name": "stderr",
     "output_type": "stream",
     "text": [
      "Processing comments:  16%|█▌        | 39/250 [00:36<02:44,  1.28it/s]"
     ]
    },
    {
     "name": "stdout",
     "output_type": "stream",
     "text": [
      "-1\n",
      "#李蓓：2-3年后A股将迎飞龙在天#2-3年你还活着不？\n"
     ]
    },
    {
     "name": "stderr",
     "output_type": "stream",
     "text": [
      "Processing comments:  16%|█▌        | 40/250 [00:37<02:43,  1.29it/s]"
     ]
    },
    {
     "name": "stdout",
     "output_type": "stream",
     "text": [
      "1\n",
      "丢人\n"
     ]
    },
    {
     "name": "stderr",
     "output_type": "stream",
     "text": [
      "Processing comments:  16%|█▋        | 41/250 [00:38<02:45,  1.26it/s]"
     ]
    },
    {
     "name": "stdout",
     "output_type": "stream",
     "text": [
      " -1\n",
      "又逼近3100了[为什么]\n"
     ]
    },
    {
     "name": "stderr",
     "output_type": "stream",
     "text": [
      "Processing comments:  17%|█▋        | 42/250 [00:38<02:43,  1.27it/s]"
     ]
    },
    {
     "name": "stdout",
     "output_type": "stream",
     "text": [
      "1\n",
      "大A是到了叛逆期了？\n"
     ]
    },
    {
     "name": "stderr",
     "output_type": "stream",
     "text": [
      "Processing comments:  17%|█▋        | 43/250 [00:39<02:48,  1.23it/s]"
     ]
    },
    {
     "name": "stdout",
     "output_type": "stream",
     "text": [
      "-1\n",
      "$上证指数(SH000001)$剩下的时间应回3千上方吧\n"
     ]
    },
    {
     "name": "stderr",
     "output_type": "stream",
     "text": [
      "Processing comments:  18%|█▊        | 44/250 [00:40<02:46,  1.23it/s]"
     ]
    },
    {
     "name": "stdout",
     "output_type": "stream",
     "text": [
      "1\n",
      "收盘3199.92.和之前的缺口3199.91.仅仅相差0.01.是炉火纯青还是\n"
     ]
    },
    {
     "name": "stderr",
     "output_type": "stream",
     "text": [
      "Processing comments:  18%|█▊        | 45/250 [00:41<02:44,  1.25it/s]"
     ]
    },
    {
     "name": "stdout",
     "output_type": "stream",
     "text": [
      "1\n",
      "专家要出来说两句不\n"
     ]
    },
    {
     "name": "stderr",
     "output_type": "stream",
     "text": [
      "Processing comments:  18%|█▊        | 46/250 [00:41<02:32,  1.34it/s]"
     ]
    },
    {
     "name": "stdout",
     "output_type": "stream",
     "text": [
      "0\n",
      "阴包阳，大跌的征兆\n"
     ]
    },
    {
     "name": "stderr",
     "output_type": "stream",
     "text": [
      "Processing comments:  19%|█▉        | 47/250 [00:42<02:37,  1.29it/s]"
     ]
    },
    {
     "name": "stdout",
     "output_type": "stream",
     "text": [
      "-1\n",
      "没有量的上涨都编人的把戏\n"
     ]
    },
    {
     "name": "stderr",
     "output_type": "stream",
     "text": [
      "Processing comments:  19%|█▉        | 48/250 [00:43<02:40,  1.26it/s]"
     ]
    },
    {
     "name": "stdout",
     "output_type": "stream",
     "text": [
      "-1\n",
      "$上证指数(SH000001)$大A又回来了\n"
     ]
    },
    {
     "name": "stderr",
     "output_type": "stream",
     "text": [
      "Processing comments:  20%|█▉        | 49/250 [00:44<02:38,  1.27it/s]"
     ]
    },
    {
     "name": "stdout",
     "output_type": "stream",
     "text": [
      "1\n",
      "这波下杀到3050有支撑\n"
     ]
    },
    {
     "name": "stderr",
     "output_type": "stream",
     "text": [
      "Processing comments:  20%|██        | 50/250 [00:45<02:27,  1.35it/s]"
     ]
    },
    {
     "name": "stdout",
     "output_type": "stream",
     "text": [
      "0\n",
      "找到原因了吗？\n"
     ]
    },
    {
     "name": "stderr",
     "output_type": "stream",
     "text": [
      "Processing comments:  20%|██        | 51/250 [00:45<02:28,  1.34it/s]"
     ]
    },
    {
     "name": "stdout",
     "output_type": "stream",
     "text": [
      "0\n",
      "基金和股票今天清退了80%，还没有调整到位，静观其变。\n"
     ]
    },
    {
     "name": "stderr",
     "output_type": "stream",
     "text": [
      "Processing comments:  21%|██        | 52/250 [00:46<02:40,  1.23it/s]"
     ]
    },
    {
     "name": "stdout",
     "output_type": "stream",
     "text": [
      "0\n",
      "明天正好给外资抄底\n"
     ]
    },
    {
     "name": "stderr",
     "output_type": "stream",
     "text": [
      "Processing comments:  21%|██        | 53/250 [00:47<02:41,  1.22it/s]"
     ]
    },
    {
     "name": "stdout",
     "output_type": "stream",
     "text": [
      "-1\n",
      "今天能否一举突破3358\n"
     ]
    },
    {
     "name": "stderr",
     "output_type": "stream",
     "text": [
      "Processing comments:  22%|██▏       | 54/250 [00:48<02:38,  1.24it/s]"
     ]
    },
    {
     "name": "stdout",
     "output_type": "stream",
     "text": [
      "1\n",
      "每天都号称流入几十亿几百亿资金，可是每天都在大跌\n"
     ]
    },
    {
     "name": "stderr",
     "output_type": "stream",
     "text": [
      "Processing comments:  22%|██▏       | 55/250 [00:49<02:38,  1.23it/s]"
     ]
    },
    {
     "name": "stdout",
     "output_type": "stream",
     "text": [
      "-1\n",
      "$上证指数(SH000001)$买买买买买。\n"
     ]
    },
    {
     "name": "stderr",
     "output_type": "stream",
     "text": [
      "Processing comments:  22%|██▏       | 56/250 [00:50<02:35,  1.24it/s]"
     ]
    },
    {
     "name": "stdout",
     "output_type": "stream",
     "text": [
      "1\n",
      "后面利空还很多呢，等啥时候上五日线再说[吃瓜][吃瓜][吃瓜]\n"
     ]
    },
    {
     "name": "stderr",
     "output_type": "stream",
     "text": [
      "Processing comments:  23%|██▎       | 57/250 [00:50<02:37,  1.23it/s]"
     ]
    },
    {
     "name": "stdout",
     "output_type": "stream",
     "text": [
      "-1\n",
      "七月份美联储加息，是谁在报道？\n"
     ]
    },
    {
     "name": "stderr",
     "output_type": "stream",
     "text": [
      "Processing comments:  23%|██▎       | 58/250 [00:51<02:25,  1.32it/s]"
     ]
    },
    {
     "name": "stdout",
     "output_type": "stream",
     "text": [
      "1\n",
      "有气无力\n"
     ]
    },
    {
     "name": "stderr",
     "output_type": "stream",
     "text": [
      "Processing comments:  24%|██▎       | 59/250 [00:52<02:29,  1.28it/s]"
     ]
    },
    {
     "name": "stdout",
     "output_type": "stream",
     "text": [
      "-1\n",
      "天天跌，真要命\n"
     ]
    },
    {
     "name": "stderr",
     "output_type": "stream",
     "text": [
      "Processing comments:  24%|██▍       | 60/250 [00:53<02:32,  1.25it/s]"
     ]
    },
    {
     "name": "stdout",
     "output_type": "stream",
     "text": [
      "-1\n",
      "群龙无首，小散韮菜根没有\n"
     ]
    },
    {
     "name": "stderr",
     "output_type": "stream",
     "text": [
      "Processing comments:  24%|██▍       | 61/250 [00:53<02:33,  1.23it/s]"
     ]
    },
    {
     "name": "stdout",
     "output_type": "stream",
     "text": [
      "-1\n",
      "明天3000很关键。哪怕刺破一下。后面就彻底完了。\n"
     ]
    },
    {
     "name": "stderr",
     "output_type": "stream",
     "text": [
      "Processing comments:  25%|██▍       | 62/250 [00:54<02:30,  1.25it/s]"
     ]
    },
    {
     "name": "stdout",
     "output_type": "stream",
     "text": [
      "1\n",
      "明天又是黑色星期四了\n"
     ]
    },
    {
     "name": "stderr",
     "output_type": "stream",
     "text": [
      "Processing comments:  25%|██▌       | 63/250 [00:55<02:32,  1.23it/s]"
     ]
    },
    {
     "name": "stdout",
     "output_type": "stream",
     "text": [
      "-1\n",
      "妙两刀，白玩两个月\n"
     ]
    },
    {
     "name": "stderr",
     "output_type": "stream",
     "text": [
      "Processing comments:  26%|██▌       | 64/250 [00:56<02:24,  1.29it/s]"
     ]
    },
    {
     "name": "stdout",
     "output_type": "stream",
     "text": [
      "-1\n",
      "主力是谁？北向是谁？谁是真苟？\n"
     ]
    },
    {
     "name": "stderr",
     "output_type": "stream",
     "text": [
      "Processing comments:  26%|██▌       | 65/250 [00:57<02:23,  1.29it/s]"
     ]
    },
    {
     "name": "stdout",
     "output_type": "stream",
     "text": [
      "0\n",
      "其实到了这个位置，散户都觉得很低了，并且在抄底，那就还要大跌。逻辑很简单，不可能\n"
     ]
    },
    {
     "name": "stderr",
     "output_type": "stream",
     "text": [
      "Processing comments:  26%|██▋       | 66/250 [00:57<02:26,  1.26it/s]"
     ]
    },
    {
     "name": "stdout",
     "output_type": "stream",
     "text": [
      "-1\n",
      "第二个下行跳空缺口，真的赢了\n"
     ]
    },
    {
     "name": "stderr",
     "output_type": "stream",
     "text": [
      "Processing comments:  27%|██▋       | 67/250 [00:58<02:24,  1.26it/s]"
     ]
    },
    {
     "name": "stdout",
     "output_type": "stream",
     "text": [
      "1\n",
      "多年经验，他们想干好的事情一定能干好，不好因为他们不想好\n"
     ]
    },
    {
     "name": "stderr",
     "output_type": "stream",
     "text": [
      "Processing comments:  27%|██▋       | 68/250 [00:59<02:23,  1.27it/s]"
     ]
    },
    {
     "name": "stdout",
     "output_type": "stream",
     "text": [
      "1\n",
      "$上证指数(SH000001)$昨天亏了一只猪，今天挣了一只鸡。\n"
     ]
    },
    {
     "name": "stderr",
     "output_type": "stream",
     "text": [
      "Processing comments:  28%|██▊       | 69/250 [01:00<02:25,  1.25it/s]"
     ]
    },
    {
     "name": "stdout",
     "output_type": "stream",
     "text": [
      "-1\n",
      "见底拉升了\n"
     ]
    },
    {
     "name": "stderr",
     "output_type": "stream",
     "text": [
      "Processing comments:  28%|██▊       | 70/250 [01:00<02:14,  1.34it/s]"
     ]
    },
    {
     "name": "stdout",
     "output_type": "stream",
     "text": [
      "1\n",
      "真的像极了09年初，美股还在暴跌，A股早就见底反涨了\n"
     ]
    },
    {
     "name": "stderr",
     "output_type": "stream",
     "text": [
      "Processing comments:  28%|██▊       | 71/250 [01:01<02:15,  1.32it/s]"
     ]
    },
    {
     "name": "stdout",
     "output_type": "stream",
     "text": [
      "1\n",
      "这波反弹全栽了，四只股全逆势跌，看来抄底越抄越低！\n"
     ]
    },
    {
     "name": "stderr",
     "output_type": "stream",
     "text": [
      "Processing comments:  29%|██▉       | 72/250 [01:02<02:29,  1.19it/s]"
     ]
    },
    {
     "name": "stdout",
     "output_type": "stream",
     "text": [
      "-1\n",
      "现在敢与进场的都是高手！！\n"
     ]
    },
    {
     "name": "stderr",
     "output_type": "stream",
     "text": [
      "Processing comments:  29%|██▉       | 73/250 [01:03<02:24,  1.22it/s]"
     ]
    },
    {
     "name": "stdout",
     "output_type": "stream",
     "text": [
      "1\n",
      "没有合力，3300点是不可能站稳的\n"
     ]
    },
    {
     "name": "stderr",
     "output_type": "stream",
     "text": [
      "Processing comments:  30%|██▉       | 74/250 [01:04<02:25,  1.21it/s]"
     ]
    },
    {
     "name": "stdout",
     "output_type": "stream",
     "text": [
      "-1\n",
      "牛市来了\n"
     ]
    },
    {
     "name": "stderr",
     "output_type": "stream",
     "text": [
      "Processing comments:  30%|███       | 75/250 [01:05<02:21,  1.24it/s]"
     ]
    },
    {
     "name": "stdout",
     "output_type": "stream",
     "text": [
      "1\n",
      "明天亥水旺冲休破\n"
     ]
    },
    {
     "name": "stderr",
     "output_type": "stream",
     "text": [
      "Processing comments:  30%|███       | 76/250 [01:06<02:28,  1.18it/s]"
     ]
    },
    {
     "name": "stdout",
     "output_type": "stream",
     "text": [
      "0\n",
      "$上证指数(SH000001)$找死，别拦着\n"
     ]
    },
    {
     "name": "stderr",
     "output_type": "stream",
     "text": [
      "Processing comments:  31%|███       | 77/250 [01:07<02:35,  1.11it/s]"
     ]
    },
    {
     "name": "stdout",
     "output_type": "stream",
     "text": [
      " -1\n",
      "整个上证一早上的成交量还没有特斯拉的成交量多\n"
     ]
    },
    {
     "name": "stderr",
     "output_type": "stream",
     "text": [
      "Processing comments:  31%|███       | 78/250 [01:08<02:40,  1.07it/s]"
     ]
    },
    {
     "name": "stdout",
     "output_type": "stream",
     "text": [
      "-1\n",
      "美国的大跌会引发A股的操纵，周末两天会修复大跌带来的恐慌情绪。下周从回3300点\n"
     ]
    },
    {
     "name": "stderr",
     "output_type": "stream",
     "text": [
      "Processing comments:  32%|███▏      | 79/250 [01:08<02:31,  1.13it/s]"
     ]
    },
    {
     "name": "stdout",
     "output_type": "stream",
     "text": [
      "1\n",
      "$上证指数(SH000001)$40倍杠杆做多，我是不是疯了[滴汗][滴汗]\n"
     ]
    },
    {
     "name": "stderr",
     "output_type": "stream",
     "text": [
      "Processing comments:  32%|███▏      | 80/250 [01:09<02:37,  1.08it/s]"
     ]
    },
    {
     "name": "stdout",
     "output_type": "stream",
     "text": [
      "-1\n",
      "记住不割肉，随它怎么跌！躺平就好，早晚回来，实在不行就等你一年、两年……比存银行\n"
     ]
    },
    {
     "name": "stderr",
     "output_type": "stream",
     "text": [
      "Processing comments:  32%|███▏      | 81/250 [01:10<02:29,  1.13it/s]"
     ]
    },
    {
     "name": "stdout",
     "output_type": "stream",
     "text": [
      "0\n",
      "明天不是白酒就是券商的天下，指数飞起，个股惨淡\n"
     ]
    },
    {
     "name": "stderr",
     "output_type": "stream",
     "text": [
      "Processing comments:  33%|███▎      | 82/250 [01:11<02:31,  1.11it/s]"
     ]
    },
    {
     "name": "stdout",
     "output_type": "stream",
     "text": [
      "1\n",
      "现在涨幅大的就是以后补跌的，现在跌的多的就是以后的多头。（短线不是小散能玩的，运\n"
     ]
    },
    {
     "name": "stderr",
     "output_type": "stream",
     "text": [
      "Processing comments:  33%|███▎      | 83/250 [01:12<02:27,  1.13it/s]"
     ]
    },
    {
     "name": "stdout",
     "output_type": "stream",
     "text": [
      "-1\n",
      "严重建议1000亿以上的一个指数，1000亿以下一个指数，这样中小板快就能看出和\n"
     ]
    },
    {
     "name": "stderr",
     "output_type": "stream",
     "text": [
      "Processing comments:  34%|███▎      | 84/250 [01:13<02:30,  1.11it/s]"
     ]
    },
    {
     "name": "stdout",
     "output_type": "stream",
     "text": [
      "0\n",
      "明天拉起来\n"
     ]
    },
    {
     "name": "stderr",
     "output_type": "stream",
     "text": [
      "Processing comments:  34%|███▍      | 85/250 [01:14<02:15,  1.22it/s]"
     ]
    },
    {
     "name": "stdout",
     "output_type": "stream",
     "text": [
      "1\n",
      "$上证指数(SH000001)$星期三就没有不亏的\n"
     ]
    },
    {
     "name": "stderr",
     "output_type": "stream",
     "text": [
      "Processing comments:  34%|███▍      | 86/250 [01:14<02:15,  1.21it/s]"
     ]
    },
    {
     "name": "stdout",
     "output_type": "stream",
     "text": [
      " -1\n",
      "挣钱犹如针挑土，亏钱犹如水推沙\n"
     ]
    },
    {
     "name": "stderr",
     "output_type": "stream",
     "text": [
      "Processing comments:  35%|███▍      | 87/250 [01:15<02:11,  1.24it/s]"
     ]
    },
    {
     "name": "stdout",
     "output_type": "stream",
     "text": [
      "0\n",
      "大盘想往上走，还得看宁王和迪王\n"
     ]
    },
    {
     "name": "stderr",
     "output_type": "stream",
     "text": [
      "Processing comments:  35%|███▌      | 88/250 [01:16<02:02,  1.33it/s]"
     ]
    },
    {
     "name": "stdout",
     "output_type": "stream",
     "text": [
      "0\n",
      "今天A股小跌了神秘之手不见了\n"
     ]
    },
    {
     "name": "stderr",
     "output_type": "stream",
     "text": [
      "Processing comments:  36%|███▌      | 89/250 [01:17<02:05,  1.28it/s]"
     ]
    },
    {
     "name": "stdout",
     "output_type": "stream",
     "text": [
      "-1\n",
      "$上证指数(SH000001)$大A，威武\n"
     ]
    },
    {
     "name": "stderr",
     "output_type": "stream",
     "text": [
      "Processing comments:  36%|███▌      | 90/250 [01:17<02:04,  1.28it/s]"
     ]
    },
    {
     "name": "stdout",
     "output_type": "stream",
     "text": [
      "1\n",
      "$上证指数(SH000001)$用平板复盘看图形比较好看\n"
     ]
    },
    {
     "name": "stderr",
     "output_type": "stream",
     "text": [
      "Processing comments:  36%|███▋      | 91/250 [01:18<02:03,  1.29it/s]"
     ]
    },
    {
     "name": "stdout",
     "output_type": "stream",
     "text": [
      "1\n",
      "三千点成.天花吊顶\n"
     ]
    },
    {
     "name": "stderr",
     "output_type": "stream",
     "text": [
      "Processing comments:  37%|███▋      | 92/250 [01:19<02:02,  1.29it/s]"
     ]
    },
    {
     "name": "stdout",
     "output_type": "stream",
     "text": [
      "1\n",
      "感觉要复制昨晚美股走势，下午翻红[俏皮]\n"
     ]
    },
    {
     "name": "stderr",
     "output_type": "stream",
     "text": [
      "Processing comments:  37%|███▋      | 93/250 [01:20<02:01,  1.30it/s]"
     ]
    },
    {
     "name": "stdout",
     "output_type": "stream",
     "text": [
      "1\n",
      "2800点\n"
     ]
    },
    {
     "name": "stderr",
     "output_type": "stream",
     "text": [
      "Processing comments:  38%|███▊      | 94/250 [01:20<02:00,  1.30it/s]"
     ]
    },
    {
     "name": "stdout",
     "output_type": "stream",
     "text": [
      "0\n",
      "又创新高了，颠倒着看\n"
     ]
    },
    {
     "name": "stderr",
     "output_type": "stream",
     "text": [
      "Processing comments:  38%|███▊      | 95/250 [01:21<01:52,  1.37it/s]"
     ]
    },
    {
     "name": "stdout",
     "output_type": "stream",
     "text": [
      "1\n",
      "十一月10%应有11000\n"
     ]
    },
    {
     "name": "stderr",
     "output_type": "stream",
     "text": [
      "Processing comments:  38%|███▊      | 96/250 [01:22<01:54,  1.35it/s]"
     ]
    },
    {
     "name": "stdout",
     "output_type": "stream",
     "text": [
      "1\n",
      "买了个抗菌饭碗、一双筷子、一个水杯…．．[笑哭]\n"
     ]
    },
    {
     "name": "stderr",
     "output_type": "stream",
     "text": [
      "Processing comments:  39%|███▉      | 97/250 [01:23<02:02,  1.25it/s]"
     ]
    },
    {
     "name": "stdout",
     "output_type": "stream",
     "text": [
      "1\n",
      "A股开门红，个股冲高落散户又上当，账户不见红\n"
     ]
    },
    {
     "name": "stderr",
     "output_type": "stream",
     "text": [
      "Processing comments:  39%|███▉      | 98/250 [01:24<02:03,  1.23it/s]"
     ]
    },
    {
     "name": "stdout",
     "output_type": "stream",
     "text": [
      "-1\n",
      "证券明明是利好反而大跌，况且证券也没涨，跌了两年多了\n"
     ]
    },
    {
     "name": "stderr",
     "output_type": "stream",
     "text": [
      "Processing comments:  40%|███▉      | 99/250 [01:25<02:11,  1.15it/s]"
     ]
    },
    {
     "name": "stdout",
     "output_type": "stream",
     "text": [
      " -1\n",
      "戏水\n"
     ]
    },
    {
     "name": "stderr",
     "output_type": "stream",
     "text": [
      "Processing comments:  40%|████      | 100/250 [01:25<01:59,  1.25it/s]"
     ]
    },
    {
     "name": "stdout",
     "output_type": "stream",
     "text": [
      "0\n",
      "#失守3000点，A股何去何从？#割肉了\n"
     ]
    },
    {
     "name": "stderr",
     "output_type": "stream",
     "text": [
      "Processing comments:  40%|████      | 101/250 [01:26<01:53,  1.31it/s]"
     ]
    },
    {
     "name": "stdout",
     "output_type": "stream",
     "text": [
      "-1\n",
      "我没割反加仓了\n"
     ]
    },
    {
     "name": "stderr",
     "output_type": "stream",
     "text": [
      "Processing comments:  41%|████      | 102/250 [01:27<01:53,  1.30it/s]"
     ]
    },
    {
     "name": "stdout",
     "output_type": "stream",
     "text": [
      "1\n",
      "这就尴尬了，17%的收益率，\n"
     ]
    },
    {
     "name": "stderr",
     "output_type": "stream",
     "text": [
      "Processing comments:  41%|████      | 103/250 [01:27<01:46,  1.38it/s]"
     ]
    },
    {
     "name": "stdout",
     "output_type": "stream",
     "text": [
      "0\n",
      "还是得看中字头企业呀\n"
     ]
    },
    {
     "name": "stderr",
     "output_type": "stream",
     "text": [
      "Processing comments:  42%|████▏     | 104/250 [01:28<01:41,  1.44it/s]"
     ]
    },
    {
     "name": "stdout",
     "output_type": "stream",
     "text": [
      "1\n",
      "$上证指数(SH000001)$大止不住了\n"
     ]
    },
    {
     "name": "stderr",
     "output_type": "stream",
     "text": [
      "Processing comments:  42%|████▏     | 105/250 [01:29<01:51,  1.30it/s]"
     ]
    },
    {
     "name": "stdout",
     "output_type": "stream",
     "text": [
      "1\n",
      "砖家常说一段上涨的尾声便是保险的拉升\n"
     ]
    },
    {
     "name": "stderr",
     "output_type": "stream",
     "text": [
      "Processing comments:  42%|████▏     | 106/250 [01:30<01:51,  1.30it/s]"
     ]
    },
    {
     "name": "stdout",
     "output_type": "stream",
     "text": [
      "1\n",
      "节前效应调整不可避免，限电头条下，当前最热最强当属新能源（光伏，风能，核能），加\n"
     ]
    },
    {
     "name": "stderr",
     "output_type": "stream",
     "text": [
      "Processing comments:  43%|████▎     | 107/250 [01:30<01:50,  1.30it/s]"
     ]
    },
    {
     "name": "stdout",
     "output_type": "stream",
     "text": [
      "1\n",
      "每天主要靠茅台宁德时代来维系指数。\n"
     ]
    },
    {
     "name": "stderr",
     "output_type": "stream",
     "text": [
      "Processing comments:  43%|████▎     | 108/250 [01:31<01:49,  1.30it/s]"
     ]
    },
    {
     "name": "stdout",
     "output_type": "stream",
     "text": [
      "0\n",
      "光伏和稀土怎么回事？\n"
     ]
    },
    {
     "name": "stderr",
     "output_type": "stream",
     "text": [
      "Processing comments:  44%|████▎     | 109/250 [01:32<01:42,  1.38it/s]"
     ]
    },
    {
     "name": "stdout",
     "output_type": "stream",
     "text": [
      "0\n",
      "今天早盘追进去的人多吧。庄家乘机交换筹码。午盘大回落，再套一大片\n"
     ]
    },
    {
     "name": "stderr",
     "output_type": "stream",
     "text": [
      "Processing comments:  44%|████▍     | 110/250 [01:33<01:46,  1.32it/s]"
     ]
    },
    {
     "name": "stdout",
     "output_type": "stream",
     "text": [
      "-1\n",
      "量化机器功劳大\n"
     ]
    },
    {
     "name": "stderr",
     "output_type": "stream",
     "text": [
      "Processing comments:  44%|████▍     | 111/250 [01:33<01:39,  1.39it/s]"
     ]
    },
    {
     "name": "stdout",
     "output_type": "stream",
     "text": [
      "1\n",
      "$上证指数(SH000001)$真的恶心北向这条狗\n"
     ]
    },
    {
     "name": "stderr",
     "output_type": "stream",
     "text": [
      "Processing comments:  45%|████▍     | 112/250 [01:34<01:43,  1.33it/s]"
     ]
    },
    {
     "name": "stdout",
     "output_type": "stream",
     "text": [
      "-1\n",
      "$上证指数(SH000001)$护盘的都没有了。北向怎么停了。百分之九十九的票在\n"
     ]
    },
    {
     "name": "stderr",
     "output_type": "stream",
     "text": [
      "Processing comments:  45%|████▌     | 113/250 [01:35<01:46,  1.29it/s]"
     ]
    },
    {
     "name": "stdout",
     "output_type": "stream",
     "text": [
      "-1\n",
      "支持3个月走500点，符合所有人利益，11月是黄金岁月，一定要敢于自信.\n"
     ]
    },
    {
     "name": "stderr",
     "output_type": "stream",
     "text": [
      "Processing comments:  46%|████▌     | 114/250 [01:36<01:45,  1.29it/s]"
     ]
    },
    {
     "name": "stdout",
     "output_type": "stream",
     "text": [
      "1\n",
      "冲冲冲\n"
     ]
    },
    {
     "name": "stderr",
     "output_type": "stream",
     "text": [
      "Processing comments:  46%|████▌     | 115/250 [01:37<01:44,  1.29it/s]"
     ]
    },
    {
     "name": "stdout",
     "output_type": "stream",
     "text": [
      "1\n",
      "$上证指数(SH000001)$今天是千年一遇的九2日！2022年2月22日正月\n"
     ]
    },
    {
     "name": "stderr",
     "output_type": "stream",
     "text": [
      "Processing comments:  46%|████▋     | 116/250 [01:37<01:50,  1.21it/s]"
     ]
    },
    {
     "name": "stdout",
     "output_type": "stream",
     "text": [
      "1\n",
      "今天破2900\n"
     ]
    },
    {
     "name": "stderr",
     "output_type": "stream",
     "text": [
      "Processing comments:  47%|████▋     | 117/250 [01:38<01:50,  1.21it/s]"
     ]
    },
    {
     "name": "stdout",
     "output_type": "stream",
     "text": [
      "-1\n",
      "$上证指数(SH000001)$收盘必破3400\n"
     ]
    },
    {
     "name": "stderr",
     "output_type": "stream",
     "text": [
      "Processing comments:  47%|████▋     | 118/250 [01:39<01:49,  1.20it/s]"
     ]
    },
    {
     "name": "stdout",
     "output_type": "stream",
     "text": [
      "-1\n",
      "大盘和它同样走\n"
     ]
    },
    {
     "name": "stderr",
     "output_type": "stream",
     "text": [
      "Processing comments:  48%|████▊     | 119/250 [01:40<01:46,  1.23it/s]"
     ]
    },
    {
     "name": "stdout",
     "output_type": "stream",
     "text": [
      "0\n",
      "昨晚我算了一挂，大跌开始要2900止损。\n"
     ]
    },
    {
     "name": "stderr",
     "output_type": "stream",
     "text": [
      "Processing comments:  48%|████▊     | 120/250 [01:41<01:40,  1.29it/s]"
     ]
    },
    {
     "name": "stdout",
     "output_type": "stream",
     "text": [
      "-1\n",
      "北交所一个板是30%，创业板科创板一个板是20%；说不动有一天，市场没有涨停板了\n"
     ]
    },
    {
     "name": "stderr",
     "output_type": "stream",
     "text": [
      "Processing comments:  48%|████▊     | 121/250 [01:42<01:46,  1.21it/s]"
     ]
    },
    {
     "name": "stdout",
     "output_type": "stream",
     "text": [
      "0\n",
      "北向尾盘持续抄底，确实鸡贼，周一铁定高开了，估计一波涨停潮\n"
     ]
    },
    {
     "name": "stderr",
     "output_type": "stream",
     "text": [
      "Processing comments:  49%|████▉     | 122/250 [01:42<01:43,  1.24it/s]"
     ]
    },
    {
     "name": "stdout",
     "output_type": "stream",
     "text": [
      "1\n",
      "站稳年线[惊讶]\n"
     ]
    },
    {
     "name": "stderr",
     "output_type": "stream",
     "text": [
      "Processing comments:  49%|████▉     | 123/250 [01:43<01:35,  1.33it/s]"
     ]
    },
    {
     "name": "stdout",
     "output_type": "stream",
     "text": [
      "1\n",
      "很久必跌，看来缺口肯定是要补回的\n"
     ]
    },
    {
     "name": "stderr",
     "output_type": "stream",
     "text": [
      "Processing comments:  50%|████▉     | 124/250 [01:44<01:38,  1.29it/s]"
     ]
    },
    {
     "name": "stdout",
     "output_type": "stream",
     "text": [
      "-1\n",
      "$上证指数(SH000001)$成交9600亿元左右\n"
     ]
    },
    {
     "name": "stderr",
     "output_type": "stream",
     "text": [
      "Processing comments:  50%|█████     | 125/250 [01:45<01:37,  1.28it/s]"
     ]
    },
    {
     "name": "stdout",
     "output_type": "stream",
     "text": [
      "0\n",
      "假，指数不跌个股惨跌\n"
     ]
    },
    {
     "name": "stderr",
     "output_type": "stream",
     "text": [
      "Processing comments:  50%|█████     | 126/250 [01:45<01:38,  1.26it/s]"
     ]
    },
    {
     "name": "stdout",
     "output_type": "stream",
     "text": [
      "-1\n",
      "$上证指数(SH000001)$辽港股份\n"
     ]
    },
    {
     "name": "stderr",
     "output_type": "stream",
     "text": [
      "Processing comments:  51%|█████     | 127/250 [01:46<01:37,  1.27it/s]"
     ]
    },
    {
     "name": "stdout",
     "output_type": "stream",
     "text": [
      "0\n",
      "赶紧破了\n"
     ]
    },
    {
     "name": "stderr",
     "output_type": "stream",
     "text": [
      "Processing comments:  51%|█████     | 128/250 [01:47<01:30,  1.35it/s]"
     ]
    },
    {
     "name": "stdout",
     "output_type": "stream",
     "text": [
      "1\n",
      "上午中阳线是诱多！\n"
     ]
    },
    {
     "name": "stderr",
     "output_type": "stream",
     "text": [
      "Processing comments:  52%|█████▏    | 129/250 [01:48<01:33,  1.30it/s]"
     ]
    },
    {
     "name": "stdout",
     "output_type": "stream",
     "text": [
      "-1\n",
      "周一低开低走，同意的点赞，不同意的评论区见！\n"
     ]
    },
    {
     "name": "stderr",
     "output_type": "stream",
     "text": [
      "Processing comments:  52%|█████▏    | 130/250 [01:48<01:34,  1.26it/s]"
     ]
    },
    {
     "name": "stdout",
     "output_type": "stream",
     "text": [
      " -1\n",
      "$上证指数(SH000001)$券商不动，不可能上涨\n"
     ]
    },
    {
     "name": "stderr",
     "output_type": "stream",
     "text": [
      "Processing comments:  52%|█████▏    | 131/250 [01:49<01:35,  1.24it/s]"
     ]
    },
    {
     "name": "stdout",
     "output_type": "stream",
     "text": [
      "-1\n",
      "利好跌停[微笑]\n"
     ]
    },
    {
     "name": "stderr",
     "output_type": "stream",
     "text": [
      "Processing comments:  53%|█████▎    | 132/250 [01:50<01:35,  1.23it/s]"
     ]
    },
    {
     "name": "stdout",
     "output_type": "stream",
     "text": [
      "-1\n",
      "做st吧\n"
     ]
    },
    {
     "name": "stderr",
     "output_type": "stream",
     "text": [
      "Processing comments:  53%|█████▎    | 133/250 [01:51<01:35,  1.22it/s]"
     ]
    },
    {
     "name": "stdout",
     "output_type": "stream",
     "text": [
      " -1\n",
      "下午可能反抽3100，跳水\n"
     ]
    },
    {
     "name": "stderr",
     "output_type": "stream",
     "text": [
      "Processing comments:  54%|█████▎    | 134/250 [01:52<01:30,  1.28it/s]"
     ]
    },
    {
     "name": "stdout",
     "output_type": "stream",
     "text": [
      "-1\n",
      "砸继续加油奥利给。\n"
     ]
    },
    {
     "name": "stderr",
     "output_type": "stream",
     "text": [
      "Processing comments:  54%|█████▍    | 135/250 [01:52<01:29,  1.28it/s]"
     ]
    },
    {
     "name": "stdout",
     "output_type": "stream",
     "text": [
      "1\n",
      "$上证指数(SH000001)$今天大盘已下跌为主。\n"
     ]
    },
    {
     "name": "stderr",
     "output_type": "stream",
     "text": [
      "Processing comments:  54%|█████▍    | 136/250 [01:53<01:30,  1.25it/s]"
     ]
    },
    {
     "name": "stdout",
     "output_type": "stream",
     "text": [
      "-1\n",
      "行情难以确立。已无方向感。\n"
     ]
    },
    {
     "name": "stderr",
     "output_type": "stream",
     "text": [
      "Processing comments:  55%|█████▍    | 137/250 [01:54<01:31,  1.23it/s]"
     ]
    },
    {
     "name": "stdout",
     "output_type": "stream",
     "text": [
      "-1\n",
      "沪指连涨6天后收2小阴，北向继续进场，节前扫货不停手，场内机构依然稳定且惜售，而\n"
     ]
    },
    {
     "name": "stderr",
     "output_type": "stream",
     "text": [
      "Processing comments:  55%|█████▌    | 138/250 [01:55<01:38,  1.14it/s]"
     ]
    },
    {
     "name": "stdout",
     "output_type": "stream",
     "text": [
      "0\n",
      "国常会出台支持平台经济规范健康发展的具体措施，发挥好平台经济创造就业、促进消费作\n"
     ]
    },
    {
     "name": "stderr",
     "output_type": "stream",
     "text": [
      "Processing comments:  56%|█████▌    | 139/250 [01:56<01:35,  1.16it/s]"
     ]
    },
    {
     "name": "stdout",
     "output_type": "stream",
     "text": [
      "1\n",
      "叼毛内资就知道跑\n"
     ]
    },
    {
     "name": "stderr",
     "output_type": "stream",
     "text": [
      "Processing comments:  56%|█████▌    | 140/250 [01:57<01:34,  1.17it/s]"
     ]
    },
    {
     "name": "stdout",
     "output_type": "stream",
     "text": [
      "-1\n",
      "拉权重强撑着指数其余个股大家心里都有数\n"
     ]
    },
    {
     "name": "stderr",
     "output_type": "stream",
     "text": [
      "Processing comments:  56%|█████▋    | 141/250 [01:57<01:25,  1.27it/s]"
     ]
    },
    {
     "name": "stdout",
     "output_type": "stream",
     "text": [
      "0\n",
      "三个跌停起步\n"
     ]
    },
    {
     "name": "stderr",
     "output_type": "stream",
     "text": [
      "Processing comments:  57%|█████▋    | 142/250 [01:58<01:26,  1.24it/s]"
     ]
    },
    {
     "name": "stdout",
     "output_type": "stream",
     "text": [
      " -1\n",
      "指数两年才涨十个点，大资金去掉融资成本才两三个点利润率。一千万赚二三十万。弄个几\n"
     ]
    },
    {
     "name": "stderr",
     "output_type": "stream",
     "text": [
      "Processing comments:  57%|█████▋    | 143/250 [01:59<01:25,  1.26it/s]"
     ]
    },
    {
     "name": "stdout",
     "output_type": "stream",
     "text": [
      "0\n",
      "明年的今天，上证必到4500，耶稣也拦不住，立贴为证[加油][加油][加油]\n"
     ]
    },
    {
     "name": "stderr",
     "output_type": "stream",
     "text": [
      "Processing comments:  58%|█████▊    | 144/250 [02:00<01:29,  1.19it/s]"
     ]
    },
    {
     "name": "stdout",
     "output_type": "stream",
     "text": [
      "1\n",
      "最强大风口锂矿，锂矿，锂矿\n"
     ]
    },
    {
     "name": "stderr",
     "output_type": "stream",
     "text": [
      "Processing comments:  58%|█████▊    | 145/250 [02:01<01:26,  1.22it/s]"
     ]
    },
    {
     "name": "stdout",
     "output_type": "stream",
     "text": [
      "1\n",
      "转多思维\n"
     ]
    },
    {
     "name": "stderr",
     "output_type": "stream",
     "text": [
      "Processing comments:  58%|█████▊    | 146/250 [02:02<01:23,  1.24it/s]"
     ]
    },
    {
     "name": "stdout",
     "output_type": "stream",
     "text": [
      "0\n",
      "内资不是蠢就是坏\n"
     ]
    },
    {
     "name": "stderr",
     "output_type": "stream",
     "text": [
      "Processing comments:  59%|█████▉    | 147/250 [02:02<01:24,  1.22it/s]"
     ]
    },
    {
     "name": "stdout",
     "output_type": "stream",
     "text": [
      "-1\n",
      "下周不亏钱了。\n"
     ]
    },
    {
     "name": "stderr",
     "output_type": "stream",
     "text": [
      "Processing comments:  59%|█████▉    | 148/250 [02:03<01:17,  1.32it/s]"
     ]
    },
    {
     "name": "stdout",
     "output_type": "stream",
     "text": [
      "1\n",
      "$上证指数(SH000001)$下半年可不可以开启狂干模式，因为我们的目标是星辰\n"
     ]
    },
    {
     "name": "stderr",
     "output_type": "stream",
     "text": [
      "Processing comments:  60%|█████▉    | 149/250 [02:04<01:17,  1.31it/s]"
     ]
    },
    {
     "name": "stdout",
     "output_type": "stream",
     "text": [
      "1\n",
      "一句七字沪波段……\n"
     ]
    },
    {
     "name": "stderr",
     "output_type": "stream",
     "text": [
      "Processing comments:  60%|██████    | 150/250 [02:05<01:18,  1.27it/s]"
     ]
    },
    {
     "name": "stdout",
     "output_type": "stream",
     "text": [
      " 0\n",
      "也不准备撤退了，就想看看你能跌到哪儿\n"
     ]
    },
    {
     "name": "stderr",
     "output_type": "stream",
     "text": [
      "Processing comments:  60%|██████    | 151/250 [02:05<01:14,  1.32it/s]"
     ]
    },
    {
     "name": "stdout",
     "output_type": "stream",
     "text": [
      " -1\n",
      "人民有信仰，国家有力量\n"
     ]
    },
    {
     "name": "stderr",
     "output_type": "stream",
     "text": [
      "Processing comments:  61%|██████    | 152/250 [02:06<01:14,  1.32it/s]"
     ]
    },
    {
     "name": "stdout",
     "output_type": "stream",
     "text": [
      "1\n",
      "指数又回到3200本金又新低。\n"
     ]
    },
    {
     "name": "stderr",
     "output_type": "stream",
     "text": [
      "Processing comments:  61%|██████    | 153/250 [02:07<01:11,  1.36it/s]"
     ]
    },
    {
     "name": "stdout",
     "output_type": "stream",
     "text": [
      "-1\n",
      "$上证指数(SH000001)$都在大涨，暴涨为什么拉都拉大上去，什么问事\n"
     ]
    },
    {
     "name": "stderr",
     "output_type": "stream",
     "text": [
      "Processing comments:  62%|██████▏   | 154/250 [02:08<01:11,  1.33it/s]"
     ]
    },
    {
     "name": "stdout",
     "output_type": "stream",
     "text": [
      "1\n",
      "$上证指数(SH000001)$只要有任何一家机构唱多一只股票时，建议散户朋友们\n"
     ]
    },
    {
     "name": "stderr",
     "output_type": "stream",
     "text": [
      "Processing comments:  62%|██████▏   | 155/250 [02:09<01:18,  1.21it/s]"
     ]
    },
    {
     "name": "stdout",
     "output_type": "stream",
     "text": [
      "-1\n",
      "$上证指数(SH000001)$我看你跌到那里去，反正我躺倒装死算了，资金再缩水\n"
     ]
    },
    {
     "name": "stderr",
     "output_type": "stream",
     "text": [
      "Processing comments:  62%|██████▏   | 156/250 [02:09<01:18,  1.20it/s]"
     ]
    },
    {
     "name": "stdout",
     "output_type": "stream",
     "text": [
      "-1\n",
      "连续两天缩量阳线+钢铁股拉指数,大家要小心了\n"
     ]
    },
    {
     "name": "stderr",
     "output_type": "stream",
     "text": [
      "Processing comments:  63%|██████▎   | 157/250 [02:10<01:17,  1.20it/s]"
     ]
    },
    {
     "name": "stdout",
     "output_type": "stream",
     "text": [
      "-1\n",
      "7.81卖了，闹心！\n"
     ]
    },
    {
     "name": "stderr",
     "output_type": "stream",
     "text": [
      "Processing comments:  63%|██████▎   | 158/250 [02:11<01:12,  1.26it/s]"
     ]
    },
    {
     "name": "stdout",
     "output_type": "stream",
     "text": [
      " -1\n",
      "继续拉茅台啊[大笑][大笑][大笑]\n"
     ]
    },
    {
     "name": "stderr",
     "output_type": "stream",
     "text": [
      "Processing comments:  64%|██████▎   | 159/250 [02:12<01:11,  1.27it/s]"
     ]
    },
    {
     "name": "stdout",
     "output_type": "stream",
     "text": [
      "1\n",
      "大盘一直在跌几个月了，我的002719.和600784一直不跌不涨\n"
     ]
    },
    {
     "name": "stderr",
     "output_type": "stream",
     "text": [
      "Processing comments:  64%|██████▍   | 160/250 [02:12<01:10,  1.28it/s]"
     ]
    },
    {
     "name": "stdout",
     "output_type": "stream",
     "text": [
      "0\n",
      "做个好人长线持有，低价优质股的小散真难！而且难上加难！亏钱分分钟的事，赚点钱比上\n"
     ]
    },
    {
     "name": "stderr",
     "output_type": "stream",
     "text": [
      "Processing comments:  64%|██████▍   | 161/250 [02:13<01:14,  1.20it/s]"
     ]
    },
    {
     "name": "stdout",
     "output_type": "stream",
     "text": [
      "0\n",
      "我大A也进入技术性牛市了！\n"
     ]
    },
    {
     "name": "stderr",
     "output_type": "stream",
     "text": [
      "Processing comments:  65%|██████▍   | 162/250 [02:14<01:11,  1.23it/s]"
     ]
    },
    {
     "name": "stdout",
     "output_type": "stream",
     "text": [
      "1\n",
      "为什么我的还是绿的\n"
     ]
    },
    {
     "name": "stderr",
     "output_type": "stream",
     "text": [
      "Processing comments:  65%|██████▌   | 163/250 [02:15<01:09,  1.24it/s]"
     ]
    },
    {
     "name": "stdout",
     "output_type": "stream",
     "text": [
      "0\n",
      "今天砸盘子，明天北后操底\n"
     ]
    },
    {
     "name": "stderr",
     "output_type": "stream",
     "text": [
      "Processing comments:  66%|██████▌   | 164/250 [02:16<01:09,  1.23it/s]"
     ]
    },
    {
     "name": "stdout",
     "output_type": "stream",
     "text": [
      "-1\n",
      "跌这么点已经很给力了\n"
     ]
    },
    {
     "name": "stderr",
     "output_type": "stream",
     "text": [
      "Processing comments:  66%|██████▌   | 165/250 [02:17<01:07,  1.25it/s]"
     ]
    },
    {
     "name": "stdout",
     "output_type": "stream",
     "text": [
      "1\n",
      "买股票就是大鱼吃小鱼，大主力吃小主力，小主力吃邮资吃散户\n"
     ]
    },
    {
     "name": "stderr",
     "output_type": "stream",
     "text": [
      "Processing comments:  66%|██████▋   | 166/250 [02:17<01:08,  1.23it/s]"
     ]
    },
    {
     "name": "stdout",
     "output_type": "stream",
     "text": [
      "-1\n",
      "骗你新高的模样\n"
     ]
    },
    {
     "name": "stderr",
     "output_type": "stream",
     "text": [
      "Processing comments:  67%|██████▋   | 167/250 [02:18<01:06,  1.25it/s]"
     ]
    },
    {
     "name": "stdout",
     "output_type": "stream",
     "text": [
      "1\n",
      "下跌不言底，至少还得下个台阶，金针探底[韭菜][韭菜]\n"
     ]
    },
    {
     "name": "stderr",
     "output_type": "stream",
     "text": [
      "Processing comments:  67%|██████▋   | 168/250 [02:19<01:10,  1.16it/s]"
     ]
    },
    {
     "name": "stdout",
     "output_type": "stream",
     "text": [
      "-1\n",
      "今年玩跑的快，别往年还早！\n"
     ]
    },
    {
     "name": "stderr",
     "output_type": "stream",
     "text": [
      "Processing comments:  68%|██████▊   | 169/250 [02:20<01:07,  1.20it/s]"
     ]
    },
    {
     "name": "stdout",
     "output_type": "stream",
     "text": [
      "1\n",
      "指数上去了，但赚钱效应不大，难搞，5千多只票，一天不到一万亿，指数一跌全部哗啦啦\n"
     ]
    },
    {
     "name": "stderr",
     "output_type": "stream",
     "text": [
      "Processing comments:  68%|██████▊   | 170/250 [02:21<01:07,  1.19it/s]"
     ]
    },
    {
     "name": "stdout",
     "output_type": "stream",
     "text": [
      "-1\n",
      "如果能跌破3千，就是绝佳的最后的上车机会！！\n"
     ]
    },
    {
     "name": "stderr",
     "output_type": "stream",
     "text": [
      "Processing comments:  68%|██████▊   | 171/250 [02:22<01:02,  1.26it/s]"
     ]
    },
    {
     "name": "stdout",
     "output_type": "stream",
     "text": [
      "-1\n",
      "远离股市\n"
     ]
    },
    {
     "name": "stderr",
     "output_type": "stream",
     "text": [
      "Processing comments:  69%|██████▉   | 172/250 [02:22<00:59,  1.31it/s]"
     ]
    },
    {
     "name": "stdout",
     "output_type": "stream",
     "text": [
      "-1\n",
      "我买[偷笑]\n"
     ]
    },
    {
     "name": "stderr",
     "output_type": "stream",
     "text": [
      "Processing comments:  69%|██████▉   | 173/250 [02:23<00:55,  1.39it/s]"
     ]
    },
    {
     "name": "stdout",
     "output_type": "stream",
     "text": [
      "1\n",
      "$上证指数(SH000001)$国资委：兵器造核酸检测车下线，每日可完成2880\n"
     ]
    },
    {
     "name": "stderr",
     "output_type": "stream",
     "text": [
      "Processing comments:  70%|██████▉   | 174/250 [02:24<00:55,  1.36it/s]"
     ]
    },
    {
     "name": "stdout",
     "output_type": "stream",
     "text": [
      "1\n",
      "别演了，低开低走\n"
     ]
    },
    {
     "name": "stderr",
     "output_type": "stream",
     "text": [
      "Processing comments:  70%|███████   | 175/250 [02:24<00:57,  1.31it/s]"
     ]
    },
    {
     "name": "stdout",
     "output_type": "stream",
     "text": [
      " -1\n",
      "天天多选一，从9月中开始，基本没有好过\n"
     ]
    },
    {
     "name": "stderr",
     "output_type": "stream",
     "text": [
      "Processing comments:  70%|███████   | 176/250 [02:25<00:54,  1.35it/s]"
     ]
    },
    {
     "name": "stdout",
     "output_type": "stream",
     "text": [
      "-1\n",
      "又是亏本的一天。。。。。无语掉了。。。。彻底。。。。\n"
     ]
    },
    {
     "name": "stderr",
     "output_type": "stream",
     "text": [
      "Processing comments:  71%|███████   | 177/250 [02:26<00:56,  1.30it/s]"
     ]
    },
    {
     "name": "stdout",
     "output_type": "stream",
     "text": [
      "-1\n",
      "2点半开始跳水\n"
     ]
    },
    {
     "name": "stderr",
     "output_type": "stream",
     "text": [
      "Processing comments:  71%|███████   | 178/250 [02:27<00:56,  1.26it/s]"
     ]
    },
    {
     "name": "stdout",
     "output_type": "stream",
     "text": [
      "-1\n",
      "这大盘涨的心慌，各股不怎么涨，只要轻轻一下调各股就欧型，大A开始玩不正常的了，进\n"
     ]
    },
    {
     "name": "stderr",
     "output_type": "stream",
     "text": [
      "Processing comments:  72%|███████▏  | 179/250 [02:28<01:00,  1.17it/s]"
     ]
    },
    {
     "name": "stdout",
     "output_type": "stream",
     "text": [
      "-1\n",
      "明天3228开盘\n"
     ]
    },
    {
     "name": "stderr",
     "output_type": "stream",
     "text": [
      "Processing comments:  72%|███████▏  | 180/250 [02:29<00:58,  1.20it/s]"
     ]
    },
    {
     "name": "stdout",
     "output_type": "stream",
     "text": [
      "0\n",
      "今晚人家又要大涨了，你懂的！\n"
     ]
    },
    {
     "name": "stderr",
     "output_type": "stream",
     "text": [
      "Processing comments:  72%|███████▏  | 181/250 [02:29<00:53,  1.30it/s]"
     ]
    },
    {
     "name": "stdout",
     "output_type": "stream",
     "text": [
      "1\n",
      "云汉芯城上市IPO受理\n"
     ]
    },
    {
     "name": "stderr",
     "output_type": "stream",
     "text": [
      "Processing comments:  73%|███████▎  | 182/250 [02:30<00:55,  1.22it/s]"
     ]
    },
    {
     "name": "stdout",
     "output_type": "stream",
     "text": [
      "0\n",
      "北向两点半以后扫货?\n"
     ]
    },
    {
     "name": "stderr",
     "output_type": "stream",
     "text": [
      "Processing comments:  73%|███████▎  | 183/250 [02:31<00:51,  1.31it/s]"
     ]
    },
    {
     "name": "stdout",
     "output_type": "stream",
     "text": [
      "0\n",
      "主力筹码＜0.6，还不走？\n"
     ]
    },
    {
     "name": "stderr",
     "output_type": "stream",
     "text": [
      "Processing comments:  74%|███████▎  | 184/250 [02:32<00:51,  1.27it/s]"
     ]
    },
    {
     "name": "stdout",
     "output_type": "stream",
     "text": [
      "-1\n",
      "$上证指数(SH000001)$今年复制08年，18年走势啰，现在才是恐慌的开始\n"
     ]
    },
    {
     "name": "stderr",
     "output_type": "stream",
     "text": [
      "Processing comments:  74%|███████▍  | 185/250 [02:33<00:55,  1.17it/s]"
     ]
    },
    {
     "name": "stdout",
     "output_type": "stream",
     "text": [
      "-1\n",
      "周线跌破长期均线已成定居\n"
     ]
    },
    {
     "name": "stderr",
     "output_type": "stream",
     "text": [
      "Processing comments:  74%|███████▍  | 186/250 [02:33<00:51,  1.24it/s]"
     ]
    },
    {
     "name": "stdout",
     "output_type": "stream",
     "text": [
      "-1\n",
      "求跌\n"
     ]
    },
    {
     "name": "stderr",
     "output_type": "stream",
     "text": [
      "Processing comments:  75%|███████▍  | 187/250 [02:34<00:51,  1.22it/s]"
     ]
    },
    {
     "name": "stdout",
     "output_type": "stream",
     "text": [
      "-1\n",
      "干啥\n"
     ]
    },
    {
     "name": "stderr",
     "output_type": "stream",
     "text": [
      "Processing comments:  75%|███████▌  | 188/250 [02:35<00:54,  1.15it/s]"
     ]
    },
    {
     "name": "stdout",
     "output_type": "stream",
     "text": [
      "0\n",
      "还没开始就已经结束了\n"
     ]
    },
    {
     "name": "stderr",
     "output_type": "stream",
     "text": [
      "Processing comments:  76%|███████▌  | 189/250 [02:36<00:55,  1.09it/s]"
     ]
    },
    {
     "name": "stdout",
     "output_type": "stream",
     "text": [
      "-1\n",
      "今天还不抬轿吗[坏笑]\n"
     ]
    },
    {
     "name": "stderr",
     "output_type": "stream",
     "text": [
      "Processing comments:  76%|███████▌  | 190/250 [02:37<00:52,  1.14it/s]"
     ]
    },
    {
     "name": "stdout",
     "output_type": "stream",
     "text": [
      "1\n",
      "各位股神预测一下点数[微笑]\n"
     ]
    },
    {
     "name": "stderr",
     "output_type": "stream",
     "text": [
      "Processing comments:  76%|███████▋  | 191/250 [02:38<00:50,  1.18it/s]"
     ]
    },
    {
     "name": "stdout",
     "output_type": "stream",
     "text": [
      "0\n",
      "千股跌停跌停\n"
     ]
    },
    {
     "name": "stderr",
     "output_type": "stream",
     "text": [
      "Processing comments:  77%|███████▋  | 192/250 [02:38<00:46,  1.26it/s]"
     ]
    },
    {
     "name": "stdout",
     "output_type": "stream",
     "text": [
      "-1\n",
      "大A最大一个特点就是：无事不登三宝殿，非到走投无路不出利好，从来不会有锦上添花的\n"
     ]
    },
    {
     "name": "stderr",
     "output_type": "stream",
     "text": [
      "Processing comments:  77%|███████▋  | 193/250 [02:39<00:49,  1.16it/s]"
     ]
    },
    {
     "name": "stdout",
     "output_type": "stream",
     "text": [
      "-1\n",
      "工业母机现在变成了工业小鸡，弱弱的。\n"
     ]
    },
    {
     "name": "stderr",
     "output_type": "stream",
     "text": [
      "Processing comments:  78%|███████▊  | 194/250 [02:40<00:48,  1.16it/s]"
     ]
    },
    {
     "name": "stdout",
     "output_type": "stream",
     "text": [
      "-1\n",
      "一鲸落，万物生，怕个鸟\n"
     ]
    },
    {
     "name": "stderr",
     "output_type": "stream",
     "text": [
      "Processing comments:  78%|███████▊  | 195/250 [02:41<00:45,  1.20it/s]"
     ]
    },
    {
     "name": "stdout",
     "output_type": "stream",
     "text": [
      "0\n",
      "北向买买买，内资卖卖卖！\n"
     ]
    },
    {
     "name": "stderr",
     "output_type": "stream",
     "text": [
      "Processing comments:  78%|███████▊  | 196/250 [02:42<00:45,  1.20it/s]"
     ]
    },
    {
     "name": "stdout",
     "output_type": "stream",
     "text": [
      "-1\n",
      "今天拉金融、房地产、各茅，下周大跌。鸡狗太坏了。\n"
     ]
    },
    {
     "name": "stderr",
     "output_type": "stream",
     "text": [
      "Processing comments:  79%|███████▉  | 197/250 [02:43<00:44,  1.20it/s]"
     ]
    },
    {
     "name": "stdout",
     "output_type": "stream",
     "text": [
      "-1\n",
      "这个点位很主要\n"
     ]
    },
    {
     "name": "stderr",
     "output_type": "stream",
     "text": [
      "Processing comments:  79%|███████▉  | 198/250 [02:44<00:42,  1.23it/s]"
     ]
    },
    {
     "name": "stdout",
     "output_type": "stream",
     "text": [
      "0\n",
      "上下两缺口，看你补哪个？\n"
     ]
    },
    {
     "name": "stderr",
     "output_type": "stream",
     "text": [
      "Processing comments:  80%|███████▉  | 199/250 [02:44<00:39,  1.29it/s]"
     ]
    },
    {
     "name": "stdout",
     "output_type": "stream",
     "text": [
      "-1\n",
      "今天拉个指数，明天继续砸\n"
     ]
    },
    {
     "name": "stderr",
     "output_type": "stream",
     "text": [
      "Processing comments:  80%|████████  | 200/250 [02:45<00:37,  1.34it/s]"
     ]
    },
    {
     "name": "stdout",
     "output_type": "stream",
     "text": [
      "-1\n",
      "风光储凉了风光储凉了风光储凉了风光储凉了\n"
     ]
    },
    {
     "name": "stderr",
     "output_type": "stream",
     "text": [
      "Processing comments:  80%|████████  | 201/250 [02:46<00:35,  1.37it/s]"
     ]
    },
    {
     "name": "stdout",
     "output_type": "stream",
     "text": [
      "-1\n",
      "股市，真狠\n"
     ]
    },
    {
     "name": "stderr",
     "output_type": "stream",
     "text": [
      "Processing comments:  81%|████████  | 202/250 [02:46<00:36,  1.31it/s]"
     ]
    },
    {
     "name": "stdout",
     "output_type": "stream",
     "text": [
      "-1\n",
      "以太昨日跟随大饼走势，一路震荡上行，目前已冲破3400压力位，在回调后继续延续上\n"
     ]
    },
    {
     "name": "stderr",
     "output_type": "stream",
     "text": [
      "Processing comments:  81%|████████  | 203/250 [02:47<00:36,  1.29it/s]"
     ]
    },
    {
     "name": "stdout",
     "output_type": "stream",
     "text": [
      "1\n",
      "马上止跌了\n"
     ]
    },
    {
     "name": "stderr",
     "output_type": "stream",
     "text": [
      "Processing comments:  82%|████████▏ | 204/250 [02:48<00:35,  1.30it/s]"
     ]
    },
    {
     "name": "stdout",
     "output_type": "stream",
     "text": [
      "1\n",
      "你不拉，在这一横那30分钟就走完了！目前五分钟已经走完了！自求多福吧[大笑]！\n"
     ]
    },
    {
     "name": "stderr",
     "output_type": "stream",
     "text": [
      "Processing comments:  82%|████████▏ | 205/250 [02:49<00:37,  1.21it/s]"
     ]
    },
    {
     "name": "stdout",
     "output_type": "stream",
     "text": [
      "0\n",
      "$上证指数(SH000001)$今天是个抄底的好日子\n"
     ]
    },
    {
     "name": "stderr",
     "output_type": "stream",
     "text": [
      "Processing comments:  82%|████████▏ | 206/250 [02:50<00:35,  1.24it/s]"
     ]
    },
    {
     "name": "stdout",
     "output_type": "stream",
     "text": [
      "1\n",
      "今天的单针探底和8月4日单针探底尺变一模一样！\n"
     ]
    },
    {
     "name": "stderr",
     "output_type": "stream",
     "text": [
      "Processing comments:  83%|████████▎ | 207/250 [02:51<00:36,  1.18it/s]"
     ]
    },
    {
     "name": "stdout",
     "output_type": "stream",
     "text": [
      "1\n",
      "我呸，国内主力终于睡醒了，终于跟上北上的步伐净流入了！[上涨][上涨][上涨]\n"
     ]
    },
    {
     "name": "stderr",
     "output_type": "stream",
     "text": [
      "Processing comments:  83%|████████▎ | 208/250 [02:51<00:34,  1.21it/s]"
     ]
    },
    {
     "name": "stdout",
     "output_type": "stream",
     "text": [
      "1\n",
      "A股有菜有酒[大笑][大笑][大笑]\n"
     ]
    },
    {
     "name": "stderr",
     "output_type": "stream",
     "text": [
      "Processing comments:  84%|████████▎ | 209/250 [02:52<00:31,  1.31it/s]"
     ]
    },
    {
     "name": "stdout",
     "output_type": "stream",
     "text": [
      "1\n",
      "轰隆隆~，天雷滚滚，你们听见了没？\n"
     ]
    },
    {
     "name": "stderr",
     "output_type": "stream",
     "text": [
      "Processing comments:  84%|████████▍ | 210/250 [02:53<00:28,  1.39it/s]"
     ]
    },
    {
     "name": "stdout",
     "output_type": "stream",
     "text": [
      "0\n",
      "无量反弹就是老乡别走，主力耍流氓，谨慎再谨慎\n"
     ]
    },
    {
     "name": "stderr",
     "output_type": "stream",
     "text": [
      "Processing comments:  84%|████████▍ | 211/250 [02:53<00:29,  1.32it/s]"
     ]
    },
    {
     "name": "stdout",
     "output_type": "stream",
     "text": [
      " -1\n",
      "$上证指数(SH000001)$黄白线又劈腿，GRD\n"
     ]
    },
    {
     "name": "stderr",
     "output_type": "stream",
     "text": [
      "Processing comments:  85%|████████▍ | 212/250 [02:54<00:30,  1.27it/s]"
     ]
    },
    {
     "name": "stdout",
     "output_type": "stream",
     "text": [
      "-1\n",
      "本团队今天一开盘就做空期指\n"
     ]
    },
    {
     "name": "stderr",
     "output_type": "stream",
     "text": [
      "Processing comments:  85%|████████▌ | 213/250 [02:55<00:28,  1.30it/s]"
     ]
    },
    {
     "name": "stdout",
     "output_type": "stream",
     "text": [
      "-1\n",
      "又出现一个缺口了，节后怎么走啊？\n"
     ]
    },
    {
     "name": "stderr",
     "output_type": "stream",
     "text": [
      "Processing comments:  86%|████████▌ | 214/250 [02:56<00:27,  1.29it/s]"
     ]
    },
    {
     "name": "stdout",
     "output_type": "stream",
     "text": [
      "0\n",
      "数字中国龙头...中国电信\n"
     ]
    },
    {
     "name": "stderr",
     "output_type": "stream",
     "text": [
      "Processing comments:  86%|████████▌ | 215/250 [02:57<00:27,  1.29it/s]"
     ]
    },
    {
     "name": "stdout",
     "output_type": "stream",
     "text": [
      "0\n",
      "大盘涨没有赚钱，大盘跌亏更多\n"
     ]
    },
    {
     "name": "stderr",
     "output_type": "stream",
     "text": [
      "Processing comments:  86%|████████▋ | 216/250 [02:57<00:25,  1.34it/s]"
     ]
    },
    {
     "name": "stdout",
     "output_type": "stream",
     "text": [
      "-1\n",
      "$上证指数(SH000001)$\n"
     ]
    },
    {
     "name": "stderr",
     "output_type": "stream",
     "text": [
      "Processing comments:  87%|████████▋ | 217/250 [02:59<00:38,  1.16s/it]"
     ]
    },
    {
     "name": "stdout",
     "output_type": "stream",
     "text": [
      "0\n",
      "\n",
      "(因为这句话没有表达出看涨、看跌或中立的情绪)。\n",
      "周线级别大调整已经显现出来，看周K\n"
     ]
    },
    {
     "name": "stderr",
     "output_type": "stream",
     "text": [
      "Processing comments:  87%|████████▋ | 218/250 [03:00<00:34,  1.07s/it]"
     ]
    },
    {
     "name": "stdout",
     "output_type": "stream",
     "text": [
      "-1\n",
      "$上证指数(SH000001)$315玩命的下跌！今天算打一巴掌给个糖豆吃了\n"
     ]
    },
    {
     "name": "stderr",
     "output_type": "stream",
     "text": [
      "Processing comments:  88%|████████▊ | 219/250 [03:01<00:32,  1.05s/it]"
     ]
    },
    {
     "name": "stdout",
     "output_type": "stream",
     "text": [
      "-1\n",
      "呵呵呵\n"
     ]
    },
    {
     "name": "stderr",
     "output_type": "stream",
     "text": [
      "Processing comments:  88%|████████▊ | 220/250 [03:02<00:29,  1.03it/s]"
     ]
    },
    {
     "name": "stdout",
     "output_type": "stream",
     "text": [
      "0\n",
      "这谁是真牛，把大盘的缺口刚好补了就上去，这比操纵个股还准\n"
     ]
    },
    {
     "name": "stderr",
     "output_type": "stream",
     "text": [
      "Processing comments:  88%|████████▊ | 221/250 [03:03<00:26,  1.10it/s]"
     ]
    },
    {
     "name": "stdout",
     "output_type": "stream",
     "text": [
      "1\n",
      "下跌十字星，拉券商拉权重还是救不回指数，那么月底之前盘整之后必有大跌\n"
     ]
    },
    {
     "name": "stderr",
     "output_type": "stream",
     "text": [
      "Processing comments:  89%|████████▉ | 222/250 [03:04<00:26,  1.06it/s]"
     ]
    },
    {
     "name": "stdout",
     "output_type": "stream",
     "text": [
      "-1\n",
      "我们走的是最弱的\n"
     ]
    },
    {
     "name": "stderr",
     "output_type": "stream",
     "text": [
      "Processing comments:  89%|████████▉ | 223/250 [03:05<00:24,  1.09it/s]"
     ]
    },
    {
     "name": "stdout",
     "output_type": "stream",
     "text": [
      "-1\n",
      "该下跌了\n"
     ]
    },
    {
     "name": "stderr",
     "output_type": "stream",
     "text": [
      "Processing comments:  90%|████████▉ | 224/250 [03:06<00:23,  1.12it/s]"
     ]
    },
    {
     "name": "stdout",
     "output_type": "stream",
     "text": [
      "-1\n",
      "融券，一直赚[呲牙][呲牙][呲牙][呲牙]\n"
     ]
    },
    {
     "name": "stderr",
     "output_type": "stream",
     "text": [
      "Processing comments:  90%|█████████ | 225/250 [03:06<00:21,  1.14it/s]"
     ]
    },
    {
     "name": "stdout",
     "output_type": "stream",
     "text": [
      "-1\n",
      "$上证指数(SH000001)$现在就是搞你钱\n"
     ]
    },
    {
     "name": "stderr",
     "output_type": "stream",
     "text": [
      "Processing comments:  90%|█████████ | 226/250 [03:07<00:21,  1.09it/s]"
     ]
    },
    {
     "name": "stdout",
     "output_type": "stream",
     "text": [
      "-1\n",
      "下雨了\n"
     ]
    },
    {
     "name": "stderr",
     "output_type": "stream",
     "text": [
      "Processing comments:  91%|█████████ | 227/250 [03:08<00:21,  1.08it/s]"
     ]
    },
    {
     "name": "stdout",
     "output_type": "stream",
     "text": [
      "0\n",
      "$上证指数(SH000001)$今天受到昨夜美西方股市下跌的影响，有很多的恐怖抛\n"
     ]
    },
    {
     "name": "stderr",
     "output_type": "stream",
     "text": [
      "Processing comments:  91%|█████████ | 228/250 [03:09<00:20,  1.05it/s]"
     ]
    },
    {
     "name": "stdout",
     "output_type": "stream",
     "text": [
      "-1\n",
      "A股最近强势，就是每次上午跌，下午拉升\n"
     ]
    },
    {
     "name": "stderr",
     "output_type": "stream",
     "text": [
      "Processing comments:  92%|█████████▏| 229/250 [03:10<00:18,  1.11it/s]"
     ]
    },
    {
     "name": "stdout",
     "output_type": "stream",
     "text": [
      "1\n",
      "沪深300安全\n"
     ]
    },
    {
     "name": "stderr",
     "output_type": "stream",
     "text": [
      "Processing comments:  92%|█████████▏| 230/250 [03:11<00:17,  1.16it/s]"
     ]
    },
    {
     "name": "stdout",
     "output_type": "stream",
     "text": [
      "1\n",
      "$上证指数(SH000001)$大盘涨稳住韭菜的生长\n"
     ]
    },
    {
     "name": "stderr",
     "output_type": "stream",
     "text": [
      "Processing comments:  92%|█████████▏| 231/250 [03:12<00:15,  1.20it/s]"
     ]
    },
    {
     "name": "stdout",
     "output_type": "stream",
     "text": [
      "1\n",
      "人生无常，大肠包小肠！\n"
     ]
    },
    {
     "name": "stderr",
     "output_type": "stream",
     "text": [
      "Processing comments:  93%|█████████▎| 232/250 [03:13<00:15,  1.19it/s]"
     ]
    },
    {
     "name": "stdout",
     "output_type": "stream",
     "text": [
      "-1\n",
      "挣钱的公司比亏损的走得还惨呵呵！我看这股票都是扯蛋，决定涨跌的因素不是盈利与否，\n"
     ]
    },
    {
     "name": "stderr",
     "output_type": "stream",
     "text": [
      "Processing comments:  93%|█████████▎| 233/250 [03:13<00:14,  1.17it/s]"
     ]
    },
    {
     "name": "stdout",
     "output_type": "stream",
     "text": [
      "-1\n",
      "今天肯定涨停，等2.30主力进场，直线拉升到3200点，看空的就哭吧\n"
     ]
    },
    {
     "name": "stderr",
     "output_type": "stream",
     "text": [
      "Processing comments:  94%|█████████▎| 234/250 [03:14<00:13,  1.18it/s]"
     ]
    },
    {
     "name": "stdout",
     "output_type": "stream",
     "text": [
      "1\n",
      "一个月两天搞定\n"
     ]
    },
    {
     "name": "stderr",
     "output_type": "stream",
     "text": [
      "Processing comments:  94%|█████████▍| 235/250 [03:15<00:11,  1.27it/s]"
     ]
    },
    {
     "name": "stdout",
     "output_type": "stream",
     "text": [
      "0\n",
      "大A威武霸气！\n"
     ]
    },
    {
     "name": "stderr",
     "output_type": "stream",
     "text": [
      "Processing comments:  94%|█████████▍| 236/250 [03:16<00:10,  1.33it/s]"
     ]
    },
    {
     "name": "stdout",
     "output_type": "stream",
     "text": [
      "1\n",
      "不涨大金融，这种红就是昙花一现而已\n"
     ]
    },
    {
     "name": "stderr",
     "output_type": "stream",
     "text": [
      "Processing comments:  95%|█████████▍| 237/250 [03:16<00:09,  1.34it/s]"
     ]
    },
    {
     "name": "stdout",
     "output_type": "stream",
     "text": [
      "-1\n",
      "内资这么卖，准备给家捎去吗\n"
     ]
    },
    {
     "name": "stderr",
     "output_type": "stream",
     "text": [
      "Processing comments:  95%|█████████▌| 238/250 [03:17<00:09,  1.24it/s]"
     ]
    },
    {
     "name": "stdout",
     "output_type": "stream",
     "text": [
      "-1\n",
      "超级大牛股宏达新材，大家赶紧全仓杀入抄底\n"
     ]
    },
    {
     "name": "stderr",
     "output_type": "stream",
     "text": [
      "Processing comments:  96%|█████████▌| 239/250 [03:18<00:09,  1.21it/s]"
     ]
    },
    {
     "name": "stdout",
     "output_type": "stream",
     "text": [
      "1\n",
      "$上证指数(SH000001)$今天一定不会过3150[笑哭]\n"
     ]
    },
    {
     "name": "stderr",
     "output_type": "stream",
     "text": [
      "Processing comments:  96%|█████████▌| 240/250 [03:19<00:08,  1.19it/s]"
     ]
    },
    {
     "name": "stdout",
     "output_type": "stream",
     "text": [
      "0\n",
      "全天震荡下行，节前开始回调了，节后会更惨2900见\n"
     ]
    },
    {
     "name": "stderr",
     "output_type": "stream",
     "text": [
      "Processing comments:  96%|█████████▋| 241/250 [03:20<00:08,  1.07it/s]"
     ]
    },
    {
     "name": "stdout",
     "output_type": "stream",
     "text": [
      "-1\n",
      "大盘走得这么好，你的赚钱指数是多少？10.8%\n"
     ]
    },
    {
     "name": "stderr",
     "output_type": "stream",
     "text": [
      "Processing comments:  97%|█████████▋| 242/250 [03:21<00:07,  1.08it/s]"
     ]
    },
    {
     "name": "stdout",
     "output_type": "stream",
     "text": [
      "1\n",
      "冬天得补补，吹吹气，吃吃药\n"
     ]
    },
    {
     "name": "stderr",
     "output_type": "stream",
     "text": [
      "Processing comments:  97%|█████████▋| 243/250 [03:22<00:06,  1.08it/s]"
     ]
    },
    {
     "name": "stdout",
     "output_type": "stream",
     "text": [
      "0\n",
      "今天浮盈了，第一件事就是买书看，学习、进步、进化。\n"
     ]
    },
    {
     "name": "stderr",
     "output_type": "stream",
     "text": [
      "Processing comments:  98%|█████████▊| 244/250 [03:23<00:05,  1.01it/s]"
     ]
    },
    {
     "name": "stdout",
     "output_type": "stream",
     "text": [
      "1\n",
      "人民有信仰，民族有希望，国家有力量\n"
     ]
    },
    {
     "name": "stderr",
     "output_type": "stream",
     "text": [
      "Processing comments:  98%|█████████▊| 245/250 [03:24<00:04,  1.02it/s]"
     ]
    },
    {
     "name": "stdout",
     "output_type": "stream",
     "text": [
      "0\n",
      "照此下去没人会看好A股市场行情\n"
     ]
    },
    {
     "name": "stderr",
     "output_type": "stream",
     "text": [
      "Processing comments:  98%|█████████▊| 246/250 [03:25<00:03,  1.02it/s]"
     ]
    },
    {
     "name": "stdout",
     "output_type": "stream",
     "text": [
      "-1\n",
      "明天大回调\n"
     ]
    },
    {
     "name": "stderr",
     "output_type": "stream",
     "text": [
      "Processing comments:  99%|█████████▉| 247/250 [03:26<00:02,  1.07it/s]"
     ]
    },
    {
     "name": "stdout",
     "output_type": "stream",
     "text": [
      " -1\n",
      "大家来述说有哪些坑人的概念\n"
     ]
    },
    {
     "name": "stderr",
     "output_type": "stream",
     "text": [
      "Processing comments:  99%|█████████▉| 248/250 [03:27<00:01,  1.05it/s]"
     ]
    },
    {
     "name": "stdout",
     "output_type": "stream",
     "text": [
      "0\n",
      "房地产依然是支柱，股市没戏\n"
     ]
    },
    {
     "name": "stderr",
     "output_type": "stream",
     "text": [
      "Processing comments: 100%|█████████▉| 249/250 [03:28<00:00,  1.02it/s]"
     ]
    },
    {
     "name": "stdout",
     "output_type": "stream",
     "text": [
      "-1\n",
      "玩股不喊多，买了又唱空，跌斯你活该\n"
     ]
    },
    {
     "name": "stderr",
     "output_type": "stream",
     "text": [
      "Processing comments: 100%|██████████| 250/250 [03:29<00:00,  1.19it/s]"
     ]
    },
    {
     "name": "stdout",
     "output_type": "stream",
     "text": [
      "-1\n"
     ]
    },
    {
     "name": "stderr",
     "output_type": "stream",
     "text": [
      "\n"
     ]
    },
    {
     "data": {
      "text/plain": [
       "['1',\n",
       " '0',\n",
       " '-1',\n",
       " '-1',\n",
       " '1',\n",
       " '-1',\n",
       " '-1',\n",
       " '1',\n",
       " '1',\n",
       " '-1',\n",
       " '-1',\n",
       " '1',\n",
       " '-1',\n",
       " '-1',\n",
       " '1',\n",
       " '0',\n",
       " '1',\n",
       " '-1',\n",
       " '-1',\n",
       " '-1',\n",
       " '1',\n",
       " '-1',\n",
       " '-1',\n",
       " '1',\n",
       " '-1',\n",
       " '-1',\n",
       " '-1',\n",
       " '1',\n",
       " '1',\n",
       " '-1',\n",
       " '1',\n",
       " '-1',\n",
       " '0',\n",
       " '-1',\n",
       " '-1',\n",
       " '-1',\n",
       " '1',\n",
       " '-1',\n",
       " '-1',\n",
       " '1',\n",
       " ' -1',\n",
       " '1',\n",
       " '-1',\n",
       " '1',\n",
       " '1',\n",
       " '0',\n",
       " '-1',\n",
       " '-1',\n",
       " '1',\n",
       " '0',\n",
       " '0',\n",
       " '0',\n",
       " '-1',\n",
       " '1',\n",
       " '-1',\n",
       " '1',\n",
       " '-1',\n",
       " '1',\n",
       " '-1',\n",
       " '-1',\n",
       " '-1',\n",
       " '1',\n",
       " '-1',\n",
       " '-1',\n",
       " '0',\n",
       " '-1',\n",
       " '1',\n",
       " '1',\n",
       " '-1',\n",
       " '1',\n",
       " '1',\n",
       " '-1',\n",
       " '1',\n",
       " '-1',\n",
       " '1',\n",
       " '0',\n",
       " ' -1',\n",
       " '-1',\n",
       " '1',\n",
       " '-1',\n",
       " '0',\n",
       " '1',\n",
       " '-1',\n",
       " '0',\n",
       " '1',\n",
       " ' -1',\n",
       " '0',\n",
       " '0',\n",
       " '-1',\n",
       " '1',\n",
       " '1',\n",
       " '1',\n",
       " '1',\n",
       " '0',\n",
       " '1',\n",
       " '1',\n",
       " '1',\n",
       " '-1',\n",
       " ' -1',\n",
       " '0',\n",
       " '-1',\n",
       " '1',\n",
       " '0',\n",
       " '1',\n",
       " '1',\n",
       " '1',\n",
       " '1',\n",
       " '0',\n",
       " '0',\n",
       " '-1',\n",
       " '1',\n",
       " '-1',\n",
       " '-1',\n",
       " '1',\n",
       " '1',\n",
       " '1',\n",
       " '-1',\n",
       " '-1',\n",
       " '0',\n",
       " '-1',\n",
       " '0',\n",
       " '1',\n",
       " '1',\n",
       " '-1',\n",
       " '0',\n",
       " '-1',\n",
       " '0',\n",
       " '1',\n",
       " '-1',\n",
       " ' -1',\n",
       " '-1',\n",
       " '-1',\n",
       " ' -1',\n",
       " '-1',\n",
       " '1',\n",
       " '-1',\n",
       " '-1',\n",
       " '0',\n",
       " '1',\n",
       " '-1',\n",
       " '0',\n",
       " ' -1',\n",
       " '0',\n",
       " '1',\n",
       " '1',\n",
       " '0',\n",
       " '-1',\n",
       " '1',\n",
       " '1',\n",
       " ' 0',\n",
       " ' -1',\n",
       " '1',\n",
       " '-1',\n",
       " '1',\n",
       " '-1',\n",
       " '-1',\n",
       " '-1',\n",
       " ' -1',\n",
       " '1',\n",
       " '0',\n",
       " '0',\n",
       " '1',\n",
       " '0',\n",
       " '-1',\n",
       " '1',\n",
       " '-1',\n",
       " '1',\n",
       " '-1',\n",
       " '1',\n",
       " '-1',\n",
       " '-1',\n",
       " '-1',\n",
       " '1',\n",
       " '1',\n",
       " ' -1',\n",
       " '-1',\n",
       " '-1',\n",
       " '-1',\n",
       " '-1',\n",
       " '0',\n",
       " '1',\n",
       " '0',\n",
       " '0',\n",
       " '-1',\n",
       " '-1',\n",
       " '-1',\n",
       " '-1',\n",
       " '0',\n",
       " '-1',\n",
       " '1',\n",
       " '0',\n",
       " '-1',\n",
       " '-1',\n",
       " '-1',\n",
       " '0',\n",
       " '-1',\n",
       " '-1',\n",
       " '0',\n",
       " '-1',\n",
       " '-1',\n",
       " '-1',\n",
       " '-1',\n",
       " '1',\n",
       " '1',\n",
       " '0',\n",
       " '1',\n",
       " '1',\n",
       " '1',\n",
       " '1',\n",
       " '0',\n",
       " ' -1',\n",
       " '-1',\n",
       " '-1',\n",
       " '0',\n",
       " '0',\n",
       " '-1',\n",
       " '0\\n\\n(因为这句话没有表达出看涨、看跌或中立的情绪)。',\n",
       " '-1',\n",
       " '-1',\n",
       " '0',\n",
       " '1',\n",
       " '-1',\n",
       " '-1',\n",
       " '-1',\n",
       " '-1',\n",
       " '-1',\n",
       " '0',\n",
       " '-1',\n",
       " '1',\n",
       " '1',\n",
       " '1',\n",
       " '-1',\n",
       " '-1',\n",
       " '1',\n",
       " '0',\n",
       " '1',\n",
       " '-1',\n",
       " '-1',\n",
       " '1',\n",
       " '0',\n",
       " '-1',\n",
       " '1',\n",
       " '0',\n",
       " '1',\n",
       " '0',\n",
       " '-1',\n",
       " ' -1',\n",
       " '0',\n",
       " '-1',\n",
       " '-1']"
      ]
     },
     "execution_count": 8,
     "metadata": {},
     "output_type": "execute_result"
    }
   ],
   "source": [
    "response_lst = []\n",
    "\n",
    "for comment in tqdm(random_comment_lst_1, desc=\"Processing comments\"):\n",
    "\n",
    "    few_shot_examples = generate_few_shot_examples(comment_lst_1, label_lst_1, num_examples=3)\n",
    "    \n",
    "    input_text = few_shot_examples + \"Sentence: \\\"\" + comment + \"\\\"\\nPrediction: \"\n",
    "\n",
    "    print(comment)\n",
    "\n",
    "    response = ollama.chat(model='qwen:14b', messages=[\n",
    "        {\n",
    "            'role': 'user',\n",
    "            'content': input_text,\n",
    "        },\n",
    "    ])\n",
    "\n",
    "    print(response['message']['content'])\n",
    "\n",
    "    response_lst.append(response['message']['content'])\n",
    "\n",
    "response_lst\n"
   ]
  },
  {
   "cell_type": "markdown",
   "metadata": {},
   "source": [
    "### Evaluation Few-shot(3)"
   ]
  },
  {
   "cell_type": "code",
   "execution_count": 9,
   "metadata": {},
   "outputs": [
    {
     "name": "stdout",
     "output_type": "stream",
     "text": [
      "Accuracy: 0.692\n",
      "Label 1 - Precision: 0.5487804878048781, Recall: 0.8490566037735849, F1 Score: 0.6666666666666667\n",
      "Label 0 - Precision: 0.5306122448979592, Recall: 0.48148148148148145, F1 Score: 0.5048543689320388\n",
      "Label -1 - Precision: 0.8571428571428571, Recall: 0.7132867132867133, F1 Score: 0.7786259541984732\n",
      "Macro F1 Score: 0.6500489965990596\n"
     ]
    }
   ],
   "source": [
    "clean_response = []\n",
    "for res in response_lst:\n",
    "    if \"-1\" in res:\n",
    "        clean_response.append(-1)\n",
    "    elif \"0\" in res:\n",
    "        clean_response.append(0)\n",
    "    elif \"1\" in res:\n",
    "        clean_response.append(1)\n",
    "\n",
    "accu = accuracy_score(radom_label_lst_1, clean_response)\n",
    "print(f\"Accuracy: {accu}\")\n",
    "\n",
    "precision, recall, f1, _ = precision_recall_fscore_support(radom_label_lst_1, clean_response, labels=[1, 0, -1], average=None)\n",
    "for label, p, r, f in zip([1, 0, -1], precision, recall, f1):\n",
    "    print(f'Label {label} - Precision: {p}, Recall: {r}, F1 Score: {f}')\n",
    "macro_f1 = f1_score(radom_label_lst_1, clean_response, average='macro')\n",
    "print(f'Macro F1 Score: {macro_f1}')"
   ]
  }
 ],
 "metadata": {
  "kernelspec": {
   "display_name": "base",
   "language": "python",
   "name": "python3"
  },
  "language_info": {
   "codemirror_mode": {
    "name": "ipython",
    "version": 3
   },
   "file_extension": ".py",
   "mimetype": "text/x-python",
   "name": "python",
   "nbconvert_exporter": "python",
   "pygments_lexer": "ipython3",
   "version": "3.11.5"
  }
 },
 "nbformat": 4,
 "nbformat_minor": 2
}
