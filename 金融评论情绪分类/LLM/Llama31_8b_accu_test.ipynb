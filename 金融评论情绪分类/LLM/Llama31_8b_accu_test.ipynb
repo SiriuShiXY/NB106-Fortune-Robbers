{
 "cells": [
  {
   "cell_type": "markdown",
   "metadata": {},
   "source": [
    "# Libraries"
   ]
  },
  {
   "cell_type": "code",
   "execution_count": 15,
   "metadata": {},
   "outputs": [],
   "source": [
    "import pandas as pd \n",
    "from tqdm import tqdm\n",
    "import time\n",
    "import ollama\n",
    "import random\n",
    "from sklearn.metrics import accuracy_score, precision_recall_fscore_support, f1_score\n"
   ]
  },
  {
   "cell_type": "markdown",
   "metadata": {},
   "source": [
    "# Triple Classification"
   ]
  },
  {
   "cell_type": "markdown",
   "metadata": {},
   "source": [
    "## 1. Tianchi Dataset"
   ]
  },
  {
   "cell_type": "markdown",
   "metadata": {},
   "source": [
    "### Load Data"
   ]
  },
  {
   "cell_type": "code",
   "execution_count": 16,
   "metadata": {},
   "outputs": [
    {
     "data": {
      "text/html": [
       "<div>\n",
       "<style scoped>\n",
       "    .dataframe tbody tr th:only-of-type {\n",
       "        vertical-align: middle;\n",
       "    }\n",
       "\n",
       "    .dataframe tbody tr th {\n",
       "        vertical-align: top;\n",
       "    }\n",
       "\n",
       "    .dataframe thead th {\n",
       "        text-align: right;\n",
       "    }\n",
       "</style>\n",
       "<table border=\"1\" class=\"dataframe\">\n",
       "  <thead>\n",
       "    <tr style=\"text-align: right;\">\n",
       "      <th></th>\n",
       "      <th>Unnamed: 0</th>\n",
       "      <th>article_id</th>\n",
       "      <th>title</th>\n",
       "      <th>author</th>\n",
       "      <th>link</th>\n",
       "      <th>emotion</th>\n",
       "    </tr>\n",
       "  </thead>\n",
       "  <tbody>\n",
       "    <tr>\n",
       "      <th>0</th>\n",
       "      <td>0</td>\n",
       "      <td>1175</td>\n",
       "      <td>低开低走3000点[捂脸][捂脸]</td>\n",
       "      <td>永远背离</td>\n",
       "      <td>http://guba.eastmoney.com/news,zssh000001,1285...</td>\n",
       "      <td>-1</td>\n",
       "    </tr>\n",
       "    <tr>\n",
       "      <th>1</th>\n",
       "      <td>1</td>\n",
       "      <td>1264</td>\n",
       "      <td>#A股这波调整何时结束？#差不多5000牛</td>\n",
       "      <td>股友75f8U98077</td>\n",
       "      <td>http://guba.eastmoney.com/news,zssh000001,1285...</td>\n",
       "      <td>-1</td>\n",
       "    </tr>\n",
       "    <tr>\n",
       "      <th>2</th>\n",
       "      <td>2</td>\n",
       "      <td>1349</td>\n",
       "      <td>周一逃不掉的命运了</td>\n",
       "      <td>韭菜的韭和韭菜的菜</td>\n",
       "      <td>http://guba.eastmoney.com/news,zssh000001,1285...</td>\n",
       "      <td>-1</td>\n",
       "    </tr>\n",
       "    <tr>\n",
       "      <th>3</th>\n",
       "      <td>3</td>\n",
       "      <td>1439</td>\n",
       "      <td>明天一定涨，世界末日也会涨。</td>\n",
       "      <td>一进股市深似海1</td>\n",
       "      <td>http://guba.eastmoney.com/news,zssh000001,1285...</td>\n",
       "      <td>0</td>\n",
       "    </tr>\n",
       "    <tr>\n",
       "      <th>4</th>\n",
       "      <td>4</td>\n",
       "      <td>1601</td>\n",
       "      <td>这么多唱空的我就放心了</td>\n",
       "      <td>作手小桂圆</td>\n",
       "      <td>http://guba.eastmoney.com/news,zssh000001,1285...</td>\n",
       "      <td>0</td>\n",
       "    </tr>\n",
       "    <tr>\n",
       "      <th>...</th>\n",
       "      <td>...</td>\n",
       "      <td>...</td>\n",
       "      <td>...</td>\n",
       "      <td>...</td>\n",
       "      <td>...</td>\n",
       "      <td>...</td>\n",
       "    </tr>\n",
       "    <tr>\n",
       "      <th>17610</th>\n",
       "      <td>17610</td>\n",
       "      <td>1139675</td>\n",
       "      <td>来些粉丝吧，不然再发帖就没意思了。[旺柴]</td>\n",
       "      <td>股友QPIEh9</td>\n",
       "      <td>http://guba.eastmoney.com/news,zssh000001,1084...</td>\n",
       "      <td>0</td>\n",
       "    </tr>\n",
       "    <tr>\n",
       "      <th>17611</th>\n",
       "      <td>17611</td>\n",
       "      <td>1139807</td>\n",
       "      <td>大跌大买</td>\n",
       "      <td>霸道138</td>\n",
       "      <td>http://guba.eastmoney.com/news,zssh000001,1084...</td>\n",
       "      <td>1</td>\n",
       "    </tr>\n",
       "    <tr>\n",
       "      <th>17612</th>\n",
       "      <td>17612</td>\n",
       "      <td>1139845</td>\n",
       "      <td>转发</td>\n",
       "      <td>赚了不跑是傻子</td>\n",
       "      <td>http://guba.eastmoney.com/news,zssh000001,1084...</td>\n",
       "      <td>0</td>\n",
       "    </tr>\n",
       "    <tr>\n",
       "      <th>17613</th>\n",
       "      <td>17613</td>\n",
       "      <td>1139920</td>\n",
       "      <td>今天要是还是无法突破3731，有种不祥的预感</td>\n",
       "      <td>真心的实话</td>\n",
       "      <td>http://guba.eastmoney.com/news,zssh000001,1084...</td>\n",
       "      <td>-1</td>\n",
       "    </tr>\n",
       "    <tr>\n",
       "      <th>17614</th>\n",
       "      <td>17614</td>\n",
       "      <td>1139987</td>\n",
       "      <td>机构持有的股暴涨，拉了指数，砸盘时所以股跟跌。</td>\n",
       "      <td>血汗钱啥时回</td>\n",
       "      <td>http://guba.eastmoney.com/news,zssh000001,1084...</td>\n",
       "      <td>-1</td>\n",
       "    </tr>\n",
       "  </tbody>\n",
       "</table>\n",
       "<p>17615 rows × 6 columns</p>\n",
       "</div>"
      ],
      "text/plain": [
       "       Unnamed: 0  article_id                    title        author  \\\n",
       "0               0        1175        低开低走3000点[捂脸][捂脸]          永远背离   \n",
       "1               1        1264    #A股这波调整何时结束？#差不多5000牛  股友75f8U98077   \n",
       "2               2        1349                周一逃不掉的命运了     韭菜的韭和韭菜的菜   \n",
       "3               3        1439           明天一定涨，世界末日也会涨。      一进股市深似海1   \n",
       "4               4        1601              这么多唱空的我就放心了         作手小桂圆   \n",
       "...           ...         ...                      ...           ...   \n",
       "17610       17610     1139675    来些粉丝吧，不然再发帖就没意思了。[旺柴]      股友QPIEh9   \n",
       "17611       17611     1139807                     大跌大买         霸道138   \n",
       "17612       17612     1139845                       转发       赚了不跑是傻子   \n",
       "17613       17613     1139920   今天要是还是无法突破3731，有种不祥的预感         真心的实话   \n",
       "17614       17614     1139987  机构持有的股暴涨，拉了指数，砸盘时所以股跟跌。        血汗钱啥时回   \n",
       "\n",
       "                                                    link  emotion  \n",
       "0      http://guba.eastmoney.com/news,zssh000001,1285...       -1  \n",
       "1      http://guba.eastmoney.com/news,zssh000001,1285...       -1  \n",
       "2      http://guba.eastmoney.com/news,zssh000001,1285...       -1  \n",
       "3      http://guba.eastmoney.com/news,zssh000001,1285...        0  \n",
       "4      http://guba.eastmoney.com/news,zssh000001,1285...        0  \n",
       "...                                                  ...      ...  \n",
       "17610  http://guba.eastmoney.com/news,zssh000001,1084...        0  \n",
       "17611  http://guba.eastmoney.com/news,zssh000001,1084...        1  \n",
       "17612  http://guba.eastmoney.com/news,zssh000001,1084...        0  \n",
       "17613  http://guba.eastmoney.com/news,zssh000001,1084...       -1  \n",
       "17614  http://guba.eastmoney.com/news,zssh000001,1084...       -1  \n",
       "\n",
       "[17615 rows x 6 columns]"
      ]
     },
     "execution_count": 16,
     "metadata": {},
     "output_type": "execute_result"
    }
   ],
   "source": [
    "dataset_1 = pd.read_excel(\"/Users/liyuanheng/Desktop/金融评论情绪分类/Data/1. Tianchi.xlsx\")\n",
    "\n",
    "comment_lst_1 = dataset_1[\"title\"].tolist()\n",
    "label_lst_1 = dataset_1[\"emotion\"].tolist()\n",
    "\n",
    "dataset_1"
   ]
  },
  {
   "cell_type": "markdown",
   "metadata": {},
   "source": [
    "### Randomly Select 250 Datas"
   ]
  },
  {
   "cell_type": "code",
   "execution_count": 17,
   "metadata": {},
   "outputs": [],
   "source": [
    "# Randomly Select 250 datas to test performance\n",
    "import random\n",
    "random.seed(42)\n",
    "\n",
    "random_indices = random.sample(range(len(comment_lst_1)), 250)\n",
    "\n",
    "random_comment_lst_1 = [comment_lst_1[i] for i in random_indices]\n",
    "radom_label_lst_1 = [label_lst_1[i] for i in random_indices]"
   ]
  },
  {
   "cell_type": "markdown",
   "metadata": {},
   "source": [
    "### Generate Answer (Zero-shot)"
   ]
  },
  {
   "cell_type": "code",
   "execution_count": 18,
   "metadata": {},
   "outputs": [
    {
     "name": "stderr",
     "output_type": "stream",
     "text": [
      "Processing comments:   0%|          | 0/250 [00:00<?, ?it/s]"
     ]
    },
    {
     "name": "stdout",
     "output_type": "stream",
     "text": [
      "赌明天跳空高开\n"
     ]
    },
    {
     "name": "stderr",
     "output_type": "stream",
     "text": [
      "Processing comments:   1%|          | 2/250 [00:00<01:30,  2.75it/s]"
     ]
    },
    {
     "name": "stdout",
     "output_type": "stream",
     "text": [
      "-1\n",
      "先生们，女士们，还有十分钟蹦极，准备好了，\n",
      "1\n",
      "$上证指数(SH000001)$北向不停买入，主力不停卖出什么意思啊？\n"
     ]
    },
    {
     "name": "stderr",
     "output_type": "stream",
     "text": [
      "Processing comments:   1%|          | 3/250 [00:01<01:12,  3.42it/s]"
     ]
    },
    {
     "name": "stdout",
     "output_type": "stream",
     "text": [
      "-1\n",
      "两点半，北向资金流出\n"
     ]
    },
    {
     "name": "stderr",
     "output_type": "stream",
     "text": [
      "Processing comments:   2%|▏         | 4/250 [00:01<01:03,  3.86it/s]"
     ]
    },
    {
     "name": "stdout",
     "output_type": "stream",
     "text": [
      "-1\n",
      "牛市，大盘连涨4.2个点了，今天也还是强势翻红趋势，真的牛啊\n"
     ]
    },
    {
     "name": "stderr",
     "output_type": "stream",
     "text": [
      "Processing comments:   2%|▏         | 5/250 [00:01<01:03,  3.88it/s]"
     ]
    },
    {
     "name": "stdout",
     "output_type": "stream",
     "text": [
      "1\n",
      "发生了什么？主力持续流出100多亿！\n"
     ]
    },
    {
     "name": "stderr",
     "output_type": "stream",
     "text": [
      "Processing comments:   2%|▏         | 6/250 [00:01<00:58,  4.14it/s]"
     ]
    },
    {
     "name": "stdout",
     "output_type": "stream",
     "text": [
      "-1\n",
      "涨了指数亏了钱，这个星期亏了十多个点了[滴汗][滴汗][滴汗][滴汗][滴汗][\n"
     ]
    },
    {
     "name": "stderr",
     "output_type": "stream",
     "text": [
      "Processing comments:   3%|▎         | 8/250 [00:02<00:56,  4.29it/s]"
     ]
    },
    {
     "name": "stdout",
     "output_type": "stream",
     "text": [
      "-1\n",
      "今晚还有什么利好消息请继续发！！！\n",
      "1\n",
      "$上证指数(SH000001)$持仓的两只票竟然还是红的，神奇不\n"
     ]
    },
    {
     "name": "stderr",
     "output_type": "stream",
     "text": [
      "Processing comments:   4%|▎         | 9/250 [00:02<00:51,  4.67it/s]"
     ]
    },
    {
     "name": "stdout",
     "output_type": "stream",
     "text": [
      "1\n",
      "小顶规避\n"
     ]
    },
    {
     "name": "stderr",
     "output_type": "stream",
     "text": [
      "Processing comments:   4%|▍         | 10/250 [00:02<00:53,  4.50it/s]"
     ]
    },
    {
     "name": "stdout",
     "output_type": "stream",
     "text": [
      "-1\n",
      "好好的盘，2点后谁干的偷袭，坏透了，就这水平，大a的脊梁？\n"
     ]
    },
    {
     "name": "stderr",
     "output_type": "stream",
     "text": [
      "Processing comments:   4%|▍         | 11/250 [00:02<00:58,  4.11it/s]"
     ]
    },
    {
     "name": "stdout",
     "output_type": "stream",
     "text": [
      "-1\n",
      "狂拉指数\n"
     ]
    },
    {
     "name": "stderr",
     "output_type": "stream",
     "text": [
      "Processing comments:   5%|▍         | 12/250 [00:03<00:55,  4.26it/s]"
     ]
    },
    {
     "name": "stdout",
     "output_type": "stream",
     "text": [
      "-1\n",
      "主力又跑了450亿\n"
     ]
    },
    {
     "name": "stderr",
     "output_type": "stream",
     "text": [
      "Processing comments:   5%|▌         | 13/250 [00:03<00:57,  4.09it/s]"
     ]
    },
    {
     "name": "stdout",
     "output_type": "stream",
     "text": [
      "-1\n",
      "#沪指早盘跌2.86%,缘何大跌？#地区局势不稳定，资本慌的一笔\n"
     ]
    },
    {
     "name": "stderr",
     "output_type": "stream",
     "text": [
      "Processing comments:   6%|▌         | 14/250 [00:03<01:01,  3.86it/s]"
     ]
    },
    {
     "name": "stdout",
     "output_type": "stream",
     "text": [
      "-1\n",
      "明天5200\n"
     ]
    },
    {
     "name": "stderr",
     "output_type": "stream",
     "text": [
      "Processing comments:   6%|▌         | 15/250 [00:03<00:57,  4.12it/s]"
     ]
    },
    {
     "name": "stdout",
     "output_type": "stream",
     "text": [
      "1\n",
      "做T:有些自认为的高手，总是马后跑讲做T，做对了一次，了不得，但从月、季、年来看\n"
     ]
    },
    {
     "name": "stderr",
     "output_type": "stream",
     "text": [
      "Processing comments:   6%|▋         | 16/250 [00:04<01:00,  3.88it/s]"
     ]
    },
    {
     "name": "stdout",
     "output_type": "stream",
     "text": [
      "-1\n",
      "买st海航即将摘帽了你看看今天走势\n"
     ]
    },
    {
     "name": "stderr",
     "output_type": "stream",
     "text": [
      "Processing comments:   7%|▋         | 17/250 [00:04<00:56,  4.11it/s]"
     ]
    },
    {
     "name": "stdout",
     "output_type": "stream",
     "text": [
      "-1\n",
      "沪深股通又狂卖\n"
     ]
    },
    {
     "name": "stderr",
     "output_type": "stream",
     "text": [
      "Processing comments:   7%|▋         | 18/250 [00:04<00:59,  3.93it/s]"
     ]
    },
    {
     "name": "stdout",
     "output_type": "stream",
     "text": [
      "-1\n",
      "本月底跌破3100点。\n"
     ]
    },
    {
     "name": "stderr",
     "output_type": "stream",
     "text": [
      "Processing comments:   8%|▊         | 19/250 [00:04<01:01,  3.76it/s]"
     ]
    },
    {
     "name": "stdout",
     "output_type": "stream",
     "text": [
      "-1\n",
      "$上证指数(SH000001)$开始走熊了，怎么稳字当头？\n"
     ]
    },
    {
     "name": "stderr",
     "output_type": "stream",
     "text": [
      "Processing comments:   8%|▊         | 21/250 [00:05<00:52,  4.40it/s]"
     ]
    },
    {
     "name": "stdout",
     "output_type": "stream",
     "text": [
      "-1\n",
      "$上证指数(SH000001)$23日大A一改昨日的颓势，探底回升，强势收阳，和\n",
      "1\n",
      "三油一挺，大盘见顶[囧]\n"
     ]
    },
    {
     "name": "stderr",
     "output_type": "stream",
     "text": [
      "Processing comments:   9%|▉         | 22/250 [00:05<00:50,  4.52it/s]"
     ]
    },
    {
     "name": "stdout",
     "output_type": "stream",
     "text": [
      "-1\n",
      "哎可怜了买基金的人。\n"
     ]
    },
    {
     "name": "stderr",
     "output_type": "stream",
     "text": [
      "Processing comments:   9%|▉         | 23/250 [00:05<00:49,  4.61it/s]"
     ]
    },
    {
     "name": "stdout",
     "output_type": "stream",
     "text": [
      "-1\n",
      "不是稳增长吗\n"
     ]
    },
    {
     "name": "stderr",
     "output_type": "stream",
     "text": [
      "Processing comments:  10%|▉         | 24/250 [00:05<00:49,  4.53it/s]"
     ]
    },
    {
     "name": "stdout",
     "output_type": "stream",
     "text": [
      "-1\n",
      "不出意料的跌了\n"
     ]
    },
    {
     "name": "stderr",
     "output_type": "stream",
     "text": [
      "Processing comments:  10%|█         | 26/250 [00:06<00:48,  4.65it/s]"
     ]
    },
    {
     "name": "stdout",
     "output_type": "stream",
     "text": [
      "-1\n",
      "小跳空，回补缺口小心……\n",
      "0\n",
      "补跌又补上了，叫你不要涨不听[滴汗][滴汗][滴汗]\n"
     ]
    },
    {
     "name": "stderr",
     "output_type": "stream",
     "text": [
      "Processing comments:  11%|█         | 27/250 [00:06<00:47,  4.68it/s]"
     ]
    },
    {
     "name": "stdout",
     "output_type": "stream",
     "text": [
      "-1\n",
      "本周见3120\n"
     ]
    },
    {
     "name": "stderr",
     "output_type": "stream",
     "text": [
      "Processing comments:  11%|█         | 28/250 [00:06<00:46,  4.74it/s]"
     ]
    },
    {
     "name": "stdout",
     "output_type": "stream",
     "text": [
      "1\n",
      "难得出现指数跌个股涨的局面\n"
     ]
    },
    {
     "name": "stderr",
     "output_type": "stream",
     "text": [
      "Processing comments:  12%|█▏        | 29/250 [00:07<00:46,  4.78it/s]"
     ]
    },
    {
     "name": "stdout",
     "output_type": "stream",
     "text": [
      "-1\n",
      "不破不立，还有有一根大阴线，2999点等待，今天清仓\n"
     ]
    },
    {
     "name": "stderr",
     "output_type": "stream",
     "text": [
      "Processing comments:  12%|█▏        | 31/250 [00:07<00:43,  5.04it/s]"
     ]
    },
    {
     "name": "stdout",
     "output_type": "stream",
     "text": [
      "-1\n",
      "想起，太想红了，红艳艳\n",
      "1\n",
      "$上证指数(SH000001)$降准不及预期，再有技术压力，道指期货又下跌了，大\n"
     ]
    },
    {
     "name": "stderr",
     "output_type": "stream",
     "text": [
      "Processing comments:  13%|█▎        | 32/250 [00:07<00:49,  4.40it/s]"
     ]
    },
    {
     "name": "stdout",
     "output_type": "stream",
     "text": [
      "-1\n",
      "赶紧补缺口\n"
     ]
    },
    {
     "name": "stderr",
     "output_type": "stream",
     "text": [
      "Processing comments:  13%|█▎        | 33/250 [00:07<00:51,  4.25it/s]"
     ]
    },
    {
     "name": "stdout",
     "output_type": "stream",
     "text": [
      "-1\n",
      "想起了2018年的熔断\n"
     ]
    },
    {
     "name": "stderr",
     "output_type": "stream",
     "text": [
      "Processing comments:  14%|█▎        | 34/250 [00:08<00:54,  3.96it/s]"
     ]
    },
    {
     "name": "stdout",
     "output_type": "stream",
     "text": [
      "-1\n",
      "这么多饿狗，扔一块骨头就想让市场起来，有点难度\n"
     ]
    },
    {
     "name": "stderr",
     "output_type": "stream",
     "text": [
      "Processing comments:  14%|█▍        | 35/250 [00:08<00:51,  4.17it/s]"
     ]
    },
    {
     "name": "stdout",
     "output_type": "stream",
     "text": [
      "-1\n",
      "这次回调至少也要跌到3150点\n"
     ]
    },
    {
     "name": "stderr",
     "output_type": "stream",
     "text": [
      "Processing comments:  14%|█▍        | 36/250 [00:08<00:49,  4.34it/s]"
     ]
    },
    {
     "name": "stdout",
     "output_type": "stream",
     "text": [
      "-1\n",
      "比赛跑得快！\n"
     ]
    },
    {
     "name": "stderr",
     "output_type": "stream",
     "text": [
      "Processing comments:  15%|█▍        | 37/250 [00:08<00:47,  4.49it/s]"
     ]
    },
    {
     "name": "stdout",
     "output_type": "stream",
     "text": [
      "1\n",
      "$上证指数(SH000001)$券商一拉大盘就崩[怒][怒][怒]\n"
     ]
    },
    {
     "name": "stderr",
     "output_type": "stream",
     "text": [
      "Processing comments:  16%|█▌        | 39/250 [00:09<00:43,  4.91it/s]"
     ]
    },
    {
     "name": "stdout",
     "output_type": "stream",
     "text": [
      "-1\n",
      "继续回调，知足常乐。\n",
      "1\n",
      "#李蓓：2-3年后A股将迎飞龙在天#2-3年你还活着不？\n"
     ]
    },
    {
     "name": "stderr",
     "output_type": "stream",
     "text": [
      "Processing comments:  16%|█▌        | 40/250 [00:09<00:48,  4.35it/s]"
     ]
    },
    {
     "name": "stdout",
     "output_type": "stream",
     "text": [
      "-1\n",
      "丢人\n"
     ]
    },
    {
     "name": "stderr",
     "output_type": "stream",
     "text": [
      "Processing comments:  16%|█▋        | 41/250 [00:09<00:48,  4.35it/s]"
     ]
    },
    {
     "name": "stdout",
     "output_type": "stream",
     "text": [
      "-1\n",
      "又逼近3100了[为什么]\n"
     ]
    },
    {
     "name": "stderr",
     "output_type": "stream",
     "text": [
      "Processing comments:  17%|█▋        | 42/250 [00:10<00:51,  4.02it/s]"
     ]
    },
    {
     "name": "stdout",
     "output_type": "stream",
     "text": [
      "-1\n",
      "大A是到了叛逆期了？\n"
     ]
    },
    {
     "name": "stderr",
     "output_type": "stream",
     "text": [
      "Processing comments:  18%|█▊        | 44/250 [00:10<00:44,  4.61it/s]"
     ]
    },
    {
     "name": "stdout",
     "output_type": "stream",
     "text": [
      "-1\n",
      "$上证指数(SH000001)$剩下的时间应回3千上方吧\n",
      "1\n",
      "收盘3199.92.和之前的缺口3199.91.仅仅相差0.01.是炉火纯青还是\n"
     ]
    },
    {
     "name": "stderr",
     "output_type": "stream",
     "text": [
      "Processing comments:  18%|█▊        | 45/250 [00:10<00:49,  4.16it/s]"
     ]
    },
    {
     "name": "stdout",
     "output_type": "stream",
     "text": [
      "-1\n",
      "专家要出来说两句不\n"
     ]
    },
    {
     "name": "stderr",
     "output_type": "stream",
     "text": [
      "Processing comments:  18%|█▊        | 46/250 [00:11<00:51,  3.93it/s]"
     ]
    },
    {
     "name": "stdout",
     "output_type": "stream",
     "text": [
      "-1\n",
      "阴包阳，大跌的征兆\n"
     ]
    },
    {
     "name": "stderr",
     "output_type": "stream",
     "text": [
      "Processing comments:  19%|█▉        | 47/250 [00:11<00:53,  3.77it/s]"
     ]
    },
    {
     "name": "stdout",
     "output_type": "stream",
     "text": [
      "-1\n",
      "没有量的上涨都编人的把戏\n"
     ]
    },
    {
     "name": "stderr",
     "output_type": "stream",
     "text": [
      "Processing comments:  20%|█▉        | 49/250 [00:11<00:45,  4.44it/s]"
     ]
    },
    {
     "name": "stdout",
     "output_type": "stream",
     "text": [
      "-1\n",
      "$上证指数(SH000001)$大A又回来了\n",
      "1\n",
      "这波下杀到3050有支撑\n"
     ]
    },
    {
     "name": "stderr",
     "output_type": "stream",
     "text": [
      "Processing comments:  20%|██        | 50/250 [00:11<00:41,  4.78it/s]"
     ]
    },
    {
     "name": "stdout",
     "output_type": "stream",
     "text": [
      "1\n",
      "找到原因了吗？\n"
     ]
    },
    {
     "name": "stderr",
     "output_type": "stream",
     "text": [
      "Processing comments:  20%|██        | 51/250 [00:12<00:43,  4.56it/s]"
     ]
    },
    {
     "name": "stdout",
     "output_type": "stream",
     "text": [
      "-1\n",
      "基金和股票今天清退了80%，还没有调整到位，静观其变。\n"
     ]
    },
    {
     "name": "stderr",
     "output_type": "stream",
     "text": [
      "Processing comments:  21%|██        | 52/250 [00:12<00:42,  4.62it/s]"
     ]
    },
    {
     "name": "stdout",
     "output_type": "stream",
     "text": [
      "-1\n",
      "明天正好给外资抄底\n"
     ]
    },
    {
     "name": "stderr",
     "output_type": "stream",
     "text": [
      "Processing comments:  21%|██        | 53/250 [00:12<00:42,  4.68it/s]"
     ]
    },
    {
     "name": "stdout",
     "output_type": "stream",
     "text": [
      "-1\n",
      "今天能否一举突破3358\n"
     ]
    },
    {
     "name": "stderr",
     "output_type": "stream",
     "text": [
      "Processing comments:  22%|██▏       | 54/250 [00:12<00:44,  4.42it/s]"
     ]
    },
    {
     "name": "stdout",
     "output_type": "stream",
     "text": [
      "1\n",
      "每天都号称流入几十亿几百亿资金，可是每天都在大跌\n"
     ]
    },
    {
     "name": "stderr",
     "output_type": "stream",
     "text": [
      "Processing comments:  22%|██▏       | 56/250 [00:13<00:40,  4.83it/s]"
     ]
    },
    {
     "name": "stdout",
     "output_type": "stream",
     "text": [
      "-1\n",
      "$上证指数(SH000001)$买买买买买。\n",
      "1\n",
      "后面利空还很多呢，等啥时候上五日线再说[吃瓜][吃瓜][吃瓜]\n"
     ]
    },
    {
     "name": "stderr",
     "output_type": "stream",
     "text": [
      "Processing comments:  23%|██▎       | 57/250 [00:13<00:45,  4.29it/s]"
     ]
    },
    {
     "name": "stdout",
     "output_type": "stream",
     "text": [
      "-1\n",
      "七月份美联储加息，是谁在报道？\n"
     ]
    },
    {
     "name": "stderr",
     "output_type": "stream",
     "text": [
      "Processing comments:  23%|██▎       | 58/250 [00:13<00:43,  4.42it/s]"
     ]
    },
    {
     "name": "stdout",
     "output_type": "stream",
     "text": [
      "-1\n",
      "有气无力\n"
     ]
    },
    {
     "name": "stderr",
     "output_type": "stream",
     "text": [
      "Processing comments:  24%|██▎       | 59/250 [00:13<00:43,  4.40it/s]"
     ]
    },
    {
     "name": "stdout",
     "output_type": "stream",
     "text": [
      "-1\n",
      "天天跌，真要命\n"
     ]
    },
    {
     "name": "stderr",
     "output_type": "stream",
     "text": [
      "Processing comments:  24%|██▍       | 60/250 [00:14<00:44,  4.25it/s]"
     ]
    },
    {
     "name": "stdout",
     "output_type": "stream",
     "text": [
      "-1\n",
      "群龙无首，小散韮菜根没有\n"
     ]
    },
    {
     "name": "stderr",
     "output_type": "stream",
     "text": [
      "Processing comments:  24%|██▍       | 61/250 [00:14<00:42,  4.40it/s]"
     ]
    },
    {
     "name": "stdout",
     "output_type": "stream",
     "text": [
      "-1\n",
      "明天3000很关键。哪怕刺破一下。后面就彻底完了。\n"
     ]
    },
    {
     "name": "stderr",
     "output_type": "stream",
     "text": [
      "Processing comments:  25%|██▍       | 62/250 [00:14<00:41,  4.50it/s]"
     ]
    },
    {
     "name": "stdout",
     "output_type": "stream",
     "text": [
      "-1\n",
      "明天又是黑色星期四了\n"
     ]
    },
    {
     "name": "stderr",
     "output_type": "stream",
     "text": [
      "Processing comments:  25%|██▌       | 63/250 [00:14<00:44,  4.24it/s]"
     ]
    },
    {
     "name": "stdout",
     "output_type": "stream",
     "text": [
      "-1\n",
      "妙两刀，白玩两个月\n"
     ]
    },
    {
     "name": "stderr",
     "output_type": "stream",
     "text": [
      "Processing comments:  26%|██▌       | 64/250 [00:15<00:46,  4.00it/s]"
     ]
    },
    {
     "name": "stdout",
     "output_type": "stream",
     "text": [
      "-1\n",
      "主力是谁？北向是谁？谁是真苟？\n"
     ]
    },
    {
     "name": "stderr",
     "output_type": "stream",
     "text": [
      "Processing comments:  26%|██▌       | 65/250 [00:15<00:44,  4.14it/s]"
     ]
    },
    {
     "name": "stdout",
     "output_type": "stream",
     "text": [
      "-1\n",
      "其实到了这个位置，散户都觉得很低了，并且在抄底，那就还要大跌。逻辑很简单，不可能\n"
     ]
    },
    {
     "name": "stderr",
     "output_type": "stream",
     "text": [
      "Processing comments:  27%|██▋       | 67/250 [00:15<00:42,  4.31it/s]"
     ]
    },
    {
     "name": "stdout",
     "output_type": "stream",
     "text": [
      "-1\n",
      "第二个下行跳空缺口，真的赢了\n",
      "1\n",
      "多年经验，他们想干好的事情一定能干好，不好因为他们不想好\n"
     ]
    },
    {
     "name": "stderr",
     "output_type": "stream",
     "text": [
      "Processing comments:  27%|██▋       | 68/250 [00:15<00:39,  4.67it/s]"
     ]
    },
    {
     "name": "stdout",
     "output_type": "stream",
     "text": [
      "1\n",
      "$上证指数(SH000001)$昨天亏了一只猪，今天挣了一只鸡。\n"
     ]
    },
    {
     "name": "stderr",
     "output_type": "stream",
     "text": [
      "Processing comments:  28%|██▊       | 69/250 [00:16<00:38,  4.68it/s]"
     ]
    },
    {
     "name": "stdout",
     "output_type": "stream",
     "text": [
      "-1\n",
      "见底拉升了\n"
     ]
    },
    {
     "name": "stderr",
     "output_type": "stream",
     "text": [
      "Processing comments:  28%|██▊       | 71/250 [00:16<00:37,  4.75it/s]"
     ]
    },
    {
     "name": "stdout",
     "output_type": "stream",
     "text": [
      "-1\n",
      "真的像极了09年初，美股还在暴跌，A股早就见底反涨了\n",
      "1\n",
      "这波反弹全栽了，四只股全逆势跌，看来抄底越抄越低！\n"
     ]
    },
    {
     "name": "stderr",
     "output_type": "stream",
     "text": [
      "Processing comments:  29%|██▉       | 73/250 [00:17<00:38,  4.63it/s]"
     ]
    },
    {
     "name": "stdout",
     "output_type": "stream",
     "text": [
      "-1\n",
      "现在敢与进场的都是高手！！\n",
      "1\n",
      "没有合力，3300点是不可能站稳的\n"
     ]
    },
    {
     "name": "stderr",
     "output_type": "stream",
     "text": [
      "Processing comments:  30%|███       | 75/250 [00:17<00:35,  4.92it/s]"
     ]
    },
    {
     "name": "stdout",
     "output_type": "stream",
     "text": [
      "-1\n",
      "牛市来了\n",
      "1\n",
      "明天亥水旺冲休破\n"
     ]
    },
    {
     "name": "stderr",
     "output_type": "stream",
     "text": [
      "Processing comments:  30%|███       | 76/250 [00:17<00:35,  4.89it/s]"
     ]
    },
    {
     "name": "stdout",
     "output_type": "stream",
     "text": [
      "-1\n",
      "$上证指数(SH000001)$找死，别拦着\n"
     ]
    },
    {
     "name": "stderr",
     "output_type": "stream",
     "text": [
      "Processing comments:  31%|███       | 77/250 [00:17<00:35,  4.85it/s]"
     ]
    },
    {
     "name": "stdout",
     "output_type": "stream",
     "text": [
      "-1\n",
      "整个上证一早上的成交量还没有特斯拉的成交量多\n"
     ]
    },
    {
     "name": "stderr",
     "output_type": "stream",
     "text": [
      "Processing comments:  31%|███       | 78/250 [00:18<00:35,  4.82it/s]"
     ]
    },
    {
     "name": "stdout",
     "output_type": "stream",
     "text": [
      "-1\n",
      "美国的大跌会引发A股的操纵，周末两天会修复大跌带来的恐慌情绪。下周从回3300点\n"
     ]
    },
    {
     "name": "stderr",
     "output_type": "stream",
     "text": [
      "Processing comments:  32%|███▏      | 79/250 [00:18<00:40,  4.27it/s]"
     ]
    },
    {
     "name": "stdout",
     "output_type": "stream",
     "text": [
      "-1\n",
      "$上证指数(SH000001)$40倍杠杆做多，我是不是疯了[滴汗][滴汗]\n"
     ]
    },
    {
     "name": "stderr",
     "output_type": "stream",
     "text": [
      "Processing comments:  32%|███▏      | 80/250 [00:18<00:42,  3.96it/s]"
     ]
    },
    {
     "name": "stdout",
     "output_type": "stream",
     "text": [
      "-1\n",
      "记住不割肉，随它怎么跌！躺平就好，早晚回来，实在不行就等你一年、两年……比存银行\n"
     ]
    },
    {
     "name": "stderr",
     "output_type": "stream",
     "text": [
      "Processing comments:  32%|███▏      | 81/250 [00:18<00:44,  3.77it/s]"
     ]
    },
    {
     "name": "stdout",
     "output_type": "stream",
     "text": [
      "-1\n",
      "明天不是白酒就是券商的天下，指数飞起，个股惨淡\n"
     ]
    },
    {
     "name": "stderr",
     "output_type": "stream",
     "text": [
      "Processing comments:  33%|███▎      | 82/250 [00:19<00:41,  4.02it/s]"
     ]
    },
    {
     "name": "stdout",
     "output_type": "stream",
     "text": [
      "-1\n",
      "现在涨幅大的就是以后补跌的，现在跌的多的就是以后的多头。（短线不是小散能玩的，运\n"
     ]
    },
    {
     "name": "stderr",
     "output_type": "stream",
     "text": [
      "Processing comments:  33%|███▎      | 83/250 [00:19<00:45,  3.66it/s]"
     ]
    },
    {
     "name": "stdout",
     "output_type": "stream",
     "text": [
      "-1.\n",
      "严重建议1000亿以上的一个指数，1000亿以下一个指数，这样中小板快就能看出和\n"
     ]
    },
    {
     "name": "stderr",
     "output_type": "stream",
     "text": [
      "Processing comments:  34%|███▎      | 84/250 [00:19<00:48,  3.45it/s]"
     ]
    },
    {
     "name": "stdout",
     "output_type": "stream",
     "text": [
      "-1.\n",
      "明天拉起来\n"
     ]
    },
    {
     "name": "stderr",
     "output_type": "stream",
     "text": [
      "Processing comments:  34%|███▍      | 85/250 [00:20<00:44,  3.67it/s]"
     ]
    },
    {
     "name": "stdout",
     "output_type": "stream",
     "text": [
      "-1\n",
      "$上证指数(SH000001)$星期三就没有不亏的\n"
     ]
    },
    {
     "name": "stderr",
     "output_type": "stream",
     "text": [
      "Processing comments:  34%|███▍      | 86/250 [00:20<00:41,  3.94it/s]"
     ]
    },
    {
     "name": "stdout",
     "output_type": "stream",
     "text": [
      "-1\n",
      "挣钱犹如针挑土，亏钱犹如水推沙\n"
     ]
    },
    {
     "name": "stderr",
     "output_type": "stream",
     "text": [
      "Processing comments:  35%|███▍      | 87/250 [00:20<00:39,  4.16it/s]"
     ]
    },
    {
     "name": "stdout",
     "output_type": "stream",
     "text": [
      "-1\n",
      "大盘想往上走，还得看宁王和迪王\n"
     ]
    },
    {
     "name": "stderr",
     "output_type": "stream",
     "text": [
      "Processing comments:  35%|███▌      | 88/250 [00:20<00:37,  4.33it/s]"
     ]
    },
    {
     "name": "stdout",
     "output_type": "stream",
     "text": [
      "-1\n",
      "今天A股小跌了神秘之手不见了\n"
     ]
    },
    {
     "name": "stderr",
     "output_type": "stream",
     "text": [
      "Processing comments:  36%|███▌      | 90/250 [00:21<00:33,  4.78it/s]"
     ]
    },
    {
     "name": "stdout",
     "output_type": "stream",
     "text": [
      "-1\n",
      "$上证指数(SH000001)$大A，威武\n",
      "1\n",
      "$上证指数(SH000001)$用平板复盘看图形比较好看\n"
     ]
    },
    {
     "name": "stderr",
     "output_type": "stream",
     "text": [
      "Processing comments:  36%|███▋      | 91/250 [00:21<00:31,  5.05it/s]"
     ]
    },
    {
     "name": "stdout",
     "output_type": "stream",
     "text": [
      "1\n",
      "三千点成.天花吊顶\n"
     ]
    },
    {
     "name": "stderr",
     "output_type": "stream",
     "text": [
      "Processing comments:  37%|███▋      | 93/250 [00:21<00:30,  5.18it/s]"
     ]
    },
    {
     "name": "stdout",
     "output_type": "stream",
     "text": [
      "-1\n",
      "感觉要复制昨晚美股走势，下午翻红[俏皮]\n",
      "1\n",
      "2800点\n"
     ]
    },
    {
     "name": "stderr",
     "output_type": "stream",
     "text": [
      "Processing comments:  38%|███▊      | 95/250 [00:21<00:28,  5.44it/s]"
     ]
    },
    {
     "name": "stdout",
     "output_type": "stream",
     "text": [
      "1\n",
      "又创新高了，颠倒着看\n",
      "1\n",
      "十一月10%应有11000\n"
     ]
    },
    {
     "name": "stderr",
     "output_type": "stream",
     "text": [
      "Processing comments:  39%|███▉      | 97/250 [00:22<00:30,  4.97it/s]"
     ]
    },
    {
     "name": "stdout",
     "output_type": "stream",
     "text": [
      "-1\n",
      "买了个抗菌饭碗、一双筷子、一个水杯…．．[笑哭]\n",
      "1\n",
      "A股开门红，个股冲高落散户又上当，账户不见红\n"
     ]
    },
    {
     "name": "stderr",
     "output_type": "stream",
     "text": [
      "Processing comments:  39%|███▉      | 98/250 [00:22<00:31,  4.90it/s]"
     ]
    },
    {
     "name": "stdout",
     "output_type": "stream",
     "text": [
      "-1\n",
      "证券明明是利好反而大跌，况且证券也没涨，跌了两年多了\n"
     ]
    },
    {
     "name": "stderr",
     "output_type": "stream",
     "text": [
      "Processing comments:  40%|████      | 100/250 [00:23<00:29,  5.14it/s]"
     ]
    },
    {
     "name": "stdout",
     "output_type": "stream",
     "text": [
      "-1\n",
      "戏水\n",
      "1\n",
      "#失守3000点，A股何去何从？#割肉了\n"
     ]
    },
    {
     "name": "stderr",
     "output_type": "stream",
     "text": [
      "Processing comments:  40%|████      | 101/250 [00:23<00:29,  5.02it/s]"
     ]
    },
    {
     "name": "stdout",
     "output_type": "stream",
     "text": [
      "-1\n",
      "我没割反加仓了\n"
     ]
    },
    {
     "name": "stderr",
     "output_type": "stream",
     "text": [
      "Processing comments:  41%|████      | 102/250 [00:23<00:33,  4.44it/s]"
     ]
    },
    {
     "name": "stdout",
     "output_type": "stream",
     "text": [
      "-1\n",
      "这就尴尬了，17%的收益率，\n"
     ]
    },
    {
     "name": "stderr",
     "output_type": "stream",
     "text": [
      "Processing comments:  41%|████      | 103/250 [00:23<00:32,  4.54it/s]"
     ]
    },
    {
     "name": "stdout",
     "output_type": "stream",
     "text": [
      "-1\n",
      "还是得看中字头企业呀\n"
     ]
    },
    {
     "name": "stderr",
     "output_type": "stream",
     "text": [
      "Processing comments:  42%|████▏     | 105/250 [00:24<00:31,  4.57it/s]"
     ]
    },
    {
     "name": "stdout",
     "output_type": "stream",
     "text": [
      "-1\n",
      "$上证指数(SH000001)$大止不住了\n",
      "1\n",
      "砖家常说一段上涨的尾声便是保险的拉升\n"
     ]
    },
    {
     "name": "stderr",
     "output_type": "stream",
     "text": [
      "Processing comments:  42%|████▏     | 106/250 [00:24<00:29,  4.88it/s]"
     ]
    },
    {
     "name": "stdout",
     "output_type": "stream",
     "text": [
      "1\n",
      "节前效应调整不可避免，限电头条下，当前最热最强当属新能源（光伏，风能，核能），加\n"
     ]
    },
    {
     "name": "stderr",
     "output_type": "stream",
     "text": [
      "Processing comments:  43%|████▎     | 107/250 [00:24<00:33,  4.31it/s]"
     ]
    },
    {
     "name": "stdout",
     "output_type": "stream",
     "text": [
      "-1\n",
      "每天主要靠茅台宁德时代来维系指数。\n"
     ]
    },
    {
     "name": "stderr",
     "output_type": "stream",
     "text": [
      "Processing comments:  43%|████▎     | 108/250 [00:24<00:31,  4.44it/s]"
     ]
    },
    {
     "name": "stdout",
     "output_type": "stream",
     "text": [
      "-1\n",
      "光伏和稀土怎么回事？\n"
     ]
    },
    {
     "name": "stderr",
     "output_type": "stream",
     "text": [
      "Processing comments:  44%|████▎     | 109/250 [00:25<00:30,  4.55it/s]"
     ]
    },
    {
     "name": "stdout",
     "output_type": "stream",
     "text": [
      "-1\n",
      "今天早盘追进去的人多吧。庄家乘机交换筹码。午盘大回落，再套一大片\n"
     ]
    },
    {
     "name": "stderr",
     "output_type": "stream",
     "text": [
      "Processing comments:  44%|████▍     | 110/250 [00:25<00:33,  4.13it/s]"
     ]
    },
    {
     "name": "stdout",
     "output_type": "stream",
     "text": [
      "-1\n",
      "量化机器功劳大\n"
     ]
    },
    {
     "name": "stderr",
     "output_type": "stream",
     "text": [
      "Processing comments:  44%|████▍     | 111/250 [00:25<00:33,  4.20it/s]"
     ]
    },
    {
     "name": "stdout",
     "output_type": "stream",
     "text": [
      "1\n",
      "$上证指数(SH000001)$真的恶心北向这条狗\n"
     ]
    },
    {
     "name": "stderr",
     "output_type": "stream",
     "text": [
      "Processing comments:  45%|████▍     | 112/250 [00:25<00:31,  4.36it/s]"
     ]
    },
    {
     "name": "stdout",
     "output_type": "stream",
     "text": [
      "-1\n",
      "$上证指数(SH000001)$护盘的都没有了。北向怎么停了。百分之九十九的票在\n"
     ]
    },
    {
     "name": "stderr",
     "output_type": "stream",
     "text": [
      "Processing comments:  45%|████▌     | 113/250 [00:26<00:30,  4.46it/s]"
     ]
    },
    {
     "name": "stdout",
     "output_type": "stream",
     "text": [
      "-1\n",
      "支持3个月走500点，符合所有人利益，11月是黄金岁月，一定要敢于自信.\n"
     ]
    },
    {
     "name": "stderr",
     "output_type": "stream",
     "text": [
      "Processing comments:  46%|████▌     | 115/250 [00:26<00:29,  4.60it/s]"
     ]
    },
    {
     "name": "stdout",
     "output_type": "stream",
     "text": [
      "1\n",
      "冲冲冲\n",
      "1\n",
      "$上证指数(SH000001)$今天是千年一遇的九2日！2022年2月22日正月\n"
     ]
    },
    {
     "name": "stderr",
     "output_type": "stream",
     "text": [
      "Processing comments:  46%|████▋     | 116/250 [00:26<00:30,  4.36it/s]"
     ]
    },
    {
     "name": "stdout",
     "output_type": "stream",
     "text": [
      "1\n",
      "今天破2900\n"
     ]
    },
    {
     "name": "stderr",
     "output_type": "stream",
     "text": [
      "Processing comments:  47%|████▋     | 117/250 [00:26<00:29,  4.50it/s]"
     ]
    },
    {
     "name": "stdout",
     "output_type": "stream",
     "text": [
      "1\n",
      "$上证指数(SH000001)$收盘必破3400\n"
     ]
    },
    {
     "name": "stderr",
     "output_type": "stream",
     "text": [
      "Processing comments:  47%|████▋     | 118/250 [00:27<00:28,  4.58it/s]"
     ]
    },
    {
     "name": "stdout",
     "output_type": "stream",
     "text": [
      "-1\n",
      "大盘和它同样走\n"
     ]
    },
    {
     "name": "stderr",
     "output_type": "stream",
     "text": [
      "Processing comments:  48%|████▊     | 119/250 [00:27<00:29,  4.42it/s]"
     ]
    },
    {
     "name": "stdout",
     "output_type": "stream",
     "text": [
      "0\n",
      "昨晚我算了一挂，大跌开始要2900止损。\n"
     ]
    },
    {
     "name": "stderr",
     "output_type": "stream",
     "text": [
      "Processing comments:  48%|████▊     | 120/250 [00:27<00:28,  4.53it/s]"
     ]
    },
    {
     "name": "stdout",
     "output_type": "stream",
     "text": [
      "-1\n",
      "北交所一个板是30%，创业板科创板一个板是20%；说不动有一天，市场没有涨停板了\n"
     ]
    },
    {
     "name": "stderr",
     "output_type": "stream",
     "text": [
      "Processing comments:  48%|████▊     | 121/250 [00:27<00:31,  4.13it/s]"
     ]
    },
    {
     "name": "stdout",
     "output_type": "stream",
     "text": [
      "-1\n",
      "北向尾盘持续抄底，确实鸡贼，周一铁定高开了，估计一波涨停潮\n"
     ]
    },
    {
     "name": "stderr",
     "output_type": "stream",
     "text": [
      "Processing comments:  49%|████▉     | 122/250 [00:28<00:31,  4.06it/s]"
     ]
    },
    {
     "name": "stdout",
     "output_type": "stream",
     "text": [
      "1\n",
      "站稳年线[惊讶]\n"
     ]
    },
    {
     "name": "stderr",
     "output_type": "stream",
     "text": [
      "Processing comments:  49%|████▉     | 123/250 [00:28<00:31,  4.07it/s]"
     ]
    },
    {
     "name": "stdout",
     "output_type": "stream",
     "text": [
      "1\n",
      "很久必跌，看来缺口肯定是要补回的\n"
     ]
    },
    {
     "name": "stderr",
     "output_type": "stream",
     "text": [
      "Processing comments:  50%|█████     | 125/250 [00:28<00:26,  4.64it/s]"
     ]
    },
    {
     "name": "stdout",
     "output_type": "stream",
     "text": [
      "-1\n",
      "$上证指数(SH000001)$成交9600亿元左右\n",
      "1\n",
      "假，指数不跌个股惨跌\n"
     ]
    },
    {
     "name": "stderr",
     "output_type": "stream",
     "text": [
      "Processing comments:  50%|█████     | 126/250 [00:28<00:26,  4.68it/s]"
     ]
    },
    {
     "name": "stdout",
     "output_type": "stream",
     "text": [
      "-1\n",
      "$上证指数(SH000001)$辽港股份\n"
     ]
    },
    {
     "name": "stderr",
     "output_type": "stream",
     "text": [
      "Processing comments:  51%|█████     | 127/250 [00:29<00:26,  4.70it/s]"
     ]
    },
    {
     "name": "stdout",
     "output_type": "stream",
     "text": [
      "-1\n",
      "赶紧破了\n"
     ]
    },
    {
     "name": "stderr",
     "output_type": "stream",
     "text": [
      "Processing comments:  51%|█████     | 128/250 [00:29<00:26,  4.52it/s]"
     ]
    },
    {
     "name": "stdout",
     "output_type": "stream",
     "text": [
      "-1\n",
      "上午中阳线是诱多！\n"
     ]
    },
    {
     "name": "stderr",
     "output_type": "stream",
     "text": [
      "Processing comments:  52%|█████▏    | 129/250 [00:29<00:26,  4.60it/s]"
     ]
    },
    {
     "name": "stdout",
     "output_type": "stream",
     "text": [
      "-1\n",
      "周一低开低走，同意的点赞，不同意的评论区见！\n"
     ]
    },
    {
     "name": "stderr",
     "output_type": "stream",
     "text": [
      "Processing comments:  52%|█████▏    | 130/250 [00:29<00:25,  4.64it/s]"
     ]
    },
    {
     "name": "stdout",
     "output_type": "stream",
     "text": [
      "-1\n",
      "$上证指数(SH000001)$券商不动，不可能上涨\n"
     ]
    },
    {
     "name": "stderr",
     "output_type": "stream",
     "text": [
      "Processing comments:  52%|█████▏    | 131/250 [00:30<00:25,  4.67it/s]"
     ]
    },
    {
     "name": "stdout",
     "output_type": "stream",
     "text": [
      "-1\n",
      "利好跌停[微笑]\n"
     ]
    },
    {
     "name": "stderr",
     "output_type": "stream",
     "text": [
      "Processing comments:  53%|█████▎    | 132/250 [00:30<00:25,  4.56it/s]"
     ]
    },
    {
     "name": "stdout",
     "output_type": "stream",
     "text": [
      "1\n",
      "做st吧\n"
     ]
    },
    {
     "name": "stderr",
     "output_type": "stream",
     "text": [
      "Processing comments:  53%|█████▎    | 133/250 [00:30<00:25,  4.59it/s]"
     ]
    },
    {
     "name": "stdout",
     "output_type": "stream",
     "text": [
      "-1\n",
      "下午可能反抽3100，跳水\n"
     ]
    },
    {
     "name": "stderr",
     "output_type": "stream",
     "text": [
      "Processing comments:  54%|█████▎    | 134/250 [00:30<00:24,  4.66it/s]"
     ]
    },
    {
     "name": "stdout",
     "output_type": "stream",
     "text": [
      "-1\n",
      "砸继续加油奥利给。\n"
     ]
    },
    {
     "name": "stderr",
     "output_type": "stream",
     "text": [
      "Processing comments:  54%|█████▍    | 135/250 [00:30<00:26,  4.41it/s]"
     ]
    },
    {
     "name": "stdout",
     "output_type": "stream",
     "text": [
      "1\n",
      "$上证指数(SH000001)$今天大盘已下跌为主。\n"
     ]
    },
    {
     "name": "stderr",
     "output_type": "stream",
     "text": [
      "Processing comments:  54%|█████▍    | 136/250 [00:31<00:25,  4.52it/s]"
     ]
    },
    {
     "name": "stdout",
     "output_type": "stream",
     "text": [
      "-1\n",
      "行情难以确立。已无方向感。\n"
     ]
    },
    {
     "name": "stderr",
     "output_type": "stream",
     "text": [
      "Processing comments:  55%|█████▍    | 137/250 [00:31<00:24,  4.60it/s]"
     ]
    },
    {
     "name": "stdout",
     "output_type": "stream",
     "text": [
      "-1\n",
      "沪指连涨6天后收2小阴，北向继续进场，节前扫货不停手，场内机构依然稳定且惜售，而\n"
     ]
    },
    {
     "name": "stderr",
     "output_type": "stream",
     "text": [
      "Processing comments:  55%|█████▌    | 138/250 [00:31<00:27,  4.15it/s]"
     ]
    },
    {
     "name": "stdout",
     "output_type": "stream",
     "text": [
      "-1\n",
      "国常会出台支持平台经济规范健康发展的具体措施，发挥好平台经济创造就业、促进消费作\n"
     ]
    },
    {
     "name": "stderr",
     "output_type": "stream",
     "text": [
      "Processing comments:  56%|█████▌    | 139/250 [00:31<00:27,  4.07it/s]"
     ]
    },
    {
     "name": "stdout",
     "output_type": "stream",
     "text": [
      "1\n",
      "叼毛内资就知道跑\n"
     ]
    },
    {
     "name": "stderr",
     "output_type": "stream",
     "text": [
      "Processing comments:  56%|█████▌    | 140/250 [00:32<00:28,  3.91it/s]"
     ]
    },
    {
     "name": "stdout",
     "output_type": "stream",
     "text": [
      "-1\n",
      "拉权重强撑着指数其余个股大家心里都有数\n"
     ]
    },
    {
     "name": "stderr",
     "output_type": "stream",
     "text": [
      "Processing comments:  56%|█████▋    | 141/250 [00:32<00:26,  4.14it/s]"
     ]
    },
    {
     "name": "stdout",
     "output_type": "stream",
     "text": [
      "-1\n",
      "三个跌停起步\n"
     ]
    },
    {
     "name": "stderr",
     "output_type": "stream",
     "text": [
      "Processing comments:  57%|█████▋    | 142/250 [00:32<00:26,  4.13it/s]"
     ]
    },
    {
     "name": "stdout",
     "output_type": "stream",
     "text": [
      "-1\n",
      "指数两年才涨十个点，大资金去掉融资成本才两三个点利润率。一千万赚二三十万。弄个几\n"
     ]
    },
    {
     "name": "stderr",
     "output_type": "stream",
     "text": [
      "Processing comments:  57%|█████▋    | 143/250 [00:32<00:27,  3.88it/s]"
     ]
    },
    {
     "name": "stdout",
     "output_type": "stream",
     "text": [
      "-1\n",
      "明年的今天，上证必到4500，耶稣也拦不住，立贴为证[加油][加油][加油]\n"
     ]
    },
    {
     "name": "stderr",
     "output_type": "stream",
     "text": [
      "Processing comments:  58%|█████▊    | 145/250 [00:33<00:24,  4.31it/s]"
     ]
    },
    {
     "name": "stdout",
     "output_type": "stream",
     "text": [
      "1\n",
      "最强大风口锂矿，锂矿，锂矿\n",
      "1\n",
      "转多思维\n"
     ]
    },
    {
     "name": "stderr",
     "output_type": "stream",
     "text": [
      "Processing comments:  58%|█████▊    | 146/250 [00:33<00:24,  4.32it/s]"
     ]
    },
    {
     "name": "stdout",
     "output_type": "stream",
     "text": [
      "-1\n",
      "内资不是蠢就是坏\n"
     ]
    },
    {
     "name": "stderr",
     "output_type": "stream",
     "text": [
      "Processing comments:  59%|█████▉    | 147/250 [00:33<00:25,  4.07it/s]"
     ]
    },
    {
     "name": "stdout",
     "output_type": "stream",
     "text": [
      "-1\n",
      "下周不亏钱了。\n"
     ]
    },
    {
     "name": "stderr",
     "output_type": "stream",
     "text": [
      "Processing comments:  59%|█████▉    | 148/250 [00:34<00:25,  4.08it/s]"
     ]
    },
    {
     "name": "stdout",
     "output_type": "stream",
     "text": [
      "1\n",
      "$上证指数(SH000001)$下半年可不可以开启狂干模式，因为我们的目标是星辰\n"
     ]
    },
    {
     "name": "stderr",
     "output_type": "stream",
     "text": [
      "Processing comments:  60%|█████▉    | 149/250 [00:34<00:24,  4.07it/s]"
     ]
    },
    {
     "name": "stdout",
     "output_type": "stream",
     "text": [
      "-1.\n",
      "一句七字沪波段……\n"
     ]
    },
    {
     "name": "stderr",
     "output_type": "stream",
     "text": [
      "Processing comments:  60%|██████    | 150/250 [00:34<00:23,  4.27it/s]"
     ]
    },
    {
     "name": "stdout",
     "output_type": "stream",
     "text": [
      "-1\n",
      "也不准备撤退了，就想看看你能跌到哪儿\n"
     ]
    },
    {
     "name": "stderr",
     "output_type": "stream",
     "text": [
      "Processing comments:  60%|██████    | 151/250 [00:34<00:22,  4.41it/s]"
     ]
    },
    {
     "name": "stdout",
     "output_type": "stream",
     "text": [
      "-1\n",
      "人民有信仰，国家有力量\n"
     ]
    },
    {
     "name": "stderr",
     "output_type": "stream",
     "text": [
      "Processing comments:  61%|██████    | 152/250 [00:35<00:22,  4.32it/s]"
     ]
    },
    {
     "name": "stdout",
     "output_type": "stream",
     "text": [
      "1\n",
      "指数又回到3200本金又新低。\n"
     ]
    },
    {
     "name": "stderr",
     "output_type": "stream",
     "text": [
      "Processing comments:  61%|██████    | 153/250 [00:35<00:21,  4.47it/s]"
     ]
    },
    {
     "name": "stdout",
     "output_type": "stream",
     "text": [
      "-1\n",
      "$上证指数(SH000001)$都在大涨，暴涨为什么拉都拉大上去，什么问事\n"
     ]
    },
    {
     "name": "stderr",
     "output_type": "stream",
     "text": [
      "Processing comments:  62%|██████▏   | 154/250 [00:35<00:23,  4.09it/s]"
     ]
    },
    {
     "name": "stdout",
     "output_type": "stream",
     "text": [
      "-1\n",
      "$上证指数(SH000001)$只要有任何一家机构唱多一只股票时，建议散户朋友们\n"
     ]
    },
    {
     "name": "stderr",
     "output_type": "stream",
     "text": [
      "Processing comments:  62%|██████▏   | 155/250 [00:35<00:22,  4.27it/s]"
     ]
    },
    {
     "name": "stdout",
     "output_type": "stream",
     "text": [
      "-1\n",
      "$上证指数(SH000001)$我看你跌到那里去，反正我躺倒装死算了，资金再缩水\n"
     ]
    },
    {
     "name": "stderr",
     "output_type": "stream",
     "text": [
      "Processing comments:  62%|██████▏   | 156/250 [00:35<00:21,  4.40it/s]"
     ]
    },
    {
     "name": "stdout",
     "output_type": "stream",
     "text": [
      "-1\n",
      "连续两天缩量阳线+钢铁股拉指数,大家要小心了\n"
     ]
    },
    {
     "name": "stderr",
     "output_type": "stream",
     "text": [
      "Processing comments:  63%|██████▎   | 157/250 [00:36<00:20,  4.49it/s]"
     ]
    },
    {
     "name": "stdout",
     "output_type": "stream",
     "text": [
      "-1\n",
      "7.81卖了，闹心！\n"
     ]
    },
    {
     "name": "stderr",
     "output_type": "stream",
     "text": [
      "Processing comments:  64%|██████▎   | 159/250 [00:36<00:18,  4.90it/s]"
     ]
    },
    {
     "name": "stdout",
     "output_type": "stream",
     "text": [
      "-1\n",
      "继续拉茅台啊[大笑][大笑][大笑]\n",
      "1\n",
      "大盘一直在跌几个月了，我的002719.和600784一直不跌不涨\n"
     ]
    },
    {
     "name": "stderr",
     "output_type": "stream",
     "text": [
      "Processing comments:  64%|██████▍   | 160/250 [00:36<00:18,  4.86it/s]"
     ]
    },
    {
     "name": "stdout",
     "output_type": "stream",
     "text": [
      "-1\n",
      "做个好人长线持有，低价优质股的小散真难！而且难上加难！亏钱分分钟的事，赚点钱比上\n"
     ]
    },
    {
     "name": "stderr",
     "output_type": "stream",
     "text": [
      "Processing comments:  65%|██████▍   | 162/250 [00:37<00:18,  4.67it/s]"
     ]
    },
    {
     "name": "stdout",
     "output_type": "stream",
     "text": [
      "-1\n",
      "我大A也进入技术性牛市了！\n",
      "1\n",
      "为什么我的还是绿的\n"
     ]
    },
    {
     "name": "stderr",
     "output_type": "stream",
     "text": [
      "Processing comments:  65%|██████▌   | 163/250 [00:37<00:19,  4.50it/s]"
     ]
    },
    {
     "name": "stdout",
     "output_type": "stream",
     "text": [
      "-1\n",
      "今天砸盘子，明天北后操底\n"
     ]
    },
    {
     "name": "stderr",
     "output_type": "stream",
     "text": [
      "Processing comments:  66%|██████▌   | 164/250 [00:37<00:18,  4.58it/s]"
     ]
    },
    {
     "name": "stdout",
     "output_type": "stream",
     "text": [
      "-1\n",
      "跌这么点已经很给力了\n"
     ]
    },
    {
     "name": "stderr",
     "output_type": "stream",
     "text": [
      "Processing comments:  66%|██████▌   | 165/250 [00:37<00:19,  4.36it/s]"
     ]
    },
    {
     "name": "stdout",
     "output_type": "stream",
     "text": [
      "1\n",
      "买股票就是大鱼吃小鱼，大主力吃小主力，小主力吃邮资吃散户\n"
     ]
    },
    {
     "name": "stderr",
     "output_type": "stream",
     "text": [
      "Processing comments:  66%|██████▋   | 166/250 [00:38<00:19,  4.41it/s]"
     ]
    },
    {
     "name": "stdout",
     "output_type": "stream",
     "text": [
      "-1\n",
      "骗你新高的模样\n"
     ]
    },
    {
     "name": "stderr",
     "output_type": "stream",
     "text": [
      "Processing comments:  67%|██████▋   | 167/250 [00:38<00:20,  4.12it/s]"
     ]
    },
    {
     "name": "stdout",
     "output_type": "stream",
     "text": [
      "-1\n",
      "下跌不言底，至少还得下个台阶，金针探底[韭菜][韭菜]\n"
     ]
    },
    {
     "name": "stderr",
     "output_type": "stream",
     "text": [
      "Processing comments:  68%|██████▊   | 169/250 [00:38<00:17,  4.66it/s]"
     ]
    },
    {
     "name": "stdout",
     "output_type": "stream",
     "text": [
      "-1\n",
      "今年玩跑的快，别往年还早！\n",
      "1\n",
      "指数上去了，但赚钱效应不大，难搞，5千多只票，一天不到一万亿，指数一跌全部哗啦啦\n"
     ]
    },
    {
     "name": "stderr",
     "output_type": "stream",
     "text": [
      "Processing comments:  68%|██████▊   | 171/250 [00:39<00:17,  4.58it/s]"
     ]
    },
    {
     "name": "stdout",
     "output_type": "stream",
     "text": [
      "-1\n",
      "如果能跌破3千，就是绝佳的最后的上车机会！！\n",
      "1\n",
      "远离股市\n"
     ]
    },
    {
     "name": "stderr",
     "output_type": "stream",
     "text": [
      "Processing comments:  69%|██████▉   | 172/250 [00:39<00:17,  4.50it/s]"
     ]
    },
    {
     "name": "stdout",
     "output_type": "stream",
     "text": [
      "-1\n",
      "我买[偷笑]\n"
     ]
    },
    {
     "name": "stderr",
     "output_type": "stream",
     "text": [
      "Processing comments:  69%|██████▉   | 173/250 [00:39<00:16,  4.62it/s]"
     ]
    },
    {
     "name": "stdout",
     "output_type": "stream",
     "text": [
      "1\n",
      "$上证指数(SH000001)$国资委：兵器造核酸检测车下线，每日可完成2880\n"
     ]
    },
    {
     "name": "stderr",
     "output_type": "stream",
     "text": [
      "Processing comments:  70%|██████▉   | 174/250 [00:39<00:17,  4.38it/s]"
     ]
    },
    {
     "name": "stdout",
     "output_type": "stream",
     "text": [
      "1\n",
      "别演了，低开低走\n"
     ]
    },
    {
     "name": "stderr",
     "output_type": "stream",
     "text": [
      "Processing comments:  70%|███████   | 175/250 [00:40<00:18,  4.04it/s]"
     ]
    },
    {
     "name": "stdout",
     "output_type": "stream",
     "text": [
      "-1\n",
      "天天多选一，从9月中开始，基本没有好过\n"
     ]
    },
    {
     "name": "stderr",
     "output_type": "stream",
     "text": [
      "Processing comments:  70%|███████   | 176/250 [00:40<00:17,  4.24it/s]"
     ]
    },
    {
     "name": "stdout",
     "output_type": "stream",
     "text": [
      "-1\n",
      "又是亏本的一天。。。。。无语掉了。。。。彻底。。。。\n"
     ]
    },
    {
     "name": "stderr",
     "output_type": "stream",
     "text": [
      "Processing comments:  71%|███████   | 177/250 [00:40<00:16,  4.38it/s]"
     ]
    },
    {
     "name": "stdout",
     "output_type": "stream",
     "text": [
      "-1\n",
      "2点半开始跳水\n"
     ]
    },
    {
     "name": "stderr",
     "output_type": "stream",
     "text": [
      "Processing comments:  71%|███████   | 178/250 [00:40<00:16,  4.45it/s]"
     ]
    },
    {
     "name": "stdout",
     "output_type": "stream",
     "text": [
      "0\n",
      "这大盘涨的心慌，各股不怎么涨，只要轻轻一下调各股就欧型，大A开始玩不正常的了，进\n"
     ]
    },
    {
     "name": "stderr",
     "output_type": "stream",
     "text": [
      "Processing comments:  72%|███████▏  | 179/250 [00:41<00:17,  4.06it/s]"
     ]
    },
    {
     "name": "stdout",
     "output_type": "stream",
     "text": [
      "-1\n",
      "明天3228开盘\n"
     ]
    },
    {
     "name": "stderr",
     "output_type": "stream",
     "text": [
      "Processing comments:  72%|███████▏  | 181/250 [00:41<00:15,  4.59it/s]"
     ]
    },
    {
     "name": "stdout",
     "output_type": "stream",
     "text": [
      "1\n",
      "今晚人家又要大涨了，你懂的！\n",
      "1\n",
      "云汉芯城上市IPO受理\n"
     ]
    },
    {
     "name": "stderr",
     "output_type": "stream",
     "text": [
      "Processing comments:  73%|███████▎  | 182/250 [00:41<00:13,  4.93it/s]"
     ]
    },
    {
     "name": "stdout",
     "output_type": "stream",
     "text": [
      "0\n",
      "北向两点半以后扫货?\n"
     ]
    },
    {
     "name": "stderr",
     "output_type": "stream",
     "text": [
      "Processing comments:  73%|███████▎  | 183/250 [00:42<00:15,  4.43it/s]"
     ]
    },
    {
     "name": "stdout",
     "output_type": "stream",
     "text": [
      "-1\n",
      "主力筹码＜0.6，还不走？\n"
     ]
    },
    {
     "name": "stderr",
     "output_type": "stream",
     "text": [
      "Processing comments:  74%|███████▎  | 184/250 [00:42<00:14,  4.53it/s]"
     ]
    },
    {
     "name": "stdout",
     "output_type": "stream",
     "text": [
      "-1\n",
      "$上证指数(SH000001)$今年复制08年，18年走势啰，现在才是恐慌的开始\n"
     ]
    },
    {
     "name": "stderr",
     "output_type": "stream",
     "text": [
      "Processing comments:  74%|███████▍  | 185/250 [00:42<00:15,  4.13it/s]"
     ]
    },
    {
     "name": "stdout",
     "output_type": "stream",
     "text": [
      "-1\n",
      "周线跌破长期均线已成定居\n"
     ]
    },
    {
     "name": "stderr",
     "output_type": "stream",
     "text": [
      "Processing comments:  74%|███████▍  | 186/250 [00:42<00:14,  4.31it/s]"
     ]
    },
    {
     "name": "stdout",
     "output_type": "stream",
     "text": [
      "-1\n",
      "求跌\n"
     ]
    },
    {
     "name": "stderr",
     "output_type": "stream",
     "text": [
      "Processing comments:  75%|███████▍  | 187/250 [00:42<00:14,  4.47it/s]"
     ]
    },
    {
     "name": "stdout",
     "output_type": "stream",
     "text": [
      "-1\n",
      "干啥\n"
     ]
    },
    {
     "name": "stderr",
     "output_type": "stream",
     "text": [
      "Processing comments:  75%|███████▌  | 188/250 [00:43<00:13,  4.51it/s]"
     ]
    },
    {
     "name": "stdout",
     "output_type": "stream",
     "text": [
      "-1\n",
      "还没开始就已经结束了\n"
     ]
    },
    {
     "name": "stderr",
     "output_type": "stream",
     "text": [
      "Processing comments:  76%|███████▌  | 189/250 [00:43<00:14,  4.24it/s]"
     ]
    },
    {
     "name": "stdout",
     "output_type": "stream",
     "text": [
      "-1\n",
      "今天还不抬轿吗[坏笑]\n"
     ]
    },
    {
     "name": "stderr",
     "output_type": "stream",
     "text": [
      "Processing comments:  76%|███████▋  | 191/250 [00:43<00:12,  4.75it/s]"
     ]
    },
    {
     "name": "stdout",
     "output_type": "stream",
     "text": [
      "-1\n",
      "各位股神预测一下点数[微笑]\n",
      "1\n",
      "千股跌停跌停\n"
     ]
    },
    {
     "name": "stderr",
     "output_type": "stream",
     "text": [
      "Processing comments:  77%|███████▋  | 192/250 [00:44<00:12,  4.47it/s]"
     ]
    },
    {
     "name": "stdout",
     "output_type": "stream",
     "text": [
      "-1\n",
      "大A最大一个特点就是：无事不登三宝殿，非到走投无路不出利好，从来不会有锦上添花的\n"
     ]
    },
    {
     "name": "stderr",
     "output_type": "stream",
     "text": [
      "Processing comments:  77%|███████▋  | 193/250 [00:44<00:13,  4.09it/s]"
     ]
    },
    {
     "name": "stdout",
     "output_type": "stream",
     "text": [
      "-1\n",
      "工业母机现在变成了工业小鸡，弱弱的。\n"
     ]
    },
    {
     "name": "stderr",
     "output_type": "stream",
     "text": [
      "Processing comments:  78%|███████▊  | 195/250 [00:44<00:11,  4.65it/s]"
     ]
    },
    {
     "name": "stdout",
     "output_type": "stream",
     "text": [
      "-1\n",
      "一鲸落，万物生，怕个鸟\n",
      "0\n",
      "北向买买买，内资卖卖卖！\n"
     ]
    },
    {
     "name": "stderr",
     "output_type": "stream",
     "text": [
      "Processing comments:  78%|███████▊  | 196/250 [00:44<00:11,  4.70it/s]"
     ]
    },
    {
     "name": "stdout",
     "output_type": "stream",
     "text": [
      "-1\n",
      "今天拉金融、房地产、各茅，下周大跌。鸡狗太坏了。\n"
     ]
    },
    {
     "name": "stderr",
     "output_type": "stream",
     "text": [
      "Processing comments:  79%|███████▉  | 197/250 [00:45<00:11,  4.70it/s]"
     ]
    },
    {
     "name": "stdout",
     "output_type": "stream",
     "text": [
      "-1\n",
      "这个点位很主要\n"
     ]
    },
    {
     "name": "stderr",
     "output_type": "stream",
     "text": [
      "Processing comments:  79%|███████▉  | 198/250 [00:45<00:10,  4.76it/s]"
     ]
    },
    {
     "name": "stdout",
     "output_type": "stream",
     "text": [
      "1\n",
      "上下两缺口，看你补哪个？\n"
     ]
    },
    {
     "name": "stderr",
     "output_type": "stream",
     "text": [
      "Processing comments:  80%|███████▉  | 199/250 [00:45<00:10,  4.77it/s]"
     ]
    },
    {
     "name": "stdout",
     "output_type": "stream",
     "text": [
      "-1\n",
      "今天拉个指数，明天继续砸\n"
     ]
    },
    {
     "name": "stderr",
     "output_type": "stream",
     "text": [
      "Processing comments:  80%|████████  | 200/250 [00:45<00:10,  4.79it/s]"
     ]
    },
    {
     "name": "stdout",
     "output_type": "stream",
     "text": [
      "-1\n",
      "风光储凉了风光储凉了风光储凉了风光储凉了\n"
     ]
    },
    {
     "name": "stderr",
     "output_type": "stream",
     "text": [
      "Processing comments:  80%|████████  | 201/250 [00:45<00:10,  4.77it/s]"
     ]
    },
    {
     "name": "stdout",
     "output_type": "stream",
     "text": [
      "-1\n",
      "股市，真狠\n"
     ]
    },
    {
     "name": "stderr",
     "output_type": "stream",
     "text": [
      "Processing comments:  81%|████████  | 202/250 [00:46<00:10,  4.55it/s]"
     ]
    },
    {
     "name": "stdout",
     "output_type": "stream",
     "text": [
      "-1\n",
      "以太昨日跟随大饼走势，一路震荡上行，目前已冲破3400压力位，在回调后继续延续上\n"
     ]
    },
    {
     "name": "stderr",
     "output_type": "stream",
     "text": [
      "Processing comments:  81%|████████  | 203/250 [00:46<00:10,  4.33it/s]"
     ]
    },
    {
     "name": "stdout",
     "output_type": "stream",
     "text": [
      "1\n",
      "马上止跌了\n"
     ]
    },
    {
     "name": "stderr",
     "output_type": "stream",
     "text": [
      "Processing comments:  82%|████████▏ | 204/250 [00:46<00:10,  4.49it/s]"
     ]
    },
    {
     "name": "stdout",
     "output_type": "stream",
     "text": [
      "1\n",
      "你不拉，在这一横那30分钟就走完了！目前五分钟已经走完了！自求多福吧[大笑]！\n"
     ]
    },
    {
     "name": "stderr",
     "output_type": "stream",
     "text": [
      "Processing comments:  82%|████████▏ | 205/250 [00:46<00:10,  4.29it/s]"
     ]
    },
    {
     "name": "stdout",
     "output_type": "stream",
     "text": [
      "1\n",
      "$上证指数(SH000001)$今天是个抄底的好日子\n"
     ]
    },
    {
     "name": "stderr",
     "output_type": "stream",
     "text": [
      "Processing comments:  82%|████████▏ | 206/250 [00:47<00:09,  4.43it/s]"
     ]
    },
    {
     "name": "stdout",
     "output_type": "stream",
     "text": [
      "-1\n",
      "今天的单针探底和8月4日单针探底尺变一模一样！\n"
     ]
    },
    {
     "name": "stderr",
     "output_type": "stream",
     "text": [
      "Processing comments:  83%|████████▎ | 207/250 [00:47<00:09,  4.51it/s]"
     ]
    },
    {
     "name": "stdout",
     "output_type": "stream",
     "text": [
      "-1\n",
      "我呸，国内主力终于睡醒了，终于跟上北上的步伐净流入了！[上涨][上涨][上涨]\n"
     ]
    },
    {
     "name": "stderr",
     "output_type": "stream",
     "text": [
      "Processing comments:  84%|████████▎ | 209/250 [00:47<00:08,  4.67it/s]"
     ]
    },
    {
     "name": "stdout",
     "output_type": "stream",
     "text": [
      "1\n",
      "A股有菜有酒[大笑][大笑][大笑]\n",
      "1\n",
      "轰隆隆~，天雷滚滚，你们听见了没？\n"
     ]
    },
    {
     "name": "stderr",
     "output_type": "stream",
     "text": [
      "Processing comments:  84%|████████▍ | 210/250 [00:47<00:08,  4.96it/s]"
     ]
    },
    {
     "name": "stdout",
     "output_type": "stream",
     "text": [
      "1\n",
      "无量反弹就是老乡别走，主力耍流氓，谨慎再谨慎\n"
     ]
    },
    {
     "name": "stderr",
     "output_type": "stream",
     "text": [
      "Processing comments:  84%|████████▍ | 211/250 [00:48<00:07,  4.89it/s]"
     ]
    },
    {
     "name": "stdout",
     "output_type": "stream",
     "text": [
      "-1\n",
      "$上证指数(SH000001)$黄白线又劈腿，GRD\n"
     ]
    },
    {
     "name": "stderr",
     "output_type": "stream",
     "text": [
      "Processing comments:  85%|████████▍ | 212/250 [00:48<00:07,  4.85it/s]"
     ]
    },
    {
     "name": "stdout",
     "output_type": "stream",
     "text": [
      "-1\n",
      "本团队今天一开盘就做空期指\n"
     ]
    },
    {
     "name": "stderr",
     "output_type": "stream",
     "text": [
      "Processing comments:  85%|████████▌ | 213/250 [00:48<00:07,  4.83it/s]"
     ]
    },
    {
     "name": "stdout",
     "output_type": "stream",
     "text": [
      "-1\n",
      "又出现一个缺口了，节后怎么走啊？\n"
     ]
    },
    {
     "name": "stderr",
     "output_type": "stream",
     "text": [
      "Processing comments:  86%|████████▌ | 214/250 [00:48<00:07,  4.76it/s]"
     ]
    },
    {
     "name": "stdout",
     "output_type": "stream",
     "text": [
      "-1\n",
      "数字中国龙头...中国电信\n"
     ]
    },
    {
     "name": "stderr",
     "output_type": "stream",
     "text": [
      "Processing comments:  86%|████████▌ | 215/250 [00:49<00:08,  4.32it/s]"
     ]
    },
    {
     "name": "stdout",
     "output_type": "stream",
     "text": [
      "-1\n",
      "大盘涨没有赚钱，大盘跌亏更多\n"
     ]
    },
    {
     "name": "stderr",
     "output_type": "stream",
     "text": [
      "Processing comments:  86%|████████▋ | 216/250 [00:49<00:07,  4.45it/s]"
     ]
    },
    {
     "name": "stdout",
     "output_type": "stream",
     "text": [
      "-1\n",
      "$上证指数(SH000001)$\n"
     ]
    },
    {
     "name": "stderr",
     "output_type": "stream",
     "text": [
      "Processing comments:  87%|████████▋ | 217/250 [00:49<00:07,  4.27it/s]"
     ]
    },
    {
     "name": "stdout",
     "output_type": "stream",
     "text": [
      "0\n",
      "周线级别大调整已经显现出来，看周K\n"
     ]
    },
    {
     "name": "stderr",
     "output_type": "stream",
     "text": [
      "Processing comments:  87%|████████▋ | 218/250 [00:49<00:07,  4.41it/s]"
     ]
    },
    {
     "name": "stdout",
     "output_type": "stream",
     "text": [
      "-1\n",
      "$上证指数(SH000001)$315玩命的下跌！今天算打一巴掌给个糖豆吃了\n"
     ]
    },
    {
     "name": "stderr",
     "output_type": "stream",
     "text": [
      "Processing comments:  88%|████████▊ | 219/250 [00:50<00:07,  4.05it/s]"
     ]
    },
    {
     "name": "stdout",
     "output_type": "stream",
     "text": [
      "-1\n",
      "呵呵呵\n"
     ]
    },
    {
     "name": "stderr",
     "output_type": "stream",
     "text": [
      "Processing comments:  88%|████████▊ | 220/250 [00:50<00:07,  4.13it/s]"
     ]
    },
    {
     "name": "stdout",
     "output_type": "stream",
     "text": [
      "1\n",
      "这谁是真牛，把大盘的缺口刚好补了就上去，这比操纵个股还准\n"
     ]
    },
    {
     "name": "stderr",
     "output_type": "stream",
     "text": [
      "Processing comments:  88%|████████▊ | 221/250 [00:50<00:07,  4.07it/s]"
     ]
    },
    {
     "name": "stdout",
     "output_type": "stream",
     "text": [
      "1\n",
      "下跌十字星，拉券商拉权重还是救不回指数，那么月底之前盘整之后必有大跌\n"
     ]
    },
    {
     "name": "stderr",
     "output_type": "stream",
     "text": [
      "Processing comments:  89%|████████▉ | 222/250 [00:50<00:07,  3.85it/s]"
     ]
    },
    {
     "name": "stdout",
     "output_type": "stream",
     "text": [
      "-1\n",
      "我们走的是最弱的\n"
     ]
    },
    {
     "name": "stderr",
     "output_type": "stream",
     "text": [
      "Processing comments:  89%|████████▉ | 223/250 [00:51<00:06,  3.88it/s]"
     ]
    },
    {
     "name": "stdout",
     "output_type": "stream",
     "text": [
      "-1\n",
      "该下跌了\n"
     ]
    },
    {
     "name": "stderr",
     "output_type": "stream",
     "text": [
      "Processing comments:  90%|█████████ | 225/250 [00:51<00:05,  4.42it/s]"
     ]
    },
    {
     "name": "stdout",
     "output_type": "stream",
     "text": [
      "-1\n",
      "融券，一直赚[呲牙][呲牙][呲牙][呲牙]\n",
      "1\n",
      "$上证指数(SH000001)$现在就是搞你钱\n"
     ]
    },
    {
     "name": "stderr",
     "output_type": "stream",
     "text": [
      "Processing comments:  90%|█████████ | 226/250 [00:51<00:05,  4.52it/s]"
     ]
    },
    {
     "name": "stdout",
     "output_type": "stream",
     "text": [
      "-1\n",
      "下雨了\n"
     ]
    },
    {
     "name": "stderr",
     "output_type": "stream",
     "text": [
      "Processing comments:  91%|█████████ | 227/250 [00:51<00:05,  4.47it/s]"
     ]
    },
    {
     "name": "stdout",
     "output_type": "stream",
     "text": [
      "-1\n",
      "$上证指数(SH000001)$今天受到昨夜美西方股市下跌的影响，有很多的恐怖抛\n"
     ]
    },
    {
     "name": "stderr",
     "output_type": "stream",
     "text": [
      "Processing comments:  91%|█████████ | 228/250 [00:52<00:05,  4.09it/s]"
     ]
    },
    {
     "name": "stdout",
     "output_type": "stream",
     "text": [
      "-1\n",
      "A股最近强势，就是每次上午跌，下午拉升\n"
     ]
    },
    {
     "name": "stderr",
     "output_type": "stream",
     "text": [
      "Processing comments:  92%|█████████▏| 229/250 [00:52<00:04,  4.27it/s]"
     ]
    },
    {
     "name": "stdout",
     "output_type": "stream",
     "text": [
      "-1\n",
      "沪深300安全\n"
     ]
    },
    {
     "name": "stderr",
     "output_type": "stream",
     "text": [
      "Processing comments:  92%|█████████▏| 231/250 [00:52<00:04,  4.69it/s]"
     ]
    },
    {
     "name": "stdout",
     "output_type": "stream",
     "text": [
      "0\n",
      "$上证指数(SH000001)$大盘涨稳住韭菜的生长\n",
      "1\n",
      "人生无常，大肠包小肠！\n"
     ]
    },
    {
     "name": "stderr",
     "output_type": "stream",
     "text": [
      "Processing comments:  93%|█████████▎| 232/250 [00:53<00:03,  4.98it/s]"
     ]
    },
    {
     "name": "stdout",
     "output_type": "stream",
     "text": [
      "1\n",
      "挣钱的公司比亏损的走得还惨呵呵！我看这股票都是扯蛋，决定涨跌的因素不是盈利与否，\n"
     ]
    },
    {
     "name": "stderr",
     "output_type": "stream",
     "text": [
      "Processing comments:  93%|█████████▎| 233/250 [00:53<00:03,  4.36it/s]"
     ]
    },
    {
     "name": "stdout",
     "output_type": "stream",
     "text": [
      "-1\n",
      "今天肯定涨停，等2.30主力进场，直线拉升到3200点，看空的就哭吧\n"
     ]
    },
    {
     "name": "stderr",
     "output_type": "stream",
     "text": [
      "Processing comments:  94%|█████████▎| 234/250 [00:53<00:03,  4.22it/s]"
     ]
    },
    {
     "name": "stdout",
     "output_type": "stream",
     "text": [
      "1\n",
      "一个月两天搞定\n"
     ]
    },
    {
     "name": "stderr",
     "output_type": "stream",
     "text": [
      "Processing comments:  94%|█████████▍| 235/250 [00:53<00:03,  4.33it/s]"
     ]
    },
    {
     "name": "stdout",
     "output_type": "stream",
     "text": [
      "1\n",
      "大A威武霸气！\n"
     ]
    },
    {
     "name": "stderr",
     "output_type": "stream",
     "text": [
      "Processing comments:  94%|█████████▍| 236/250 [00:54<00:03,  4.26it/s]"
     ]
    },
    {
     "name": "stdout",
     "output_type": "stream",
     "text": [
      "1\n",
      "不涨大金融，这种红就是昙花一现而已\n"
     ]
    },
    {
     "name": "stderr",
     "output_type": "stream",
     "text": [
      "Processing comments:  95%|█████████▌| 238/250 [00:54<00:02,  4.75it/s]"
     ]
    },
    {
     "name": "stdout",
     "output_type": "stream",
     "text": [
      "-1\n",
      "内资这么卖，准备给家捎去吗\n",
      "0\n",
      "超级大牛股宏达新材，大家赶紧全仓杀入抄底\n"
     ]
    },
    {
     "name": "stderr",
     "output_type": "stream",
     "text": [
      "Processing comments:  96%|█████████▌| 239/250 [00:54<00:02,  5.01it/s]"
     ]
    },
    {
     "name": "stdout",
     "output_type": "stream",
     "text": [
      "1\n",
      "$上证指数(SH000001)$今天一定不会过3150[笑哭]\n"
     ]
    },
    {
     "name": "stderr",
     "output_type": "stream",
     "text": [
      "Processing comments:  96%|█████████▌| 240/250 [00:54<00:02,  4.94it/s]"
     ]
    },
    {
     "name": "stdout",
     "output_type": "stream",
     "text": [
      "-1\n",
      "全天震荡下行，节前开始回调了，节后会更惨2900见\n"
     ]
    },
    {
     "name": "stderr",
     "output_type": "stream",
     "text": [
      "Processing comments:  97%|█████████▋| 242/250 [00:55<00:01,  5.11it/s]"
     ]
    },
    {
     "name": "stdout",
     "output_type": "stream",
     "text": [
      "-1\n",
      "大盘走得这么好，你的赚钱指数是多少？10.8%\n",
      "1\n",
      "冬天得补补，吹吹气，吃吃药\n"
     ]
    },
    {
     "name": "stderr",
     "output_type": "stream",
     "text": [
      "Processing comments:  98%|█████████▊| 244/250 [00:55<00:01,  5.23it/s]"
     ]
    },
    {
     "name": "stdout",
     "output_type": "stream",
     "text": [
      "-1\n",
      "今天浮盈了，第一件事就是买书看，学习、进步、进化。\n",
      "1\n",
      "人民有信仰，民族有希望，国家有力量\n"
     ]
    },
    {
     "name": "stderr",
     "output_type": "stream",
     "text": [
      "Processing comments:  98%|█████████▊| 245/250 [00:55<00:00,  5.41it/s]"
     ]
    },
    {
     "name": "stdout",
     "output_type": "stream",
     "text": [
      "1\n",
      "照此下去没人会看好A股市场行情\n"
     ]
    },
    {
     "name": "stderr",
     "output_type": "stream",
     "text": [
      "Processing comments:  98%|█████████▊| 246/250 [00:55<00:00,  5.20it/s]"
     ]
    },
    {
     "name": "stdout",
     "output_type": "stream",
     "text": [
      "-1\n",
      "明天大回调\n"
     ]
    },
    {
     "name": "stderr",
     "output_type": "stream",
     "text": [
      "Processing comments:  99%|█████████▉| 247/250 [00:56<00:00,  4.82it/s]"
     ]
    },
    {
     "name": "stdout",
     "output_type": "stream",
     "text": [
      "-1\n",
      "大家来述说有哪些坑人的概念\n"
     ]
    },
    {
     "name": "stderr",
     "output_type": "stream",
     "text": [
      "Processing comments:  99%|█████████▉| 248/250 [00:56<00:00,  4.83it/s]"
     ]
    },
    {
     "name": "stdout",
     "output_type": "stream",
     "text": [
      "-1\n",
      "房地产依然是支柱，股市没戏\n"
     ]
    },
    {
     "name": "stderr",
     "output_type": "stream",
     "text": [
      "Processing comments: 100%|█████████▉| 249/250 [00:56<00:00,  4.81it/s]"
     ]
    },
    {
     "name": "stdout",
     "output_type": "stream",
     "text": [
      "-1\n",
      "玩股不喊多，买了又唱空，跌斯你活该\n"
     ]
    },
    {
     "name": "stderr",
     "output_type": "stream",
     "text": [
      "Processing comments: 100%|██████████| 250/250 [00:56<00:00,  4.40it/s]"
     ]
    },
    {
     "name": "stdout",
     "output_type": "stream",
     "text": [
      "-1\n"
     ]
    },
    {
     "name": "stderr",
     "output_type": "stream",
     "text": [
      "\n"
     ]
    },
    {
     "data": {
      "text/plain": [
       "['-1',\n",
       " '1',\n",
       " '-1',\n",
       " '-1',\n",
       " '1',\n",
       " '-1',\n",
       " '-1',\n",
       " '1',\n",
       " '1',\n",
       " '-1',\n",
       " '-1',\n",
       " '-1',\n",
       " '-1',\n",
       " '-1',\n",
       " '1',\n",
       " '-1',\n",
       " '-1',\n",
       " '-1',\n",
       " '-1',\n",
       " '-1',\n",
       " '1',\n",
       " '-1',\n",
       " '-1',\n",
       " '-1',\n",
       " '-1',\n",
       " '0',\n",
       " '-1',\n",
       " '1',\n",
       " '-1',\n",
       " '-1',\n",
       " '1',\n",
       " '-1',\n",
       " '-1',\n",
       " '-1',\n",
       " '-1',\n",
       " '-1',\n",
       " '1',\n",
       " '-1',\n",
       " '1',\n",
       " '-1',\n",
       " '-1',\n",
       " '-1',\n",
       " '-1',\n",
       " '1',\n",
       " '-1',\n",
       " '-1',\n",
       " '-1',\n",
       " '-1',\n",
       " '1',\n",
       " '1',\n",
       " '-1',\n",
       " '-1',\n",
       " '-1',\n",
       " '1',\n",
       " '-1',\n",
       " '1',\n",
       " '-1',\n",
       " '-1',\n",
       " '-1',\n",
       " '-1',\n",
       " '-1',\n",
       " '-1',\n",
       " '-1',\n",
       " '-1',\n",
       " '-1',\n",
       " '-1',\n",
       " '1',\n",
       " '1',\n",
       " '-1',\n",
       " '-1',\n",
       " '1',\n",
       " '-1',\n",
       " '1',\n",
       " '-1',\n",
       " '1',\n",
       " '-1',\n",
       " '-1',\n",
       " '-1',\n",
       " '-1',\n",
       " '-1',\n",
       " '-1',\n",
       " '-1',\n",
       " '-1.',\n",
       " '-1.',\n",
       " '-1',\n",
       " '-1',\n",
       " '-1',\n",
       " '-1',\n",
       " '-1',\n",
       " '1',\n",
       " '1',\n",
       " '-1',\n",
       " '1',\n",
       " '1',\n",
       " '1',\n",
       " '-1',\n",
       " '1',\n",
       " '-1',\n",
       " '-1',\n",
       " '1',\n",
       " '-1',\n",
       " '-1',\n",
       " '-1',\n",
       " '-1',\n",
       " '1',\n",
       " '1',\n",
       " '-1',\n",
       " '-1',\n",
       " '-1',\n",
       " '-1',\n",
       " '1',\n",
       " '-1',\n",
       " '-1',\n",
       " '1',\n",
       " '1',\n",
       " '1',\n",
       " '1',\n",
       " '-1',\n",
       " '0',\n",
       " '-1',\n",
       " '-1',\n",
       " '1',\n",
       " '1',\n",
       " '-1',\n",
       " '1',\n",
       " '-1',\n",
       " '-1',\n",
       " '-1',\n",
       " '-1',\n",
       " '-1',\n",
       " '-1',\n",
       " '1',\n",
       " '-1',\n",
       " '-1',\n",
       " '1',\n",
       " '-1',\n",
       " '-1',\n",
       " '-1',\n",
       " '1',\n",
       " '-1',\n",
       " '-1',\n",
       " '-1',\n",
       " '-1',\n",
       " '1',\n",
       " '1',\n",
       " '-1',\n",
       " '-1',\n",
       " '1',\n",
       " '-1.',\n",
       " '-1',\n",
       " '-1',\n",
       " '1',\n",
       " '-1',\n",
       " '-1',\n",
       " '-1',\n",
       " '-1',\n",
       " '-1',\n",
       " '-1',\n",
       " '1',\n",
       " '-1',\n",
       " '-1',\n",
       " '1',\n",
       " '-1',\n",
       " '-1',\n",
       " '1',\n",
       " '-1',\n",
       " '-1',\n",
       " '-1',\n",
       " '1',\n",
       " '-1',\n",
       " '1',\n",
       " '-1',\n",
       " '1',\n",
       " '1',\n",
       " '-1',\n",
       " '-1',\n",
       " '-1',\n",
       " '0',\n",
       " '-1',\n",
       " '1',\n",
       " '1',\n",
       " '0',\n",
       " '-1',\n",
       " '-1',\n",
       " '-1',\n",
       " '-1',\n",
       " '-1',\n",
       " '-1',\n",
       " '-1',\n",
       " '-1',\n",
       " '1',\n",
       " '-1',\n",
       " '-1',\n",
       " '-1',\n",
       " '0',\n",
       " '-1',\n",
       " '-1',\n",
       " '1',\n",
       " '-1',\n",
       " '-1',\n",
       " '-1',\n",
       " '-1',\n",
       " '1',\n",
       " '1',\n",
       " '1',\n",
       " '-1',\n",
       " '-1',\n",
       " '1',\n",
       " '1',\n",
       " '1',\n",
       " '-1',\n",
       " '-1',\n",
       " '-1',\n",
       " '-1',\n",
       " '-1',\n",
       " '-1',\n",
       " '0',\n",
       " '-1',\n",
       " '-1',\n",
       " '1',\n",
       " '1',\n",
       " '-1',\n",
       " '-1',\n",
       " '-1',\n",
       " '1',\n",
       " '-1',\n",
       " '-1',\n",
       " '-1',\n",
       " '-1',\n",
       " '0',\n",
       " '1',\n",
       " '1',\n",
       " '-1',\n",
       " '1',\n",
       " '1',\n",
       " '1',\n",
       " '-1',\n",
       " '0',\n",
       " '1',\n",
       " '-1',\n",
       " '-1',\n",
       " '1',\n",
       " '-1',\n",
       " '1',\n",
       " '1',\n",
       " '-1',\n",
       " '-1',\n",
       " '-1',\n",
       " '-1',\n",
       " '-1']"
      ]
     },
     "execution_count": 18,
     "metadata": {},
     "output_type": "execute_result"
    }
   ],
   "source": [
    "response_lst = []\n",
    "for comment in tqdm(random_comment_lst_1  , desc=\"Processing comments\"):\n",
    "    \n",
    "    zero_shot = (\n",
    "        \"You are a specialist in sentiment analysis. Classify the following comment as positive (1), negative (-1), or neutral (0). \"\n",
    "        \"Respond with only one number (1, -1, or 0). No additional text:\\n\\n\"\n",
    "    )\n",
    "\n",
    "    input_text = zero_shot + \"\\\"\" + comment + \"\\\"\" \n",
    "\n",
    "    print(comment)\n",
    "\n",
    "    response = ollama.chat(model='llama3.1', messages=[\n",
    "        {\n",
    "            'role': 'user',\n",
    "            'content': input_text,\n",
    "        },\n",
    "        ])\n",
    "\n",
    "    print(response['message']['content'])\n",
    "\n",
    "    response_lst.append(response['message']['content'])\n",
    "\n",
    "response_lst"
   ]
  },
  {
   "cell_type": "markdown",
   "metadata": {},
   "source": [
    "### Evaluation Zero-shot"
   ]
  },
  {
   "cell_type": "code",
   "execution_count": 19,
   "metadata": {},
   "outputs": [
    {
     "name": "stdout",
     "output_type": "stream",
     "text": [
      "Accuracy: 0.616\n",
      "Label 1 - Precision: 0.4383561643835616, Recall: 0.6037735849056604, F1 Score: 0.507936507936508\n",
      "Label 0 - Precision: 0.375, Recall: 0.05555555555555555, F1 Score: 0.09677419354838708\n",
      "Label -1 - Precision: 0.7041420118343196, Recall: 0.8321678321678322, F1 Score: 0.7628205128205128\n",
      "Macro F1 Score: 0.4558437381018026\n"
     ]
    }
   ],
   "source": [
    "# response_lst = [int(resp) for resp in response_lst]\n",
    "response = []\n",
    "for res in response_lst:\n",
    "      try:\n",
    "            response.append(int(res))\n",
    "      except:\n",
    "            if \"-1\" in res:\n",
    "                  response.append(-1)\n",
    "            elif \"0\" in res:\n",
    "                  response.append(0)\n",
    "            else:\n",
    "                  response.append(1)\n",
    "\n",
    "accu = accuracy_score(radom_label_lst_1, response)\n",
    "print(f\"Accuracy: {accu}\")\n",
    "\n",
    "precision, recall, f1, _ = precision_recall_fscore_support(radom_label_lst_1, response, labels=[1, 0, -1], average=None)\n",
    "for label, p, r, f in zip([1, 0, -1], precision, recall, f1):\n",
    "    print(f'Label {label} - Precision: {p}, Recall: {r}, F1 Score: {f}')\n",
    "macro_f1 = f1_score(radom_label_lst_1, response, average='macro')\n",
    "print(f'Macro F1 Score: {macro_f1}')"
   ]
  },
  {
   "cell_type": "markdown",
   "metadata": {},
   "source": [
    "### Generate Answer (Few-shot)"
   ]
  },
  {
   "cell_type": "code",
   "execution_count": 20,
   "metadata": {},
   "outputs": [],
   "source": [
    "def generate_few_shot_examples(data, labels, num_examples=3):\n",
    "    ## Make sure all the categories are included\n",
    "    categories = list(set(labels))\n",
    "    few_shot_examples = []\n",
    "    for category in categories:\n",
    "        category_indices = [i for i, label in enumerate(labels) if label == category]\n",
    "        category_comments = [data[i] for i in category_indices]\n",
    "        category_labels = [labels[i] for i in category_indices]\n",
    "        random_indices = random.sample(range(len(category_comments)), num_examples)\n",
    "        few_shot_examples.extend([(category_comments[i], category_labels[i]) for i in random_indices])\n",
    "    \n",
    "    few_shot_prompt = (\n",
    "         \"You are a specialist in sentiment analysis. Classify the following comment as positive (1), negative (-1), or neutral (0). \"\n",
    "        \"Respond with only one number (1, -1, or 0). No additional text:\\n\\n\"\n",
    "    )\n",
    "    \n",
    "    for i, (comment, label) in enumerate(few_shot_examples):\n",
    "        few_shot_prompt += f\"Example {i+1}:\\nSentence: {comment}\\nPrediction: {label}\\n\\n\"\n",
    "    \n",
    "    return few_shot_prompt"
   ]
  },
  {
   "cell_type": "code",
   "execution_count": 21,
   "metadata": {},
   "outputs": [],
   "source": [
    "time.sleep(300)"
   ]
  },
  {
   "cell_type": "code",
   "execution_count": 22,
   "metadata": {},
   "outputs": [
    {
     "name": "stderr",
     "output_type": "stream",
     "text": [
      "Processing comments:   0%|          | 0/250 [00:00<?, ?it/s]"
     ]
    },
    {
     "name": "stdout",
     "output_type": "stream",
     "text": [
      "赌明天跳空高开\n"
     ]
    },
    {
     "name": "stderr",
     "output_type": "stream",
     "text": [
      "Processing comments:   0%|          | 1/250 [00:04<19:30,  4.70s/it]"
     ]
    },
    {
     "name": "stdout",
     "output_type": "stream",
     "text": [
      "-1\n",
      "先生们，女士们，还有十分钟蹦极，准备好了，\n"
     ]
    },
    {
     "name": "stderr",
     "output_type": "stream",
     "text": [
      "Processing comments:   1%|          | 2/250 [00:05<10:44,  2.60s/it]"
     ]
    },
    {
     "name": "stdout",
     "output_type": "stream",
     "text": [
      "-1\n",
      "$上证指数(SH000001)$北向不停买入，主力不停卖出什么意思啊？\n"
     ]
    },
    {
     "name": "stderr",
     "output_type": "stream",
     "text": [
      "Processing comments:   1%|          | 3/250 [00:06<07:43,  1.88s/it]"
     ]
    },
    {
     "name": "stdout",
     "output_type": "stream",
     "text": [
      "-1\n",
      "两点半，北向资金流出\n"
     ]
    },
    {
     "name": "stderr",
     "output_type": "stream",
     "text": [
      "Processing comments:   2%|▏         | 4/250 [00:07<06:09,  1.50s/it]"
     ]
    },
    {
     "name": "stdout",
     "output_type": "stream",
     "text": [
      "-1\n",
      "牛市，大盘连涨4.2个点了，今天也还是强势翻红趋势，真的牛啊\n"
     ]
    },
    {
     "name": "stderr",
     "output_type": "stream",
     "text": [
      "Processing comments:   2%|▏         | 5/250 [00:08<05:22,  1.32s/it]"
     ]
    },
    {
     "name": "stdout",
     "output_type": "stream",
     "text": [
      "1\n",
      "发生了什么？主力持续流出100多亿！\n"
     ]
    },
    {
     "name": "stderr",
     "output_type": "stream",
     "text": [
      "Processing comments:   2%|▏         | 6/250 [00:09<04:49,  1.19s/it]"
     ]
    },
    {
     "name": "stdout",
     "output_type": "stream",
     "text": [
      "-1\n",
      "涨了指数亏了钱，这个星期亏了十多个点了[滴汗][滴汗][滴汗][滴汗][滴汗][\n"
     ]
    },
    {
     "name": "stderr",
     "output_type": "stream",
     "text": [
      "Processing comments:   3%|▎         | 7/250 [00:10<04:28,  1.10s/it]"
     ]
    },
    {
     "name": "stdout",
     "output_type": "stream",
     "text": [
      "-1\n",
      "今晚还有什么利好消息请继续发！！！\n"
     ]
    },
    {
     "name": "stderr",
     "output_type": "stream",
     "text": [
      "Processing comments:   3%|▎         | 8/250 [00:11<04:14,  1.05s/it]"
     ]
    },
    {
     "name": "stdout",
     "output_type": "stream",
     "text": [
      "-1\n",
      "$上证指数(SH000001)$持仓的两只票竟然还是红的，神奇不\n"
     ]
    },
    {
     "name": "stderr",
     "output_type": "stream",
     "text": [
      "Processing comments:   4%|▎         | 9/250 [00:12<04:02,  1.00s/it]"
     ]
    },
    {
     "name": "stdout",
     "output_type": "stream",
     "text": [
      "1\n",
      "小顶规避\n"
     ]
    },
    {
     "name": "stderr",
     "output_type": "stream",
     "text": [
      "Processing comments:   4%|▍         | 10/250 [00:13<04:03,  1.01s/it]"
     ]
    },
    {
     "name": "stdout",
     "output_type": "stream",
     "text": [
      "-1\n",
      "好好的盘，2点后谁干的偷袭，坏透了，就这水平，大a的脊梁？\n"
     ]
    },
    {
     "name": "stderr",
     "output_type": "stream",
     "text": [
      "Processing comments:   4%|▍         | 11/250 [00:14<04:03,  1.02s/it]"
     ]
    },
    {
     "name": "stdout",
     "output_type": "stream",
     "text": [
      "-1\n",
      "狂拉指数\n"
     ]
    },
    {
     "name": "stderr",
     "output_type": "stream",
     "text": [
      "Processing comments:   5%|▍         | 12/250 [00:15<03:43,  1.06it/s]"
     ]
    },
    {
     "name": "stdout",
     "output_type": "stream",
     "text": [
      "-1\n",
      "主力又跑了450亿\n"
     ]
    },
    {
     "name": "stderr",
     "output_type": "stream",
     "text": [
      "Processing comments:   5%|▌         | 13/250 [00:16<03:35,  1.10it/s]"
     ]
    },
    {
     "name": "stdout",
     "output_type": "stream",
     "text": [
      "-1\n",
      "#沪指早盘跌2.86%,缘何大跌？#地区局势不稳定，资本慌的一笔\n"
     ]
    },
    {
     "name": "stderr",
     "output_type": "stream",
     "text": [
      "Processing comments:   6%|▌         | 14/250 [00:17<03:42,  1.06it/s]"
     ]
    },
    {
     "name": "stdout",
     "output_type": "stream",
     "text": [
      "-1\n",
      "明天5200\n"
     ]
    },
    {
     "name": "stderr",
     "output_type": "stream",
     "text": [
      "Processing comments:   6%|▌         | 15/250 [00:18<03:45,  1.04it/s]"
     ]
    },
    {
     "name": "stdout",
     "output_type": "stream",
     "text": [
      "1\n",
      "做T:有些自认为的高手，总是马后跑讲做T，做对了一次，了不得，但从月、季、年来看\n"
     ]
    },
    {
     "name": "stderr",
     "output_type": "stream",
     "text": [
      "Processing comments:   6%|▋         | 16/250 [00:19<03:56,  1.01s/it]"
     ]
    },
    {
     "name": "stdout",
     "output_type": "stream",
     "text": [
      "-1\n",
      "买st海航即将摘帽了你看看今天走势\n"
     ]
    },
    {
     "name": "stderr",
     "output_type": "stream",
     "text": [
      "Processing comments:   7%|▋         | 17/250 [00:20<03:44,  1.04it/s]"
     ]
    },
    {
     "name": "stdout",
     "output_type": "stream",
     "text": [
      "-1\n",
      "沪深股通又狂卖\n"
     ]
    },
    {
     "name": "stderr",
     "output_type": "stream",
     "text": [
      "Processing comments:   7%|▋         | 18/250 [00:21<03:41,  1.05it/s]"
     ]
    },
    {
     "name": "stdout",
     "output_type": "stream",
     "text": [
      "-1\n",
      "本月底跌破3100点。\n"
     ]
    },
    {
     "name": "stderr",
     "output_type": "stream",
     "text": [
      "Processing comments:   8%|▊         | 19/250 [00:21<03:38,  1.06it/s]"
     ]
    },
    {
     "name": "stdout",
     "output_type": "stream",
     "text": [
      "-1\n",
      "$上证指数(SH000001)$开始走熊了，怎么稳字当头？\n"
     ]
    },
    {
     "name": "stderr",
     "output_type": "stream",
     "text": [
      "Processing comments:   8%|▊         | 20/250 [00:22<03:37,  1.06it/s]"
     ]
    },
    {
     "name": "stdout",
     "output_type": "stream",
     "text": [
      "-1\n",
      "$上证指数(SH000001)$23日大A一改昨日的颓势，探底回升，强势收阳，和\n"
     ]
    },
    {
     "name": "stderr",
     "output_type": "stream",
     "text": [
      "Processing comments:   8%|▊         | 21/250 [00:23<03:33,  1.07it/s]"
     ]
    },
    {
     "name": "stdout",
     "output_type": "stream",
     "text": [
      "1\n",
      "三油一挺，大盘见顶[囧]\n"
     ]
    },
    {
     "name": "stderr",
     "output_type": "stream",
     "text": [
      "Processing comments:   9%|▉         | 22/250 [00:24<03:32,  1.07it/s]"
     ]
    },
    {
     "name": "stdout",
     "output_type": "stream",
     "text": [
      "-1\n",
      "哎可怜了买基金的人。\n"
     ]
    },
    {
     "name": "stderr",
     "output_type": "stream",
     "text": [
      "Processing comments:   9%|▉         | 23/250 [00:25<03:38,  1.04it/s]"
     ]
    },
    {
     "name": "stdout",
     "output_type": "stream",
     "text": [
      "-1\n",
      "不是稳增长吗\n"
     ]
    },
    {
     "name": "stderr",
     "output_type": "stream",
     "text": [
      "Processing comments:  10%|▉         | 24/250 [00:26<03:36,  1.05it/s]"
     ]
    },
    {
     "name": "stdout",
     "output_type": "stream",
     "text": [
      "-1\n",
      "不出意料的跌了\n"
     ]
    },
    {
     "name": "stderr",
     "output_type": "stream",
     "text": [
      "Processing comments:  10%|█         | 25/250 [00:27<03:34,  1.05it/s]"
     ]
    },
    {
     "name": "stdout",
     "output_type": "stream",
     "text": [
      "-1\n",
      "小跳空，回补缺口小心……\n"
     ]
    },
    {
     "name": "stderr",
     "output_type": "stream",
     "text": [
      "Processing comments:  10%|█         | 26/250 [00:28<03:44,  1.00s/it]"
     ]
    },
    {
     "name": "stdout",
     "output_type": "stream",
     "text": [
      "-1\n",
      "补跌又补上了，叫你不要涨不听[滴汗][滴汗][滴汗]\n"
     ]
    },
    {
     "name": "stderr",
     "output_type": "stream",
     "text": [
      "Processing comments:  11%|█         | 27/250 [00:29<03:39,  1.02it/s]"
     ]
    },
    {
     "name": "stdout",
     "output_type": "stream",
     "text": [
      "-1\n",
      "本周见3120\n"
     ]
    },
    {
     "name": "stderr",
     "output_type": "stream",
     "text": [
      "Processing comments:  11%|█         | 28/250 [00:30<03:32,  1.04it/s]"
     ]
    },
    {
     "name": "stdout",
     "output_type": "stream",
     "text": [
      "1\n",
      "难得出现指数跌个股涨的局面\n"
     ]
    },
    {
     "name": "stderr",
     "output_type": "stream",
     "text": [
      "Processing comments:  12%|█▏        | 29/250 [00:31<03:36,  1.02it/s]"
     ]
    },
    {
     "name": "stdout",
     "output_type": "stream",
     "text": [
      "-1\n",
      "不破不立，还有有一根大阴线，2999点等待，今天清仓\n"
     ]
    },
    {
     "name": "stderr",
     "output_type": "stream",
     "text": [
      "Processing comments:  12%|█▏        | 30/250 [00:32<03:32,  1.04it/s]"
     ]
    },
    {
     "name": "stdout",
     "output_type": "stream",
     "text": [
      "-1\n",
      "想起，太想红了，红艳艳\n"
     ]
    },
    {
     "name": "stderr",
     "output_type": "stream",
     "text": [
      "Processing comments:  12%|█▏        | 31/250 [00:33<03:27,  1.06it/s]"
     ]
    },
    {
     "name": "stdout",
     "output_type": "stream",
     "text": [
      "1\n",
      "$上证指数(SH000001)$降准不及预期，再有技术压力，道指期货又下跌了，大\n"
     ]
    },
    {
     "name": "stderr",
     "output_type": "stream",
     "text": [
      "Processing comments:  13%|█▎        | 32/250 [00:34<03:20,  1.09it/s]"
     ]
    },
    {
     "name": "stdout",
     "output_type": "stream",
     "text": [
      "-1\n",
      "赶紧补缺口\n"
     ]
    },
    {
     "name": "stderr",
     "output_type": "stream",
     "text": [
      "Processing comments:  13%|█▎        | 33/250 [00:35<03:17,  1.10it/s]"
     ]
    },
    {
     "name": "stdout",
     "output_type": "stream",
     "text": [
      "0\n",
      "想起了2018年的熔断\n"
     ]
    },
    {
     "name": "stderr",
     "output_type": "stream",
     "text": [
      "Processing comments:  14%|█▎        | 34/250 [00:36<03:12,  1.12it/s]"
     ]
    },
    {
     "name": "stdout",
     "output_type": "stream",
     "text": [
      "-1\n",
      "这么多饿狗，扔一块骨头就想让市场起来，有点难度\n"
     ]
    },
    {
     "name": "stderr",
     "output_type": "stream",
     "text": [
      "Processing comments:  14%|█▍        | 35/250 [00:37<03:20,  1.07it/s]"
     ]
    },
    {
     "name": "stdout",
     "output_type": "stream",
     "text": [
      "-1\n",
      "这次回调至少也要跌到3150点\n"
     ]
    },
    {
     "name": "stderr",
     "output_type": "stream",
     "text": [
      "Processing comments:  14%|█▍        | 36/250 [00:38<03:16,  1.09it/s]"
     ]
    },
    {
     "name": "stdout",
     "output_type": "stream",
     "text": [
      "-1\n",
      "比赛跑得快！\n"
     ]
    },
    {
     "name": "stderr",
     "output_type": "stream",
     "text": [
      "Processing comments:  15%|█▍        | 37/250 [00:38<03:13,  1.10it/s]"
     ]
    },
    {
     "name": "stdout",
     "output_type": "stream",
     "text": [
      "0\n",
      "$上证指数(SH000001)$券商一拉大盘就崩[怒][怒][怒]\n"
     ]
    },
    {
     "name": "stderr",
     "output_type": "stream",
     "text": [
      "Processing comments:  15%|█▌        | 38/250 [00:39<03:16,  1.08it/s]"
     ]
    },
    {
     "name": "stdout",
     "output_type": "stream",
     "text": [
      "-1\n",
      "继续回调，知足常乐。\n"
     ]
    },
    {
     "name": "stderr",
     "output_type": "stream",
     "text": [
      "Processing comments:  16%|█▌        | 39/250 [00:40<03:15,  1.08it/s]"
     ]
    },
    {
     "name": "stdout",
     "output_type": "stream",
     "text": [
      "-1\n",
      "#李蓓：2-3年后A股将迎飞龙在天#2-3年你还活着不？\n"
     ]
    },
    {
     "name": "stderr",
     "output_type": "stream",
     "text": [
      "Processing comments:  16%|█▌        | 40/250 [00:41<03:24,  1.03it/s]"
     ]
    },
    {
     "name": "stdout",
     "output_type": "stream",
     "text": [
      "0\n",
      "丢人\n"
     ]
    },
    {
     "name": "stderr",
     "output_type": "stream",
     "text": [
      "Processing comments:  16%|█▋        | 41/250 [00:42<03:16,  1.07it/s]"
     ]
    },
    {
     "name": "stdout",
     "output_type": "stream",
     "text": [
      "-1\n",
      "又逼近3100了[为什么]\n"
     ]
    },
    {
     "name": "stderr",
     "output_type": "stream",
     "text": [
      "Processing comments:  17%|█▋        | 42/250 [00:43<03:14,  1.07it/s]"
     ]
    },
    {
     "name": "stdout",
     "output_type": "stream",
     "text": [
      "-1\n",
      "大A是到了叛逆期了？\n"
     ]
    },
    {
     "name": "stderr",
     "output_type": "stream",
     "text": [
      "Processing comments:  17%|█▋        | 43/250 [00:44<03:13,  1.07it/s]"
     ]
    },
    {
     "name": "stdout",
     "output_type": "stream",
     "text": [
      "-1\n",
      "$上证指数(SH000001)$剩下的时间应回3千上方吧\n"
     ]
    },
    {
     "name": "stderr",
     "output_type": "stream",
     "text": [
      "Processing comments:  18%|█▊        | 44/250 [00:45<03:17,  1.04it/s]"
     ]
    },
    {
     "name": "stdout",
     "output_type": "stream",
     "text": [
      "-1\n",
      "收盘3199.92.和之前的缺口3199.91.仅仅相差0.01.是炉火纯青还是\n"
     ]
    },
    {
     "name": "stderr",
     "output_type": "stream",
     "text": [
      "Processing comments:  18%|█▊        | 45/250 [00:46<03:26,  1.01s/it]"
     ]
    },
    {
     "name": "stdout",
     "output_type": "stream",
     "text": [
      "-1\n",
      "专家要出来说两句不\n"
     ]
    },
    {
     "name": "stderr",
     "output_type": "stream",
     "text": [
      "Processing comments:  18%|█▊        | 46/250 [00:47<03:20,  1.02it/s]"
     ]
    },
    {
     "name": "stdout",
     "output_type": "stream",
     "text": [
      "-1\n",
      "阴包阳，大跌的征兆\n"
     ]
    },
    {
     "name": "stderr",
     "output_type": "stream",
     "text": [
      "Processing comments:  19%|█▉        | 47/250 [00:48<03:16,  1.03it/s]"
     ]
    },
    {
     "name": "stdout",
     "output_type": "stream",
     "text": [
      "-1\n",
      "没有量的上涨都编人的把戏\n"
     ]
    },
    {
     "name": "stderr",
     "output_type": "stream",
     "text": [
      "Processing comments:  19%|█▉        | 48/250 [00:49<03:13,  1.05it/s]"
     ]
    },
    {
     "name": "stdout",
     "output_type": "stream",
     "text": [
      "-1\n",
      "$上证指数(SH000001)$大A又回来了\n"
     ]
    },
    {
     "name": "stderr",
     "output_type": "stream",
     "text": [
      "Processing comments:  20%|█▉        | 49/250 [00:50<03:08,  1.07it/s]"
     ]
    },
    {
     "name": "stdout",
     "output_type": "stream",
     "text": [
      "0\n",
      "这波下杀到3050有支撑\n"
     ]
    },
    {
     "name": "stderr",
     "output_type": "stream",
     "text": [
      "Processing comments:  20%|██        | 50/250 [00:51<03:01,  1.10it/s]"
     ]
    },
    {
     "name": "stdout",
     "output_type": "stream",
     "text": [
      "-1\n",
      "找到原因了吗？\n"
     ]
    },
    {
     "name": "stderr",
     "output_type": "stream",
     "text": [
      "Processing comments:  20%|██        | 51/250 [00:52<03:07,  1.06it/s]"
     ]
    },
    {
     "name": "stdout",
     "output_type": "stream",
     "text": [
      "-1\n",
      "基金和股票今天清退了80%，还没有调整到位，静观其变。\n"
     ]
    },
    {
     "name": "stderr",
     "output_type": "stream",
     "text": [
      "Processing comments:  21%|██        | 52/250 [00:53<03:11,  1.03it/s]"
     ]
    },
    {
     "name": "stdout",
     "output_type": "stream",
     "text": [
      "-1\n",
      "明天正好给外资抄底\n"
     ]
    },
    {
     "name": "stderr",
     "output_type": "stream",
     "text": [
      "Processing comments:  21%|██        | 53/250 [00:54<03:08,  1.04it/s]"
     ]
    },
    {
     "name": "stdout",
     "output_type": "stream",
     "text": [
      "-1\n",
      "今天能否一举突破3358\n"
     ]
    },
    {
     "name": "stderr",
     "output_type": "stream",
     "text": [
      "Processing comments:  22%|██▏       | 54/250 [00:55<03:03,  1.07it/s]"
     ]
    },
    {
     "name": "stdout",
     "output_type": "stream",
     "text": [
      "0\n",
      "每天都号称流入几十亿几百亿资金，可是每天都在大跌\n"
     ]
    },
    {
     "name": "stderr",
     "output_type": "stream",
     "text": [
      "Processing comments:  22%|██▏       | 55/250 [00:56<03:02,  1.07it/s]"
     ]
    },
    {
     "name": "stdout",
     "output_type": "stream",
     "text": [
      "-1\n",
      "$上证指数(SH000001)$买买买买买。\n"
     ]
    },
    {
     "name": "stderr",
     "output_type": "stream",
     "text": [
      "Processing comments:  22%|██▏       | 56/250 [00:56<02:54,  1.11it/s]"
     ]
    },
    {
     "name": "stdout",
     "output_type": "stream",
     "text": [
      "1\n",
      "后面利空还很多呢，等啥时候上五日线再说[吃瓜][吃瓜][吃瓜]\n"
     ]
    },
    {
     "name": "stderr",
     "output_type": "stream",
     "text": [
      "Processing comments:  23%|██▎       | 57/250 [00:58<03:11,  1.01it/s]"
     ]
    },
    {
     "name": "stdout",
     "output_type": "stream",
     "text": [
      "-1\n",
      "七月份美联储加息，是谁在报道？\n"
     ]
    },
    {
     "name": "stderr",
     "output_type": "stream",
     "text": [
      "Processing comments:  23%|██▎       | 58/250 [00:59<03:11,  1.00it/s]"
     ]
    },
    {
     "name": "stdout",
     "output_type": "stream",
     "text": [
      "-1\n",
      "有气无力\n"
     ]
    },
    {
     "name": "stderr",
     "output_type": "stream",
     "text": [
      "Processing comments:  24%|██▎       | 59/250 [01:00<03:06,  1.02it/s]"
     ]
    },
    {
     "name": "stdout",
     "output_type": "stream",
     "text": [
      "-1\n",
      "天天跌，真要命\n"
     ]
    },
    {
     "name": "stderr",
     "output_type": "stream",
     "text": [
      "Processing comments:  24%|██▍       | 60/250 [01:00<03:02,  1.04it/s]"
     ]
    },
    {
     "name": "stdout",
     "output_type": "stream",
     "text": [
      "-1\n",
      "群龙无首，小散韮菜根没有\n"
     ]
    },
    {
     "name": "stderr",
     "output_type": "stream",
     "text": [
      "Processing comments:  24%|██▍       | 61/250 [01:01<02:59,  1.05it/s]"
     ]
    },
    {
     "name": "stdout",
     "output_type": "stream",
     "text": [
      "-1\n",
      "明天3000很关键。哪怕刺破一下。后面就彻底完了。\n"
     ]
    },
    {
     "name": "stderr",
     "output_type": "stream",
     "text": [
      "Processing comments:  25%|██▍       | 62/250 [01:02<03:03,  1.03it/s]"
     ]
    },
    {
     "name": "stdout",
     "output_type": "stream",
     "text": [
      "-1\n",
      "明天又是黑色星期四了\n"
     ]
    },
    {
     "name": "stderr",
     "output_type": "stream",
     "text": [
      "Processing comments:  25%|██▌       | 63/250 [01:03<02:55,  1.07it/s]"
     ]
    },
    {
     "name": "stdout",
     "output_type": "stream",
     "text": [
      "-1\n",
      "妙两刀，白玩两个月\n"
     ]
    },
    {
     "name": "stderr",
     "output_type": "stream",
     "text": [
      "Processing comments:  26%|██▌       | 64/250 [01:04<02:53,  1.07it/s]"
     ]
    },
    {
     "name": "stdout",
     "output_type": "stream",
     "text": [
      "-1\n",
      "主力是谁？北向是谁？谁是真苟？\n"
     ]
    },
    {
     "name": "stderr",
     "output_type": "stream",
     "text": [
      "Processing comments:  26%|██▌       | 65/250 [01:05<02:52,  1.07it/s]"
     ]
    },
    {
     "name": "stdout",
     "output_type": "stream",
     "text": [
      "-1\n",
      "其实到了这个位置，散户都觉得很低了，并且在抄底，那就还要大跌。逻辑很简单，不可能\n"
     ]
    },
    {
     "name": "stderr",
     "output_type": "stream",
     "text": [
      "Processing comments:  26%|██▋       | 66/250 [01:06<02:51,  1.07it/s]"
     ]
    },
    {
     "name": "stdout",
     "output_type": "stream",
     "text": [
      "-1\n",
      "第二个下行跳空缺口，真的赢了\n"
     ]
    },
    {
     "name": "stderr",
     "output_type": "stream",
     "text": [
      "Processing comments:  27%|██▋       | 67/250 [01:07<02:50,  1.07it/s]"
     ]
    },
    {
     "name": "stdout",
     "output_type": "stream",
     "text": [
      "-1\n",
      "多年经验，他们想干好的事情一定能干好，不好因为他们不想好\n"
     ]
    },
    {
     "name": "stderr",
     "output_type": "stream",
     "text": [
      "Processing comments:  27%|██▋       | 68/250 [01:08<02:53,  1.05it/s]"
     ]
    },
    {
     "name": "stdout",
     "output_type": "stream",
     "text": [
      "1\n",
      "$上证指数(SH000001)$昨天亏了一只猪，今天挣了一只鸡。\n"
     ]
    },
    {
     "name": "stderr",
     "output_type": "stream",
     "text": [
      "Processing comments:  28%|██▊       | 69/250 [01:09<02:48,  1.07it/s]"
     ]
    },
    {
     "name": "stdout",
     "output_type": "stream",
     "text": [
      "1\n",
      "见底拉升了\n"
     ]
    },
    {
     "name": "stderr",
     "output_type": "stream",
     "text": [
      "Processing comments:  28%|██▊       | 70/250 [01:10<02:47,  1.07it/s]"
     ]
    },
    {
     "name": "stdout",
     "output_type": "stream",
     "text": [
      "-1\n",
      "真的像极了09年初，美股还在暴跌，A股早就见底反涨了\n"
     ]
    },
    {
     "name": "stderr",
     "output_type": "stream",
     "text": [
      "Processing comments:  28%|██▊       | 71/250 [01:11<02:44,  1.09it/s]"
     ]
    },
    {
     "name": "stdout",
     "output_type": "stream",
     "text": [
      "0\n",
      "这波反弹全栽了，四只股全逆势跌，看来抄底越抄越低！\n"
     ]
    },
    {
     "name": "stderr",
     "output_type": "stream",
     "text": [
      "Processing comments:  29%|██▉       | 72/250 [01:12<02:44,  1.08it/s]"
     ]
    },
    {
     "name": "stdout",
     "output_type": "stream",
     "text": [
      "-1\n",
      "现在敢与进场的都是高手！！\n"
     ]
    },
    {
     "name": "stderr",
     "output_type": "stream",
     "text": [
      "Processing comments:  29%|██▉       | 73/250 [01:13<02:43,  1.08it/s]"
     ]
    },
    {
     "name": "stdout",
     "output_type": "stream",
     "text": [
      "-1\n",
      "没有合力，3300点是不可能站稳的\n"
     ]
    },
    {
     "name": "stderr",
     "output_type": "stream",
     "text": [
      "Processing comments:  30%|██▉       | 74/250 [01:13<02:33,  1.14it/s]"
     ]
    },
    {
     "name": "stdout",
     "output_type": "stream",
     "text": [
      "-1\n",
      "牛市来了\n"
     ]
    },
    {
     "name": "stderr",
     "output_type": "stream",
     "text": [
      "Processing comments:  30%|███       | 75/250 [01:14<02:30,  1.17it/s]"
     ]
    },
    {
     "name": "stdout",
     "output_type": "stream",
     "text": [
      "1\n",
      "明天亥水旺冲休破\n"
     ]
    },
    {
     "name": "stderr",
     "output_type": "stream",
     "text": [
      "Processing comments:  30%|███       | 76/250 [01:15<02:32,  1.14it/s]"
     ]
    },
    {
     "name": "stdout",
     "output_type": "stream",
     "text": [
      "-1\n",
      "$上证指数(SH000001)$找死，别拦着\n"
     ]
    },
    {
     "name": "stderr",
     "output_type": "stream",
     "text": [
      "Processing comments:  31%|███       | 77/250 [01:16<02:34,  1.12it/s]"
     ]
    },
    {
     "name": "stdout",
     "output_type": "stream",
     "text": [
      "-1\n",
      "整个上证一早上的成交量还没有特斯拉的成交量多\n"
     ]
    },
    {
     "name": "stderr",
     "output_type": "stream",
     "text": [
      "Processing comments:  31%|███       | 78/250 [01:17<02:31,  1.14it/s]"
     ]
    },
    {
     "name": "stdout",
     "output_type": "stream",
     "text": [
      "-1\n",
      "美国的大跌会引发A股的操纵，周末两天会修复大跌带来的恐慌情绪。下周从回3300点\n"
     ]
    },
    {
     "name": "stderr",
     "output_type": "stream",
     "text": [
      "Processing comments:  32%|███▏      | 79/250 [01:18<02:38,  1.08it/s]"
     ]
    },
    {
     "name": "stdout",
     "output_type": "stream",
     "text": [
      "-1\n",
      "$上证指数(SH000001)$40倍杠杆做多，我是不是疯了[滴汗][滴汗]\n"
     ]
    },
    {
     "name": "stderr",
     "output_type": "stream",
     "text": [
      "Processing comments:  32%|███▏      | 80/250 [01:19<02:38,  1.07it/s]"
     ]
    },
    {
     "name": "stdout",
     "output_type": "stream",
     "text": [
      "-1\n",
      "记住不割肉，随它怎么跌！躺平就好，早晚回来，实在不行就等你一年、两年……比存银行\n"
     ]
    },
    {
     "name": "stderr",
     "output_type": "stream",
     "text": [
      "Processing comments:  32%|███▏      | 81/250 [01:20<02:41,  1.04it/s]"
     ]
    },
    {
     "name": "stdout",
     "output_type": "stream",
     "text": [
      "-1\n",
      "明天不是白酒就是券商的天下，指数飞起，个股惨淡\n"
     ]
    },
    {
     "name": "stderr",
     "output_type": "stream",
     "text": [
      "Processing comments:  33%|███▎      | 82/250 [01:21<02:39,  1.06it/s]"
     ]
    },
    {
     "name": "stdout",
     "output_type": "stream",
     "text": [
      "-1\n",
      "现在涨幅大的就是以后补跌的，现在跌的多的就是以后的多头。（短线不是小散能玩的，运\n"
     ]
    },
    {
     "name": "stderr",
     "output_type": "stream",
     "text": [
      "Processing comments:  33%|███▎      | 83/250 [01:22<02:42,  1.03it/s]"
     ]
    },
    {
     "name": "stdout",
     "output_type": "stream",
     "text": [
      "-1\n",
      "严重建议1000亿以上的一个指数，1000亿以下一个指数，这样中小板快就能看出和\n"
     ]
    },
    {
     "name": "stderr",
     "output_type": "stream",
     "text": [
      "Processing comments:  34%|███▎      | 84/250 [01:23<02:39,  1.04it/s]"
     ]
    },
    {
     "name": "stdout",
     "output_type": "stream",
     "text": [
      "-1\n",
      "明天拉起来\n"
     ]
    },
    {
     "name": "stderr",
     "output_type": "stream",
     "text": [
      "Processing comments:  34%|███▍      | 85/250 [01:24<02:35,  1.06it/s]"
     ]
    },
    {
     "name": "stdout",
     "output_type": "stream",
     "text": [
      "0\n",
      "$上证指数(SH000001)$星期三就没有不亏的\n"
     ]
    },
    {
     "name": "stderr",
     "output_type": "stream",
     "text": [
      "Processing comments:  34%|███▍      | 86/250 [01:24<02:29,  1.10it/s]"
     ]
    },
    {
     "name": "stdout",
     "output_type": "stream",
     "text": [
      "-1\n",
      "挣钱犹如针挑土，亏钱犹如水推沙\n"
     ]
    },
    {
     "name": "stderr",
     "output_type": "stream",
     "text": [
      "Processing comments:  35%|███▍      | 87/250 [01:25<02:34,  1.06it/s]"
     ]
    },
    {
     "name": "stdout",
     "output_type": "stream",
     "text": [
      "-1\n",
      "大盘想往上走，还得看宁王和迪王\n"
     ]
    },
    {
     "name": "stderr",
     "output_type": "stream",
     "text": [
      "Processing comments:  35%|███▌      | 88/250 [01:26<02:28,  1.09it/s]"
     ]
    },
    {
     "name": "stdout",
     "output_type": "stream",
     "text": [
      "-1\n",
      "今天A股小跌了神秘之手不见了\n"
     ]
    },
    {
     "name": "stderr",
     "output_type": "stream",
     "text": [
      "Processing comments:  36%|███▌      | 89/250 [01:27<02:37,  1.02it/s]"
     ]
    },
    {
     "name": "stdout",
     "output_type": "stream",
     "text": [
      "-1\n",
      "$上证指数(SH000001)$大A，威武\n"
     ]
    },
    {
     "name": "stderr",
     "output_type": "stream",
     "text": [
      "Processing comments:  36%|███▌      | 90/250 [01:28<02:32,  1.05it/s]"
     ]
    },
    {
     "name": "stdout",
     "output_type": "stream",
     "text": [
      "1\n",
      "$上证指数(SH000001)$用平板复盘看图形比较好看\n"
     ]
    },
    {
     "name": "stderr",
     "output_type": "stream",
     "text": [
      "Processing comments:  36%|███▋      | 91/250 [01:29<02:28,  1.07it/s]"
     ]
    },
    {
     "name": "stdout",
     "output_type": "stream",
     "text": [
      "0\n",
      "三千点成.天花吊顶\n"
     ]
    },
    {
     "name": "stderr",
     "output_type": "stream",
     "text": [
      "Processing comments:  37%|███▋      | 92/250 [01:30<02:32,  1.04it/s]"
     ]
    },
    {
     "name": "stdout",
     "output_type": "stream",
     "text": [
      "-1\n",
      "感觉要复制昨晚美股走势，下午翻红[俏皮]\n"
     ]
    },
    {
     "name": "stderr",
     "output_type": "stream",
     "text": [
      "Processing comments:  37%|███▋      | 93/250 [01:31<02:24,  1.09it/s]"
     ]
    },
    {
     "name": "stdout",
     "output_type": "stream",
     "text": [
      "1\n",
      "2800点\n"
     ]
    },
    {
     "name": "stderr",
     "output_type": "stream",
     "text": [
      "Processing comments:  38%|███▊      | 94/250 [01:32<02:20,  1.11it/s]"
     ]
    },
    {
     "name": "stdout",
     "output_type": "stream",
     "text": [
      "-1\n",
      "又创新高了，颠倒着看\n"
     ]
    },
    {
     "name": "stderr",
     "output_type": "stream",
     "text": [
      "Processing comments:  38%|███▊      | 95/250 [01:33<02:18,  1.12it/s]"
     ]
    },
    {
     "name": "stdout",
     "output_type": "stream",
     "text": [
      "0\n",
      "十一月10%应有11000\n"
     ]
    },
    {
     "name": "stderr",
     "output_type": "stream",
     "text": [
      "Processing comments:  38%|███▊      | 96/250 [01:34<02:19,  1.11it/s]"
     ]
    },
    {
     "name": "stdout",
     "output_type": "stream",
     "text": [
      "-1\n",
      "买了个抗菌饭碗、一双筷子、一个水杯…．．[笑哭]\n"
     ]
    },
    {
     "name": "stderr",
     "output_type": "stream",
     "text": [
      "Processing comments:  39%|███▉      | 97/250 [01:35<02:22,  1.08it/s]"
     ]
    },
    {
     "name": "stdout",
     "output_type": "stream",
     "text": [
      "0\n",
      "A股开门红，个股冲高落散户又上当，账户不见红\n"
     ]
    },
    {
     "name": "stderr",
     "output_type": "stream",
     "text": [
      "Processing comments:  39%|███▉      | 98/250 [01:36<02:20,  1.08it/s]"
     ]
    },
    {
     "name": "stdout",
     "output_type": "stream",
     "text": [
      "-1\n",
      "证券明明是利好反而大跌，况且证券也没涨，跌了两年多了\n"
     ]
    },
    {
     "name": "stderr",
     "output_type": "stream",
     "text": [
      "Processing comments:  40%|███▉      | 99/250 [01:37<02:24,  1.05it/s]"
     ]
    },
    {
     "name": "stdout",
     "output_type": "stream",
     "text": [
      "-1\n",
      "戏水\n"
     ]
    },
    {
     "name": "stderr",
     "output_type": "stream",
     "text": [
      "Processing comments:  40%|████      | 100/250 [01:38<02:24,  1.03it/s]"
     ]
    },
    {
     "name": "stdout",
     "output_type": "stream",
     "text": [
      "0\n",
      "#失守3000点，A股何去何从？#割肉了\n"
     ]
    },
    {
     "name": "stderr",
     "output_type": "stream",
     "text": [
      "Processing comments:  40%|████      | 101/250 [01:39<02:26,  1.02it/s]"
     ]
    },
    {
     "name": "stdout",
     "output_type": "stream",
     "text": [
      "-1\n",
      "我没割反加仓了\n"
     ]
    },
    {
     "name": "stderr",
     "output_type": "stream",
     "text": [
      "Processing comments:  41%|████      | 102/250 [01:40<02:23,  1.03it/s]"
     ]
    },
    {
     "name": "stdout",
     "output_type": "stream",
     "text": [
      "-1\n",
      "这就尴尬了，17%的收益率，\n"
     ]
    },
    {
     "name": "stderr",
     "output_type": "stream",
     "text": [
      "Processing comments:  41%|████      | 103/250 [01:41<02:24,  1.01it/s]"
     ]
    },
    {
     "name": "stdout",
     "output_type": "stream",
     "text": [
      "-1\n",
      "还是得看中字头企业呀\n"
     ]
    },
    {
     "name": "stderr",
     "output_type": "stream",
     "text": [
      "Processing comments:  42%|████▏     | 104/250 [01:41<02:17,  1.06it/s]"
     ]
    },
    {
     "name": "stdout",
     "output_type": "stream",
     "text": [
      "-1\n",
      "$上证指数(SH000001)$大止不住了\n"
     ]
    },
    {
     "name": "stderr",
     "output_type": "stream",
     "text": [
      "Processing comments:  42%|████▏     | 105/250 [01:42<02:15,  1.07it/s]"
     ]
    },
    {
     "name": "stdout",
     "output_type": "stream",
     "text": [
      "-1\n",
      "砖家常说一段上涨的尾声便是保险的拉升\n"
     ]
    },
    {
     "name": "stderr",
     "output_type": "stream",
     "text": [
      "Processing comments:  42%|████▏     | 106/250 [01:43<02:14,  1.07it/s]"
     ]
    },
    {
     "name": "stdout",
     "output_type": "stream",
     "text": [
      "-1\n",
      "节前效应调整不可避免，限电头条下，当前最热最强当属新能源（光伏，风能，核能），加\n"
     ]
    },
    {
     "name": "stderr",
     "output_type": "stream",
     "text": [
      "Processing comments:  43%|████▎     | 107/250 [01:44<02:21,  1.01it/s]"
     ]
    },
    {
     "name": "stdout",
     "output_type": "stream",
     "text": [
      "-1\n",
      "每天主要靠茅台宁德时代来维系指数。\n"
     ]
    },
    {
     "name": "stderr",
     "output_type": "stream",
     "text": [
      "Processing comments:  43%|████▎     | 108/250 [01:45<02:18,  1.03it/s]"
     ]
    },
    {
     "name": "stdout",
     "output_type": "stream",
     "text": [
      "-1\n",
      "光伏和稀土怎么回事？\n"
     ]
    },
    {
     "name": "stderr",
     "output_type": "stream",
     "text": [
      "Processing comments:  44%|████▎     | 109/250 [01:46<02:15,  1.04it/s]"
     ]
    },
    {
     "name": "stdout",
     "output_type": "stream",
     "text": [
      "-1\n",
      "今天早盘追进去的人多吧。庄家乘机交换筹码。午盘大回落，再套一大片\n"
     ]
    },
    {
     "name": "stderr",
     "output_type": "stream",
     "text": [
      "Processing comments:  44%|████▍     | 110/250 [01:47<02:17,  1.02it/s]"
     ]
    },
    {
     "name": "stdout",
     "output_type": "stream",
     "text": [
      "-1\n",
      "量化机器功劳大\n"
     ]
    },
    {
     "name": "stderr",
     "output_type": "stream",
     "text": [
      "Processing comments:  44%|████▍     | 111/250 [01:48<02:05,  1.11it/s]"
     ]
    },
    {
     "name": "stdout",
     "output_type": "stream",
     "text": [
      "0\n",
      "$上证指数(SH000001)$真的恶心北向这条狗\n"
     ]
    },
    {
     "name": "stderr",
     "output_type": "stream",
     "text": [
      "Processing comments:  45%|████▍     | 112/250 [01:49<02:13,  1.04it/s]"
     ]
    },
    {
     "name": "stdout",
     "output_type": "stream",
     "text": [
      "-1\n",
      "$上证指数(SH000001)$护盘的都没有了。北向怎么停了。百分之九十九的票在\n"
     ]
    },
    {
     "name": "stderr",
     "output_type": "stream",
     "text": [
      "Processing comments:  45%|████▌     | 113/250 [01:50<02:14,  1.02it/s]"
     ]
    },
    {
     "name": "stdout",
     "output_type": "stream",
     "text": [
      "-1\n",
      "支持3个月走500点，符合所有人利益，11月是黄金岁月，一定要敢于自信.\n"
     ]
    },
    {
     "name": "stderr",
     "output_type": "stream",
     "text": [
      "Processing comments:  46%|████▌     | 114/250 [01:51<02:06,  1.07it/s]"
     ]
    },
    {
     "name": "stdout",
     "output_type": "stream",
     "text": [
      "1\n",
      "冲冲冲\n"
     ]
    },
    {
     "name": "stderr",
     "output_type": "stream",
     "text": [
      "Processing comments:  46%|████▌     | 115/250 [01:52<02:00,  1.12it/s]"
     ]
    },
    {
     "name": "stdout",
     "output_type": "stream",
     "text": [
      "1\n",
      "$上证指数(SH000001)$今天是千年一遇的九2日！2022年2月22日正月\n"
     ]
    },
    {
     "name": "stderr",
     "output_type": "stream",
     "text": [
      "Processing comments:  46%|████▋     | 116/250 [01:53<01:59,  1.12it/s]"
     ]
    },
    {
     "name": "stdout",
     "output_type": "stream",
     "text": [
      "1\n",
      "今天破2900\n"
     ]
    },
    {
     "name": "stderr",
     "output_type": "stream",
     "text": [
      "Processing comments:  47%|████▋     | 117/250 [01:54<02:03,  1.07it/s]"
     ]
    },
    {
     "name": "stdout",
     "output_type": "stream",
     "text": [
      "-1\n",
      "$上证指数(SH000001)$收盘必破3400\n"
     ]
    },
    {
     "name": "stderr",
     "output_type": "stream",
     "text": [
      "Processing comments:  47%|████▋     | 118/250 [01:55<02:02,  1.07it/s]"
     ]
    },
    {
     "name": "stdout",
     "output_type": "stream",
     "text": [
      "-1\n",
      "大盘和它同样走\n"
     ]
    },
    {
     "name": "stderr",
     "output_type": "stream",
     "text": [
      "Processing comments:  48%|████▊     | 119/250 [01:56<01:58,  1.10it/s]"
     ]
    },
    {
     "name": "stdout",
     "output_type": "stream",
     "text": [
      "-1\n",
      "昨晚我算了一挂，大跌开始要2900止损。\n"
     ]
    },
    {
     "name": "stderr",
     "output_type": "stream",
     "text": [
      "Processing comments:  48%|████▊     | 120/250 [01:56<01:55,  1.13it/s]"
     ]
    },
    {
     "name": "stdout",
     "output_type": "stream",
     "text": [
      "-1\n",
      "北交所一个板是30%，创业板科创板一个板是20%；说不动有一天，市场没有涨停板了\n"
     ]
    },
    {
     "name": "stderr",
     "output_type": "stream",
     "text": [
      "Processing comments:  48%|████▊     | 121/250 [01:57<01:59,  1.08it/s]"
     ]
    },
    {
     "name": "stdout",
     "output_type": "stream",
     "text": [
      "-1\n",
      "北向尾盘持续抄底，确实鸡贼，周一铁定高开了，估计一波涨停潮\n"
     ]
    },
    {
     "name": "stderr",
     "output_type": "stream",
     "text": [
      "Processing comments:  49%|████▉     | 122/250 [01:58<01:57,  1.09it/s]"
     ]
    },
    {
     "name": "stdout",
     "output_type": "stream",
     "text": [
      "1\n",
      "站稳年线[惊讶]\n"
     ]
    },
    {
     "name": "stderr",
     "output_type": "stream",
     "text": [
      "Processing comments:  49%|████▉     | 123/250 [01:59<01:52,  1.13it/s]"
     ]
    },
    {
     "name": "stdout",
     "output_type": "stream",
     "text": [
      "0\n",
      "很久必跌，看来缺口肯定是要补回的\n"
     ]
    },
    {
     "name": "stderr",
     "output_type": "stream",
     "text": [
      "Processing comments:  50%|████▉     | 124/250 [02:00<01:50,  1.14it/s]"
     ]
    },
    {
     "name": "stdout",
     "output_type": "stream",
     "text": [
      "-1\n",
      "$上证指数(SH000001)$成交9600亿元左右\n"
     ]
    },
    {
     "name": "stderr",
     "output_type": "stream",
     "text": [
      "Processing comments:  50%|█████     | 125/250 [02:01<01:53,  1.10it/s]"
     ]
    },
    {
     "name": "stdout",
     "output_type": "stream",
     "text": [
      "1\n",
      "假，指数不跌个股惨跌\n"
     ]
    },
    {
     "name": "stderr",
     "output_type": "stream",
     "text": [
      "Processing comments:  50%|█████     | 126/250 [02:02<01:57,  1.06it/s]"
     ]
    },
    {
     "name": "stdout",
     "output_type": "stream",
     "text": [
      "-1\n",
      "$上证指数(SH000001)$辽港股份\n"
     ]
    },
    {
     "name": "stderr",
     "output_type": "stream",
     "text": [
      "Processing comments:  51%|█████     | 127/250 [02:03<01:54,  1.08it/s]"
     ]
    },
    {
     "name": "stdout",
     "output_type": "stream",
     "text": [
      "0\n",
      "赶紧破了\n"
     ]
    },
    {
     "name": "stderr",
     "output_type": "stream",
     "text": [
      "Processing comments:  51%|█████     | 128/250 [02:04<01:50,  1.10it/s]"
     ]
    },
    {
     "name": "stdout",
     "output_type": "stream",
     "text": [
      "-1\n",
      "上午中阳线是诱多！\n"
     ]
    },
    {
     "name": "stderr",
     "output_type": "stream",
     "text": [
      "Processing comments:  52%|█████▏    | 129/250 [02:05<01:50,  1.09it/s]"
     ]
    },
    {
     "name": "stdout",
     "output_type": "stream",
     "text": [
      "-1\n",
      "周一低开低走，同意的点赞，不同意的评论区见！\n"
     ]
    },
    {
     "name": "stderr",
     "output_type": "stream",
     "text": [
      "Processing comments:  52%|█████▏    | 130/250 [02:06<01:50,  1.09it/s]"
     ]
    },
    {
     "name": "stdout",
     "output_type": "stream",
     "text": [
      "-1\n",
      "$上证指数(SH000001)$券商不动，不可能上涨\n"
     ]
    },
    {
     "name": "stderr",
     "output_type": "stream",
     "text": [
      "Processing comments:  52%|█████▏    | 131/250 [02:07<01:53,  1.05it/s]"
     ]
    },
    {
     "name": "stdout",
     "output_type": "stream",
     "text": [
      "-1\n",
      "利好跌停[微笑]\n"
     ]
    },
    {
     "name": "stderr",
     "output_type": "stream",
     "text": [
      "Processing comments:  53%|█████▎    | 132/250 [02:07<01:48,  1.09it/s]"
     ]
    },
    {
     "name": "stdout",
     "output_type": "stream",
     "text": [
      "-1\n",
      "做st吧\n"
     ]
    },
    {
     "name": "stderr",
     "output_type": "stream",
     "text": [
      "Processing comments:  53%|█████▎    | 133/250 [02:08<01:51,  1.05it/s]"
     ]
    },
    {
     "name": "stdout",
     "output_type": "stream",
     "text": [
      "-1\n",
      "下午可能反抽3100，跳水\n"
     ]
    },
    {
     "name": "stderr",
     "output_type": "stream",
     "text": [
      "Processing comments:  54%|█████▎    | 134/250 [02:09<01:49,  1.06it/s]"
     ]
    },
    {
     "name": "stdout",
     "output_type": "stream",
     "text": [
      "-1\n",
      "砸继续加油奥利给。\n"
     ]
    },
    {
     "name": "stderr",
     "output_type": "stream",
     "text": [
      "Processing comments:  54%|█████▍    | 135/250 [02:10<01:51,  1.03it/s]"
     ]
    },
    {
     "name": "stdout",
     "output_type": "stream",
     "text": [
      "-1\n",
      "$上证指数(SH000001)$今天大盘已下跌为主。\n"
     ]
    },
    {
     "name": "stderr",
     "output_type": "stream",
     "text": [
      "Processing comments:  54%|█████▍    | 136/250 [02:11<01:46,  1.07it/s]"
     ]
    },
    {
     "name": "stdout",
     "output_type": "stream",
     "text": [
      "-1\n",
      "行情难以确立。已无方向感。\n"
     ]
    },
    {
     "name": "stderr",
     "output_type": "stream",
     "text": [
      "Processing comments:  55%|█████▍    | 137/250 [02:12<01:45,  1.07it/s]"
     ]
    },
    {
     "name": "stdout",
     "output_type": "stream",
     "text": [
      "-1\n",
      "沪指连涨6天后收2小阴，北向继续进场，节前扫货不停手，场内机构依然稳定且惜售，而\n"
     ]
    },
    {
     "name": "stderr",
     "output_type": "stream",
     "text": [
      "Processing comments:  55%|█████▌    | 138/250 [02:13<01:49,  1.02it/s]"
     ]
    },
    {
     "name": "stdout",
     "output_type": "stream",
     "text": [
      "0\n",
      "国常会出台支持平台经济规范健康发展的具体措施，发挥好平台经济创造就业、促进消费作\n"
     ]
    },
    {
     "name": "stderr",
     "output_type": "stream",
     "text": [
      "Processing comments:  56%|█████▌    | 139/250 [02:14<01:48,  1.02it/s]"
     ]
    },
    {
     "name": "stdout",
     "output_type": "stream",
     "text": [
      "0\n",
      "叼毛内资就知道跑\n"
     ]
    },
    {
     "name": "stderr",
     "output_type": "stream",
     "text": [
      "Processing comments:  56%|█████▌    | 140/250 [02:15<01:49,  1.00it/s]"
     ]
    },
    {
     "name": "stdout",
     "output_type": "stream",
     "text": [
      "-1\n",
      "拉权重强撑着指数其余个股大家心里都有数\n"
     ]
    },
    {
     "name": "stderr",
     "output_type": "stream",
     "text": [
      "Processing comments:  56%|█████▋    | 141/250 [02:16<01:46,  1.02it/s]"
     ]
    },
    {
     "name": "stdout",
     "output_type": "stream",
     "text": [
      "-1\n",
      "三个跌停起步\n"
     ]
    },
    {
     "name": "stderr",
     "output_type": "stream",
     "text": [
      "Processing comments:  57%|█████▋    | 142/250 [02:17<01:49,  1.02s/it]"
     ]
    },
    {
     "name": "stdout",
     "output_type": "stream",
     "text": [
      "-1\n",
      "指数两年才涨十个点，大资金去掉融资成本才两三个点利润率。一千万赚二三十万。弄个几\n"
     ]
    },
    {
     "name": "stderr",
     "output_type": "stream",
     "text": [
      "Processing comments:  57%|█████▋    | 143/250 [02:18<01:49,  1.02s/it]"
     ]
    },
    {
     "name": "stdout",
     "output_type": "stream",
     "text": [
      "-1\n",
      "明年的今天，上证必到4500，耶稣也拦不住，立贴为证[加油][加油][加油]\n"
     ]
    },
    {
     "name": "stderr",
     "output_type": "stream",
     "text": [
      "Processing comments:  58%|█████▊    | 144/250 [02:19<01:47,  1.01s/it]"
     ]
    },
    {
     "name": "stdout",
     "output_type": "stream",
     "text": [
      "1\n",
      "最强大风口锂矿，锂矿，锂矿\n"
     ]
    },
    {
     "name": "stderr",
     "output_type": "stream",
     "text": [
      "Processing comments:  58%|█████▊    | 145/250 [02:20<01:45,  1.00s/it]"
     ]
    },
    {
     "name": "stdout",
     "output_type": "stream",
     "text": [
      "1\n",
      "转多思维\n"
     ]
    },
    {
     "name": "stderr",
     "output_type": "stream",
     "text": [
      "Processing comments:  58%|█████▊    | 146/250 [02:21<01:45,  1.01s/it]"
     ]
    },
    {
     "name": "stdout",
     "output_type": "stream",
     "text": [
      "-1\n",
      "内资不是蠢就是坏\n"
     ]
    },
    {
     "name": "stderr",
     "output_type": "stream",
     "text": [
      "Processing comments:  59%|█████▉    | 147/250 [02:22<01:38,  1.04it/s]"
     ]
    },
    {
     "name": "stdout",
     "output_type": "stream",
     "text": [
      "-1\n",
      "下周不亏钱了。\n"
     ]
    },
    {
     "name": "stderr",
     "output_type": "stream",
     "text": [
      "Processing comments:  59%|█████▉    | 148/250 [02:23<01:40,  1.02it/s]"
     ]
    },
    {
     "name": "stdout",
     "output_type": "stream",
     "text": [
      "-1\n",
      "$上证指数(SH000001)$下半年可不可以开启狂干模式，因为我们的目标是星辰\n"
     ]
    },
    {
     "name": "stderr",
     "output_type": "stream",
     "text": [
      "Processing comments:  60%|█████▉    | 149/250 [02:24<01:42,  1.01s/it]"
     ]
    },
    {
     "name": "stdout",
     "output_type": "stream",
     "text": [
      "0\n",
      "一句七字沪波段……\n"
     ]
    },
    {
     "name": "stderr",
     "output_type": "stream",
     "text": [
      "Processing comments:  60%|██████    | 150/250 [02:25<01:38,  1.01it/s]"
     ]
    },
    {
     "name": "stdout",
     "output_type": "stream",
     "text": [
      "-1\n",
      "也不准备撤退了，就想看看你能跌到哪儿\n"
     ]
    },
    {
     "name": "stderr",
     "output_type": "stream",
     "text": [
      "Processing comments:  60%|██████    | 151/250 [02:26<01:44,  1.06s/it]"
     ]
    },
    {
     "name": "stdout",
     "output_type": "stream",
     "text": [
      "-1\n",
      "人民有信仰，国家有力量\n"
     ]
    },
    {
     "name": "stderr",
     "output_type": "stream",
     "text": [
      "Processing comments:  61%|██████    | 152/250 [02:27<01:39,  1.02s/it]"
     ]
    },
    {
     "name": "stdout",
     "output_type": "stream",
     "text": [
      "-1\n",
      "指数又回到3200本金又新低。\n"
     ]
    },
    {
     "name": "stderr",
     "output_type": "stream",
     "text": [
      "Processing comments:  61%|██████    | 153/250 [02:29<01:41,  1.05s/it]"
     ]
    },
    {
     "name": "stdout",
     "output_type": "stream",
     "text": [
      "-1\n",
      "$上证指数(SH000001)$都在大涨，暴涨为什么拉都拉大上去，什么问事\n"
     ]
    },
    {
     "name": "stderr",
     "output_type": "stream",
     "text": [
      "Processing comments:  62%|██████▏   | 154/250 [02:30<01:42,  1.07s/it]"
     ]
    },
    {
     "name": "stdout",
     "output_type": "stream",
     "text": [
      "-1\n",
      "$上证指数(SH000001)$只要有任何一家机构唱多一只股票时，建议散户朋友们\n"
     ]
    },
    {
     "name": "stderr",
     "output_type": "stream",
     "text": [
      "Processing comments:  62%|██████▏   | 155/250 [02:31<01:43,  1.09s/it]"
     ]
    },
    {
     "name": "stdout",
     "output_type": "stream",
     "text": [
      "-1\n",
      "$上证指数(SH000001)$我看你跌到那里去，反正我躺倒装死算了，资金再缩水\n"
     ]
    },
    {
     "name": "stderr",
     "output_type": "stream",
     "text": [
      "Processing comments:  62%|██████▏   | 156/250 [02:32<01:40,  1.07s/it]"
     ]
    },
    {
     "name": "stdout",
     "output_type": "stream",
     "text": [
      "-1\n",
      "连续两天缩量阳线+钢铁股拉指数,大家要小心了\n"
     ]
    },
    {
     "name": "stderr",
     "output_type": "stream",
     "text": [
      "Processing comments:  63%|██████▎   | 157/250 [02:33<01:37,  1.05s/it]"
     ]
    },
    {
     "name": "stdout",
     "output_type": "stream",
     "text": [
      "-1\n",
      "7.81卖了，闹心！\n"
     ]
    },
    {
     "name": "stderr",
     "output_type": "stream",
     "text": [
      "Processing comments:  63%|██████▎   | 158/250 [02:34<01:36,  1.04s/it]"
     ]
    },
    {
     "name": "stdout",
     "output_type": "stream",
     "text": [
      "-1\n",
      "继续拉茅台啊[大笑][大笑][大笑]\n"
     ]
    },
    {
     "name": "stderr",
     "output_type": "stream",
     "text": [
      "Processing comments:  64%|██████▎   | 159/250 [02:35<01:36,  1.06s/it]"
     ]
    },
    {
     "name": "stdout",
     "output_type": "stream",
     "text": [
      "1\n",
      "大盘一直在跌几个月了，我的002719.和600784一直不跌不涨\n"
     ]
    },
    {
     "name": "stderr",
     "output_type": "stream",
     "text": [
      "Processing comments:  64%|██████▍   | 160/250 [02:36<01:29,  1.00it/s]"
     ]
    },
    {
     "name": "stdout",
     "output_type": "stream",
     "text": [
      "-1\n",
      "做个好人长线持有，低价优质股的小散真难！而且难上加难！亏钱分分钟的事，赚点钱比上\n"
     ]
    },
    {
     "name": "stderr",
     "output_type": "stream",
     "text": [
      "Processing comments:  64%|██████▍   | 161/250 [02:37<01:34,  1.06s/it]"
     ]
    },
    {
     "name": "stdout",
     "output_type": "stream",
     "text": [
      "-1\n",
      "我大A也进入技术性牛市了！\n"
     ]
    },
    {
     "name": "stderr",
     "output_type": "stream",
     "text": [
      "Processing comments:  65%|██████▍   | 162/250 [02:38<01:26,  1.02it/s]"
     ]
    },
    {
     "name": "stdout",
     "output_type": "stream",
     "text": [
      "1\n",
      "为什么我的还是绿的\n"
     ]
    },
    {
     "name": "stderr",
     "output_type": "stream",
     "text": [
      "Processing comments:  65%|██████▌   | 163/250 [02:39<01:26,  1.00it/s]"
     ]
    },
    {
     "name": "stdout",
     "output_type": "stream",
     "text": [
      "-1\n",
      "今天砸盘子，明天北后操底\n"
     ]
    },
    {
     "name": "stderr",
     "output_type": "stream",
     "text": [
      "Processing comments:  66%|██████▌   | 164/250 [02:40<01:22,  1.05it/s]"
     ]
    },
    {
     "name": "stdout",
     "output_type": "stream",
     "text": [
      "-1\n",
      "跌这么点已经很给力了\n"
     ]
    },
    {
     "name": "stderr",
     "output_type": "stream",
     "text": [
      "Processing comments:  66%|██████▌   | 165/250 [02:41<01:19,  1.07it/s]"
     ]
    },
    {
     "name": "stdout",
     "output_type": "stream",
     "text": [
      "1\n",
      "买股票就是大鱼吃小鱼，大主力吃小主力，小主力吃邮资吃散户\n"
     ]
    },
    {
     "name": "stderr",
     "output_type": "stream",
     "text": [
      "Processing comments:  66%|██████▋   | 166/250 [02:41<01:18,  1.07it/s]"
     ]
    },
    {
     "name": "stdout",
     "output_type": "stream",
     "text": [
      "-1\n",
      "骗你新高的模样\n"
     ]
    },
    {
     "name": "stderr",
     "output_type": "stream",
     "text": [
      "Processing comments:  67%|██████▋   | 167/250 [02:42<01:15,  1.10it/s]"
     ]
    },
    {
     "name": "stdout",
     "output_type": "stream",
     "text": [
      "-1\n",
      "下跌不言底，至少还得下个台阶，金针探底[韭菜][韭菜]\n"
     ]
    },
    {
     "name": "stderr",
     "output_type": "stream",
     "text": [
      "Processing comments:  67%|██████▋   | 168/250 [02:43<01:17,  1.06it/s]"
     ]
    },
    {
     "name": "stdout",
     "output_type": "stream",
     "text": [
      "-1\n",
      "今年玩跑的快，别往年还早！\n"
     ]
    },
    {
     "name": "stderr",
     "output_type": "stream",
     "text": [
      "Processing comments:  68%|██████▊   | 169/250 [02:44<01:17,  1.05it/s]"
     ]
    },
    {
     "name": "stdout",
     "output_type": "stream",
     "text": [
      "1\n",
      "指数上去了，但赚钱效应不大，难搞，5千多只票，一天不到一万亿，指数一跌全部哗啦啦\n"
     ]
    },
    {
     "name": "stderr",
     "output_type": "stream",
     "text": [
      "Processing comments:  68%|██████▊   | 170/250 [02:45<01:13,  1.08it/s]"
     ]
    },
    {
     "name": "stdout",
     "output_type": "stream",
     "text": [
      "-1\n",
      "如果能跌破3千，就是绝佳的最后的上车机会！！\n"
     ]
    },
    {
     "name": "stderr",
     "output_type": "stream",
     "text": [
      "Processing comments:  68%|██████▊   | 171/250 [02:46<01:14,  1.06it/s]"
     ]
    },
    {
     "name": "stdout",
     "output_type": "stream",
     "text": [
      "1\n",
      "远离股市\n"
     ]
    },
    {
     "name": "stderr",
     "output_type": "stream",
     "text": [
      "Processing comments:  69%|██████▉   | 172/250 [02:47<01:17,  1.00it/s]"
     ]
    },
    {
     "name": "stdout",
     "output_type": "stream",
     "text": [
      "-1\n",
      "我买[偷笑]\n"
     ]
    },
    {
     "name": "stderr",
     "output_type": "stream",
     "text": [
      "Processing comments:  69%|██████▉   | 173/250 [02:48<01:16,  1.01it/s]"
     ]
    },
    {
     "name": "stdout",
     "output_type": "stream",
     "text": [
      "1\n",
      "$上证指数(SH000001)$国资委：兵器造核酸检测车下线，每日可完成2880\n"
     ]
    },
    {
     "name": "stderr",
     "output_type": "stream",
     "text": [
      "Processing comments:  70%|██████▉   | 174/250 [02:49<01:16,  1.00s/it]"
     ]
    },
    {
     "name": "stdout",
     "output_type": "stream",
     "text": [
      "-1\n",
      "别演了，低开低走\n"
     ]
    },
    {
     "name": "stderr",
     "output_type": "stream",
     "text": [
      "Processing comments:  70%|███████   | 175/250 [02:50<01:13,  1.02it/s]"
     ]
    },
    {
     "name": "stdout",
     "output_type": "stream",
     "text": [
      "-1\n",
      "天天多选一，从9月中开始，基本没有好过\n"
     ]
    },
    {
     "name": "stderr",
     "output_type": "stream",
     "text": [
      "Processing comments:  70%|███████   | 176/250 [02:51<01:11,  1.04it/s]"
     ]
    },
    {
     "name": "stdout",
     "output_type": "stream",
     "text": [
      "-1\n",
      "又是亏本的一天。。。。。无语掉了。。。。彻底。。。。\n"
     ]
    },
    {
     "name": "stderr",
     "output_type": "stream",
     "text": [
      "Processing comments:  71%|███████   | 177/250 [02:52<01:11,  1.02it/s]"
     ]
    },
    {
     "name": "stdout",
     "output_type": "stream",
     "text": [
      "-1\n",
      "2点半开始跳水\n"
     ]
    },
    {
     "name": "stderr",
     "output_type": "stream",
     "text": [
      "Processing comments:  71%|███████   | 178/250 [02:53<01:07,  1.06it/s]"
     ]
    },
    {
     "name": "stdout",
     "output_type": "stream",
     "text": [
      "-1\n",
      "这大盘涨的心慌，各股不怎么涨，只要轻轻一下调各股就欧型，大A开始玩不正常的了，进\n"
     ]
    },
    {
     "name": "stderr",
     "output_type": "stream",
     "text": [
      "Processing comments:  72%|███████▏  | 179/250 [02:54<01:08,  1.04it/s]"
     ]
    },
    {
     "name": "stdout",
     "output_type": "stream",
     "text": [
      "-1\n",
      "明天3228开盘\n"
     ]
    },
    {
     "name": "stderr",
     "output_type": "stream",
     "text": [
      "Processing comments:  72%|███████▏  | 180/250 [02:55<01:04,  1.09it/s]"
     ]
    },
    {
     "name": "stdout",
     "output_type": "stream",
     "text": [
      "0\n",
      "今晚人家又要大涨了，你懂的！\n"
     ]
    },
    {
     "name": "stderr",
     "output_type": "stream",
     "text": [
      "Processing comments:  72%|███████▏  | 181/250 [02:56<01:04,  1.06it/s]"
     ]
    },
    {
     "name": "stdout",
     "output_type": "stream",
     "text": [
      "1\n",
      "云汉芯城上市IPO受理\n"
     ]
    },
    {
     "name": "stderr",
     "output_type": "stream",
     "text": [
      "Processing comments:  73%|███████▎  | 182/250 [02:57<01:05,  1.03it/s]"
     ]
    },
    {
     "name": "stdout",
     "output_type": "stream",
     "text": [
      "-1\n",
      "北向两点半以后扫货?\n"
     ]
    },
    {
     "name": "stderr",
     "output_type": "stream",
     "text": [
      "Processing comments:  73%|███████▎  | 183/250 [02:58<01:06,  1.01it/s]"
     ]
    },
    {
     "name": "stdout",
     "output_type": "stream",
     "text": [
      "-1\n",
      "主力筹码＜0.6，还不走？\n"
     ]
    },
    {
     "name": "stderr",
     "output_type": "stream",
     "text": [
      "Processing comments:  74%|███████▎  | 184/250 [02:59<01:05,  1.00it/s]"
     ]
    },
    {
     "name": "stdout",
     "output_type": "stream",
     "text": [
      "-1\n",
      "$上证指数(SH000001)$今年复制08年，18年走势啰，现在才是恐慌的开始\n"
     ]
    },
    {
     "name": "stderr",
     "output_type": "stream",
     "text": [
      "Processing comments:  74%|███████▍  | 185/250 [03:00<01:03,  1.02it/s]"
     ]
    },
    {
     "name": "stdout",
     "output_type": "stream",
     "text": [
      "-1\n",
      "周线跌破长期均线已成定居\n"
     ]
    },
    {
     "name": "stderr",
     "output_type": "stream",
     "text": [
      "Processing comments:  74%|███████▍  | 186/250 [03:01<01:01,  1.04it/s]"
     ]
    },
    {
     "name": "stdout",
     "output_type": "stream",
     "text": [
      "-1\n",
      "求跌\n"
     ]
    },
    {
     "name": "stderr",
     "output_type": "stream",
     "text": [
      "Processing comments:  75%|███████▍  | 187/250 [03:02<00:58,  1.08it/s]"
     ]
    },
    {
     "name": "stdout",
     "output_type": "stream",
     "text": [
      "-1\n",
      "干啥\n"
     ]
    },
    {
     "name": "stderr",
     "output_type": "stream",
     "text": [
      "Processing comments:  75%|███████▌  | 188/250 [03:03<00:57,  1.08it/s]"
     ]
    },
    {
     "name": "stdout",
     "output_type": "stream",
     "text": [
      "-1\n",
      "还没开始就已经结束了\n"
     ]
    },
    {
     "name": "stderr",
     "output_type": "stream",
     "text": [
      "Processing comments:  76%|███████▌  | 189/250 [03:04<00:56,  1.08it/s]"
     ]
    },
    {
     "name": "stdout",
     "output_type": "stream",
     "text": [
      "-1\n",
      "今天还不抬轿吗[坏笑]\n"
     ]
    },
    {
     "name": "stderr",
     "output_type": "stream",
     "text": [
      "Processing comments:  76%|███████▌  | 190/250 [03:05<00:58,  1.02it/s]"
     ]
    },
    {
     "name": "stdout",
     "output_type": "stream",
     "text": [
      "0\n",
      "各位股神预测一下点数[微笑]\n"
     ]
    },
    {
     "name": "stderr",
     "output_type": "stream",
     "text": [
      "Processing comments:  76%|███████▋  | 191/250 [03:06<00:57,  1.02it/s]"
     ]
    },
    {
     "name": "stdout",
     "output_type": "stream",
     "text": [
      "0\n",
      "千股跌停跌停\n"
     ]
    },
    {
     "name": "stderr",
     "output_type": "stream",
     "text": [
      "Processing comments:  77%|███████▋  | 192/250 [03:06<00:52,  1.10it/s]"
     ]
    },
    {
     "name": "stdout",
     "output_type": "stream",
     "text": [
      "-1\n",
      "大A最大一个特点就是：无事不登三宝殿，非到走投无路不出利好，从来不会有锦上添花的\n"
     ]
    },
    {
     "name": "stderr",
     "output_type": "stream",
     "text": [
      "Processing comments:  77%|███████▋  | 193/250 [03:07<00:53,  1.06it/s]"
     ]
    },
    {
     "name": "stdout",
     "output_type": "stream",
     "text": [
      "-1\n",
      "工业母机现在变成了工业小鸡，弱弱的。\n"
     ]
    },
    {
     "name": "stderr",
     "output_type": "stream",
     "text": [
      "Processing comments:  78%|███████▊  | 194/250 [03:08<00:54,  1.03it/s]"
     ]
    },
    {
     "name": "stdout",
     "output_type": "stream",
     "text": [
      "-1\n",
      "一鲸落，万物生，怕个鸟\n"
     ]
    },
    {
     "name": "stderr",
     "output_type": "stream",
     "text": [
      "Processing comments:  78%|███████▊  | 195/250 [03:09<00:52,  1.04it/s]"
     ]
    },
    {
     "name": "stdout",
     "output_type": "stream",
     "text": [
      "-1\n",
      "北向买买买，内资卖卖卖！\n"
     ]
    },
    {
     "name": "stderr",
     "output_type": "stream",
     "text": [
      "Processing comments:  78%|███████▊  | 196/250 [03:10<00:52,  1.02it/s]"
     ]
    },
    {
     "name": "stdout",
     "output_type": "stream",
     "text": [
      "-1\n",
      "今天拉金融、房地产、各茅，下周大跌。鸡狗太坏了。\n"
     ]
    },
    {
     "name": "stderr",
     "output_type": "stream",
     "text": [
      "Processing comments:  79%|███████▉  | 197/250 [03:11<00:52,  1.01it/s]"
     ]
    },
    {
     "name": "stdout",
     "output_type": "stream",
     "text": [
      "-1\n",
      "这个点位很主要\n"
     ]
    },
    {
     "name": "stderr",
     "output_type": "stream",
     "text": [
      "Processing comments:  79%|███████▉  | 198/250 [03:12<00:51,  1.01it/s]"
     ]
    },
    {
     "name": "stdout",
     "output_type": "stream",
     "text": [
      "0\n",
      "上下两缺口，看你补哪个？\n"
     ]
    },
    {
     "name": "stderr",
     "output_type": "stream",
     "text": [
      "Processing comments:  80%|███████▉  | 199/250 [03:13<00:48,  1.05it/s]"
     ]
    },
    {
     "name": "stdout",
     "output_type": "stream",
     "text": [
      "-1\n",
      "今天拉个指数，明天继续砸\n"
     ]
    },
    {
     "name": "stderr",
     "output_type": "stream",
     "text": [
      "Processing comments:  80%|████████  | 200/250 [03:14<00:45,  1.09it/s]"
     ]
    },
    {
     "name": "stdout",
     "output_type": "stream",
     "text": [
      "-1\n",
      "风光储凉了风光储凉了风光储凉了风光储凉了\n"
     ]
    },
    {
     "name": "stderr",
     "output_type": "stream",
     "text": [
      "Processing comments:  80%|████████  | 201/250 [03:15<00:45,  1.09it/s]"
     ]
    },
    {
     "name": "stdout",
     "output_type": "stream",
     "text": [
      "-1\n",
      "股市，真狠\n"
     ]
    },
    {
     "name": "stderr",
     "output_type": "stream",
     "text": [
      "Processing comments:  81%|████████  | 202/250 [03:16<00:45,  1.05it/s]"
     ]
    },
    {
     "name": "stdout",
     "output_type": "stream",
     "text": [
      "-1\n",
      "以太昨日跟随大饼走势，一路震荡上行，目前已冲破3400压力位，在回调后继续延续上\n"
     ]
    },
    {
     "name": "stderr",
     "output_type": "stream",
     "text": [
      "Processing comments:  81%|████████  | 203/250 [03:17<00:43,  1.07it/s]"
     ]
    },
    {
     "name": "stdout",
     "output_type": "stream",
     "text": [
      "1\n",
      "马上止跌了\n"
     ]
    },
    {
     "name": "stderr",
     "output_type": "stream",
     "text": [
      "Processing comments:  82%|████████▏ | 204/250 [03:18<00:42,  1.07it/s]"
     ]
    },
    {
     "name": "stdout",
     "output_type": "stream",
     "text": [
      "-1\n",
      "你不拉，在这一横那30分钟就走完了！目前五分钟已经走完了！自求多福吧[大笑]！\n"
     ]
    },
    {
     "name": "stderr",
     "output_type": "stream",
     "text": [
      "Processing comments:  82%|████████▏ | 205/250 [03:19<00:42,  1.05it/s]"
     ]
    },
    {
     "name": "stdout",
     "output_type": "stream",
     "text": [
      "1\n",
      "$上证指数(SH000001)$今天是个抄底的好日子\n"
     ]
    },
    {
     "name": "stderr",
     "output_type": "stream",
     "text": [
      "Processing comments:  82%|████████▏ | 206/250 [03:20<00:43,  1.00it/s]"
     ]
    },
    {
     "name": "stdout",
     "output_type": "stream",
     "text": [
      "-1\n",
      "今天的单针探底和8月4日单针探底尺变一模一样！\n"
     ]
    },
    {
     "name": "stderr",
     "output_type": "stream",
     "text": [
      "Processing comments:  83%|████████▎ | 207/250 [03:21<00:41,  1.02it/s]"
     ]
    },
    {
     "name": "stdout",
     "output_type": "stream",
     "text": [
      "-1\n",
      "我呸，国内主力终于睡醒了，终于跟上北上的步伐净流入了！[上涨][上涨][上涨]\n"
     ]
    },
    {
     "name": "stderr",
     "output_type": "stream",
     "text": [
      "Processing comments:  83%|████████▎ | 208/250 [03:22<00:40,  1.05it/s]"
     ]
    },
    {
     "name": "stdout",
     "output_type": "stream",
     "text": [
      "1\n",
      "A股有菜有酒[大笑][大笑][大笑]\n"
     ]
    },
    {
     "name": "stderr",
     "output_type": "stream",
     "text": [
      "Processing comments:  84%|████████▎ | 209/250 [03:23<00:38,  1.06it/s]"
     ]
    },
    {
     "name": "stdout",
     "output_type": "stream",
     "text": [
      "1\n",
      "轰隆隆~，天雷滚滚，你们听见了没？\n"
     ]
    },
    {
     "name": "stderr",
     "output_type": "stream",
     "text": [
      "Processing comments:  84%|████████▍ | 210/250 [03:24<00:38,  1.03it/s]"
     ]
    },
    {
     "name": "stdout",
     "output_type": "stream",
     "text": [
      "1\n",
      "无量反弹就是老乡别走，主力耍流氓，谨慎再谨慎\n"
     ]
    },
    {
     "name": "stderr",
     "output_type": "stream",
     "text": [
      "Processing comments:  84%|████████▍ | 211/250 [03:25<00:37,  1.03it/s]"
     ]
    },
    {
     "name": "stdout",
     "output_type": "stream",
     "text": [
      "-1\n",
      "$上证指数(SH000001)$黄白线又劈腿，GRD\n"
     ]
    },
    {
     "name": "stderr",
     "output_type": "stream",
     "text": [
      "Processing comments:  85%|████████▍ | 212/250 [03:26<00:35,  1.06it/s]"
     ]
    },
    {
     "name": "stdout",
     "output_type": "stream",
     "text": [
      "-1\n",
      "本团队今天一开盘就做空期指\n"
     ]
    },
    {
     "name": "stderr",
     "output_type": "stream",
     "text": [
      "Processing comments:  85%|████████▌ | 213/250 [03:27<00:36,  1.00it/s]"
     ]
    },
    {
     "name": "stdout",
     "output_type": "stream",
     "text": [
      "-1\n",
      "又出现一个缺口了，节后怎么走啊？\n"
     ]
    },
    {
     "name": "stderr",
     "output_type": "stream",
     "text": [
      "Processing comments:  86%|████████▌ | 214/250 [03:28<00:36,  1.00s/it]"
     ]
    },
    {
     "name": "stdout",
     "output_type": "stream",
     "text": [
      "-1\n",
      "数字中国龙头...中国电信\n"
     ]
    },
    {
     "name": "stderr",
     "output_type": "stream",
     "text": [
      "Processing comments:  86%|████████▌ | 215/250 [03:29<00:35,  1.01s/it]"
     ]
    },
    {
     "name": "stdout",
     "output_type": "stream",
     "text": [
      "-1\n",
      "大盘涨没有赚钱，大盘跌亏更多\n"
     ]
    },
    {
     "name": "stderr",
     "output_type": "stream",
     "text": [
      "Processing comments:  86%|████████▋ | 216/250 [03:30<00:34,  1.01s/it]"
     ]
    },
    {
     "name": "stdout",
     "output_type": "stream",
     "text": [
      "-1\n",
      "$上证指数(SH000001)$\n"
     ]
    },
    {
     "name": "stderr",
     "output_type": "stream",
     "text": [
      "Processing comments:  87%|████████▋ | 217/250 [03:31<00:34,  1.05s/it]"
     ]
    },
    {
     "name": "stdout",
     "output_type": "stream",
     "text": [
      "-1\n",
      "周线级别大调整已经显现出来，看周K\n"
     ]
    },
    {
     "name": "stderr",
     "output_type": "stream",
     "text": [
      "Processing comments:  87%|████████▋ | 218/250 [03:32<00:33,  1.05s/it]"
     ]
    },
    {
     "name": "stdout",
     "output_type": "stream",
     "text": [
      "0\n",
      "$上证指数(SH000001)$315玩命的下跌！今天算打一巴掌给个糖豆吃了\n"
     ]
    },
    {
     "name": "stderr",
     "output_type": "stream",
     "text": [
      "Processing comments:  88%|████████▊ | 219/250 [03:33<00:34,  1.12s/it]"
     ]
    },
    {
     "name": "stdout",
     "output_type": "stream",
     "text": [
      "-1\n",
      "呵呵呵\n"
     ]
    },
    {
     "name": "stderr",
     "output_type": "stream",
     "text": [
      "Processing comments:  88%|████████▊ | 220/250 [03:34<00:31,  1.04s/it]"
     ]
    },
    {
     "name": "stdout",
     "output_type": "stream",
     "text": [
      "0\n",
      "这谁是真牛，把大盘的缺口刚好补了就上去，这比操纵个股还准\n"
     ]
    },
    {
     "name": "stderr",
     "output_type": "stream",
     "text": [
      "Processing comments:  88%|████████▊ | 221/250 [03:35<00:32,  1.13s/it]"
     ]
    },
    {
     "name": "stdout",
     "output_type": "stream",
     "text": [
      "-1\n",
      "下跌十字星，拉券商拉权重还是救不回指数，那么月底之前盘整之后必有大跌\n"
     ]
    },
    {
     "name": "stderr",
     "output_type": "stream",
     "text": [
      "Processing comments:  89%|████████▉ | 222/250 [03:37<00:32,  1.17s/it]"
     ]
    },
    {
     "name": "stdout",
     "output_type": "stream",
     "text": [
      "-1\n",
      "我们走的是最弱的\n"
     ]
    },
    {
     "name": "stderr",
     "output_type": "stream",
     "text": [
      "Processing comments:  89%|████████▉ | 223/250 [03:38<00:31,  1.17s/it]"
     ]
    },
    {
     "name": "stdout",
     "output_type": "stream",
     "text": [
      "-1\n",
      "该下跌了\n"
     ]
    },
    {
     "name": "stderr",
     "output_type": "stream",
     "text": [
      "Processing comments:  90%|████████▉ | 224/250 [03:39<00:31,  1.20s/it]"
     ]
    },
    {
     "name": "stdout",
     "output_type": "stream",
     "text": [
      "-1\n",
      "融券，一直赚[呲牙][呲牙][呲牙][呲牙]\n"
     ]
    },
    {
     "name": "stderr",
     "output_type": "stream",
     "text": [
      "Processing comments:  90%|█████████ | 225/250 [03:40<00:28,  1.15s/it]"
     ]
    },
    {
     "name": "stdout",
     "output_type": "stream",
     "text": [
      "1\n",
      "$上证指数(SH000001)$现在就是搞你钱\n"
     ]
    },
    {
     "name": "stderr",
     "output_type": "stream",
     "text": [
      "Processing comments:  90%|█████████ | 226/250 [03:41<00:28,  1.20s/it]"
     ]
    },
    {
     "name": "stdout",
     "output_type": "stream",
     "text": [
      "-1\n",
      "下雨了\n"
     ]
    },
    {
     "name": "stderr",
     "output_type": "stream",
     "text": [
      "Processing comments:  91%|█████████ | 227/250 [03:43<00:27,  1.21s/it]"
     ]
    },
    {
     "name": "stdout",
     "output_type": "stream",
     "text": [
      "-1\n",
      "$上证指数(SH000001)$今天受到昨夜美西方股市下跌的影响，有很多的恐怖抛\n"
     ]
    },
    {
     "name": "stderr",
     "output_type": "stream",
     "text": [
      "Processing comments:  91%|█████████ | 228/250 [03:44<00:27,  1.26s/it]"
     ]
    },
    {
     "name": "stdout",
     "output_type": "stream",
     "text": [
      "-1\n",
      "A股最近强势，就是每次上午跌，下午拉升\n"
     ]
    },
    {
     "name": "stderr",
     "output_type": "stream",
     "text": [
      "Processing comments:  92%|█████████▏| 229/250 [03:45<00:26,  1.28s/it]"
     ]
    },
    {
     "name": "stdout",
     "output_type": "stream",
     "text": [
      "-1\n",
      "沪深300安全\n"
     ]
    },
    {
     "name": "stderr",
     "output_type": "stream",
     "text": [
      "Processing comments:  92%|█████████▏| 230/250 [03:47<00:25,  1.29s/it]"
     ]
    },
    {
     "name": "stdout",
     "output_type": "stream",
     "text": [
      "0\n",
      "$上证指数(SH000001)$大盘涨稳住韭菜的生长\n"
     ]
    },
    {
     "name": "stderr",
     "output_type": "stream",
     "text": [
      "Processing comments:  92%|█████████▏| 231/250 [03:48<00:23,  1.26s/it]"
     ]
    },
    {
     "name": "stdout",
     "output_type": "stream",
     "text": [
      "-1\n",
      "人生无常，大肠包小肠！\n"
     ]
    },
    {
     "name": "stderr",
     "output_type": "stream",
     "text": [
      "Processing comments:  93%|█████████▎| 232/250 [03:50<00:24,  1.35s/it]"
     ]
    },
    {
     "name": "stdout",
     "output_type": "stream",
     "text": [
      "-1\n",
      "挣钱的公司比亏损的走得还惨呵呵！我看这股票都是扯蛋，决定涨跌的因素不是盈利与否，\n"
     ]
    },
    {
     "name": "stderr",
     "output_type": "stream",
     "text": [
      "Processing comments:  93%|█████████▎| 233/250 [03:51<00:24,  1.44s/it]"
     ]
    },
    {
     "name": "stdout",
     "output_type": "stream",
     "text": [
      "-1\n",
      "今天肯定涨停，等2.30主力进场，直线拉升到3200点，看空的就哭吧\n"
     ]
    },
    {
     "name": "stderr",
     "output_type": "stream",
     "text": [
      "Processing comments:  94%|█████████▎| 234/250 [03:53<00:22,  1.43s/it]"
     ]
    },
    {
     "name": "stdout",
     "output_type": "stream",
     "text": [
      "1\n",
      "一个月两天搞定\n"
     ]
    },
    {
     "name": "stderr",
     "output_type": "stream",
     "text": [
      "Processing comments:  94%|█████████▍| 235/250 [03:54<00:21,  1.45s/it]"
     ]
    },
    {
     "name": "stdout",
     "output_type": "stream",
     "text": [
      "1\n",
      "大A威武霸气！\n"
     ]
    },
    {
     "name": "stderr",
     "output_type": "stream",
     "text": [
      "Processing comments:  94%|█████████▍| 236/250 [03:55<00:19,  1.40s/it]"
     ]
    },
    {
     "name": "stdout",
     "output_type": "stream",
     "text": [
      "1\n",
      "不涨大金融，这种红就是昙花一现而已\n"
     ]
    },
    {
     "name": "stderr",
     "output_type": "stream",
     "text": [
      "Processing comments:  95%|█████████▍| 237/250 [03:57<00:18,  1.39s/it]"
     ]
    },
    {
     "name": "stdout",
     "output_type": "stream",
     "text": [
      "-1\n",
      "内资这么卖，准备给家捎去吗\n"
     ]
    },
    {
     "name": "stderr",
     "output_type": "stream",
     "text": [
      "Processing comments:  95%|█████████▌| 238/250 [03:59<00:18,  1.52s/it]"
     ]
    },
    {
     "name": "stdout",
     "output_type": "stream",
     "text": [
      "-1\n",
      "超级大牛股宏达新材，大家赶紧全仓杀入抄底\n"
     ]
    },
    {
     "name": "stderr",
     "output_type": "stream",
     "text": [
      "Processing comments:  96%|█████████▌| 239/250 [04:00<00:17,  1.59s/it]"
     ]
    },
    {
     "name": "stdout",
     "output_type": "stream",
     "text": [
      "1\n",
      "$上证指数(SH000001)$今天一定不会过3150[笑哭]\n"
     ]
    },
    {
     "name": "stderr",
     "output_type": "stream",
     "text": [
      "Processing comments:  96%|█████████▌| 240/250 [04:02<00:16,  1.68s/it]"
     ]
    },
    {
     "name": "stdout",
     "output_type": "stream",
     "text": [
      "-1\n",
      "全天震荡下行，节前开始回调了，节后会更惨2900见\n"
     ]
    },
    {
     "name": "stderr",
     "output_type": "stream",
     "text": [
      "Processing comments:  96%|█████████▋| 241/250 [04:06<00:20,  2.25s/it]"
     ]
    },
    {
     "name": "stdout",
     "output_type": "stream",
     "text": [
      "-1\n",
      "大盘走得这么好，你的赚钱指数是多少？10.8%\n"
     ]
    },
    {
     "name": "stderr",
     "output_type": "stream",
     "text": [
      "Processing comments:  97%|█████████▋| 242/250 [04:08<00:18,  2.32s/it]"
     ]
    },
    {
     "name": "stdout",
     "output_type": "stream",
     "text": [
      "0\n",
      "冬天得补补，吹吹气，吃吃药\n"
     ]
    },
    {
     "name": "stderr",
     "output_type": "stream",
     "text": [
      "Processing comments:  97%|█████████▋| 243/250 [04:11<00:16,  2.35s/it]"
     ]
    },
    {
     "name": "stdout",
     "output_type": "stream",
     "text": [
      "-1\n",
      "今天浮盈了，第一件事就是买书看，学习、进步、进化。\n"
     ]
    },
    {
     "name": "stderr",
     "output_type": "stream",
     "text": [
      "Processing comments:  98%|█████████▊| 244/250 [04:12<00:13,  2.17s/it]"
     ]
    },
    {
     "name": "stdout",
     "output_type": "stream",
     "text": [
      "1\n",
      "人民有信仰，民族有希望，国家有力量\n"
     ]
    },
    {
     "name": "stderr",
     "output_type": "stream",
     "text": [
      "Processing comments:  98%|█████████▊| 245/250 [04:14<00:09,  1.98s/it]"
     ]
    },
    {
     "name": "stdout",
     "output_type": "stream",
     "text": [
      "0\n",
      "照此下去没人会看好A股市场行情\n"
     ]
    },
    {
     "name": "stderr",
     "output_type": "stream",
     "text": [
      "Processing comments:  98%|█████████▊| 246/250 [04:16<00:07,  1.92s/it]"
     ]
    },
    {
     "name": "stdout",
     "output_type": "stream",
     "text": [
      "-1\n",
      "明天大回调\n"
     ]
    },
    {
     "name": "stderr",
     "output_type": "stream",
     "text": [
      "Processing comments:  99%|█████████▉| 247/250 [04:18<00:06,  2.05s/it]"
     ]
    },
    {
     "name": "stdout",
     "output_type": "stream",
     "text": [
      "-1\n",
      "大家来述说有哪些坑人的概念\n"
     ]
    },
    {
     "name": "stderr",
     "output_type": "stream",
     "text": [
      "Processing comments:  99%|█████████▉| 248/250 [04:20<00:04,  2.04s/it]"
     ]
    },
    {
     "name": "stdout",
     "output_type": "stream",
     "text": [
      "-1\n",
      "房地产依然是支柱，股市没戏\n"
     ]
    },
    {
     "name": "stderr",
     "output_type": "stream",
     "text": [
      "Processing comments: 100%|█████████▉| 249/250 [04:23<00:02,  2.23s/it]"
     ]
    },
    {
     "name": "stdout",
     "output_type": "stream",
     "text": [
      "-1\n",
      "玩股不喊多，买了又唱空，跌斯你活该\n"
     ]
    },
    {
     "name": "stderr",
     "output_type": "stream",
     "text": [
      "Processing comments: 100%|██████████| 250/250 [04:25<00:00,  1.06s/it]"
     ]
    },
    {
     "name": "stdout",
     "output_type": "stream",
     "text": [
      "-1\n"
     ]
    },
    {
     "name": "stderr",
     "output_type": "stream",
     "text": [
      "\n"
     ]
    },
    {
     "data": {
      "text/plain": [
       "['-1',\n",
       " '-1',\n",
       " '-1',\n",
       " '-1',\n",
       " '1',\n",
       " '-1',\n",
       " '-1',\n",
       " '-1',\n",
       " '1',\n",
       " '-1',\n",
       " '-1',\n",
       " '-1',\n",
       " '-1',\n",
       " '-1',\n",
       " '1',\n",
       " '-1',\n",
       " '-1',\n",
       " '-1',\n",
       " '-1',\n",
       " '-1',\n",
       " '1',\n",
       " '-1',\n",
       " '-1',\n",
       " '-1',\n",
       " '-1',\n",
       " '-1',\n",
       " '-1',\n",
       " '1',\n",
       " '-1',\n",
       " '-1',\n",
       " '1',\n",
       " '-1',\n",
       " '0',\n",
       " '-1',\n",
       " '-1',\n",
       " '-1',\n",
       " '0',\n",
       " '-1',\n",
       " '-1',\n",
       " '0',\n",
       " '-1',\n",
       " '-1',\n",
       " '-1',\n",
       " '-1',\n",
       " '-1',\n",
       " '-1',\n",
       " '-1',\n",
       " '-1',\n",
       " '0',\n",
       " '-1',\n",
       " '-1',\n",
       " '-1',\n",
       " '-1',\n",
       " '0',\n",
       " '-1',\n",
       " '1',\n",
       " '-1',\n",
       " '-1',\n",
       " '-1',\n",
       " '-1',\n",
       " '-1',\n",
       " '-1',\n",
       " '-1',\n",
       " '-1',\n",
       " '-1',\n",
       " '-1',\n",
       " '-1',\n",
       " '1',\n",
       " '1',\n",
       " '-1',\n",
       " '0',\n",
       " '-1',\n",
       " '-1',\n",
       " '-1',\n",
       " '1',\n",
       " '-1',\n",
       " '-1',\n",
       " '-1',\n",
       " '-1',\n",
       " '-1',\n",
       " '-1',\n",
       " '-1',\n",
       " '-1',\n",
       " '-1',\n",
       " '0',\n",
       " '-1',\n",
       " '-1',\n",
       " '-1',\n",
       " '-1',\n",
       " '1',\n",
       " '0',\n",
       " '-1',\n",
       " '1',\n",
       " '-1',\n",
       " '0',\n",
       " '-1',\n",
       " '0',\n",
       " '-1',\n",
       " '-1',\n",
       " '0',\n",
       " '-1',\n",
       " '-1',\n",
       " '-1',\n",
       " '-1',\n",
       " '-1',\n",
       " '-1',\n",
       " '-1',\n",
       " '-1',\n",
       " '-1',\n",
       " '-1',\n",
       " '0',\n",
       " '-1',\n",
       " '-1',\n",
       " '1',\n",
       " '1',\n",
       " '1',\n",
       " '-1',\n",
       " '-1',\n",
       " '-1',\n",
       " '-1',\n",
       " '-1',\n",
       " '1',\n",
       " '0',\n",
       " '-1',\n",
       " '1',\n",
       " '-1',\n",
       " '0',\n",
       " '-1',\n",
       " '-1',\n",
       " '-1',\n",
       " '-1',\n",
       " '-1',\n",
       " '-1',\n",
       " '-1',\n",
       " '-1',\n",
       " '-1',\n",
       " '-1',\n",
       " '0',\n",
       " '0',\n",
       " '-1',\n",
       " '-1',\n",
       " '-1',\n",
       " '-1',\n",
       " '1',\n",
       " '1',\n",
       " '-1',\n",
       " '-1',\n",
       " '-1',\n",
       " '0',\n",
       " '-1',\n",
       " '-1',\n",
       " '-1',\n",
       " '-1',\n",
       " '-1',\n",
       " '-1',\n",
       " '-1',\n",
       " '-1',\n",
       " '-1',\n",
       " '1',\n",
       " '-1',\n",
       " '-1',\n",
       " '1',\n",
       " '-1',\n",
       " '-1',\n",
       " '1',\n",
       " '-1',\n",
       " '-1',\n",
       " '-1',\n",
       " '1',\n",
       " '-1',\n",
       " '1',\n",
       " '-1',\n",
       " '1',\n",
       " '-1',\n",
       " '-1',\n",
       " '-1',\n",
       " '-1',\n",
       " '-1',\n",
       " '-1',\n",
       " '0',\n",
       " '1',\n",
       " '-1',\n",
       " '-1',\n",
       " '-1',\n",
       " '-1',\n",
       " '-1',\n",
       " '-1',\n",
       " '-1',\n",
       " '-1',\n",
       " '0',\n",
       " '0',\n",
       " '-1',\n",
       " '-1',\n",
       " '-1',\n",
       " '-1',\n",
       " '-1',\n",
       " '-1',\n",
       " '0',\n",
       " '-1',\n",
       " '-1',\n",
       " '-1',\n",
       " '-1',\n",
       " '1',\n",
       " '-1',\n",
       " '1',\n",
       " '-1',\n",
       " '-1',\n",
       " '1',\n",
       " '1',\n",
       " '1',\n",
       " '-1',\n",
       " '-1',\n",
       " '-1',\n",
       " '-1',\n",
       " '-1',\n",
       " '-1',\n",
       " '-1',\n",
       " '0',\n",
       " '-1',\n",
       " '0',\n",
       " '-1',\n",
       " '-1',\n",
       " '-1',\n",
       " '-1',\n",
       " '1',\n",
       " '-1',\n",
       " '-1',\n",
       " '-1',\n",
       " '-1',\n",
       " '0',\n",
       " '-1',\n",
       " '-1',\n",
       " '-1',\n",
       " '1',\n",
       " '1',\n",
       " '1',\n",
       " '-1',\n",
       " '-1',\n",
       " '1',\n",
       " '-1',\n",
       " '-1',\n",
       " '0',\n",
       " '-1',\n",
       " '1',\n",
       " '0',\n",
       " '-1',\n",
       " '-1',\n",
       " '-1',\n",
       " '-1',\n",
       " '-1']"
      ]
     },
     "execution_count": 22,
     "metadata": {},
     "output_type": "execute_result"
    }
   ],
   "source": [
    "response_lst = []\n",
    "\n",
    "for comment in tqdm(random_comment_lst_1, desc=\"Processing comments\"):\n",
    "\n",
    "    few_shot_examples = generate_few_shot_examples(comment_lst_1, label_lst_1, num_examples=3)\n",
    "    \n",
    "    input_text = few_shot_examples + \"Sentence: \\\"\" + comment + \"\\\"\\nPrediction: \"\n",
    "\n",
    "    print(comment)\n",
    "\n",
    "    response = ollama.chat(model='llama3.1', messages=[\n",
    "        {\n",
    "            'role': 'user',\n",
    "            'content': input_text,\n",
    "        },\n",
    "    ])\n",
    "\n",
    "    print(response['message']['content'])\n",
    "\n",
    "    response_lst.append(response['message']['content'])\n",
    "\n",
    "response_lst\n"
   ]
  },
  {
   "cell_type": "code",
   "execution_count": 24,
   "metadata": {},
   "outputs": [
    {
     "name": "stdout",
     "output_type": "stream",
     "text": [
      "Accuracy: 0.632\n",
      "Label 1 - Precision: 0.5405405405405406, Recall: 0.37735849056603776, F1 Score: 0.4444444444444445\n",
      "Label 0 - Precision: 0.34615384615384615, Recall: 0.16666666666666666, F1 Score: 0.225\n",
      "Label -1 - Precision: 0.6898395721925134, Recall: 0.9020979020979021, F1 Score: 0.7818181818181817\n",
      "Macro F1 Score: 0.48375420875420877\n"
     ]
    }
   ],
   "source": [
    "response_lst = [int(resp) for resp in response_lst]\n",
    "\n",
    "accu = accuracy_score(radom_label_lst_1, response_lst)\n",
    "print(f\"Accuracy: {accu}\")\n",
    "\n",
    "precision, recall, f1, _ = precision_recall_fscore_support(radom_label_lst_1, response_lst, labels=[1, 0, -1], average=None)\n",
    "for label, p, r, f in zip([1, 0, -1], precision, recall, f1):\n",
    "    print(f'Label {label} - Precision: {p}, Recall: {r}, F1 Score: {f}')\n",
    "macro_f1 = f1_score(radom_label_lst_1, response_lst, average='macro')\n",
    "print(f'Macro F1 Score: {macro_f1}')"
   ]
  }
 ],
 "metadata": {
  "kernelspec": {
   "display_name": "base",
   "language": "python",
   "name": "python3"
  },
  "language_info": {
   "codemirror_mode": {
    "name": "ipython",
    "version": 3
   },
   "file_extension": ".py",
   "mimetype": "text/x-python",
   "name": "python",
   "nbconvert_exporter": "python",
   "pygments_lexer": "ipython3",
   "version": "3.11.5"
  }
 },
 "nbformat": 4,
 "nbformat_minor": 2
}
